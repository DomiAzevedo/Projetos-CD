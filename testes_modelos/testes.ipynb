{
 "cells": [
  {
   "cell_type": "markdown",
   "metadata": {},
   "source": [
    "## Imports"
   ]
  },
  {
   "cell_type": "code",
   "execution_count": 6,
   "metadata": {},
   "outputs": [],
   "source": [
    "#from book_rec_app import VespaApp\n",
    "import pandas as pd\n",
    "import openai\n",
    "import os\n",
    "from llm_model import LLM_Model\n",
    "import numpy as np\n",
    "from vespa.io import VespaResponse, VespaQueryResponse"
   ]
  },
  {
   "cell_type": "markdown",
   "metadata": {},
   "source": [
    "## Deployment"
   ]
  },
  {
   "cell_type": "code",
   "execution_count": 2,
   "metadata": {},
   "outputs": [
    {
     "name": "stdout",
     "output_type": "stream",
     "text": [
      "Waiting for configuration server, 0/60 seconds...\n",
      "Waiting for configuration server, 5/60 seconds...\n",
      "Using plain http against endpoint http://localhost:8080/ApplicationStatus\n",
      "Waiting for application status, 0/300 seconds...\n",
      "Using plain http against endpoint http://localhost:8080/ApplicationStatus\n",
      "Waiting for application status, 5/300 seconds...\n",
      "Using plain http against endpoint http://localhost:8080/ApplicationStatus\n",
      "Waiting for application status, 10/300 seconds...\n",
      "Using plain http against endpoint http://localhost:8080/ApplicationStatus\n",
      "Waiting for application status, 15/300 seconds...\n",
      "Using plain http against endpoint http://localhost:8080/ApplicationStatus\n",
      "Waiting for application status, 20/300 seconds...\n",
      "Using plain http against endpoint http://localhost:8080/ApplicationStatus\n",
      "Waiting for application status, 25/300 seconds...\n",
      "Using plain http against endpoint http://localhost:8080/ApplicationStatus\n",
      "Waiting for application status, 30/300 seconds...\n",
      "Using plain http against endpoint http://localhost:8080/ApplicationStatus\n",
      "Application is up!\n",
      "Finished deployment.\n"
     ]
    }
   ],
   "source": [
    "app = VespaApp()"
   ]
  },
  {
   "cell_type": "code",
   "execution_count": 3,
   "metadata": {},
   "outputs": [
    {
     "data": {
      "text/html": [
       "<div>\n",
       "<style scoped>\n",
       "    .dataframe tbody tr th:only-of-type {\n",
       "        vertical-align: middle;\n",
       "    }\n",
       "\n",
       "    .dataframe tbody tr th {\n",
       "        vertical-align: top;\n",
       "    }\n",
       "\n",
       "    .dataframe thead th {\n",
       "        text-align: right;\n",
       "    }\n",
       "</style>\n",
       "<table border=\"1\" class=\"dataframe\">\n",
       "  <thead>\n",
       "    <tr style=\"text-align: right;\">\n",
       "      <th></th>\n",
       "      <th>id</th>\n",
       "      <th>title</th>\n",
       "      <th>authors</th>\n",
       "      <th>description</th>\n",
       "      <th>categories</th>\n",
       "    </tr>\n",
       "  </thead>\n",
       "  <tbody>\n",
       "    <tr>\n",
       "      <th>0</th>\n",
       "      <td>5879</td>\n",
       "      <td>Have Space Suit, Will Travel</td>\n",
       "      <td>Robert A. Heinlein</td>\n",
       "      <td>Teenager Clifford \"Kip\" Russell wins second pr...</td>\n",
       "      <td>Fiction</td>\n",
       "    </tr>\n",
       "    <tr>\n",
       "      <th>1</th>\n",
       "      <td>3770</td>\n",
       "      <td>The Best American Travel Writing 2006</td>\n",
       "      <td>Tim Cahill;Jason Wilson</td>\n",
       "      <td>Presents an anthology of the best &lt;hi&gt;travel&lt;/...</td>\n",
       "      <td>&lt;hi&gt;Travel&lt;/hi&gt;</td>\n",
       "    </tr>\n",
       "    <tr>\n",
       "      <th>2</th>\n",
       "      <td>6742</td>\n",
       "      <td>There's No Toilet Paper... on the Road Less Tr...</td>\n",
       "      <td>Doug Lansky</td>\n",
       "      <td>A compendium of humorous &lt;hi&gt;travel&lt;/hi&gt; writi...</td>\n",
       "      <td>&lt;hi&gt;Travel&lt;/hi&gt;</td>\n",
       "    </tr>\n",
       "    <tr>\n",
       "      <th>3</th>\n",
       "      <td>6477</td>\n",
       "      <td>Australia and New Zealand on a Shoestring</td>\n",
       "      <td>Paul Smitz</td>\n",
       "      <td>At last - the two hottest stars on the &lt;hi&gt;tra...</td>\n",
       "      <td>&lt;hi&gt;Travel&lt;/hi&gt;</td>\n",
       "    </tr>\n",
       "    <tr>\n",
       "      <th>4</th>\n",
       "      <td>3254</td>\n",
       "      <td>The Complete Science Fiction Treasury of H.G. ...</td>\n",
       "      <td>H. G. Wells</td>\n",
       "      <td>Includes fantasies of &lt;hi&gt;travel&lt;/hi&gt; in time ...</td>\n",
       "      <td>Science fiction, English.</td>\n",
       "    </tr>\n",
       "    <tr>\n",
       "      <th>5</th>\n",
       "      <td>6560</td>\n",
       "      <td>The Future of the Universe</td>\n",
       "      <td>A.J. Meadows</td>\n",
       "      <td>Many &lt;hi&gt;books&lt;/hi&gt; have described how the uni...</td>\n",
       "      <td>Science</td>\n",
       "    </tr>\n",
       "    <tr>\n",
       "      <th>6</th>\n",
       "      <td>5087</td>\n",
       "      <td>The Poetics of Space</td>\n",
       "      <td>Gaston Bachelard</td>\n",
       "      <td>Shows how our perceptions of home shape our th...</td>\n",
       "      <td>Philosophy</td>\n",
       "    </tr>\n",
       "    <tr>\n",
       "      <th>7</th>\n",
       "      <td>3470</td>\n",
       "      <td>A Brief History of Time</td>\n",
       "      <td>Stephen Hawking</td>\n",
       "      <td>An anniversary edition of a now-classic survey...</td>\n",
       "      <td>Science</td>\n",
       "    </tr>\n",
       "    <tr>\n",
       "      <th>8</th>\n",
       "      <td>3263</td>\n",
       "      <td>Two Complete Novels</td>\n",
       "      <td>Douglas Adams</td>\n",
       "      <td>Following themes of zany &lt;hi&gt;space&lt;/hi&gt; explor...</td>\n",
       "      <td>Detective and mystery stories, English.</td>\n",
       "    </tr>\n",
       "    <tr>\n",
       "      <th>9</th>\n",
       "      <td>6495</td>\n",
       "      <td>Ministry of Space</td>\n",
       "      <td>Warren Ellis;Chris Weston;Laura DePuy</td>\n",
       "      <td>In this alternative history tale, the British ...</td>\n",
       "      <td>Imperialism</td>\n",
       "    </tr>\n",
       "  </tbody>\n",
       "</table>\n",
       "</div>"
      ],
      "text/plain": [
       "     id                                              title  \\\n",
       "0  5879                       Have Space Suit, Will Travel   \n",
       "1  3770              The Best American Travel Writing 2006   \n",
       "2  6742  There's No Toilet Paper... on the Road Less Tr...   \n",
       "3  6477          Australia and New Zealand on a Shoestring   \n",
       "4  3254  The Complete Science Fiction Treasury of H.G. ...   \n",
       "5  6560                         The Future of the Universe   \n",
       "6  5087                               The Poetics of Space   \n",
       "7  3470                            A Brief History of Time   \n",
       "8  3263                                Two Complete Novels   \n",
       "9  6495                                  Ministry of Space   \n",
       "\n",
       "                                 authors  \\\n",
       "0                     Robert A. Heinlein   \n",
       "1                Tim Cahill;Jason Wilson   \n",
       "2                            Doug Lansky   \n",
       "3                             Paul Smitz   \n",
       "4                            H. G. Wells   \n",
       "5                           A.J. Meadows   \n",
       "6                       Gaston Bachelard   \n",
       "7                        Stephen Hawking   \n",
       "8                          Douglas Adams   \n",
       "9  Warren Ellis;Chris Weston;Laura DePuy   \n",
       "\n",
       "                                         description  \\\n",
       "0  Teenager Clifford \"Kip\" Russell wins second pr...   \n",
       "1  Presents an anthology of the best <hi>travel</...   \n",
       "2  A compendium of humorous <hi>travel</hi> writi...   \n",
       "3  At last - the two hottest stars on the <hi>tra...   \n",
       "4  Includes fantasies of <hi>travel</hi> in time ...   \n",
       "5  Many <hi>books</hi> have described how the uni...   \n",
       "6  Shows how our perceptions of home shape our th...   \n",
       "7  An anniversary edition of a now-classic survey...   \n",
       "8  Following themes of zany <hi>space</hi> explor...   \n",
       "9  In this alternative history tale, the British ...   \n",
       "\n",
       "                                categories  \n",
       "0                                  Fiction  \n",
       "1                          <hi>Travel</hi>  \n",
       "2                          <hi>Travel</hi>  \n",
       "3                          <hi>Travel</hi>  \n",
       "4                Science fiction, English.  \n",
       "5                                  Science  \n",
       "6                               Philosophy  \n",
       "7                                  Science  \n",
       "8  Detective and mystery stories, English.  \n",
       "9                              Imperialism  "
      ]
     },
     "execution_count": 3,
     "metadata": {},
     "output_type": "execute_result"
    }
   ],
   "source": [
    "app.query_bm25('books about space travel')"
   ]
  },
  {
   "cell_type": "code",
   "execution_count": 4,
   "metadata": {},
   "outputs": [
    {
     "data": {
      "text/html": [
       "<div>\n",
       "<style scoped>\n",
       "    .dataframe tbody tr th:only-of-type {\n",
       "        vertical-align: middle;\n",
       "    }\n",
       "\n",
       "    .dataframe tbody tr th {\n",
       "        vertical-align: top;\n",
       "    }\n",
       "\n",
       "    .dataframe thead th {\n",
       "        text-align: right;\n",
       "    }\n",
       "</style>\n",
       "<table border=\"1\" class=\"dataframe\">\n",
       "  <thead>\n",
       "    <tr style=\"text-align: right;\">\n",
       "      <th></th>\n",
       "      <th>id</th>\n",
       "      <th>title</th>\n",
       "    </tr>\n",
       "  </thead>\n",
       "  <tbody>\n",
       "    <tr>\n",
       "      <th>0</th>\n",
       "      <td>6560</td>\n",
       "      <td>The Future of the Universe</td>\n",
       "    </tr>\n",
       "    <tr>\n",
       "      <th>1</th>\n",
       "      <td>878</td>\n",
       "      <td>The Fabric of the Cosmos</td>\n",
       "    </tr>\n",
       "    <tr>\n",
       "      <th>2</th>\n",
       "      <td>3254</td>\n",
       "      <td>The Complete Science Fiction Treasury of H.G. ...</td>\n",
       "    </tr>\n",
       "    <tr>\n",
       "      <th>3</th>\n",
       "      <td>5879</td>\n",
       "      <td>Have Space Suit, Will Travel</td>\n",
       "    </tr>\n",
       "    <tr>\n",
       "      <th>4</th>\n",
       "      <td>4081</td>\n",
       "      <td>The More Than Complete Hitchhiker's Guide</td>\n",
       "    </tr>\n",
       "    <tr>\n",
       "      <th>5</th>\n",
       "      <td>3263</td>\n",
       "      <td>Two Complete Novels</td>\n",
       "    </tr>\n",
       "    <tr>\n",
       "      <th>6</th>\n",
       "      <td>2416</td>\n",
       "      <td>The Future of Spacetime</td>\n",
       "    </tr>\n",
       "    <tr>\n",
       "      <th>7</th>\n",
       "      <td>6677</td>\n",
       "      <td>Teleportation: From Star Trek to Tesla</td>\n",
       "    </tr>\n",
       "    <tr>\n",
       "      <th>8</th>\n",
       "      <td>6190</td>\n",
       "      <td>The Inner Reaches of Outer Space</td>\n",
       "    </tr>\n",
       "    <tr>\n",
       "      <th>9</th>\n",
       "      <td>5489</td>\n",
       "      <td>The Many Worlds of Magnus Ridolph</td>\n",
       "    </tr>\n",
       "  </tbody>\n",
       "</table>\n",
       "</div>"
      ],
      "text/plain": [
       "     id                                              title\n",
       "0  6560                         The Future of the Universe\n",
       "1   878                           The Fabric of the Cosmos\n",
       "2  3254  The Complete Science Fiction Treasury of H.G. ...\n",
       "3  5879                       Have Space Suit, Will Travel\n",
       "4  4081          The More Than Complete Hitchhiker's Guide\n",
       "5  3263                                Two Complete Novels\n",
       "6  2416                            The Future of Spacetime\n",
       "7  6677             Teleportation: From Star Trek to Tesla\n",
       "8  6190                   The Inner Reaches of Outer Space\n",
       "9  5489                  The Many Worlds of Magnus Ridolph"
      ]
     },
     "execution_count": 4,
     "metadata": {},
     "output_type": "execute_result"
    }
   ],
   "source": [
    "app.query_hybrid('books about space travel')"
   ]
  },
  {
   "cell_type": "markdown",
   "metadata": {},
   "source": [
    "## Planilha Preenchimento Manual"
   ]
  },
  {
   "cell_type": "code",
   "execution_count": 87,
   "metadata": {},
   "outputs": [
    {
     "name": "stdout",
     "output_type": "stream",
     "text": [
      "{'timing': {'querytime': 0.03, 'summaryfetchtime': 0.046, 'searchtime': 0.078}, 'root': {'id': 'toplevel', 'relevance': 1.0, 'fields': {'totalCount': 426}, 'coverage': {'coverage': 100, 'documents': 6483, 'full': True, 'nodes': 1, 'results': 1, 'resultsFull': 1}, 'children': [{'id': 'id:bookrec:doc::1416505490', 'relevance': 13.011441073719094, 'source': 'hybridsearchbv_content', 'fields': {'description': 'Teenager Clifford \"Kip\" Russell wins second prize in a soap jingle contest, a used worn spacesuit, and, while trying on his prize in his backyard, suddenly finds himself on a <hi>space</hi> odyssey as a prisoner aboard the ship of a <hi>space</hi> pirate, headed toward the Moon and a series of encounters with many bizarre creatures and situations. Reprint. 10,000 first printing.', 'documentid': 'id:bookrec:doc::1416505490', 'title': 'Have Space Suit, Will Travel'}}, {'id': 'id:bookrec:doc::0517052253', 'relevance': 11.603122304865535, 'source': 'hybridsearchbv_content', 'fields': {'description': 'Includes fantasies of <hi>travel</hi> in time and <hi>space</hi>, of personal madness and megalomania, and of practical and grotesque utopias', 'documentid': 'id:bookrec:doc::0517052253', 'title': 'The Complete Science Fiction Treasury of H.G. Wells'}}, {'id': 'id:bookrec:doc::1852339462', 'relevance': 10.1341511595298, 'source': 'hybridsearchbv_content', 'fields': {'description': 'Many <hi>books</hi> have described how the universe became the way it is today. But what <hi>about</hi> the future of the universe? How long might the universe as we recognize it survive? The Future of the Universe takes the reader on a journey through <hi>space</hi> and time, beginning with a long look at the Earth and solar system, voyaging to the outermost galaxies, and finishing with speculations <hi>about</hi> the life and fate of the entire universe.', 'documentid': 'id:bookrec:doc::1852339462', 'title': 'The Future of the Universe'}}, {'id': 'id:bookrec:doc::0553380168', 'relevance': 10.071305102718673, 'source': 'hybridsearchbv_content', 'fields': {'description': 'An anniversary edition of a now-classic survey of the origin and nature of the universe features a new introduction by the author and a new chapter on the possibility of time <hi>travel</hi> and \"wormholes\" in <hi>space</hi>', 'documentid': 'id:bookrec:doc::0553380168', 'title': 'A Brief History of Time'}}, {'id': 'id:bookrec:doc::0517119129', 'relevance': 9.925708553537827, 'source': 'hybridsearchbv_content', 'fields': {'description': \"Following themes of zany <hi>space</hi> exploration, time <hi>travel</hi>, and mystery, two novels that examine the dimensions of the universe and the human soul feature Dirk Gently's Holistic Detective Agency and The Long Dark Tea-Time of the Soul.\", 'documentid': 'id:bookrec:doc::0517119129', 'title': 'Two Complete Novels'}}, {'id': 'id:bookrec:doc::0807064734', 'relevance': 9.875305213230028, 'source': 'hybridsearchbv_content', 'fields': {'description': 'Shows how our perceptions of home shape our thoughts, memories, and dreams, and discusses each <hi>space</hi> from cellar to attic', 'documentid': 'id:bookrec:doc::0807064734', 'title': 'The Poetics of Space'}}, {'id': 'id:bookrec:doc::0060510862', 'relevance': 9.25661401053322, 'source': 'hybridsearchbv_content', 'fields': {'description': \"Drafted into the ranks of Earth's interstellar warriors, private William Mandella finds his fight against the Taurans secondary to the side-effects of faster-than-light <hi>space</hi> <hi>travel</hi>, which affects the rate at which he ages. Winner of the Hugo and Nebula Awards. Reprint. 25,000 first printing.\", 'documentid': 'id:bookrec:doc::0060510862', 'title': 'The Forever War'}}, {'id': 'id:bookrec:doc::1840239247', 'relevance': 9.089249948687508, 'source': 'hybridsearchbv_content', 'fields': {'description': 'In this alternative history tale, the British capture the cream of Nazi rocket science at the end of World War Two and create a new British Empire that extends to the moon and beyond; but the road to <hi>space</hi> is paved with a secret dark enough to bring the empire to its knees.', 'documentid': 'id:bookrec:doc::1840239247', 'title': 'Ministry of Space'}}, {'id': 'id:bookrec:doc::0141011114', 'relevance': 8.949792378292457, 'source': 'hybridsearchbv_content', 'fields': {'description': \"From the bestselling author of The Elegant Universe, Brian Greene's The Fabric of the Cosmos takes us on an irresistible and revelatory journey through the biggest of the big questions. What is reality? Could we exist without <hi>space</hi> and time? Can we <hi>travel</hi> to the past? What are the limits of the universe? Brian Greene has made the mysteries of <hi>space</hi> and time accessible to millions with his acclaimed writings and award-winning TV series. Now he reveals a world more beautiful and bizarre than we could have imagined, where 'dark matter' reigns, <hi>space</hi> warps and wiggles through eleven dimensions, minute particles dance, fizz and teleport across vast distances, everything is made of vibrating strings and, like an ant on a lily-pad, we may be floating on a sliver of spacetime. Revealing new layers of reality that lie just beneath the surface of our everyday lives, this grand tour of the universe will make you look at the world in a completely new way. 'A must-read' Sunday Times 'Greene takes us to the limits of <hi>space</hi> and time' Guardian 'Sends the reader's imagination hurtling through the universe on an astonishing ride' The New York Times Brian Greene is well known to many fans as a populariser of theoretical physics. He is the author of the bestselling <hi>books</hi> <hi>about</hi> string theory, The Elegant Universe, which was a finalist for the Pulitzer Prize for nonfiction, The Fabric of the Cosmos, and The Hidden Reality. Educated at Harvard and Oxford, he has taught at both Harvard and Cornell and has been Professor of Physics and Mathematics at Columbia University since 1996.\", 'documentid': 'id:bookrec:doc::0141011114', 'title': 'The Fabric of the Cosmos'}}, {'id': 'id:bookrec:doc::0618582150', 'relevance': 8.843129095523036, 'source': 'hybridsearchbv_content', 'fields': {'description': 'Presents an anthology of the best <hi>travel</hi> writing published in the previous year, selected from magazines, newspapers, and web sites.', 'documentid': 'id:bookrec:doc::0618582150', 'title': 'The Best American Travel Writing 2006'}}, {'id': 'id:bookrec:doc::189238938X', 'relevance': 8.250061963063708, 'source': 'hybridsearchbv_content', 'fields': {'description': \"Iain M. Banks' only short-story collection, never before published in the US. Contents: * Road of Skulls * A Gift from the Culture * Odd Attachment * Descendant * Cleaning Up * Piece * The State of the Art * Scratch * A Few Notes On the Culture Skyhorse Publishing, under our Night Shade and Talos imprints, is proud to publish a broad range of titles for readers interested in science fiction (<hi>space</hi> opera, time <hi>travel</hi>, hard SF, alien invasion, near-future dystopia), fantasy (grimdark, sword and sorcery, contemporary urban fantasy, steampunk, alternative history), and horror (zombies, vampires, and the occult and supernatural), and much more. While not every title we publish becomes a New York Times bestseller, a national bestseller, or a Hugo or Nebula award-winner, we are committed to publishing quality <hi>books</hi> from a diverse group of authors.\", 'documentid': 'id:bookrec:doc::189238938X', 'title': 'The State of the Art'}}, {'id': 'id:bookrec:doc::0140065504', 'relevance': 7.7676226576899605, 'source': 'hybridsearchbv_content', 'fields': {'description': 'Mungo Park, based on a real-life African explorer, and Ned Rise, a scoundrel, pimp, thief, and cheat, <hi>travel</hi> <hi>about</hi> Africa and meet up with a varied assortment of characters--native and colonial, antic and dangerous', 'documentid': 'id:bookrec:doc::0140065504', 'title': 'Water Music'}}, {'id': 'id:bookrec:doc::0553375938', 'relevance': 7.710652465174309, 'source': 'hybridsearchbv_content', 'fields': {'description': \"The members of the Sisterhood of the <hi>Traveling</hi> Pants graduate from high school and spend their last summer before college learning <hi>about</hi> life and themselves. Includes readers' guide with discussion questions and an interview with the author.\", 'documentid': 'id:bookrec:doc::0553375938', 'title': 'Girls in Pants'}}, {'id': 'id:bookrec:doc::0971316821', 'relevance': 7.622522185882612, 'source': 'hybridsearchbv_content', 'fields': {'description': 'Photography and historical information <hi>about</hi> the places and faces featured in the Betsy-Tacy Deep Valley <hi>books</hi>. Includes a removable map containing a walking or driving tour of the locations featured in the <hi>books</hi>, bibliographies of <hi>books</hi> by Maud Hart Lovelace, a list of characters and their real-life counterparts, and a membership application for the Betsy-Tacy Society.', 'documentid': 'id:bookrec:doc::0971316821', 'title': \"Maud Hart Lovelace's Deep Valley\"}}, {'id': 'id:bookrec:doc::0393020398', 'relevance': 7.5991828612439205, 'source': 'hybridsearchbv_content', 'fields': {'description': \"Reproductions of the original illustrations from the 1885 first edition highlight a new edition, featuring detailed annotations on the text and the era, of Twain's story <hi>about</hi> a boy and a runaway slave who <hi>travel</hi> down the Misssippi.\", 'documentid': 'id:bookrec:doc::0393020398', 'title': 'The Annotated Huckleberry Finn'}}, {'id': 'id:bookrec:doc::0156027593', 'relevance': 7.548842940756534, 'source': 'hybridsearchbv_content', 'fields': {'description': 'Trurl and Klaupacius are constructor robots who try to out-invent each other. They <hi>travel</hi> to the far corners of the cosmos to take on freelance problem-solving jobs, with dire consequences for their employers. “The most completely successful of his <hi>books</hi>... here Lem comes closest to inventing a real universe” (Boston Globe). Illustrations by Daniel Mr—z. Translated by Michael Kandel.', 'documentid': 'id:bookrec:doc::0156027593', 'title': 'The Cyberiad'}}, {'id': 'id:bookrec:doc::1740596463', 'relevance': 7.321825719966679, 'source': 'hybridsearchbv_content', 'fields': {'description': \"At last - the two hottest stars on the <hi>travel</hi> circuit combined in one sizzling guidebook! Grab your pack and head south to Australia's awesome beaches and New Zealand's spectacular landscapes. Written for backpackers by backpackers, this guide to the wonders clown under helps you <hi>travel</hi> further and pay less. - Two in one - No other guide covers both Australia and New Zealand, let alone from a backpacker's perspective - Get the lowdown on where to go for nonstop parties, and where to find a little <hi>space</hi> all to yourself - Eat cheap and sleep easy with our fully updated coverage of the best local eateries and great-value accommodation - Take your life in your hands - get your thrills from the best scuba diving, bungy jumping, skiing and jetboating that Oz and NZ bas to offer!\", 'documentid': 'id:bookrec:doc::1740596463', 'title': 'Australia and New Zealand on a Shoestring'}}, {'id': 'id:bookrec:doc::1932361278', 'relevance': 7.283307863686298, 'source': 'hybridsearchbv_content', 'fields': {'description': 'A compendium of humorous <hi>travel</hi> writing includes contributions from Bill Bryson, Steve Martin, Dave Barry, Art Buchwald, David Letterman, Paul Theroux, and others, presenting stories <hi>about</hi> everything from surviving in a nudist camp to learning how to use an ice-sheet outhouse in Antarctica. Original.', 'documentid': 'id:bookrec:doc::1932361278', 'title': \"There's No Toilet Paper... on the Road Less Traveled\"}}, {'id': 'id:bookrec:doc::0875428320', 'relevance': 6.7777109796405295, 'source': 'hybridsearchbv_content', 'fields': {'description': 'Now you can learn from the original, most important source for magic in the Western world that has ever been published, when you get Agrippa\\'s Three <hi>Books</hi> of Occult Philosophy. This massive volume was originally published in 1531, and occultists have been drawing on it ever since. Now, Llewellyn is proud to produce the first complete reprint of the original English translation in the last 500 years. Donald Tyson edited this work and removed the hundreds of errors that appeared in the original translation. He also fully annotated the work, to make it understandable--and usable--by people today. ·Discover what the Renaissance scholar knew <hi>about</hi> astrology, medicine, history, herbs, geography, animals, angels, devils, Witches, charms, the weather, and a host of other subjects ·Gain immediate reference to a vast amount of arcane, but completely annotated, magical material ·Find corrected drawings of seals, sigils, and magic squares, and correctly represented geomantic figures ·Explore the practical Kabbalah, geomancy, the magic squares, the elements, the humors, and the Soul of the World ·Consult the new Biographical dictionary for background on each of the hundreds of writers and historical figures referred to by Agrippa ·Consult the new Geographical Dictionary for data on referenced rivers, mountains, nations, cities--many of which now carry different names. The Three <hi>Books</hi> of Occult Philosophyis the most complete repository of pagan and Neoplatonic magic ever compiled. This book is packed with material you will not find elsewhere, including copious extracts on magic from obscure or lost works by Pythagoras, Ptolemy, Plato, Aristotle, and many others. Tyson\\'s detailed annotations clarify difficult references and provide origins of quotations, even expanding upon them in many cases, in order to make Agrippa\\'s work more accessible to the modern reader. The Three <hi>Books</hi> of Occult Philosophy is the ultimate \"how-to\" for magical workings. It describes how to work all manner of divinations and natural and ceremonial magic in such clear and useful detail that it is still the guidefor modern techniques. The extensive new supplementary material makes this wisdom practical for use today. The Three <hi>Books</hi> of Occult Philosophyis an essential reference tool for all students of the occult. Get your copy today.', 'documentid': 'id:bookrec:doc::0875428320', 'title': 'Three Books of Occult Philosophy'}}, {'id': 'id:bookrec:doc::0826414753', 'relevance': 6.752825865773475, 'source': 'hybridsearchbv_content', 'fields': {'description': 'A brilliant idea--short, perceptive <hi>books</hi> which tell you what you need to know <hi>about</hi> some of the most vibrant and challenging writing around today--a bit like having a reading group in your pocket. IAN RANKIN', 'documentid': 'id:bookrec:doc::0826414753', 'title': \"Gabriel Garcia Marquez's Love in the Time of Cholera\"}}, {'id': 'id:bookrec:doc::1597800449', 'relevance': 6.706705062696498, 'source': 'hybridsearchbv_content', 'fields': {'description': \"It is 4034 AD. Humanity has made it to the stars. Fassin Taak, a Slow Seer at the Court of the Nasqueron Dwellers, will be fortunate if he makes it to the end of the year. The Nasqueron Dwellers inhabit a gas giant on the outskirts of the galaxy, in a system awaiting its wormhole connection to the rest of civilization. In the meantime, they are dismissed as decadents living in a state of highly developed barbarism, hoarding data without order, hunting their own young and fighting pointless formal wars. Seconded to a military-religious order he's barely heard of — part of the baroque hierarchy of the Mercatoria, the latest galactic hegemony — Fassin Taak has to <hi>travel</hi> again amongst the Dwellers. He is in search of a secret hidden for half a billion years. But with each day that passes a war draws closer — a war that threatens to overwhelm everything and everyone he's ever known. Skyhorse Publishing, under our Night Shade and Talos imprints, is proud to publish a broad range of titles for readers interested in science fiction (<hi>space</hi> opera, time <hi>travel</hi>, hard SF, alien invasion, near-future dystopia), fantasy (grimdark, sword and sorcery, contemporary urban fantasy, steampunk, alternative history), and horror (zombies, vampires, and the occult and supernatural), and much more. While not every title we publish becomes a New York Times bestseller, a national bestseller, or a Hugo or Nebula award-winner, we are committed to publishing quality <hi>books</hi> from a diverse group of authors.\", 'documentid': 'id:bookrec:doc::1597800449', 'title': 'The Algebraist'}}, {'id': 'id:bookrec:doc::0618380442', 'relevance': 6.639359117957598, 'source': 'hybridsearchbv_content', 'fields': {'description': 'Encompassing both previously published pieces and original fiction, this richly varied anthology of short stories by the author of Colter and Where the Sea Used to Be features the title story, <hi>about</hi> a man and woman who <hi>travel</hi> across a frozen lake under the ice, as well as \"The Distance,\" Eating,\" \"The Cave,\" and \"Real Town,\" among others. Reprint.', 'documentid': 'id:bookrec:doc::0618380442', 'title': \"The Hermit's Story\"}}, {'id': 'id:bookrec:doc::0471782475', 'relevance': 6.6226502274290535, 'source': 'hybridsearchbv_content', 'fields': {'description': 'Introduction: Where Science and Fiction Intersect -- From Proms to Cells: The Psychic World of Stephen King -- Carrie -- Firestarter -- The Dead Zone -- Hearts in Atlantis Cell -- The Green Mile -- On the Highway with Stephen King -- \"Trucks\"--They Came From Outer <hi>Space</hi> -- Dreamcatcher -- The Tommyknockers -- The Fourth Horseman -- The Stand -- Up the Dimensions with Stephen King -- The Dark Tower I: The Gunslinger -- Insomnia -- <hi>Traveling</hi> in Time with Stephen King - The Langoliers -- Parallel Worlds -- \"The Mists\" -- From a Buick 8 -- The Dark Tower -- The Tailisman -- Longevity an Genetic Research - The Golden Years -- Evil, Obsession, and Fear -- The Tommyknockers -- Carrie -- The Talisman -- It -- The Stand -- Danse Macabre -- The Shining -- Misery -- \"Night Surf.\"', 'documentid': 'id:bookrec:doc::0471782475', 'title': 'The Science of Stephen King'}}, {'id': 'id:bookrec:doc::1840237872', 'relevance': 6.6074426653013125, 'source': 'hybridsearchbv_content', 'fields': {'description': \"Harvey Pekar is a true American original, known by many as the blue-collar Mark Twain. For over 25 years he's been writing comic <hi>books</hi> <hi>about</hi> his life, chronicling the ordinary and everyday in stories both funny and moving.\", 'documentid': 'id:bookrec:doc::1840237872', 'title': \"American Splendor Presents Bob and Harv's Comics\"}}, {'id': 'id:bookrec:doc::0816639825', 'relevance': 6.55654589268517, 'source': 'hybridsearchbv_content', 'fields': {'description': \"One of the few classic works of South American <hi>travel</hi>, now available in paperback with a new foreword by Jeffrey Meyers and additional photographs by Isherwood's lover, Bill Caskey. Isherwood frankly depicts the squalor and discomforts of his journey--as he wrote he was very skeptical <hi>about</hi> the book but later came to regard it as one of his best.\", 'documentid': 'id:bookrec:doc::0816639825', 'title': 'The Condor and the Cows'}}, {'id': 'id:bookrec:doc::0439314550', 'relevance': 6.513949088437958, 'source': 'hybridsearchbv_content', 'fields': {'description': 'From her birth in Chipping Sodbury near Bristol, England, to the stories <hi>about</hi> her favorite teachers, to the funny misunderstanding in her first fan letter, the life of the author of the Harry Potter <hi>books</hi> is revealed. Original. 250,000 first printing.', 'documentid': 'id:bookrec:doc::0439314550', 'title': 'Conversations with J.K. Rowling'}}, {'id': 'id:bookrec:doc::0842383670', 'relevance': 6.44012741031124, 'source': 'hybridsearchbv_content', 'fields': {'description': 'Many <hi>books</hi> have been written <hi>about</hi> the Bible, but few explain its origins. This volume provides a fascinating overview of how the Bible was first inspired, canonized, read as sacred literature, copied in ancient Hebrew and Greek manuscripts, and eventually translated into the languages of the world. No other one-volume work can match this wealth of information <hi>about</hi> the historical development of the Bible.', 'documentid': 'id:bookrec:doc::0842383670', 'title': 'The Origin of the Bible'}}, {'id': 'id:bookrec:doc::0374280398', 'relevance': 6.334680947915464, 'source': 'hybridsearchbv_content', 'fields': {'description': \"McPhee's <hi>books</hi> are <hi>about</hi> real people in real places. Over the past eight years, McPhee has spent considerable time in the company of people who work in freight transportation. This is his sketchbook of them and of his journeys with them. He rides from Atl\", 'documentid': 'id:bookrec:doc::0374280398', 'title': 'Uncommon Carriers'}}, {'id': 'id:bookrec:doc::1563895161', 'relevance': 6.289008398805253, 'source': 'hybridsearchbv_content', 'fields': {'description': 'This book is a sword and sorcery tale that expands upon the universe of the Eternal Champion made famous through novels and short stories. In a world of alternate universes and realities in which time and <hi>space</hi> often converge, the Eternal Champion is cursed to live multiple lives of eternal reincarnation. Caught in the war between the forces of Law and Chaos, his allegiance often changes as he fights for the preservation of balance. In three separate but intertwining tales of heroic fantasy, the Eternal Champion takes on the form of an enigmatic woman, a time-<hi>traveling</hi> detective, and an albino sorcerer as he searches for the elusive Silverskin and the secret which could end his cosmic battle forever.', 'documentid': 'id:bookrec:doc::1563895161', 'title': \"Michael Moorcock's Multiverse\"}}, {'id': 'id:bookrec:doc::0801883946', 'relevance': 6.276801410021276, 'source': 'hybridsearchbv_content', 'fields': {'description': \"<hi>space</hi> program and the rise of the women's movement in America.\", 'documentid': 'id:bookrec:doc::0801883946', 'title': 'Right Stuff, Wrong Sex'}}, {'id': 'id:bookrec:doc::0822309327', 'relevance': 6.208092853349315, 'source': 'hybridsearchbv_content', 'fields': {'description': 'Dorn’s high-spirited, crazy-quilt, complex anti-epic is a masterful critique of late twentieth-century capitalism and is one of the great comic poems of American literature. Dorn is one of the few political poets in America; this fantasy <hi>about</hi> a demigod cowboy, a saloon madam, and a talking horse named Claude Levi-Strauss, who <hi>travel</hi> the Southwest in search of Howard Hughes, as become a minor classic.', 'documentid': 'id:bookrec:doc::0822309327', 'title': 'Gunslinger'}}, {'id': 'id:bookrec:doc::1931520240', 'relevance': 6.112121351144087, 'source': 'hybridsearchbv_content', 'fields': {'description': 'Nineteen writers dig into the <hi>spaces</hi> between genres and bring up gems of new fiction.', 'documentid': 'id:bookrec:doc::1931520240', 'title': 'Interfictions'}}, {'id': 'id:bookrec:doc::0060736259', 'relevance': 5.9559337858554535, 'source': 'hybridsearchbv_content', 'fields': {'description': 'Fifteen years ago Francesca Lia Block made a dazzling entrance into the literary scene with what would become one of the most talked-<hi>about</hi> <hi>books</hi> of the decade: Weetzie Bat. This poetic roller coaster swoop has a sleek new design to match its new sister and brother <hi>books</hi>, Goat Girls and Beautiful Boys. Rediscover the magic of Weetzie Bat, Ms. Blocks sophisticated, slinkster-cool love song to L.A.the book that shattered the standard, captivated readers of all generations, and made Francesca Lia Block one of the most heralded authors of the last decade.', 'documentid': 'id:bookrec:doc::0060736259', 'title': 'Weetzie Bat'}}, {'id': 'id:bookrec:doc::0440498058', 'relevance': 5.95586156698871, 'source': 'hybridsearchbv_content', 'fields': {'description': 'A midnight visitor escorts Meg, Calvin, and Charles across the barriers of <hi>space</hi> and time to another world.', 'documentid': 'id:bookrec:doc::0440498058', 'title': 'A Wrinkle in Time'}}, {'id': 'id:bookrec:doc::0805211160', 'relevance': 5.952822247795627, 'source': 'hybridsearchbv_content', 'fields': {'description': 'How can I make the holidays interesting and meaningful to my child? Should I send my child to a Jewish day school? A Jewish summer camp? What kind of synagogue is best for my family? How do I plan a family trip to Israel or add Jewish heritage sites when <hi>traveling</hi> around the country or around the world? If you are, or hope to be, a Jewish parent in more than name, you have a lot of decisions to make. So many choices! But you can have no better guide to this wealth of opportunity than Anita Diamant. The author of popular <hi>books</hi> on Jewish weddings and baby rituals, Diamant now joins with family therapist Karen Kushner to help you through the next steps. They give creative, practical answers to these and many other questions, provide guidance on how to foster Jewish decision making for children of all ages, describe how to make your home a \"Jewish <hi>space</hi>,\" and explain the importance of synagogue membership, holiday celebrations, community service, and other family activities. Diamant and Kushner draw from many sources to describe the practices, customs, and values that go into creating a Jewish home. They combine insights from Jewish tradition with contemporary developmental thinking <hi>about</hi> how children learn and grow. They provide addresses (including Web sites) where you can find specific information and other resources. And since experience may be the best of all teachers, they share their own and other parents\\' stories and observations. For Diamant and Kushner, the number-one goal ofHow to Be a Jewish Parentis to give parents (and grandparents) guideposts to raising joyful children within the rich tradition of the Jewish faith and culture. No Jewish family should be without it.', 'documentid': 'id:bookrec:doc::0805211160', 'title': 'How to Be a Jewish Parent'}}, {'id': 'id:bookrec:doc::0886771285', 'relevance': 5.9055354666424025, 'source': 'hybridsearchbv_content', 'fields': {'description': 'Jalav tries to combine her female warriors with the male army to battle a strange enemy from outer <hi>space</hi>', 'documentid': 'id:bookrec:doc::0886771285', 'title': 'To Battle the Gods'}}, {'id': 'id:bookrec:doc::0553211951', 'relevance': 5.896898318638081, 'source': 'hybridsearchbv_content', 'fields': {'description': 'Gathers all sixty of Twains stories, including tall tales, mysteries, sketches, and tales of <hi>travel</hi>', 'documentid': 'id:bookrec:doc::0553211951', 'title': 'The Complete Short Stories of Mark Twain'}}, {'id': 'id:bookrec:doc::0142437913', 'relevance': 5.896898318638081, 'source': 'hybridsearchbv_content', 'fields': {'description': 'Illustrates the unusual relationship between a man and a woman <hi>traveling</hi> on the Orient Express.', 'documentid': 'id:bookrec:doc::0142437913', 'title': 'Stamboul Train'}}, {'id': 'id:bookrec:doc::0060541814', 'relevance': 5.856052735340269, 'source': 'hybridsearchbv_content', 'fields': {'description': 'A team of scientists struggles to define and contain a deadly bacteria brought back from outer <hi>space</hi> by a satellite.', 'documentid': 'id:bookrec:doc::0060541814', 'title': 'The Andromeda Strain'}}, {'id': 'id:bookrec:doc::0789410249', 'relevance': 5.856052735340269, 'source': 'hybridsearchbv_content', 'fields': {'description': 'Text and cross-section illustrations present inside views of a variety of subjects including a <hi>space</hi> station, airport, and windmill.', 'documentid': 'id:bookrec:doc::0789410249', 'title': \"Stephen Biesty's Incredible Explosions\"}}, {'id': 'id:bookrec:doc::006440692X', 'relevance': 5.740756567552838, 'source': 'hybridsearchbv_content', 'fields': {'description': \"The Little House <hi>books</hi> tell the story of a little pioneer girl and her family as they <hi>traveled</hi> by covered wagon across the Midwest. Laura Ingalls Wilder's classic <hi>books</hi>, illustrated with Garth Williams' timeless artwork, have been cherished by millions of readers ever since they were first published over sixty years ago. This My First Little House Book introduces Almanzo Wilder, the young boy from Farmer Boy who would one day marry Laura Ingalls. In Winter on the Farm, Almanzo goes through his afternoon barn chores, and then sits down to eat a hearty farm supper with his family. In this first book <hi>about</hi> Almanzo, young readers are able to share in the warmth and joy of another Little House family and celebrate new Little House adventures. Winter on the Farm is the first in an ongoing series <hi>about</hi> Laura’s beloved farmer boy.\", 'documentid': 'id:bookrec:doc::006440692X', 'title': 'Winter on the Farm'}}, {'id': 'id:bookrec:doc::078680839X', 'relevance': 5.671344702508941, 'source': 'hybridsearchbv_content', 'fields': {'description': \"Introduce your baby to birds, cats, dogs, and babies through fine art, illustration, and photographs. These <hi>books</hi> are a rare opportunity to exopse little ones to a range of images on a single subject, from simple child's drawings and abstract art to playful photos. A brief text accompanies each image, introducing baby to some basic -- and sometimes playful -- information <hi>about</hi> the subjects.\", 'documentid': 'id:bookrec:doc::078680839X', 'title': 'Baby Einstein: Dogs'}}, {'id': 'id:bookrec:doc::0425207757', 'relevance': 5.671344702508941, 'source': 'hybridsearchbv_content', 'fields': {'description': 'Sisters Celeste and Corinne Carson, each a best-selling author with her own fantasy-fulfilling hero, get more than they had bargained for when their \"fictional\" heroes--Jarred, a futuristic conqueror, and Mykhayl, a barbarian warrior of the past--worried <hi>about</hi> being written off, decide to kidnap their authors and imprison them in the seductive worlds that they created in their <hi>books</hi>. Original.', 'documentid': 'id:bookrec:doc::0425207757', 'title': 'Captive Dreams'}}, {'id': 'id:bookrec:doc::0465023959', 'relevance': 5.666145253008027, 'source': 'hybridsearchbv_content', 'fields': {'description': 'A collection of short works by the noted scientist includes his report on the <hi>space</hi> shuttle Challenger disaster and his Nobel Prize acceptance speech.', 'documentid': 'id:bookrec:doc::0465023959', 'title': 'The Pleasure of Finding Things Out'}}, {'id': 'id:bookrec:doc::1579124585', 'relevance': 5.666145253008027, 'source': 'hybridsearchbv_content', 'fields': {'description': \"Enhanced by hundreds of period photographs, presents an illustrated edition of the classic portrait of America's early <hi>space</hi> program and its first astronauts.\", 'documentid': 'id:bookrec:doc::1579124585', 'title': 'The Right Stuff'}}, {'id': 'id:bookrec:doc::0345418905', 'relevance': 5.666145253008027, 'source': 'hybridsearchbv_content', 'fields': {'description': 'Arthur Dent and Ford Prefect learn why Earth has been shunned by the rest of the galaxy as they journey through <hi>space</hi> and time.', 'documentid': 'id:bookrec:doc::0345418905', 'title': 'Life, the Universe and Everything'}}, {'id': 'id:bookrec:doc::1892062437', 'relevance': 5.641054182524475, 'source': 'hybridsearchbv_content', 'fields': {'description': 'NOW YOU CAN <hi>TRAVEL</hi> UP, UP and AWAY...INSTANTLY! ** Mysterious Disappearances Solved! ** Classified Experiments Concerning the Philadelphia Experiment, Time <hi>Travel</hi> and Area 51 are revealed FOR THE FIRST TIME! ** PROOF ALIENS HAVE LEFT BEHIND IMPORTANT TECHNOLOGICAL CLUES! ** IT IS POSSIBLE TO MASTER THE ART OF TELEPORTATION WITH A BIT OF PRACTICE ON THE PART OF THE READER! The well-known phrase, \"Beam me up, Scotty,\" from the popular television series STAR TREK first introduced the public to the idea of teleportation -- instantaneous transport through time and <hi>space</hi> -- although the term was probably originally coined by the world famous author of <hi>books</hi> on unexplained mysteries, the late Charles Fort. Long thought to be the work of over imaginative writers, the author now takes the subject beyond the void of pure speculation and into the realm of 21st Century science. For according the COMMANDER X -- a former military intelligence operative with connections to the CIA and Defense Department, on a number of occasions he witnessed the testing of highly classified super TOP SECRET black project aircraft engaged in maneuvers over Area 51 in the Nevada desert. Furthermore, the national whistle-blower claims he actually sat at the helm of one of these ships as it bio-located from one place to another...INSTANTLY! What was so unusual <hi>about</hi> these flights over Area 51 is the fact that the technology being tested involved principles of teleportation gleamed from reverse engineering of alien spacecraft which have crashed to Earth. The author maintains that extraterrestrials have been trying to feed us clues regarding the existence of this interstellar mode of transport which will enable us to instantly maneuver between two points in the twinkle of an eye! COMMANDER X further insists it is within the realm of possibility for the reader of this book to learn the fundamentals of teleportation and participate in experiments of their very own -- no matter how outlandish this may seem! In detail, he describes his own work with the military in developing skills necessary to engage in spontaneous teleportation...skills that could very well lead you along the path to personal gratification and success. The book also delves into the impact the STAR TREK series has had on introducing the general public to what is just around the bend for our world and the possibility this is part of a grass roots campaign to inform the public on a need to know basis a little bit at a time. In addition, up to date information from the Lost Journals of Nikola Tesla reveal what the great mind of all time knew <hi>about</hi> teleportation and how he helped institute this process as part of the Top Secret Philadelphia Experiment.', 'documentid': 'id:bookrec:doc::1892062437', 'title': 'Teleportation: From Star Trek to Tesla'}}, {'id': 'id:bookrec:doc::0786808381', 'relevance': 5.636624745108348, 'source': 'hybridsearchbv_content', 'fields': {'description': \"Introduce your babies to birds, cats, dogs, and babies through fine art, illustration, and photographs. These <hi>books</hi> are a rare opportunity to expose little ones to a range of images on a single subject, from simple child's drawings and abstract art to playful photos. A brief text accompanies each image, introducing the baby to some basic -- and sometimes playful -- information <hi>about</hi> the subjects.\", 'documentid': 'id:bookrec:doc::0786808381', 'title': 'Baby Einstein: Babies'}}, {'id': 'id:bookrec:doc::0142437255', 'relevance': 5.602899584812661, 'source': 'hybridsearchbv_content', 'fields': {'description': 'Follows the counterculture escapades of members of the Beat generation as they seek pleasure and meaning while <hi>traveling</hi> coast to coast.', 'documentid': 'id:bookrec:doc::0142437255', 'title': 'On the Road'}}, {'id': 'id:bookrec:doc::0143036386', 'relevance': 5.602899584812661, 'source': 'hybridsearchbv_content', 'fields': {'description': 'Follows the counterculture escapades of members of the Beat generation as they seek pleasure and meaning while <hi>traveling</hi> coast to coast.', 'documentid': 'id:bookrec:doc::0143036386', 'title': 'On the Road'}}, {'id': 'id:bookrec:doc::0743454537', 'relevance': 5.602327311991562, 'source': 'hybridsearchbv_content', 'fields': {'description': 'A popular novel <hi>about</hi> a girl suing her parents because they want her to donate a kidney to her sister was named by the American Library Association as one of the top 10 <hi>books</hi> banned in 2009, with the novel being pulled from the shelves for a host of reasons, including homosexuality, sexually explicit material, religious viewpoint, drugs and suicide. Reprint. A best-selling book.', 'documentid': 'id:bookrec:doc::0743454537', 'title': \"My Sister's Keeper\"}}, {'id': 'id:bookrec:doc::0312864744', 'relevance': 5.531605822297223, 'source': 'hybridsearchbv_content', 'fields': {'description': 'A romantic tale follows a <hi>space</hi> swashbuckler and conman as he <hi>travels</hi> from world to world, plying his trade, drinking in wild bars, and flirting with women', 'documentid': 'id:bookrec:doc::0312864744', 'title': 'Ports of Call'}}, {'id': 'id:bookrec:doc::0812533623', 'relevance': 5.531605822297223, 'source': 'hybridsearchbv_content', 'fields': {'description': \"This two-in-one package features a story of a <hi>space</hi> disaster victim's meeting with the actual Medusa and an evocation of mountain climbing on Mars\", 'documentid': 'id:bookrec:doc::0812533623', 'title': 'A Meeting with Medusa'}}, {'id': 'id:bookrec:doc::044101237X', 'relevance': 5.531605822297223, 'source': 'hybridsearchbv_content', 'fields': {'description': 'Three teenagers and an older scientist develop their own atomic rocket, solve their own <hi>space</hi> problems and blast off for the moon in spite of mysterious setbacks.', 'documentid': 'id:bookrec:doc::044101237X', 'title': 'Rocket Ship Galileo'}}, {'id': 'id:bookrec:doc::0486406644', 'relevance': 5.422662908630918, 'source': 'hybridsearchbv_content', 'fields': {'description': 'An anthology of wit and wisdom by Mark Twain collects quotations on a wide range of subjects, including life, love, history, culture, <hi>travel</hi>, and politics.', 'documentid': 'id:bookrec:doc::0486406644', 'title': 'The Wit and Wisdom of Mark Twain'}}, {'id': 'id:bookrec:doc::0812501942', 'relevance': 5.403307330166235, 'source': 'hybridsearchbv_content', 'fields': {'description': \"Features Jack Vance's novel of humanity's final stand and Robert Silverberg's tale of the watcher's journey after invaders from outer <hi>space</hi> gain control of the Earth\", 'documentid': 'id:bookrec:doc::0812501942', 'title': 'The Last Castle'}}, {'id': 'id:bookrec:doc::0192752790', 'relevance': 5.3368241889973795, 'source': 'hybridsearchbv_content', 'fields': {'description': 'Clennen and his family make their living as <hi>travelling</hi> musicians. A danger deepens around them, Moril is chosen to receive the mysterious musical instrument - the ancient cwidder.', 'documentid': 'id:bookrec:doc::0192752790', 'title': 'Cart And Cwidder'}}, {'id': 'id:bookrec:doc::0330301748', 'relevance': 5.3368241889973795, 'source': 'hybridsearchbv_content', 'fields': {'description': 'When Bill comes home with a strange guest it proves to be the beginning of an adventure involving a <hi>travelling</hi> circus and a castle with secret passages.', 'documentid': 'id:bookrec:doc::0330301748', 'title': 'The Circus of Adventure'}}, {'id': 'id:bookrec:doc::0385497148', 'relevance': 5.321031010277471, 'source': 'hybridsearchbv_content', 'fields': {'description': \"Suggests a series of exploratory walks around Manhattan's shoreline tours to offer insight into the history, myths, economy, ecology, and politics surrounding the Brooklyn Bridge and other public <hi>spaces</hi> and landmarks.\", 'documentid': 'id:bookrec:doc::0385497148', 'title': 'Waterfront'}}, {'id': 'id:bookrec:doc::0441003729', 'relevance': 5.321031010277471, 'source': 'hybridsearchbv_content', 'fields': {'description': 'Twenty years after the discovery of artificial wormholes launches Earth <hi>space</hi> exploration to unforeseeable heights, Starplex Director Keith Lansing investigates a mysterious vessel that soon threatens the station with intergalactic war. Original.', 'documentid': 'id:bookrec:doc::0441003729', 'title': 'Starplex'}}, {'id': 'id:bookrec:doc::0064404412', 'relevance': 5.300453683766191, 'source': 'hybridsearchbv_content', 'fields': {'description': '\"Culled from 69 stories collected in a [1930s] WPA project, [these 20] tales are organized into sections with themes like \\'Tricksters\\' or \\'Virtues and Vices,\\' each with a thoughtful introduction placing the individual stories in the context of feelings and background of the original tellers. Yep\\'s telling is vigorous, often poetic, imbued with earthy humor and realism touched with fatalism. A handsomely designed collection.\" —K. Notable Children\\'s <hi>Books</hi> of 1989 (ALA) The USA Through Children\\'s <hi>Books</hi> 1990 (ALA) 1989 Boston Globe–Horn Book Award for Nonfiction 1990 Fanfare Honor List (The Horn Book) 1989 Children\\'s Editors\\' Choices (BL) Notable 1989 Children\\'s Trade <hi>Books</hi> in Social Studies (NCSS/CBC) Children\\'s <hi>Books</hi> of 1989 (Library of Congress) 1989 Children\\'s <hi>Books</hi> (NY Public Library) \"The Best <hi>Books</hi>\" 1989 (Parents Magazine)', 'documentid': 'id:bookrec:doc::0064404412', 'title': 'The Rainbow People'}}, {'id': 'id:bookrec:doc::061871166X', 'relevance': 5.294915922613994, 'source': 'hybridsearchbv_content', 'fields': {'description': 'Presents a novel of life in modern India, chronicling the interwoven journey of an American marine biologist and a Delhi businessman who <hi>travel</hi> to the remote Sundarban islands.', 'documentid': 'id:bookrec:doc::061871166X', 'title': 'The Hungry Tide'}}, {'id': 'id:bookrec:doc::0156306301', 'relevance': 5.280825368551895, 'source': 'hybridsearchbv_content', 'fields': {'description': 'When a crew of earthmen--among them a <hi>space</hi> pilot, a military leader, a scientist, and a priest--reach the planet Quinta, the <hi>travelers</hi> descend into the very depths of the human condition', 'documentid': 'id:bookrec:doc::0156306301', 'title': 'Fiasco'}}, {'id': 'id:bookrec:doc::1400033888', 'relevance': 5.280825368551895, 'source': 'hybridsearchbv_content', 'fields': {'description': \"A portrait of one of the world's most complex and diverse cities interweaves the history of Istanbul with observations and reflections on the city's landmarks, art, people, institutions, and great <hi>spaces</hi>.\", 'documentid': 'id:bookrec:doc::1400033888', 'title': 'Istanbul'}}, {'id': 'id:bookrec:doc::1416524800', 'relevance': 5.24122275695966, 'source': 'hybridsearchbv_content', 'fields': {'description': \"On the eve of a presidential race in which NASA's budget is a pivotal issue, the <hi>space</hi> agency announces the discovery of an ancient meteorite filled with fossils deep in the Arctic ice.\", 'documentid': 'id:bookrec:doc::1416524800', 'title': 'Deception Point'}}, {'id': 'id:bookrec:doc::0345452518', 'relevance': 5.24122275695966, 'source': 'hybridsearchbv_content', 'fields': {'description': 'A woman stumbles upon a mysterious portal that links back to the Firstborn, omnipotent beings responsible for the upheaval of history and the creators of the notorious black monolith of \"2001: A <hi>Space</hi> Odyssey.\"', 'documentid': 'id:bookrec:doc::0345452518', 'title': 'Sunstorm'}}, {'id': 'id:bookrec:doc::1565044045', 'relevance': 5.214270847754326, 'source': 'hybridsearchbv_content', 'fields': {'description': '\"Kick Ass! And Live to Tell <hi>About</hi> It! Some people think the Awakened sit around dreaming <hi>about</hi> Ascension. Wrong. Dead wrong. When reality itself is on the brink of destruction, you don\\'t contemplate your navel. You fight -- and sometimes die -- for the sake of the future. Tales of Magick takes Mage from the realm of abstraction and kicks it screaming into high gear. If you ever wondered how to run an epic, exciting modern sorcery chronicle, Dark Adventure is for you. Indeed, Tales of Magick is an ongoing series of <hi>books</hi> dedicated to playing Mage in a variety of genres and settings. Now your Mage game can go anywhere, anywhen\".', 'documentid': 'id:bookrec:doc::1565044045', 'title': 'Tales of Magick'}}, {'id': 'id:bookrec:doc::0156189216', 'relevance': 5.213043406668932, 'source': 'hybridsearchbv_content', 'fields': {'description': 'All forty-one stories published by the distinguished writer are brought together, displaying her insights into the American South and including her most famous work, \"Death of a <hi>Traveling</hi> Salesman\"', 'documentid': 'id:bookrec:doc::0156189216', 'title': 'The Collected Stories of Eudora Welty'}}, {'id': 'id:bookrec:doc::074348844X', 'relevance': 5.202209709534361, 'source': 'hybridsearchbv_content', 'fields': {'description': 'In an illustrated, hand-lettered edition of maxims, Lazarus Long, the oldest living member of the human race, shares his wit and wisdom culled from his twenty-four-century odyssey through <hi>space</hi> and time. Reprint.', 'documentid': 'id:bookrec:doc::074348844X', 'title': 'The Notebooks of Lazarus Long'}}, {'id': 'id:bookrec:doc::0451210859', 'relevance': 5.202209709534361, 'source': 'hybridsearchbv_content', 'fields': {'description': 'Roland is drawn through a gateway of time and <hi>space</hi> into the drug-and-crime-ridden world of the twentieth-century to battle a dark power determined to prevent his search for the Dark Tower.', 'documentid': 'id:bookrec:doc::0451210859', 'title': 'The Drawing of the Three'}}, {'id': 'id:bookrec:doc::0142501182', 'relevance': 5.173049328404579, 'source': 'hybridsearchbv_content', 'fields': {'description': 'In 1620, a boy and his dog are rescued from the doomed ship, Flying Dutchman, by an angel who guides them in <hi>traveling</hi> the world, eternally helping those in great need.', 'documentid': 'id:bookrec:doc::0142501182', 'title': 'Castaways of the Flying Dutchman'}}, {'id': 'id:bookrec:doc::0471409766', 'relevance': 5.161652481084473, 'source': 'hybridsearchbv_content', 'fields': {'description': 'Advance praise for Philip Plait s Bad Astronomy \"Bad Astronomy is just plain good! Philip Plait clears up every misconception on astronomy and <hi>space</hi> you never knew you suffered from.\" --Stephen Maran, Author of Astronomy for Dummies and editor of The Astronomy and Astrophysics Encyclopedia \"Thank the cosmos for the bundle of star stuff named Philip Plait, who is the world s leading consumer advocate for quality science in <hi>space</hi> and on Earth. This important contribution to science will rest firmly on my reference library shelf, ready for easy access the next time an astrologer calls.\" --Dr. Michael Shermer, Publisher of Skeptic magazine, monthly columnist for Scientific American, and author of The Borderlands of Science \"Philip Plait has given us a readable, erudite, informative, useful, and entertaining book. Bad Astronomy is Good Science. Very good science...\" --James \"The Amazing\" Randi, President, James Randi Educational Foundation, and author of An Encyclopedia of Claims, Frauds, and Hoaxes of the Occult and Supernatural \"Bad Astronomy is a fun read. Plait is wonderfully witty and educational as he debunks the myths, legends, and \\'conspiracies that abound in our society. \\'The Truth Is Out There\\' and it\\'s in this book. I loved it!\" --Mike Mullane, <hi>Space</hi> Shuttle astronaut and author of Do Your Ears Pop in <hi>Space</hi>?', 'documentid': 'id:bookrec:doc::0471409766', 'title': 'Bad Astronomy'}}, {'id': 'id:bookrec:doc::0747569134', 'relevance': 5.150700885972729, 'source': 'hybridsearchbv_content', 'fields': {'description': \"Welcome back to maths class at Wayside School. How much is PEPPERS + PIG LIPS? If Jenny's shirt has sparkles on it, will Todd have egg in his hair? These Sideways Arithmetic problems may look puzzling at first, but you can use real maths to solve them, and the answers are perfectly logical. Three are lots of clues and hints, plus all the answers are right there in the book. Best of all the children you have read <hi>about</hi> in the other <hi>books</hi> <hi>about</hi> Wayside School are here to help you! Try solving the brainteasers in this book, along with Mrs Jewls and the children from her class, and maths will be a dream!\", 'documentid': 'id:bookrec:doc::0747569134', 'title': 'More Sideways Arithmetic from Wayside School'}}, {'id': 'id:bookrec:doc::0380759497', 'relevance': 5.139457127030419, 'source': 'hybridsearchbv_content', 'fields': {'description': \"We See England, We See Xanth, We See Mels's Underpanth In fact, Gwenny Goblin, Che Centaur and Jenny Elf are just <hi>about</hi> the only creatures on Xanth who have been spared the sight of Mela Merwoman's undergarment -- preoccupied as they are with helping Gwenny beat out her awful half-brother Gobble for chiefship of the goblin horde. But first they must master <hi>space</hi> and thyme . . . and find the fabulous egg that sits between the Roc and the hard place. While Mela -- who would gladly relinquish her oft-viewed undies for a new husband -- joins the Adult Conspiracy . . . and quickly discovers the power of a perfect pair of panties!\", 'documentid': 'id:bookrec:doc::0380759497', 'title': 'Xanth 15: The Color of Her Panties'}}, {'id': 'id:bookrec:doc::039332446X', 'relevance': 5.133664241148115, 'source': 'hybridsearchbv_content', 'fields': {'description': 'Presents essays that explore the deepest mysteries of the universe, including black holes, gravity holes, and time <hi>travel</hi>, by physicists Stephen Hawking, Kip S. Thorne, Igor Novikov, Timothy Ferris, and Alan Lightman.', 'documentid': 'id:bookrec:doc::039332446X', 'title': 'The Future of Spacetime'}}, {'id': 'id:bookrec:doc::014310490X', 'relevance': 5.133664241148115, 'source': 'hybridsearchbv_content', 'fields': {'description': \"Written on the brink of World War II, West's classic examination of the history, people, and politics of Yugoslavia is a magnificent blend of <hi>travel</hi> journal, cultural commentary, and historical insight.\", 'documentid': 'id:bookrec:doc::014310490X', 'title': 'Black Lamb and Grey Falcon'}}, {'id': 'id:bookrec:doc::1416509372', 'relevance': 5.125900418591769, 'source': 'hybridsearchbv_content', 'fields': {'description': 'Instead of remaining out of sight during her assignment to a forlorn outpost, spaceship commander Honor Harrington, along with her vessel, the Fearless, performs incredible flying maneuvers to stop a foreign takeover of a major <hi>space</hi> station.', 'documentid': 'id:bookrec:doc::1416509372', 'title': 'On Basilisk Station'}}, {'id': 'id:bookrec:doc::074459863X', 'relevance': 5.125900418591769, 'source': 'hybridsearchbv_content', 'fields': {'description': 'This colorful reissue of a way-not-boring journal invites Judy Moody to explore their many moods and other facets of their life. It includes interactive activities, Judy Moody facts, and plenty of writing <hi>space</hi>. Illustrations. Consumable.', 'documentid': 'id:bookrec:doc::074459863X', 'title': 'The Judy Moody Mood Journal'}}, {'id': 'id:bookrec:doc::0060739428', 'relevance': 5.112472653352482, 'source': 'hybridsearchbv_content', 'fields': {'description': 'Originally published: [New York]: Clarion <hi>Books</hi>, 1994.', 'documentid': 'id:bookrec:doc::0060739428', 'title': 'Catherine, Called Birdy (Summer Reading Edition)'}}, {'id': 'id:bookrec:doc::0963188925', 'relevance': 5.110109277409116, 'source': 'hybridsearchbv_content', 'fields': {'description': 'During WWII there was an attempt to achieve invisibility called the Philadelphia Experiment. Afterward occurred the now famous time <hi>travel</hi> experiments named after the underground base at Montauk Point on Long Island. Now this third book in the Montauk series summarises the events of the first two <hi>books</hi> and then takes the reader on an even more spectacular journey. The discovery of ancient pyramids at Montauk leads to a connection with Ancient Egypt and its position as a gateway to other dimensions. Like a psychic detective story beyond the occult, venture into an unprecedented investigation of the mystery schools of the earth and their connection to Egypt, Atlantis, Mars and the star Sirius. Chapters on new psychotronic weapons, the history of Mars, the strange death of Ian Fleming in connection with the Philadelphia Experiment, underground at the Montauk Base.', 'documentid': 'id:bookrec:doc::0963188925', 'title': 'Pyramids of Montauk'}}, {'id': 'id:bookrec:doc::0140345825', 'relevance': 5.094874340314924, 'source': 'hybridsearchbv_content', 'fields': {'description': \"Max finds himself in possession of a time <hi>travel</hi> device which is eagerly sought by two desperate men, the scientist who invented it and the scientist's alter ego from a different timeline.\", 'documentid': 'id:bookrec:doc::0140345825', 'title': 'Strange Attractors'}}, {'id': 'id:bookrec:doc::0671867423', 'relevance': 5.088579175269113, 'source': 'hybridsearchbv_content', 'fields': {'description': \"An account of Lincoln's revolutionary speech describes how, in the <hi>space</hi> of 272 words, the President brought to bear the rhetoric of the Greek Revival, the categories of transcendentalism, and the imagery of the Rural Cemetary Movement\", 'documentid': 'id:bookrec:doc::0671867423', 'title': 'Lincoln at Gettysburg'}}, {'id': 'id:bookrec:doc::0785114157', 'relevance': 5.088579175269113, 'source': 'hybridsearchbv_content', 'fields': {'description': 'Professor Xavier invites the New Mutants, mutants he gathered and trained as teenagers years ago when he thought the X-Men had died in deep <hi>space</hi>, to Xavier Mansion to help train the next generation of X-Men.', 'documentid': 'id:bookrec:doc::0785114157', 'title': 'New Mutants'}}, {'id': 'id:bookrec:doc::0099498634', 'relevance': 5.070341309422592, 'source': 'hybridsearchbv_content', 'fields': {'description': \"A vintage collection of short stories from the bestselling author of Light a Penny Candle and Circle of Friends. Millions of people <hi>travel</hi> on London's tube every day, yet we usually give our fellow passengers only a cursory glance. But each one of these nameless passengers has their own story to tell. At Notting Hill, the mysterious secretary, harbouring her secrets, <hi>travels</hi> to work; at Highburyand Islington, Adam has a sudden change of heart; and at Holborn, a disastrous reunion is <hi>about</hi> to take place... With her characteristic mix of compassionate humour and biting realism, this vintage collection of stories is Maeve Binchy at her very best\", 'documentid': 'id:bookrec:doc::0099498634', 'title': 'Victoria Line, Central Line'}}, {'id': 'id:bookrec:doc::006446234X', 'relevance': 5.05672622828377, 'source': 'hybridsearchbv_content', 'fields': {'description': 'The pioneer spirit lives on... Readers around the world know and love Laura, the little girl born in the Big Woods of Wisconsin and raised in covered wagons and on wide open prairies. Now Little House fans can learn more <hi>about</hi> \"Half-pint\" in this, the first picture book biography book of Laura Ingalls Wilder. With a simple, glowing text by noted historian and Little House scholar William Anderson, and glorious paintings by Dan Andreasen, Pioneer Girl is a very special portrait of a writer whose classic <hi>books</hi> and poineer adventures have made her one of the most popular literary figures in America. This picture-book biography of Laura Ingalls Wilder tells the remarkable story of the pioneer girl who would one day immortalize her adventures in the beloved Little House <hi>books</hi>. Written in simple, glowing text by noted Little House scholar William Anderson, and illustrated with glorious paintings by artist Dan Andreasen, this wonderful first biography captures the very essence of the little girl called ‘Half-pint,\\' whose classic <hi>books</hi> and pioneer adventures have made her one of the most popular literary figures in America. This picture-book biography of Laura Ingalls Wilder tells the remarkable story of the pioneer girl who would one day immortalize her adventures in the beloved Little House <hi>books</hi>. Written in simple, glowing text by noted Little House scholar William Anderson, and illustrated with glorious paintings by artist Dan Andreasen, this wonderful first biography captures the very essence of the little girl called ‘Half-pint,’ whose classic <hi>books</hi> and pioneer adventures have made her one of the most popular literary figures in America.', 'documentid': 'id:bookrec:doc::006446234X', 'title': 'Pioneer Girl'}}, {'id': 'id:bookrec:doc::0312423373', 'relevance': 5.056666235420505, 'source': 'hybridsearchbv_content', 'fields': {'description': \"The author recounts his experiences <hi>traveling</hi> along the Yangtze river from the Tibetan border to the East China Sea, vividly bringing to life China's rich cultural history, politics, people, geography, and climate. Reprint.\", 'documentid': 'id:bookrec:doc::0312423373', 'title': 'The River at the Center of the World'}}, {'id': 'id:bookrec:doc::0689716044', 'relevance': 5.056666235420505, 'source': 'hybridsearchbv_content', 'fields': {'description': 'An eight-year-old boy who is frightened of <hi>traveling</hi> over Hemlock Mountain overcomes his fear by taking the trip while chanting, \"There are no bears on Hemlock Mountain,\" in a suspenseful tale. Reissue.', 'documentid': 'id:bookrec:doc::0689716044', 'title': 'The Bears on Hemlock Mountain'}}, {'id': 'id:bookrec:doc::159308269X', 'relevance': 5.021760636125121, 'source': 'hybridsearchbv_content', 'fields': {'description': \"From the Publisher: Western philosophy starts with Socrates and his student Plato. By way of the dialectic that evolved between master and student, Plato invented the philosophical method of inquiry and analysis, and became the first to use a logical framework to ask-and try to answer-the eternal questions <hi>about</hi> ethics, politics, art, and life that still haunt humanity. Along with such exemplars of Plato's thought as Symposium, Apology, and Phaedrus, this volume includes the first three <hi>books</hi> of Plato's Laws.\", 'documentid': 'id:bookrec:doc::159308269X', 'title': 'Essential Dialogues of Plato'}}, {'id': 'id:bookrec:doc::0440229316', 'relevance': 5.019026934668708, 'source': 'hybridsearchbv_content', 'fields': {'description': 'Annie Lockwood, a teenager in 1999, tries to <hi>travel</hi> back in time to join her lost love Strat in Egypt in 1899, but instead she ends up in ancient Egypt and in great danger. Reprint.', 'documentid': 'id:bookrec:doc::0440229316', 'title': 'For All Time'}}, {'id': 'id:bookrec:doc::0553299492', 'relevance': 5.01554368454157, 'source': 'hybridsearchbv_content', 'fields': {'description': 'Called to the <hi>Spacer</hi> world to solve a case of roboticide, New York City detective Elijah Baley teams up with humanoid robot R. Daneel Olivaw to prove that the prime suspect, a renowned roboticist, is innocent of the crime. Reprint.', 'documentid': 'id:bookrec:doc::0553299492', 'title': 'The Robots of Dawn'}}, {'id': 'id:bookrec:doc::0142403016', 'relevance': 4.981943830223168, 'source': 'hybridsearchbv_content', 'fields': {'description': 'After dreaming that they must leave their isolated home of Riverworld, Kyreol and Terje <hi>travel</hi> beyond what they believe to be end of the world, where they discover new planets and new ways of life. Reissue.', 'documentid': 'id:bookrec:doc::0142403016', 'title': 'Moon-Flash'}}, {'id': 'id:bookrec:doc::0679890521', 'relevance': 4.981943830223168, 'source': 'hybridsearchbv_content', 'fields': {'description': 'In 1838, settlers moving west forced the great Cherokee Nation, and their chief John Ross, to leave their home land and <hi>travel</hi> 1,200 miles to Oklahoma. An epic story of friendship, war, hope, and betrayal.', 'documentid': 'id:bookrec:doc::0679890521', 'title': 'The Trail of Tears'}}, {'id': 'id:bookrec:doc::0553297600', 'relevance': 4.979806536548212, 'source': 'hybridsearchbv_content', 'fields': {'description': 'With an enormous corporation in control of all explored <hi>space</hi>, beautiful Morn Hyland must use her feminine wiles to win the affections of Succorso and defeat her new enemy--an alien force intent on mutating human bodies into alien forms. Reprint.', 'documentid': 'id:bookrec:doc::0553297600', 'title': 'Forbidden Knowledge'}}, {'id': 'id:bookrec:doc::0375713344', 'relevance': 4.945404684126904, 'source': 'hybridsearchbv_content', 'fields': {'description': 'Aloysious and Lillian Binewski, the proprietors of a <hi>traveling</hi> carnival, attempt to reduce overhead by breeding their own freak show, with tragic results, in a new edition of the acclaimed cult classic. Reprint. 30,000 first printing.', 'documentid': 'id:bookrec:doc::0375713344', 'title': 'Geek Love'}}, {'id': 'id:bookrec:doc::0440419670', 'relevance': 4.945404684126904, 'source': 'hybridsearchbv_content', 'fields': {'description': 'Francis Tucket, <hi>traveling</hi> the Oregon trail on a wagon, has many adventures after being kidnapped by Pawnee Indians, including meeting a one-armed man, rescuing abandoned children, and enduring bandits and fierce storms on his trek home.', 'documentid': 'id:bookrec:doc::0440419670', 'title': \"Tucket's Travels\"}}, {'id': 'id:bookrec:doc::0582418178', 'relevance': 4.945404684126904, 'source': 'hybridsearchbv_content', 'fields': {'description': 'In 1960s America, four young boys go on a journey to search for the body of a boy killed by a train. As they <hi>travel</hi>, they discover how cruel the world can be, but also how wondrous.', 'documentid': 'id:bookrec:doc::0582418178', 'title': 'The Body'}}, {'id': 'id:bookrec:doc::0786849738', 'relevance': 4.944575059804995, 'source': 'hybridsearchbv_content', 'fields': {'description': 'The Little Einsteins, equipped with their camera, go on a journey through <hi>space</hi>, exploring each of the planets, landing on Mars, and looking at the Earth from their spaceship, with a slideviewer for young readers to view pictures of what they saw.', 'documentid': 'id:bookrec:doc::0786849738', 'title': \"Disney's Little Einsteins: Galactic Goodnight\"}}, {'id': 'id:bookrec:doc::0385496095', 'relevance': 4.935614655481992, 'source': 'hybridsearchbv_content', 'fields': {'description': \"Combining elements of spiritual study and memoir, the author describes her odyssey of faith, drawing on her own sometimes troubled past to explore the many ways in which faith sustains and guides one's daily life\", 'documentid': 'id:bookrec:doc::0385496095', 'title': 'Traveling Mercies'}}, {'id': 'id:bookrec:doc::0064405451', 'relevance': 4.909397614837017, 'source': 'hybridsearchbv_content', 'fields': {'description': 'In January 1914, with an unsuccessful college experience and a broken romance with Joe behind her, twenty-one-year-old Betsy, <hi>traveling</hi> alone for the first time, determines to enjoy every moment of her long trip around Europe.', 'documentid': 'id:bookrec:doc::0064405451', 'title': 'Betsy and the Great World'}}, {'id': 'id:bookrec:doc::0300091699', 'relevance': 4.90434304823629, 'source': 'hybridsearchbv_content', 'fields': {'description': '\"Lewis Carroll was the pen name of the Reverend Charles Lutwidge Dodgson, the author of Alice\\'s Adventures in Wonderland and other beloved children\\'s <hi>books</hi>. But before achieving fame as an author, Dodgson was a prolific and sophisticated photographer, acutely engaged in the art world of Victorian England. This beautifully illustrated book is the first to examine Dodgson\\'s photographs not as the sideline of a celebrated writer, but as the creations of a serious photographic artist - and to demonstrate their importance to the history of photography.\" \"Dreaming in Pictures: The Photography of Lewis Carroll is published in conjunction with an exhibition organized by the San Francisco Museum of Modern Art and <hi>traveling</hi> to the Museum of Fine Arts, Houston, the International Center for Photography in New York, and the Art Institute of Chicago.\"--BOOK JACKET.Title Summary field provided by Blackwell North America, Inc. All Rights Reserved', 'documentid': 'id:bookrec:doc::0300091699', 'title': 'Dreaming in Pictures'}}]}}\n"
     ]
    }
   ],
   "source": [
    "with app.syncio(connections=12) as session:\n",
    "    response_space_travel: VespaQueryResponse = session.query(\n",
    "        hits=10,\n",
    "        body={\n",
    "            \"yql\": \"select documentid, cord_uid, title, description, abstract from sources * where userQuery() LIMIT 100\",\n",
    "            \"query\": \"books about space travel\",\n",
    "            \"ranking.profile\": \"bm25\",\n",
    "            \"presentation.timing\": True,\n",
    "        },\n",
    "    )\n",
    "    print(response_space_travel.json)"
   ]
  },
  {
   "cell_type": "code",
   "execution_count": 56,
   "metadata": {},
   "outputs": [
    {
     "name": "stdout",
     "output_type": "stream",
     "text": [
      "Collecting openpyxlNote: you may need to restart the kernel to use updated packages.\n",
      "\n",
      "  Using cached openpyxl-3.1.3-py2.py3-none-any.whl.metadata (2.5 kB)\n",
      "Collecting et-xmlfile (from openpyxl)\n",
      "  Using cached et_xmlfile-1.1.0-py3-none-any.whl.metadata (1.8 kB)\n",
      "Using cached openpyxl-3.1.3-py2.py3-none-any.whl (251 kB)\n",
      "Using cached et_xmlfile-1.1.0-py3-none-any.whl (4.7 kB)\n",
      "Installing collected packages: et-xmlfile, openpyxl\n",
      "Successfully installed et-xmlfile-1.1.0 openpyxl-3.1.3\n"
     ]
    }
   ],
   "source": [
    "%pip install openpyxl"
   ]
  },
  {
   "cell_type": "code",
   "execution_count": 88,
   "metadata": {},
   "outputs": [
    {
     "name": "stdout",
     "output_type": "stream",
     "text": [
      "Excel file 'books.xlsx' created successfully.\n"
     ]
    }
   ],
   "source": [
    "response_json = response_space_travel.json\n",
    "\n",
    "data = []\n",
    "for item in response_json['root']['children']:\n",
    "    title = item['fields']['title']\n",
    "    description = item['fields']['description']\n",
    "    binary = ''  # Empty value for the binary column\n",
    "    score = ''   # Empty value for the score column\n",
    "    data.append([title, description, binary, score])\n",
    "\n",
    "df = pd.DataFrame(data, columns=['title', 'description', 'binary', 'score'])\n",
    "\n",
    "df.to_excel('books_space_travel.xlsx', index=False)\n",
    "\n",
    "print(\"Excel file 'books.xlsx' created successfully.\")"
   ]
  },
  {
   "cell_type": "code",
   "execution_count": 92,
   "metadata": {},
   "outputs": [
    {
     "name": "stdout",
     "output_type": "stream",
     "text": [
      "{'timing': {'querytime': 0.021, 'summaryfetchtime': 0.039, 'searchtime': 0.061}, 'root': {'id': 'toplevel', 'relevance': 1.0, 'fields': {'totalCount': 464}, 'coverage': {'coverage': 100, 'documents': 6483, 'full': True, 'nodes': 1, 'results': 1, 'resultsFull': 1}, 'children': [{'id': 'id:bookrec:doc::0394733525', 'relevance': 12.500838795907017, 'source': 'hybridsearchbv_content', 'fields': {'description': 'A mathematically oriented <hi>romantic</hi> fable <hi>about</hi> the eternal triangle, in this case a straight line who is hopelessly in <hi>love</hi> with a dot who in turn <hi>loves</hi> a squiggle', 'documentid': 'id:bookrec:doc::0394733525', 'title': 'The Dot and the Line'}}, {'id': 'id:bookrec:doc::0747575479', 'relevance': 11.760686926707198, 'source': 'hybridsearchbv_content', 'fields': {'description': 'This is a <hi>romantic</hi> comedy <hi>about</hi> the difficult, frustrating, awful, funny search for happiness in an American city where the primary emotion is unrequited <hi>love</hi>- is delighting audiences everywhere.', 'documentid': 'id:bookrec:doc::0747575479', 'title': 'When Harry Met Sally'}}, {'id': 'id:bookrec:doc::0688149898', 'relevance': 9.367299114368148, 'source': 'hybridsearchbv_content', 'fields': {'description': 'In a career that has spanned more than a quarter century, Nikki Giovanni has earned the reputation as one of America\\'s most celebrated and contoversial writers.Now, she presents a stunning collection of <hi>love</hi> poems that includes more than twenty new works. From the revolutionary \"Seduction\" to the tender new poem, \"Just a Simple Declaration of <hi>Love</hi>,\" from the whimsical \"I Wrote a Good Omelet\" to the elegiac \"All Eyez on U,\" written for Tupac Shakur, these poems embody the fearless passion and spirited wit for which Nikki Giovanni is beloved and revered. <hi>Romantic</hi>, bold, and erotic, <hi>Love</hi> Poems expresses notions of <hi>love</hi> in ways that are delightfully unexpected. Articulating in sensuous verse what we know only instinctively, Nikki Giovanni once again confirms her place as one of our nations\\'s most distinguished poets and powerful truth-tellers. In a career that has spanned more than a quarter century, starting with her explosive early years in the Black Rights Movement, Nikki Giovanni has earned a reputation as one of America\\'s most celebrated and controversial writers. Her mind-speaking work has made her a universal favorite and a number-one best-seller.The <hi>love</hi> poems-the revolutionary \"Seduction,\" the whimsical \"I Wrote a Good Omelet,\" and the tender \"My House\" to name just a few-are among the most beloved of all Nikki Giovanni\\'s works. Now, <hi>Love</hi> Poems brings together these and other favorites with over twenty new poems. <hi>Romantic</hi>, bold, and erotic, <hi>Love</hi> Poems will once again confirm Nikki Giovanni\\'s place among the country\\'s most renowned poets and truth tellers.', 'documentid': 'id:bookrec:doc::0688149898', 'title': 'Love Poems'}}, {'id': 'id:bookrec:doc::080213825X', 'relevance': 9.25577306362849, 'source': 'hybridsearchbv_content', 'fields': {'description': 'Four very different women endure <hi>romantic</hi> intrigues, betrayals, liaisons, and victories as they seek <hi>love</hi> amid the playgrounds of the rich and powerful.', 'documentid': 'id:bookrec:doc::080213825X', 'title': 'Four Blondes'}}, {'id': 'id:bookrec:doc::0060598840', 'relevance': 9.167051804413617, 'source': 'hybridsearchbv_content', 'fields': {'description': \"Dear Reader: In a previous life, before the time of Plum, I wrote twelve short romance novels. Red-hot screwball comedies, each and every one of them. Nine of these stories were originally published by the Loveswept line between the years 1988 and 1992. All went out-of-print immediately and then could be found only at used bookstores and yard sales. I'm excited to tell you that those nine stories are now being re-released by HarperCollins. <hi>Love</hi> Overboard is second in the lineup, and it's presented here in almost original form. I've done only minor editing to correct some embarrassing bloopers missed the first time around. And I changed the title because I thought the original title (Ivan Takes a Wife) was boring! <hi>Love</hi> Overboard is a <hi>romantic</hi> tale <hi>about</hi> a handsome ship's captain; a wary wench from Jersey City; a hundred-year-old, two-masted schooner; and an entire town of shoemakers. There's some getting naked, some blueberry pie, more getting naked, and at the end . . . Okay, I won't tell you <hi>about</hi> the end, but it's really good and it'll make you feel happy. I took my family on the road trip from heck to research this book. When we finally got to Maine it was all worthwhile because we fell in <hi>love</hi> with the boats and the people who sailed them. Enjoy!\", 'documentid': 'id:bookrec:doc::0060598840', 'title': 'Love Overboard'}}, {'id': 'id:bookrec:doc::0140444084', 'relevance': 9.093211543474702, 'source': 'hybridsearchbv_content', 'fields': {'description': \"Gathers four of Chaucer's longer poems that depict poetic dreams <hi>about</hi> the rituals and emotions of courtly <hi>love</hi>\", 'documentid': 'id:bookrec:doc::0140444084', 'title': 'Love Visions'}}, {'id': 'id:bookrec:doc::0451528204', 'relevance': 8.556408044009716, 'source': 'hybridsearchbv_content', 'fields': {'description': \"An ordinary woman's unfulfilled dreams of <hi>romantic</hi> <hi>love</hi> lead her to a series of desperate acts, including adultery, in a classic novel set against the backdrop of nineteenth-century bourgeois France. Reissue.\", 'documentid': 'id:bookrec:doc::0451528204', 'title': 'Madame Bovary'}}, {'id': 'id:bookrec:doc::0871401657', 'relevance': 8.492240782124949, 'source': 'hybridsearchbv_content', 'fields': {'description': \"Fresh and candid, by turns earthy, tender, defiant, and <hi>romantic</hi>, Cummings's poems celebrate the uniqueness of each individual, the need to protest the dehumanizing force of organizations, and the exuberant power of <hi>love</hi>.\", 'documentid': 'id:bookrec:doc::0871401657', 'title': 'Tulips and Chimneys'}}, {'id': 'id:bookrec:doc::0826414753', 'relevance': 8.064017941222609, 'source': 'hybridsearchbv_content', 'fields': {'description': 'A brilliant idea--short, perceptive <hi>books</hi> which tell you what you need to know <hi>about</hi> some of the most vibrant and challenging writing around today--a bit like having a reading group in your pocket. IAN RANKIN', 'documentid': 'id:bookrec:doc::0826414753', 'title': \"Gabriel Garcia Marquez's Love in the Time of Cholera\"}}, {'id': 'id:bookrec:doc::1932420347', 'relevance': 8.063024764121865, 'source': 'hybridsearchbv_content', 'fields': {'description': '<hi>Romantic</hi> Hedonism: What happens when a woman meets the man of her dreams in London? She prays her husband doesn\\'t find out. My Dirty Thirties is a series of erotic novels <hi>about</hi> women in their thirties who can\\'t say no to their desires. Call it \"The Thing\" or call it sexual peak, but once it happens, there\\'s no turning back. It takes female empowerment to new levels. <hi>Romantic</hi> Hedonism is the second book in the series.', 'documentid': 'id:bookrec:doc::1932420347', 'title': 'Erotica'}}, {'id': 'id:bookrec:doc::0140449124', 'relevance': 8.011588883032294, 'source': 'hybridsearchbv_content', 'fields': {'description': \"An unhappily married woman, Emma Bovary's unfulfilled dreams of <hi>romantic</hi> <hi>love</hi> and desperation to escape the ordinary boredom of her life lead her to a series of desperate acts, including adultery, in a classic novel set against the backdrop of nineteenth-\", 'documentid': 'id:bookrec:doc::0140449124', 'title': 'Madame Bovary'}}, {'id': 'id:bookrec:doc::0060736259', 'relevance': 7.883452986859749, 'source': 'hybridsearchbv_content', 'fields': {'description': 'Fifteen years ago Francesca Lia Block made a dazzling entrance into the literary scene with what would become one of the most talked-<hi>about</hi> <hi>books</hi> of the decade: Weetzie Bat. This poetic roller coaster swoop has a sleek new design to match its new sister and brother <hi>books</hi>, Goat Girls and Beautiful Boys. Rediscover the magic of Weetzie Bat, Ms. Blocks sophisticated, slinkster-cool <hi>love</hi> song to L.A.the book that shattered the standard, captivated readers of all generations, and made Francesca Lia Block one of the most heralded authors of the last decade.', 'documentid': 'id:bookrec:doc::0060736259', 'title': 'Weetzie Bat'}}, {'id': 'id:bookrec:doc::0141187190', 'relevance': 7.861875350047932, 'source': 'hybridsearchbv_content', 'fields': {'description': 'A selection of stories <hi>about</hi> <hi>romantics</hi>, adventurers and dreamers, ranging from Tuscany to Elisnore and Zanzibar: a jealous countess cannot bear her husband to admire her jewels; an Englishman embarks on an odyssey; a maiden lady believes herself to be a famous courtesan; and more.', 'documentid': 'id:bookrec:doc::0141187190', 'title': 'Seven Gothic Tales'}}, {'id': 'id:bookrec:doc::0061129739', 'relevance': 7.664504129236528, 'source': 'hybridsearchbv_content', 'fields': {'description': 'The fiftieth Anniversary Edition of the groundbreaking international bestseller that has shown millions of readers how to achieve rich, productive lives by developing their hidden capacities for <hi>love</hi> Most people are unable to <hi>love</hi> on the only level that truly matters: <hi>love</hi> that is compounded of maturity, self-knowledge, and courage. As with every art, <hi>love</hi> demands practice and concentration, as well as genuine insight and understanding. In his classic work, The Art of Loving, renowned psychoanalyst and social philosopher Erich Fromm explores <hi>love</hi> in all its aspects—not only <hi>romantic</hi> <hi>love</hi>, steeped in false conceptions and lofty expectations, but also brotherly <hi>love</hi>, erotic <hi>love</hi>, self-<hi>love</hi>, the <hi>love</hi> of God, and the <hi>love</hi> of parents for their children.', 'documentid': 'id:bookrec:doc::0061129739', 'title': 'The Art of Loving'}}, {'id': 'id:bookrec:doc::0971316821', 'relevance': 7.622522185882612, 'source': 'hybridsearchbv_content', 'fields': {'description': 'Photography and historical information <hi>about</hi> the places and faces featured in the Betsy-Tacy Deep Valley <hi>books</hi>. Includes a removable map containing a walking or driving tour of the locations featured in the <hi>books</hi>, bibliographies of <hi>books</hi> by Maud Hart Lovelace, a list of characters and their real-life counterparts, and a membership application for the Betsy-Tacy Society.', 'documentid': 'id:bookrec:doc::0971316821', 'title': \"Maud Hart Lovelace's Deep Valley\"}}, {'id': 'id:bookrec:doc::0192802771', 'relevance': 7.411643330465923, 'source': 'hybridsearchbv_content', 'fields': {'description': 'One of Platoas most profound and beautiful works, \"Phaedrus\" takes the form of a dialogue between Socrates and Phaedrus, an amateur rhetorical enthusiast, on the topic of passionate or <hi>romantic</hi> <hi>love</hi>. Concerned with establishing principles of rhetoric, it argues that rhetoric is only acceptable as an art when it is firmly based on the truth inspired by <hi>love</hi>, the common experience of true philosophic activity. It is in this dialogue that Plato employs the famous image of <hi>love</hi> as the driver of the chariot of souls.', 'documentid': 'id:bookrec:doc::0192802771', 'title': 'Phaedrus'}}, {'id': 'id:bookrec:doc::0767912276', 'relevance': 7.30517628522194, 'source': 'hybridsearchbv_content', 'fields': {'description': \"Setting aside her dreams of living a grass-roots life in the English countryside, Alice accepts the proposal of wealthy man-<hi>about</hi>-town Joe, who shatters Alice's <hi>romantic</hi> ideals by criticizing her looks and cheating on her before an indiscretion forces them to move to a country house in America. Reprint. 125,000 first printing.\", 'documentid': 'id:bookrec:doc::0767912276', 'title': 'To Have and to Hold'}}, {'id': 'id:bookrec:doc::0791081265', 'relevance': 7.268111411707417, 'source': 'hybridsearchbv_content', 'fields': {'description': \"One of Edith Wharton's most critically acclaimed <hi>books</hi>, this Pulitzer Prize-winning novel tells the story of <hi>love</hi> in the high society of 1870s New York.\", 'documentid': 'id:bookrec:doc::0791081265', 'title': \"Edith Wharton's The Age of Innocence\"}}, {'id': 'id:bookrec:doc::0898702623', 'relevance': 7.177911271905886, 'source': 'hybridsearchbv_content', 'fields': {'description': '\"I\\'ve been a philosopher for all my adult life and the three most profound <hi>books</hi> of philosophy that I have ever read are Ecclesiastes, Job, and Song of Songs.\" These are the opening lines of Kreeft\\'s Three Philosophies of Life. He reflects that there are ultimately only three philosophies of life and each one is represented by one of these <hi>books</hi> of the Bible-life is vanity; life is suffering; life is <hi>love</hi>. In these three <hi>books</hi> Kreeft shows how we have Dante\\'s great epic The Divine Comedy played out, from Hell to Purgatory to Heaven. But it is an epic played out in our hearts and lives, here and now. Just as there is movement in Dante\\'s epic, so there is movement in these <hi>books</hi>, from Ecclesiates to Job, from Job to Song of Songs. <hi>Love</hi> is the final answer to Ecclesiastes\\' quest, the alternative to vanity, and the true meaning of life. Finally, Kreeft sees in these <hi>books</hi> the epitome of theological virtues of faith, hope and <hi>love</hi> and \"an essential summary of the spiritual history of the world.\"', 'documentid': 'id:bookrec:doc::0898702623', 'title': 'Three Philosophies of Life'}}, {'id': 'id:bookrec:doc::1561633429', 'relevance': 7.154852776267665, 'source': 'hybridsearchbv_content', 'fields': {'description': \"An adaptation of the seven <hi>books</hi> of Proust's masterpiece in graphic novel format, which explores themes of <hi>love</hi>, art, sexuality, memory, and time in late nineteenth-century France.\", 'documentid': 'id:bookrec:doc::1561633429', 'title': 'Remembrance of Things Past, Part 2'}}, {'id': 'id:bookrec:doc::0231109253', 'relevance': 7.085098592415235, 'source': 'hybridsearchbv_content', 'fields': {'description': \"The collection Poems Between Women explores many facets of female-female relationships in poems not only <hi>about</hi> <hi>love</hi> or affection between or inspired by women but also <hi>about</hi> the moments that complicate and call into question the nature of sexuality and intimacy between women. Including women married and single, young and old, lesbian, bisexual, and heterosexual, the anthology covers historical development and changing mores through the seventeenth century, after the Restoration of Charles II, a time of relative freedom for women; the eighteenth century, when the cult of <hi>romantic</hi> friendship reached its peak; the nineteenth century, when women writers wrote <hi>about</hi> issues of same-sex desire indirectly and explored complex issues such as death in tones of weariness and resignation; and the twentieth century, when poets began to engage in more overt explorations of women's bodies, sensuality, and lovemaking. Emma Donoghue's introduction deftly guides readers into the rich tradition of women's poetry in English, exploring the relationships between poets and their muses and poets and their cultures. Poems Between Women is testimony not only to the recurring theme of the unique bonds among women but also to the universality of <hi>love</hi>, friendship, and creativity.\", 'documentid': 'id:bookrec:doc::0231109253', 'title': 'Poems Between Women'}}, {'id': 'id:bookrec:doc::0743484967', 'relevance': 7.083934220437747, 'source': 'hybridsearchbv_content', 'fields': {'description': 'Background information <hi>about</hi> Shakespeare, Elizabethan theater, and the text accompany his play <hi>about</hi> unrequited <hi>love</hi> and mistaken identity.', 'documentid': 'id:bookrec:doc::0743484967', 'title': 'Twelfth Night'}}, {'id': 'id:bookrec:doc::0743482778', 'relevance': 7.083934220437747, 'source': 'hybridsearchbv_content', 'fields': {'description': 'Background information <hi>about</hi> Shakespeare, Elizabethan theater, and the text accompany his play <hi>about</hi> unrequited <hi>love</hi> and mistaken identity.', 'documentid': 'id:bookrec:doc::0743482778', 'title': 'Twelfth Night'}}, {'id': 'id:bookrec:doc::0552998788', 'relevance': 7.062261955516298, 'source': 'hybridsearchbv_content', 'fields': {'description': 'The residents of 28 Barbary Lane are back again in this racy, suspenseful and wildly <hi>romantic</hi> sequel to Tales of the Cityand More Tales of the City.DeDe Halcyon Day and Mary Ann Singleton track down a charismatic psychopath, Michael Tolliver looks for <hi>love</hi>, landlady Anna Madrigal imprisons an anchorwoman in her basement storeroom, and Armistead Maupin is in firm control.', 'documentid': 'id:bookrec:doc::0552998788', 'title': 'Further Tales of the City'}}, {'id': 'id:bookrec:doc::0743495926', 'relevance': 6.9896112258922205, 'source': 'hybridsearchbv_content', 'fields': {'description': 'Originally published in 1988, GETTING THE <hi>LOVE</hi> YOU WANT has helped thousands of couples attain more loving, supportive and deeply satisfying relationships. In this groundbreaking book, Dr Harville Hendrix shares with you what he has learned <hi>about</hi> the psychology of <hi>love</hi> during more than thirty years of working as a therapist and helps you transform your relationship into a lasting source of <hi>love</hi> and companionship. For this edition of his classic book, Dr Hendrix and his wife, Helen LaKelly Hunt, have added a new introduction describing the powerful influence this book has had on so many people over the years. With its step-by-step programme, GETTING THE <hi>LOVE</hi> YOU WANT will help you create a loving, supportive and revitalized partnership.', 'documentid': 'id:bookrec:doc::0743495926', 'title': 'Getting the Love You Want'}}, {'id': 'id:bookrec:doc::0316015849', 'relevance': 6.87989247856914, 'source': 'hybridsearchbv_content', 'fields': {'description': 'With 160 million copies of the Twilight Saga sold worldwide, this addictive <hi>love</hi> story between a teenage girl and a vampire redefined romance for a generation. Here\\'s the book that started it all. Isabella Swan\\'s move to Forks, a small, perpetually rainy town in Washington, could have been the most boring move she ever made. But once she meets the mysterious and alluring Edward Cullen, Isabella\\'s life takes a thrilling and terrifying turn. Up until now, Edward has managed to keep his vampire identity a secret in the small community he lives in, but now nobody is safe, especially Isabella, the person Edward holds most dear. The lovers find themselves balanced precariously on the point of a knife-between desire and danger. Deeply <hi>romantic</hi> and extraordinarily suspenseful, Twilightcaptures the struggle between defying our instincts and satisfying our desires. This is a <hi>love</hi> story with bite. \"People do not want to just read Meyer\\'s <hi>books</hi>; they want to climb inside them and live there.\"-Time \"A literary phenomenon.\"-The New York Times', 'documentid': 'id:bookrec:doc::0316015849', 'title': 'Twilight'}}, {'id': 'id:bookrec:doc::0446606812', 'relevance': 6.853298708741389, 'source': 'hybridsearchbv_content', 'fields': {'description': 'In this New York Times bestseller, a single mother sets out to find the North Carolina man who sent a message meant for someone else . . . and the journey may change her life forever. Divorced and disillusioned <hi>about</hi> relationships, Theresa Osborne is jogging when she finds a bottle on the beach. Inside is a letter of <hi>love</hi> and longing to \"Catherine,\" signed simply \"Garrett.\" Challenged by the mystery and pulled by emotions she doesn\\'t fully understand, Theresa begins a search for this man that will change her life. What happens to her is unexpected, perhaps miraculous-an encounter that embraces all our hopes for finding someone special, for having a <hi>love</hi> that is timeless and everlasting.... Nicholas Sparks exquisitely chronicles the human heart. In his first bestselling novel, The Notebook, he created a testament to <hi>romantic</hi> <hi>love</hi> that touched readers around the world. Now in this New York Times bestseller, he renews our faith in destiny, in the ability of lovers to find each other no matter where, no matter when...', 'documentid': 'id:bookrec:doc::0446606812', 'title': 'Message in a Bottle'}}, {'id': 'id:bookrec:doc::0743273052', 'relevance': 6.826074313323074, 'source': 'hybridsearchbv_content', 'fields': {'description': 'Three people gather to determine the fate of the man who sits in a straight-backed chair saying nothing. He is Alex Macklin, who gave up easel painting to do land art in the southwestern desert, and he is seventy now, helpless in the wake of a second stroke. The people around him are the bearers of a complicated <hi>love</hi>, his son, his young wife, the older woman -- his wife of years past -- who feels the emotional tenacity of a <hi>love</hi> long-ended. It is their question to answer. When does life end, and when should it end? In this remote setting, without seeking medical or legal guidance, they move unsteadily toward last things. Luminous, spare, unnervingly comic and always deeply moving, <hi>Love</hi>-Lies-Bleeding explores a number of perilous questions <hi>about</hi> the value of life and how we measure it. --Publisher.', 'documentid': 'id:bookrec:doc::0743273052', 'title': 'Love-Lies-Bleeding'}}, {'id': 'id:bookrec:doc::0875428320', 'relevance': 6.7777109796405295, 'source': 'hybridsearchbv_content', 'fields': {'description': 'Now you can learn from the original, most important source for magic in the Western world that has ever been published, when you get Agrippa\\'s Three <hi>Books</hi> of Occult Philosophy. This massive volume was originally published in 1531, and occultists have been drawing on it ever since. Now, Llewellyn is proud to produce the first complete reprint of the original English translation in the last 500 years. Donald Tyson edited this work and removed the hundreds of errors that appeared in the original translation. He also fully annotated the work, to make it understandable--and usable--by people today. ·Discover what the Renaissance scholar knew <hi>about</hi> astrology, medicine, history, herbs, geography, animals, angels, devils, Witches, charms, the weather, and a host of other subjects ·Gain immediate reference to a vast amount of arcane, but completely annotated, magical material ·Find corrected drawings of seals, sigils, and magic squares, and correctly represented geomantic figures ·Explore the practical Kabbalah, geomancy, the magic squares, the elements, the humors, and the Soul of the World ·Consult the new Biographical dictionary for background on each of the hundreds of writers and historical figures referred to by Agrippa ·Consult the new Geographical Dictionary for data on referenced rivers, mountains, nations, cities--many of which now carry different names. The Three <hi>Books</hi> of Occult Philosophyis the most complete repository of pagan and Neoplatonic magic ever compiled. This book is packed with material you will not find elsewhere, including copious extracts on magic from obscure or lost works by Pythagoras, Ptolemy, Plato, Aristotle, and many others. Tyson\\'s detailed annotations clarify difficult references and provide origins of quotations, even expanding upon them in many cases, in order to make Agrippa\\'s work more accessible to the modern reader. The Three <hi>Books</hi> of Occult Philosophy is the ultimate \"how-to\" for magical workings. It describes how to work all manner of divinations and natural and ceremonial magic in such clear and useful detail that it is still the guidefor modern techniques. The extensive new supplementary material makes this wisdom practical for use today. The Three <hi>Books</hi> of Occult Philosophyis an essential reference tool for all students of the occult. Get your copy today.', 'documentid': 'id:bookrec:doc::0875428320', 'title': 'Three Books of Occult Philosophy'}}, {'id': 'id:bookrec:doc::1840237872', 'relevance': 6.6074426653013125, 'source': 'hybridsearchbv_content', 'fields': {'description': \"Harvey Pekar is a true American original, known by many as the blue-collar Mark Twain. For over 25 years he's been writing comic <hi>books</hi> <hi>about</hi> his life, chronicling the ordinary and everyday in stories both funny and moving.\", 'documentid': 'id:bookrec:doc::1840237872', 'title': \"American Splendor Presents Bob and Harv's Comics\"}}, {'id': 'id:bookrec:doc::0743281594', 'relevance': 6.607079785515419, 'source': 'hybridsearchbv_content', 'fields': {'description': \"What should a wife believe? The words of her husband or the diary of his mistress? From the author of Secret Society comes a tale of <hi>love</hi> and jealousy in which two women struggle to separate fact from fiction. Monica counts her blessings -- she has a husband who is not only devoted to her but is also committed to being a strong, caring father to their twin sons. When Carlos surprises her with an unforgettably <hi>romantic</hi> getaway, Monica knows her husband is still very much in <hi>love</hi> with her -- and she with him. But an unexpected package threatens to change everything Monica's ever believed <hi>about</hi> her husband. Angela has adopted a sex-them-and-leave-them attitude toward the married men she's bedded over the last five years. Then she met Monica's Carlos. Now she will stop at nothing to get him for herself -- even if that means destroying her own life and another woman's family.\", 'documentid': 'id:bookrec:doc::0743281594', 'title': 'Diary of a Mistress'}}, {'id': 'id:bookrec:doc::1790877792', 'relevance': 6.581470456096506, 'source': 'hybridsearchbv_content', 'fields': {'description': 'As the summer of his eighteenth birthday unfolds, Sam Nesbitt finalizes plans to escape his violent abusive father and bleak Jersey Shore town. Although the local police have Sam in their sights for a break-in and theft, he has nimbly avoided arrest, and vows to stay out of trouble. His plans are disrupted when he meets Julie, a pretty, vivacious young woman from the city, who takes an unexpected interest in him. To cement her interest, he tells numerous lies <hi>about</hi> himself, including his acceptance by an Ivy League college. Sam, who has survived by suppressing his feelings and emotions--playing it cool--obsessively pursues her, setting aside his habitual caution, altering his escape plans, and experiencing his first <hi>romantic</hi> <hi>love</hi> and sexual experience, pain and joy in tow.', 'documentid': 'id:bookrec:doc::1790877792', 'title': 'The Perfume Factory'}}, {'id': 'id:bookrec:doc::0006280897', 'relevance': 6.565721309154865, 'source': 'hybridsearchbv_content', 'fields': {'description': \"Lewis' work on the nature of <hi>love</hi> divides <hi>love</hi> into four categories; Affection, Friendship, Eros and Charity. The first three come naturally to humanity. Charity, however, the Gift-<hi>love</hi> of God, is divine, and without this supernatural <hi>love</hi>, the natural <hi>loves</hi> become distorted and even dangerous.\", 'documentid': 'id:bookrec:doc::0006280897', 'title': 'The Four Loves'}}, {'id': 'id:bookrec:doc::0439314550', 'relevance': 6.513949088437958, 'source': 'hybridsearchbv_content', 'fields': {'description': 'From her birth in Chipping Sodbury near Bristol, England, to the stories <hi>about</hi> her favorite teachers, to the funny misunderstanding in her first fan letter, the life of the author of the Harry Potter <hi>books</hi> is revealed. Original. 250,000 first printing.', 'documentid': 'id:bookrec:doc::0439314550', 'title': 'Conversations with J.K. Rowling'}}, {'id': 'id:bookrec:doc::0842383670', 'relevance': 6.44012741031124, 'source': 'hybridsearchbv_content', 'fields': {'description': 'Many <hi>books</hi> have been written <hi>about</hi> the Bible, but few explain its origins. This volume provides a fascinating overview of how the Bible was first inspired, canonized, read as sacred literature, copied in ancient Hebrew and Greek manuscripts, and eventually translated into the languages of the world. No other one-volume work can match this wealth of information <hi>about</hi> the historical development of the Bible.', 'documentid': 'id:bookrec:doc::0842383670', 'title': 'The Origin of the Bible'}}, {'id': 'id:bookrec:doc::0758208456', 'relevance': 6.405307203034106, 'source': 'hybridsearchbv_content', 'fields': {'description': 'Three top romance authors pen irresistible stories <hi>about</hi> bad boys and the women who come to <hi>love</hi> them.', 'documentid': 'id:bookrec:doc::0758208456', 'title': 'Bad Boys Over Easy'}}, {'id': 'id:bookrec:doc::0374280398', 'relevance': 6.334680947915464, 'source': 'hybridsearchbv_content', 'fields': {'description': \"McPhee's <hi>books</hi> are <hi>about</hi> real people in real places. Over the past eight years, McPhee has spent considerable time in the company of people who work in freight transportation. This is his sketchbook of them and of his journeys with them. He rides from Atl\", 'documentid': 'id:bookrec:doc::0374280398', 'title': 'Uncommon Carriers'}}, {'id': 'id:bookrec:doc::0007121024', 'relevance': 6.279068964425285, 'source': 'hybridsearchbv_content', 'fields': {'description': 'Lucy Angkatell Invited Hercule Poirot To Lunch. To Tease The Great Detective, Her Guests Stage A Mock Murder Beside The Swimming Pool. Unfortunately, The Victim Plays The Scene For Real. As His Blood Drips Into The Water, John Christow Gasps One Final Word: Henrietta . In The Confusion, A Gun Sinks To The Bottom Of The Pool. Poirot S Enquiries Reveal A Complex Web Of <hi>Romantic</hi> Attachments. It Seems Everyone In The Drama Is A Suspect And Each A Victim Of <hi>Love</hi>.', 'documentid': 'id:bookrec:doc::0007121024', 'title': 'The Hollow'}}, {'id': 'id:bookrec:doc::0743203313', 'relevance': 6.249940755196118, 'source': 'hybridsearchbv_content', 'fields': {'description': 'With AIDS <hi>about</hi> to claim a well-<hi>loved</hi> young man, three generations of his family are reunited at his bedside in Ireland, in a novel that explores the nature of <hi>love</hi> and the complex interrelationships among family members.', 'documentid': 'id:bookrec:doc::0743203313', 'title': 'The Blackwater Lightship'}}, {'id': 'id:bookrec:doc::0312306180', 'relevance': 6.245634091365988, 'source': 'hybridsearchbv_content', 'fields': {'description': 'A collection of stories <hi>about</hi> children, rapists, businessmen, and adulterers who move in and out of particular <hi>loves</hi> and specific desires.', 'documentid': 'id:bookrec:doc::0312306180', 'title': 'Jenny and the Jaws of Life'}}, {'id': 'id:bookrec:doc::0691019053', 'relevance': 6.194164196166341, 'source': 'hybridsearchbv_content', 'fields': {'description': \"Presents Pushkin's poetic Russian classic <hi>about</hi> the heartless fop who is the object of an ardent young woman's selfless <hi>love</hi>.\", 'documentid': 'id:bookrec:doc::0691019053', 'title': 'EUGENE ONEGIN - A NOVEL IN VERSE V.1'}}, {'id': 'id:bookrec:doc::0375701893', 'relevance': 6.1435356877748255, 'source': 'hybridsearchbv_content', 'fields': {'description': 'Leo Proudhammer, an African American actor, reminisces <hi>about</hi> his past life and <hi>loves</hi>, while lying in the hospital, recovering from a heart attack', 'documentid': 'id:bookrec:doc::0375701893', 'title': \"Tell Me how Long the Train's Been Gone\"}}, {'id': 'id:bookrec:doc::1852339462', 'relevance': 6.125482604151588, 'source': 'hybridsearchbv_content', 'fields': {'description': 'Many <hi>books</hi> have described how the universe became the way it is today. But what <hi>about</hi> the future of the universe? How long might the universe as we recognize it survive? The Future of the Universe takes the reader on a journey through space and time, beginning with a long look at the Earth and solar system, voyaging to the outermost galaxies, and finishing with speculations <hi>about</hi> the life and fate of the entire universe.', 'documentid': 'id:bookrec:doc::1852339462', 'title': 'The Future of the Universe'}}, {'id': 'id:bookrec:doc::006446234X', 'relevance': 6.073718631831952, 'source': 'hybridsearchbv_content', 'fields': {'description': 'The pioneer spirit lives on... Readers around the world know and <hi>love</hi> Laura, the little girl born in the Big Woods of Wisconsin and raised in covered wagons and on wide open prairies. Now Little House fans can learn more <hi>about</hi> \"Half-pint\" in this, the first picture book biography book of Laura Ingalls Wilder. With a simple, glowing text by noted historian and Little House scholar William Anderson, and glorious paintings by Dan Andreasen, Pioneer Girl is a very special portrait of a writer whose classic <hi>books</hi> and poineer adventures have made her one of the most popular literary figures in America. This picture-book biography of Laura Ingalls Wilder tells the remarkable story of the pioneer girl who would one day immortalize her adventures in the beloved Little House <hi>books</hi>. Written in simple, glowing text by noted Little House scholar William Anderson, and illustrated with glorious paintings by artist Dan Andreasen, this wonderful first biography captures the very essence of the little girl called ‘Half-pint,\\' whose classic <hi>books</hi> and pioneer adventures have made her one of the most popular literary figures in America. This picture-book biography of Laura Ingalls Wilder tells the remarkable story of the pioneer girl who would one day immortalize her adventures in the beloved Little House <hi>books</hi>. Written in simple, glowing text by noted Little House scholar William Anderson, and illustrated with glorious paintings by artist Dan Andreasen, this wonderful first biography captures the very essence of the little girl called ‘Half-pint,’ whose classic <hi>books</hi> and pioneer adventures have made her one of the most popular literary figures in America.', 'documentid': 'id:bookrec:doc::006446234X', 'title': 'Pioneer Girl'}}, {'id': 'id:bookrec:doc::0768423481', 'relevance': 6.06752779980828, 'source': 'hybridsearchbv_content', 'fields': {'description': \"Experiencing Father's Embrace is an excellent resource for anyone interested in growing or ministering in the Father's <hi>love</hi> message. The author's style of writing makes this book easy to read, yet it is one of the most thorough and profoundly impacting <hi>books</hi> available on knowing God as a Father.\", 'documentid': 'id:bookrec:doc::0768423481', 'title': \"Experiencing Father's Embrace\"}}, {'id': 'id:bookrec:doc::0873512693', 'relevance': 6.0444569217048105, 'source': 'hybridsearchbv_content', 'fields': {'description': '\"Young Deedee DuGay knew everyone at Fort Snelling in the 1830s ... On an island in the Mississippi, near yet remote, lived Jasper Page, the leading fur trader in the territory ... And although he was far above her in social class, Deedee dared to <hi>love</hi> him. Their story is a rich and <hi>romantic</hi> re-creation of an important time in Minnesota history ... A new introduction compares the fictional Jasper Page to Henry H. Sibley, fur trader and first governor of Minnesota, upon whom the character was based\"--Back cover.', 'documentid': 'id:bookrec:doc::0873512693', 'title': 'Early Candlelight'}}, {'id': 'id:bookrec:doc::0141439513', 'relevance': 5.997818231792474, 'source': 'hybridsearchbv_content', 'fields': {'description': 'In early nineteenth-century England, a spirited young woman copes with the suit of a snobbish gentleman, as well as the <hi>romantic</hi> entanglements of her four sisters.', 'documentid': 'id:bookrec:doc::0141439513', 'title': 'Pride and Prejudice'}}, {'id': 'id:bookrec:doc::0312864744', 'relevance': 5.997818231792474, 'source': 'hybridsearchbv_content', 'fields': {'description': 'A <hi>romantic</hi> tale follows a space swashbuckler and conman as he travels from world to world, plying his trade, drinking in wild bars, and flirting with women', 'documentid': 'id:bookrec:doc::0312864744', 'title': 'Ports of Call'}}, {'id': 'id:bookrec:doc::0440416779', 'relevance': 5.902320199854212, 'source': 'hybridsearchbv_content', 'fields': {'description': 'In this story <hi>about</hi> the perils of popularity, the courage of nonconformity, and the thrill of first <hi>love</hi>, an eccentric student named Stargirl changes Mica High School forever.', 'documentid': 'id:bookrec:doc::0440416779', 'title': 'Stargirl'}}, {'id': 'id:bookrec:doc::0385424701', 'relevance': 5.858706541636802, 'source': 'hybridsearchbv_content', 'fields': {'description': 'The <hi>romantic</hi> adventures of Lucky, Chase, and Sage are presented in one volume relating the entire epic saga of the Tyler Drilling company and the three strong-willed Tyler siblings', 'documentid': 'id:bookrec:doc::0385424701', 'title': 'Texas! Trilogy'}}, {'id': 'id:bookrec:doc::031227999X', 'relevance': 5.811652368449706, 'source': 'hybridsearchbv_content', 'fields': {'description': 'Seeking refuge in the ancient, mouldering home of their ancestors on an island off the coast of Scotland, Effie and her mother, Nora, reveal the secrets of their lives and <hi>loves</hi>, past and present, to each other, in a hilarious novel <hi>about</hi> mothers, daughters, and <hi>love</hi>. Reprint. 25,000 first printing.', 'documentid': 'id:bookrec:doc::031227999X', 'title': 'Emotionally Weird'}}, {'id': 'id:bookrec:doc::0571193781', 'relevance': 5.811652368449706, 'source': 'hybridsearchbv_content', 'fields': {'description': \"A parable <hi>about</hi> <hi>love</hi>, literature and fanaticism. A young university student becomes obsessed with a magical book that delves into the dangerous natures of <hi>love</hi> and self. Abandoning his studies and his family, he goes with the beautiful Janan on a search for the meaning of the book's darker secrets.\", 'documentid': 'id:bookrec:doc::0571193781', 'title': 'The New Life'}}, {'id': 'id:bookrec:doc::0345450698', 'relevance': 5.811055709211109, 'source': 'hybridsearchbv_content', 'fields': {'description': \"Clay Sizemore, a coal miner in <hi>love</hi>, searches his family history for clues <hi>about</hi> who he is, uncovering a dramatic story woven into the fabric of his uncle's quilts.\", 'documentid': 'id:bookrec:doc::0345450698', 'title': \"Clay's Quilt\"}}, {'id': 'id:bookrec:doc::0060975008', 'relevance': 5.799299613557821, 'source': 'hybridsearchbv_content', 'fields': {'description': 'A national bestseller, voted by Time as the #1 novel of 1991, selected as one of the \"Best <hi>Books</hi> of 1991\" by Publishers Weekly, and nominated for a National Book Critics Circle Award--a magnificent story that probes the meaning of <hi>love</hi>, science, music, and art, by the brilliant author of Three Farmers on Their Way to a Dance.', 'documentid': 'id:bookrec:doc::0060975008', 'title': 'Gold Bug Variations'}}, {'id': 'id:bookrec:doc::0671797867', 'relevance': 5.799299613557821, 'source': 'hybridsearchbv_content', 'fields': {'description': 'In a dozen novels and his non-fiction <hi>books</hi> and articles, Harry Crews has shown himself to be a true American original. With Scar Lovers he returns to the familiar, unmistakable \"Crews territory\"--a Southern landscape peopled by quirky, odd, and oddly appealing individuals--to explore the realities of redemption and the power of <hi>love</hi> without boundries of fear.', 'documentid': 'id:bookrec:doc::0671797867', 'title': 'Scar Lover'}}, {'id': 'id:bookrec:doc::006440692X', 'relevance': 5.740756567552838, 'source': 'hybridsearchbv_content', 'fields': {'description': \"The Little House <hi>books</hi> tell the story of a little pioneer girl and her family as they traveled by covered wagon across the Midwest. Laura Ingalls Wilder's classic <hi>books</hi>, illustrated with Garth Williams' timeless artwork, have been cherished by millions of readers ever since they were first published over sixty years ago. This My First Little House Book introduces Almanzo Wilder, the young boy from Farmer Boy who would one day marry Laura Ingalls. In Winter on the Farm, Almanzo goes through his afternoon barn chores, and then sits down to eat a hearty farm supper with his family. In this first book <hi>about</hi> Almanzo, young readers are able to share in the warmth and joy of another Little House family and celebrate new Little House adventures. Winter on the Farm is the first in an ongoing series <hi>about</hi> Laura’s beloved farmer boy.\", 'documentid': 'id:bookrec:doc::006440692X', 'title': 'Winter on the Farm'}}, {'id': 'id:bookrec:doc::0743499263', 'relevance': 5.722570592743049, 'source': 'hybridsearchbv_content', 'fields': {'description': \"An anthology of nineteen short stories <hi>about</hi> family, friendship, and <hi>love</hi> features contributions from such popular Irish women authors as Cecelia Ahern, Patricia Scanlan, Gemma O'Connor, Suzanne Higgins, and Morag Prunty.\", 'documentid': 'id:bookrec:doc::0743499263', 'title': 'Irish Girls Are Back in Town'}}, {'id': 'id:bookrec:doc::0141010371', 'relevance': 5.702142903610689, 'source': 'hybridsearchbv_content', 'fields': {'description': \"The No 1 bestseller I <hi>love</hi> this book. It's the very first thing I ever wrote, and I never thought the person worst at English in my school would end up writing a book. It's largely made up of recipes scribbled on the back of order forms and beer mats, collected together in a black bin liner that my wife almost threw away twice - it's a miracle this book ever came to be! Because of this book, a lot of blokes were henpecked into doing a bit of cooking. Good job too! The salad and pasta recipes are real winners, but the one people still talk <hi>about</hi> all the time is my perfect roast chicken, with its herb butter stuffed right under the skin of the bird. I think one of the best things <hi>about</hi> the recipes in The Naked Chef is that the ingredients are totally accessible. It's the key element to my cooking: simple, quick recipes that can be made by everyone. Happy cooking. <hi>Love</hi>, Jamie O xxx 'Simply brilliant cooking, and Jamie's recipes are a joy' Nigel Slater 'When teenagers start asking for Jamie Oliver's cook <hi>books</hi> as a present, you know the tide has turned' Daily Telegraph\", 'documentid': 'id:bookrec:doc::0141010371', 'title': \"Jamie's Kitchen\"}}, {'id': 'id:bookrec:doc::078680839X', 'relevance': 5.671344702508941, 'source': 'hybridsearchbv_content', 'fields': {'description': \"Introduce your baby to birds, cats, dogs, and babies through fine art, illustration, and photographs. These <hi>books</hi> are a rare opportunity to exopse little ones to a range of images on a single subject, from simple child's drawings and abstract art to playful photos. A brief text accompanies each image, introducing baby to some basic -- and sometimes playful -- information <hi>about</hi> the subjects.\", 'documentid': 'id:bookrec:doc::078680839X', 'title': 'Baby Einstein: Dogs'}}, {'id': 'id:bookrec:doc::0425207757', 'relevance': 5.671344702508941, 'source': 'hybridsearchbv_content', 'fields': {'description': 'Sisters Celeste and Corinne Carson, each a best-selling author with her own fantasy-fulfilling hero, get more than they had bargained for when their \"fictional\" heroes--Jarred, a futuristic conqueror, and Mykhayl, a barbarian warrior of the past--worried <hi>about</hi> being written off, decide to kidnap their authors and imprison them in the seductive worlds that they created in their <hi>books</hi>. Original.', 'documentid': 'id:bookrec:doc::0425207757', 'title': 'Captive Dreams'}}, {'id': 'id:bookrec:doc::0099474425', 'relevance': 5.652244537163535, 'source': 'hybridsearchbv_content', 'fields': {'description': 'When the eligible Earl of Rule offers for the hand of the Beauty of the Winwood Family, he has no notion of the distress he causes his intended. For Miss Lizzie Winwood is promised to the excellent, but impoverished Mr Edward Heron. Disaster can only be averted by the delightful impetuosity of her youngest sister, Horatia, who conceives her own, distinctly original plans ... Fo over fifty years until her death in 1974, Georgette Heyer was the undisputed queen of historical <hi>romantic</hi> fiction, and the The Convenient Marriage shows why she configures to be <hi>loved</hi> by a huge readership to this day.', 'documentid': 'id:bookrec:doc::0099474425', 'title': 'The Convenient Marriage'}}, {'id': 'id:bookrec:doc::0486281221', 'relevance': 5.640660098317556, 'source': 'hybridsearchbv_content', 'fields': {'description': \"This vivid facsimile of Blake's <hi>romantic</hi> and revolutionary publication offers a concise expression of his essential wisdom and philosophy. His distinctive hand-lettered text is accompanied by 27 color plates of his stirring illustrations.\", 'documentid': 'id:bookrec:doc::0486281221', 'title': 'The Marriage of Heaven and Hell'}}, {'id': 'id:bookrec:doc::0553282808', 'relevance': 5.6367397899131895, 'source': 'hybridsearchbv_content', 'fields': {'description': 'Writer Gideon Zadok leaves the glitter of Hollywood for the newly created State of Israel, where he learns much <hi>about</hi> himself and <hi>love</hi> on a dangerous military operation he covers as a war correspondent', 'documentid': 'id:bookrec:doc::0553282808', 'title': 'Mitla Pass'}}, {'id': 'id:bookrec:doc::0786808381', 'relevance': 5.636624745108348, 'source': 'hybridsearchbv_content', 'fields': {'description': \"Introduce your babies to birds, cats, dogs, and babies through fine art, illustration, and photographs. These <hi>books</hi> are a rare opportunity to expose little ones to a range of images on a single subject, from simple child's drawings and abstract art to playful photos. A brief text accompanies each image, introducing the baby to some basic -- and sometimes playful -- information <hi>about</hi> the subjects.\", 'documentid': 'id:bookrec:doc::0786808381', 'title': 'Baby Einstein: Babies'}}, {'id': 'id:bookrec:doc::0743454537', 'relevance': 5.602327311991562, 'source': 'hybridsearchbv_content', 'fields': {'description': 'A popular novel <hi>about</hi> a girl suing her parents because they want her to donate a kidney to her sister was named by the American Library Association as one of the top 10 <hi>books</hi> banned in 2009, with the novel being pulled from the shelves for a host of reasons, including homosexuality, sexually explicit material, religious viewpoint, drugs and suicide. Reprint. A best-selling book.', 'documentid': 'id:bookrec:doc::0743454537', 'title': \"My Sister's Keeper\"}}, {'id': 'id:bookrec:doc::0156001268', 'relevance': 5.5947827110128605, 'source': 'hybridsearchbv_content', 'fields': {'description': 'A new translation of the most famous work of a witty, irreverent Roman poet captures the mischievous spirit of this man of letters who wrote candid poems <hi>about</hi> <hi>love</hi> and suffered a death in exile.', 'documentid': 'id:bookrec:doc::0156001268', 'title': 'The Metamorphoses of Ovid'}}, {'id': 'id:bookrec:doc::0060654856', 'relevance': 5.571323300211944, 'source': 'hybridsearchbv_content', 'fields': {'description': 'Having embraced a life of solitude in his own hermitage, Thomas Merton finds his faith tested beyond his imagination when a visit to the hospital leads to a clandestine affair of the heart. Jolted out of his comfortable routine, Merton is forced to reassess his need for <hi>love</hi> and his commitment to celibacy and the monastic vocation.This astonishing volume traces Merton’s struggle to reconcile his unexpected <hi>love</hi> with his sacred vows while continuing to grapple with the burning social issues of the day – including racial conflicts, the war in Vietnam, and the Arab-Israeli conflict – visiting and corresponding with high-profile friends like Thich Nhat Hanh and Joan Baez, and further developing his writing career. Revealing Merton to be ‘very human’ in his chronicles of the ecstasy and torment of being in <hi>love</hi>, Learning to <hi>Love</hi> comes full circle as Merton recommits himself completely and more deeply to his vocation even as he recognizes ‘my need for <hi>love</hi>, my loneliness, my inner division, the struggle in which solitude is at once a problem and a ‘solution’. And perhaps not a perfect solution either’ (11 May, 1967).', 'documentid': 'id:bookrec:doc::0060654856', 'title': 'Learning to Love'}}, {'id': 'id:bookrec:doc::0571125298', 'relevance': 5.512714911848056, 'source': 'hybridsearchbv_content', 'fields': {'description': 'A tie-in edition to the upcoming Broadway revival of Tom Stoppard\\'s extraordinary play <hi>about</hi> <hi>love</hi> and marriage--the work that has been called \"the most moving play\" (\"The New York Times\") he has ever written.', 'documentid': 'id:bookrec:doc::0571125298', 'title': 'The Real Thing'}}, {'id': 'id:bookrec:doc::0060593636', 'relevance': 5.483349592086046, 'source': 'hybridsearchbv_content', 'fields': {'description': \"In her dazzling <hi>romantic</hi> suspense debut, USA Today bestselling author Suzanne Enoch brings us a thrilling tale <hi>about</hi> a thief who needs to prove she's no murderer and the millionaire who <hi>loves</hi> her. Samantha Jellicoe is a thief and proud of it. Raised to appreciate the finer things in life, Sam has no trouble divesting the wealthy of their treasures. This all changed, however, the night she attempts to steal a valuable item from a Palm Beach estate. Before she knew what hit her, a bomb goes off, a guard is killed, and Sam ends up saving millionaire Richard Addison. She's a good thief and will own up to her jobs, but if anyone thinks to tie her to murder, they better think again. On any other night, having a one hundred plus pounds of female fling herself at you is a good thing. But on this particular night, Richard Addison is mad as hell. Not only did he just have his gallery blown up-with him <hi>about</hi> to enter it-but the woman who rescued him didn't stick around to offer any explanations. When the dust settles, Rick knows the only person with answers to his questions is the mystery woman. And if she thinks she can hide from him, she better think again.\", 'documentid': 'id:bookrec:doc::0060593636', 'title': 'Flirting With Danger'}}, {'id': 'id:bookrec:doc::0399147314', 'relevance': 5.4382615681393816, 'source': 'hybridsearchbv_content', 'fields': {'description': 'Three dramatic tales of <hi>romantic</hi> suspense journey from a Montana ranch to a Virginia horse farm to an island off the coast of Georgia in an omnibus anthology that features True Betrayals, Montana Sky, and Sanctuary. 20,000 first printing.', 'documentid': 'id:bookrec:doc::0399147314', 'title': 'Three Complete Novels'}}, {'id': 'id:bookrec:doc::0802133118', 'relevance': 5.384557812506753, 'source': 'hybridsearchbv_content', 'fields': {'description': '\"It\\'s the women who upset the applecart. Between themselves they talk only <hi>about</hi> the practicalities of life\", declares Duras in this collection of her transcribed conversations with friend Jerome Beaujour. Some of her free-ranging meditations are short and deceptively simple, while many are autobiographical and reveal her most intimate thoughts <hi>about</hi> motherhood, her struggle with alcohol, her <hi>love</hi> for a young man, and more.', 'documentid': 'id:bookrec:doc::0802133118', 'title': 'Practicalities'}}, {'id': 'id:bookrec:doc::0385313616', 'relevance': 5.328209563587672, 'source': 'hybridsearchbv_content', 'fields': {'description': \"Brer Rabbit will never learn! He <hi>loves</hi> to play jokes, tricks and set traps for his friends - but once in a while, they beat him at his own game! These timeless stories of the briar patch trickster are re-told in Blyton's hugely popular and successful style. This collection contains many Brer Rabbit stories from the <hi>books</hi> Enid Blyton's Brer Rabbit Book, Brer Rabbit Again and Brer Rabbit's a Rascal.\", 'documentid': 'id:bookrec:doc::0385313616', 'title': 'Shakespeare A to Z'}}, {'id': 'id:bookrec:doc::068987409X', 'relevance': 5.326255807528971, 'source': 'hybridsearchbv_content', 'fields': {'description': \"Saturdays and Sundays are very special days for the child in this story. On Saturdays, she visits Grandma and Grandpa, who come from a European-American background, and on Sundays -- los domingos -- she visits Abuelito y Abuelita, who are Mexican-American. While the two sets of grandparents are different in many ways, they also have a great deal in common -- in particular, their <hi>love</hi> for their granddaughter. While we follow our narrator to the circus and the pier, share stories from her grandparents' pasts, and celebrate her birthday, the depth and joy of both cultures are conveyed in Spanish and English. This affirmation of both heritages will speak to all children who want to know more <hi>about</hi> their own families and ethnic backgrounds.\", 'documentid': 'id:bookrec:doc::068987409X', 'title': 'I Love Saturdays y domingos'}}, {'id': 'id:bookrec:doc::0064404412', 'relevance': 5.300453683766191, 'source': 'hybridsearchbv_content', 'fields': {'description': '\"Culled from 69 stories collected in a [1930s] WPA project, [these 20] tales are organized into sections with themes like \\'Tricksters\\' or \\'Virtues and Vices,\\' each with a thoughtful introduction placing the individual stories in the context of feelings and background of the original tellers. Yep\\'s telling is vigorous, often poetic, imbued with earthy humor and realism touched with fatalism. A handsomely designed collection.\" —K. Notable Children\\'s <hi>Books</hi> of 1989 (ALA) The USA Through Children\\'s <hi>Books</hi> 1990 (ALA) 1989 Boston Globe–Horn Book Award for Nonfiction 1990 Fanfare Honor List (The Horn Book) 1989 Children\\'s Editors\\' Choices (BL) Notable 1989 Children\\'s Trade <hi>Books</hi> in Social Studies (NCSS/CBC) Children\\'s <hi>Books</hi> of 1989 (Library of Congress) 1989 Children\\'s <hi>Books</hi> (NY Public Library) \"The Best <hi>Books</hi>\" 1989 (Parents Magazine)', 'documentid': 'id:bookrec:doc::0064404412', 'title': 'The Rainbow People'}}, {'id': 'id:bookrec:doc::1401301886', 'relevance': 5.280348473116366, 'source': 'hybridsearchbv_content', 'fields': {'description': 'Tracking down missing persons as a way of purging lingering demons <hi>about</hi> a childhood friend who went missing, Sandy Shortt finds herself increasingly consumed by a growing obsession with understanding how and why people disappear. By the author of PS, I <hi>Love</hi> You.', 'documentid': 'id:bookrec:doc::1401301886', 'title': \"There's No Place Like Here\"}}, {'id': 'id:bookrec:doc::0312143400', 'relevance': 5.230423824819694, 'source': 'hybridsearchbv_content', 'fields': {'description': 'The hilarious, Academy Award-nominated screenplay that features six old friends, three disastrous receptions, a tongue-tied priest, and the role that made Hugh Grant the world\\'s favorite bumbling bachelor. Toasted by <hi>romantics</hi> and cynics, critics and fans, Four Weddings and a Funeral grossed more than $250 million worldwide, garnered Academy Award nominations for Best Picture and Best Original Screenplay, and was unanimously pronounced the <hi>romantic</hi> comedy of the 90s. Richard Curtis\\'s smart, irreverent, and brilliantly crafted screenplay will delight fans of the movie, as well as screenwriters and film students. From the first spoken line to the last (\"I do\"), it\\'s a jubilant celebration of friendship, romance, and good humor.', 'documentid': 'id:bookrec:doc::0312143400', 'title': 'Four Weddings and a Funeral'}}, {'id': 'id:bookrec:doc::0140276904', 'relevance': 5.2296931908426485, 'source': 'hybridsearchbv_content', 'fields': {'description': 'Jemima Jones is overweight. <hi>About</hi> seven stone overweight. Treated like a slave by her thin and bitchy flatmates, lorded over at the Kilburn Herald by the beautiful Geraldine (less talented, better paid), her only consolation is food. That and a passion for her charming, sexy colleague Ben. Her life needs to change and soon. But can Jemima reinvent herself? Should she? A novel <hi>about</hi> attraction, obsession and the meaning of true <hi>love</hi>.', 'documentid': 'id:bookrec:doc::0140276904', 'title': 'Jemima J.'}}, {'id': 'id:bookrec:doc::0316769487', 'relevance': 5.2158049690203185, 'source': 'hybridsearchbv_content', 'fields': {'description': 'The \"brilliant, funny, meaningful novel\" (The New Yorker) that established J. D. Salinger as a leading voice in American literature--and that has instilled in millions of readers around the world a lifelong <hi>love</hi> of <hi>books</hi>. \"If you really want to hear <hi>about</hi> it, the first thing you\\'ll probably want to know is where I was born, and what my lousy childhood was like, and how my parents were occupied and all before they had me, and all that David Copperfield kind of crap, but I don\\'t feel like going into it, if you want to know the truth.\" The hero-narrator of The Catcher in the Rye is an ancient child of sixteen, a native New Yorker named Holden Caufield. Through circumstances that tend to preclude adult, secondhand description, he leaves his prep school in Pennsylvania and goes underground in New York City for three days.', 'documentid': 'id:bookrec:doc::0316769487', 'title': 'The Catcher in the Rye'}}, {'id': 'id:bookrec:doc::1565044045', 'relevance': 5.214270847754326, 'source': 'hybridsearchbv_content', 'fields': {'description': '\"Kick Ass! And Live to Tell <hi>About</hi> It! Some people think the Awakened sit around dreaming <hi>about</hi> Ascension. Wrong. Dead wrong. When reality itself is on the brink of destruction, you don\\'t contemplate your navel. You fight -- and sometimes die -- for the sake of the future. Tales of Magick takes Mage from the realm of abstraction and kicks it screaming into high gear. If you ever wondered how to run an epic, exciting modern sorcery chronicle, Dark Adventure is for you. Indeed, Tales of Magick is an ongoing series of <hi>books</hi> dedicated to playing Mage in a variety of genres and settings. Now your Mage game can go anywhere, anywhen\".', 'documentid': 'id:bookrec:doc::1565044045', 'title': 'Tales of Magick'}}, {'id': 'id:bookrec:doc::0375700269', 'relevance': 5.207185779552056, 'source': 'hybridsearchbv_content', 'fields': {'description': 'Now ailing and surrounded by her children, sixty-five-year-old Ann Grant Lord reminisces <hi>about</hi> a glorious summer weekend some forty years earlier during which she met and lost the <hi>love</hi> of her life. By the author of Folly. 100,000 first printing. Tour.', 'documentid': 'id:bookrec:doc::0375700269', 'title': 'Evening'}}, {'id': 'id:bookrec:doc::0061120065', 'relevance': 5.186283678429522, 'source': 'hybridsearchbv_content', 'fields': {'description': \"One of the most important works of twentieth-century American literature, Zora Neale Hurston's beloved 1937 classic, Their Eyes Were Watching God, is an enduring Southern <hi>love</hi> story sparkling with wit, beauty, and heartfelt wisdom. Told in the captivating voice of a woman who refuses to live in sorrow, bitterness, fear, or foolish <hi>romantic</hi> dreams, it is the story of fair-skinned, fiercely independent Janie Crawford, and her evolving selfhood through three marriages and a life marked by poverty, trials, and purpose. A true literary wonder, Hurston's masterwork remains as relevant and affecting today as when it was first published -- perhaps the most widely read and highly regarded novel in the entire canon of African American literature.\", 'documentid': 'id:bookrec:doc::0061120065', 'title': 'Their Eyes Were Watching God'}}, {'id': 'id:bookrec:doc::0821775502', 'relevance': 5.1713594897168935, 'source': 'hybridsearchbv_content', 'fields': {'description': 'This is the second title in a new trilogy <hi>about</hi> three noble vampires entrusted with the protection of their kind who discover that human desire is far from lost to them and that <hi>love</hi> may be the only thing they long for more than life everlasting.', 'documentid': 'id:bookrec:doc::0821775502', 'title': 'My Lord Eternity'}}, {'id': 'id:bookrec:doc::1419954482', 'relevance': 5.168382996180334, 'source': 'hybridsearchbv_content', 'fields': {'description': \"Allergic to <hi>Love</hi> By Anna J. Evans Marcus Ashton is a werewolf searching for his one true mate. He's had his share of fantasies <hi>about</hi> the perfect woman, but none of them involved severe canine allergies or a colleague out to get him fired. Ella Bradley has had enough of controlling men and no amount of chemistry is going to change her mind, especially when she suspects the dangerously handsome Marcus of slipping libido-enhancing drugs into her cocoa. These two would-be lovers have less than twelve hours to clear up a major biological roadblock and a little human misunderstanding, or they may find themselves permanently allergic to <hi>love</hi>. Blind Date By Elisa Adams Ruthie Ryan has been unlucky in <hi>love</hi>. Her recent dates have all been complete disasters. There's only one man she's ever met who really gets her - but he's out of the question. He's her best friend. Mike wants more than friendship with Ruthie, but she doesn't believe him. Sick of waiting for her to take him seriously, he sets up a night of pure <hi>romantic</hi> fantasy in the guise of a blind date. He knows what she wants and he plans to use the knowledge to his advantage. They belong together and he has one night touse every sensual weapon in his arsenal to prove it. Eclipse By Denise A Agnew New Orleans.Halloween. A blood red eclipse will cover this night. . . Dawn went to the Den of Wolves, certain she could save her wayward sister from immortality. She knew only one man could help her-Niall Machaire. The man her sister had <hi>loved</hi> and left ten years ago. Something isn't quite right <hi>about</hi> Niall, but she isn't certain what it is. . . What is he? Dawn feared the primal, unstoppable craving she experienced for the gorgeous man. When he saves her life, and she awakens naked in his bed, she discovers his help may cost an immortal price. Genesis By B.J. McCall The deadly Purge has passed. Dr. Tria Anara and four young women are all that is left of the Zyrai people. Without compatible male seed, the Zyrai race is doomed to\", 'documentid': 'id:bookrec:doc::1419954482', 'title': \"Ellora's Cavemen\"}}, {'id': 'id:bookrec:doc::0747569134', 'relevance': 5.150700885972729, 'source': 'hybridsearchbv_content', 'fields': {'description': \"Welcome back to maths class at Wayside School. How much is PEPPERS + PIG LIPS? If Jenny's shirt has sparkles on it, will Todd have egg in his hair? These Sideways Arithmetic problems may look puzzling at first, but you can use real maths to solve them, and the answers are perfectly logical. Three are lots of clues and hints, plus all the answers are right there in the book. Best of all the children you have read <hi>about</hi> in the other <hi>books</hi> <hi>about</hi> Wayside School are here to help you! Try solving the brainteasers in this book, along with Mrs Jewls and the children from her class, and maths will be a dream!\", 'documentid': 'id:bookrec:doc::0747569134', 'title': 'More Sideways Arithmetic from Wayside School'}}, {'id': 'id:bookrec:doc::0395706742', 'relevance': 5.137194458843058, 'source': 'hybridsearchbv_content', 'fields': {'description': 'Three unforgettable Brautigan masterpieces reissued in a one-volume omnibus edition. REVENGE OF THE LAWN: Originally published in 1971, these bizarre flashes of insight and humor cover everything from \"A High Building in Singapore\" to the \"Perfect California Day.\" This is Brautigan\\'s only collection of stories and includes \"The Lost Chapters of TROUT FISHING IN AMERICA.\" THE ABORTION: AN HISTORICAL ROMANCE 1966: A public library in California where none of the <hi>books</hi> have ever been published is full of <hi>romantic</hi> possibilities. But when the librarian and his girlfriend must travel to Tijuana, they have a series of strange encounters in Brautigan\\'s 1971 novel. SO THE WIND WON\\'T BLOW IT ALL AWAY: It is 1979, and a man is recalling the events of his twelfth summer, when he bought bullets for his gun instead of a hamburger. Written just before his death, and published in 1982, this novel foreshadowed Brautigan\\'s suicide.', 'documentid': 'id:bookrec:doc::0395706742', 'title': 'Revenge of the Lawn'}}, {'id': 'id:bookrec:doc::0060739428', 'relevance': 5.112472653352482, 'source': 'hybridsearchbv_content', 'fields': {'description': 'Originally published: [New York]: Clarion <hi>Books</hi>, 1994.', 'documentid': 'id:bookrec:doc::0060739428', 'title': 'Catherine, Called Birdy (Summer Reading Edition)'}}, {'id': 'id:bookrec:doc::006085409X', 'relevance': 5.092982281599067, 'source': 'hybridsearchbv_content', 'fields': {'description': \"She thought her date was out of this world. Actually, he was not of this world . . . We've all been on bad dates, nightmare dates, dreadful experiences that turned out to be uniquely memorable in the very worst way. But at least our partners for these detestable evenings were more or less . . . human! Now Kim Harrison, Lynsay Sands, Kelley Armstrong, and Lori Handeland -- four of the very best writers currently exploring the dangerous seduction of the supernatural -- offer up dating disasters (and unexpected delights) of a completely different sort: dark, wicked, paranormally sensual assignations with werewolves, demon lovers, and the <hi>romantically</hi> challenged undead. Sexy, witty, chilling, and altogether remarkable, here is proof positive that some <hi>love</hi> matches are made someplace other than heaven.\", 'documentid': 'id:bookrec:doc::006085409X', 'title': 'Dates From Hell'}}, {'id': 'id:bookrec:doc::0099474395', 'relevance': 5.025179929878688, 'source': 'hybridsearchbv_content', 'fields': {'description': \"A witty and enthralling Regency romance by one of the best-known and most beloved historical novelists. The legend of the Headless Horseman and a proposed marriage de convenance both have their impact on the mystery of a golden talisman ring and Lord Lavenham's young heir, Ludovic. Neither Sir Tristram Shield nor Eustacie, his young French cousin, share the slightest inclination to marry one another, yet it is Lord Lavenham's dying wish. For there is no one else to provide for the old man's granddaughter while Ludovic remains a fugitive from justice ... Yet again Georgette Heyer shows the qualities that made her one of the most successful and best-<hi>loved</hi> <hi>romantic</hi> novelists of her age, and why her popularity endures to this day.\", 'documentid': 'id:bookrec:doc::0099474395', 'title': 'The Talisman Ring'}}, {'id': 'id:bookrec:doc::159308269X', 'relevance': 5.021760636125121, 'source': 'hybridsearchbv_content', 'fields': {'description': \"From the Publisher: Western philosophy starts with Socrates and his student Plato. By way of the dialectic that evolved between master and student, Plato invented the philosophical method of inquiry and analysis, and became the first to use a logical framework to ask-and try to answer-the eternal questions <hi>about</hi> ethics, politics, art, and life that still haunt humanity. Along with such exemplars of Plato's thought as Symposium, Apology, and Phaedrus, this volume includes the first three <hi>books</hi> of Plato's Laws.\", 'documentid': 'id:bookrec:doc::159308269X', 'title': 'Essential Dialogues of Plato'}}, {'id': 'id:bookrec:doc::0373510055', 'relevance': 4.999376838071098, 'source': 'hybridsearchbv_content', 'fields': {'description': '\"New York Times\" bestselling author Nora Roberts offers a holiday romance <hi>about</hi> a wealthy businessman who retreats to a rural area to get away from women. However, his gracious, persistent--and beautiful--neighbor has something he just cannot ignore. Together, they discover that <hi>love</hi> is the greatest Christmas gift of all.', 'documentid': 'id:bookrec:doc::0373510055', 'title': 'First Impressions'}}, {'id': 'id:bookrec:doc::0415970237', 'relevance': 4.983488587122923, 'source': 'hybridsearchbv_content', 'fields': {'description': 'This study follows the aesthetic of the sublime from Burke and Kant, through Wordsworth and the Shelleys, into Thackeray, Dickens, Eliot and Hardy. Exploring the continuities between the <hi>romantic</hi> and Victorian \"periods\" that have so often been rather read as differences, the book demonstrate that the sublime mode enables the transition from a paradigm of overwhelming power exemplified by the body of the king to the pervasive power of surveillance utilized by the rising middle classes. While the domestic woman connected with the rise of the middle class is normally seen as beautiful, the book contends that the moral authority given to this icon of depth and interiority is actually sublime. The binary of the beautiful and the sublime seeks to contain the sublimity of womanhood by insisting on sublimity\\'s masculine character. This is the book\\'s most important claim: rather than exemplifying masculine strength, the sublime marks the transition to a system of power gendered as feminine and yet masks that transition because it fears the power it ostensibly accords to the feminine. This aesthetic is both an inheritance the Victorians receive from their <hi>romantic</hi> predecessors, and, more importantly, a broad historical phenomenon that questions the artificial boundaries between <hi>romantic</hi> and Victorian.', 'documentid': 'id:bookrec:doc::0415970237', 'title': 'Diana Wynne Jones'}}, {'id': 'id:bookrec:doc::0898706831', 'relevance': 4.960958270548643, 'source': 'hybridsearchbv_content', 'fields': {'description': 'It is generally agreed among his foes no less than among his friends that Ignatius of Loyola was a maker of history. A hundred <hi>books</hi> could be cited in proof of this statement, but the aim of this classic work is rather to show history and the grace of God forming the person of St. Ignatius. In this definitive biographical work, Fr. Brodrick combines scholarly research with a readable, enjoyable style in a book that endeavors to show the stages by which God led the wounded cavalier out of his dream-world of <hi>romantic</hi> battles in the service of fair ladies into the noontide of divine reality. \"The Pilgrimage,\" as he liked to call the difficult period of his spiritual apprenticeship, began when he was thirty and lasted for seventeen years of endless and often very moving trials. Out of it emerged a man completely transformed in Christ, one of the great saints in the history of the Church. Includes maps and index.', 'documentid': 'id:bookrec:doc::0898706831', 'title': 'Saint Ignatius Loyola'}}, {'id': 'id:bookrec:doc::0060882603', 'relevance': 4.954492540795039, 'source': 'hybridsearchbv_content', 'fields': {'description': \"Charlotte's Web, one of America's best-<hi>loved</hi> children's <hi>books</hi>, is seamless in plot, poignant in its delineation of characters who will live in children's literature forever, and written with a seeming ease and fluency that make the reading as engrossing as it is effortless. The Annotated Charlotte's Web opens the door to the creator's workshop and allows the reader to glance over the shoulder of one of the most exacting and fastidious American writers, watching as he forms his masterpiece.\", 'documentid': 'id:bookrec:doc::0060882603', 'title': \"The Annotated Charlotte's Web\"}}, {'id': 'id:bookrec:doc::0060652853', 'relevance': 4.852921599548609, 'source': 'hybridsearchbv_content', 'fields': {'description': \"Known throughout the world as the intellect behind The Chronicles of Narnia and as the twentieth century's most influential Christian writer, C. S. Lewis has stirred millions of readers through his probing insights, passionate arguments, and provocative questions <hi>about</hi> God, <hi>love</hi>, life, and death. Gathered from the mass of his published works -- including The Screwtape Letters, Mere Christianity, The Four <hi>Loves</hi>, and God in the Dock -- as well as from letters, essays, and less familiar writings, this compendium contains a cross section of Lewis's finest work.\", 'documentid': 'id:bookrec:doc::0060652853', 'title': 'C.S. Lewis'}}, {'id': 'id:bookrec:doc::0060920645', 'relevance': 4.8394321830575295, 'source': 'hybridsearchbv_content', 'fields': {'description': \"A stunning collection of Annie Dillard's most popular <hi>books</hi> in one volume.\", 'documentid': 'id:bookrec:doc::0060920645', 'title': 'Three by Annie Dillard'}}, {'id': 'id:bookrec:doc::0064405710', 'relevance': 4.837303922117908, 'source': 'hybridsearchbv_content', 'fields': {'description': \"Increasingly alienated from his widowed father, Vernon joins his friends in ridiculing the neighborhood outcasts'Maxine, an alcoholic prone to outrageous behavior, and Ronald, her retarded son. But when a social service agency tries to put Ronald into a special home, Vernon fights against the move. 1994 Newbery Honor Book Notable Children's <hi>Books</hi> of 1994 (ALA) 1994 Best <hi>Books</hi> for Young Adults (ALA) 1994 Young Adult Editors' Choices (BL) 1994 <hi>Books</hi> for the Teen Age (NY Public Library) Young Adult Choices for 1995 (IRA)\", 'documentid': 'id:bookrec:doc::0064405710', 'title': 'Crazy Lady!'}}, {'id': 'id:bookrec:doc::0312369344', 'relevance': 4.778801399180867, 'source': 'hybridsearchbv_content', 'fields': {'description': \"Peter Rabbit, Mr. McGregor, and many other Beatrix Potter characters remain in the hearts of millions. However, though Potter is a household name around the world, few know the woman behind the illustrations. Her personal life, including a <hi>romantic</hi> relationship with her publisher, Norman Warne, and her significant achievements outside of children's literature remain largely unknown. In Linda Lear's enchanting new biography, we get the life story of this incredible, funny, and independent woman. As one of the first female naturalists in the world, Potter brought the beauty and importance of nature back into the imagination at a time when plunder was more popular than preservation. Through her art she sought to encourage conservation and change the world. With never before seen illustrations and intimate detail, Lear goes beyond our perrenial fascination with Potter as a writer and illustrator of children's <hi>books</hi>, and delves deeply into the life of a most unusual and gifted woman--one whose art was timeless, and whose generosity left an indelible imprint on the countryside.\", 'documentid': 'id:bookrec:doc::0312369344', 'title': 'Beatrix Potter'}}, {'id': 'id:bookrec:doc::0140449779', 'relevance': 4.771110696823123, 'source': 'hybridsearchbv_content', 'fields': {'description': 'The Baron des Canolles is a man torn apart by the civil war that dominates mid-seventeenth century France. For while the na�ve Gascon soldier cares little for the politics behind the battles, he is torn apart by a deep passion for two powerful women on opposing sides of the war: Nanon de Lartigues, a keen supporter of the Queen Regent Anne of Austria, and the Victomtesse de Cambes, who supports the rebellious forces of the Princess de Cond�. Set around Bordeaux during the first turbulent years of the reign of Louis XIV, The Women�s War sees two women taking central stage in a battle for all France. Humorous, dramatic and <hi>romantic</hi>, it offers a compelling exploration of political intrigue, the power of redemption, the force of <hi>love</hi> and the futility of war.', 'documentid': 'id:bookrec:doc::0140449779', 'title': \"The Women's War\"}}, {'id': 'id:bookrec:doc::1590302257', 'relevance': 4.7375276564359545, 'source': 'hybridsearchbv_content', 'fields': {'description': 'Written around the 6th century BC, The Art of War is one of the oldest <hi>books</hi> <hi>about</hi> war and military strategy, and probably the best. For more than two thousand years, Sun-tzu\\'s \"The Art of War\" has provided leaders with essential advice on battlefield tactics, managing troops and terrain, and employing cunning and deception. Above all, it teaches how, when battles commences, to think on your feet and catch your enemy off guard. An elemental part of Chinese culture, it has also become a touchstone for the Western struggle for survival and success.', 'documentid': 'id:bookrec:doc::1590302257', 'title': 'The Art of War'}}, {'id': 'id:bookrec:doc::0060934549', 'relevance': 4.712435235553384, 'source': 'hybridsearchbv_content', 'fields': {'description': \"Every Tongue Got to Confess is an extensive volume of African American folklore that Zora Neale Hurston collected on her travels through the Gulf States in the late 1920s. The bittersweet and often hilarious tales -- which range from longer narratives <hi>about</hi> God, the Devil, white folk, and mistaken identity to witty one-liners -- reveal attitudes <hi>about</hi> faith, <hi>love</hi>, family, slavery, race, and community. Together, this collection of nearly 500 folktales weaves a vibrant tapestry that celebrates African American life in the rural South and represents a major part of Zora Neale Hurston's literary legacy.\", 'documentid': 'id:bookrec:doc::0060934549', 'title': 'Every Tongue Got to Confess'}}]}}\n"
     ]
    }
   ],
   "source": [
    "with app.syncio(connections=12) as session:\n",
    "    response: VespaQueryResponse = session.query(\n",
    "        hits=10,\n",
    "        body={\n",
    "            \"yql\": \"select documentid, cord_uid, title, description, abstract from sources * where userQuery() LIMIT 100\",\n",
    "            \"query\": \"books about romantic love\",\n",
    "            \"ranking.profile\": \"bm25\",\n",
    "            \"presentation.timing\": True,\n",
    "        },\n",
    "    )\n",
    "    print(response.json)"
   ]
  },
  {
   "cell_type": "code",
   "execution_count": 93,
   "metadata": {},
   "outputs": [
    {
     "name": "stdout",
     "output_type": "stream",
     "text": [
      "Excel file 'books.xlsx' created successfully.\n"
     ]
    }
   ],
   "source": [
    "# Assuming response_boy_talk_animals is a VespaQueryResponse object\n",
    "response_json = response.json\n",
    "\n",
    "# Extracting data\n",
    "data = []\n",
    "for item in response_json['root']['children']:\n",
    "    title = item['fields']['title']\n",
    "    description = item['fields']['description']\n",
    "    binary = ''  # Empty value for the binary column\n",
    "    score = ''   # Empty value for the score column\n",
    "    data.append([title, description, binary, score])\n",
    "\n",
    "# Creating a DataFrame\n",
    "df = pd.DataFrame(data, columns=['title', 'description', 'binary', 'score'])\n",
    "\n",
    "# Saving to Excel\n",
    "df.to_excel('books_romantic_love.xlsx', index=False)\n",
    "\n",
    "print(\"Excel file 'books.xlsx' created successfully.\")"
   ]
  },
  {
   "cell_type": "code",
   "execution_count": 94,
   "metadata": {},
   "outputs": [
    {
     "name": "stdout",
     "output_type": "stream",
     "text": [
      "{'timing': {'querytime': 0.023, 'summaryfetchtime': 0.038, 'searchtime': 0.063}, 'root': {'id': 'toplevel', 'relevance': 1.0, 'fields': {'totalCount': 535}, 'coverage': {'coverage': 100, 'documents': 6483, 'full': True, 'nodes': 1, 'results': 1, 'resultsFull': 1}, 'children': [{'id': 'id:bookrec:doc::034547760X', 'relevance': 10.775374560786519, 'source': 'hybridsearchbv_content', 'fields': {'description': 'A comprehensive overview of alien beings from the \"Star <hi>Wars</hi>\" universe provides a physical description of the beings, a description of their homeworld, and where and when they appeared in the Star <hi>Wars</hi> films, novels, cartoon series, comic <hi>books</hi>, or videogames.', 'documentid': 'id:bookrec:doc::034547760X', 'title': 'Star Wars'}}, {'id': 'id:bookrec:doc::1590302257', 'relevance': 10.740315546590772, 'source': 'hybridsearchbv_content', 'fields': {'description': 'Written around the 6th century BC, The Art of <hi>War</hi> is one of the oldest <hi>books</hi> <hi>about</hi> <hi>war</hi> and military strategy, and probably the best. For more than two thousand years, Sun-tzu\\'s \"The Art of <hi>War</hi>\" has provided leaders with essential advice on battlefield tactics, managing troops and terrain, and employing cunning and deception. Above all, it teaches how, when battles commences, to think on your feet and catch your enemy off guard. An elemental part of Chinese culture, it has also become a touchstone for the Western struggle for survival and success.', 'documentid': 'id:bookrec:doc::1590302257', 'title': 'The Art of War'}}, {'id': 'id:bookrec:doc::0345449002', 'relevance': 10.099764507686922, 'source': 'hybridsearchbv_content', 'fields': {'description': \"A who's who of the popular series provides profiles of the most important characters from the Star <hi>Wars</hi> movies, <hi>books</hi>, comics, TV specials, and games, and spotlights individuals from the films of episodes I and II.\", 'documentid': 'id:bookrec:doc::0345449002', 'title': 'Star Wars'}}, {'id': 'id:bookrec:doc::0571207995', 'relevance': 9.496587757723571, 'source': 'hybridsearchbv_content', 'fields': {'description': 'Robert Ross, a sensitive nineteen-year-old Canadian officer, went to <hi>war</hi> - the <hi>War</hi> to End All <hi>Wars</hi>. He found himself in the nightmare world of trench warfare; of mud and smoke, of chlorine gas and rotting corpses. In this world gone mad, Robert Ross performed a last desperate act to declare his commitment to life in the midst of death.The <hi>Wars</hi> is quite simply one of the best novels ever written <hi>about</hi> the First World <hi>War</hi>.', 'documentid': 'id:bookrec:doc::0571207995', 'title': 'The Wars'}}, {'id': 'id:bookrec:doc::0688085873', 'relevance': 8.295712936107497, 'source': 'hybridsearchbv_content', 'fields': {'description': \"Despite the numerous <hi>books</hi> on World <hi>War</hi> II, until now there has been no one-volume survey that was both objective and comprehensive. Previous volumes have usually been written from an exclusively British or American point of view, or have ignored the important causes and consequences of the <hi>War</hi>. A Short History of World <hi>War</hi> II is essentially a military history, but it reaches from the peace settlements of World <hi>War</hi> I to the drastically altered postwar world of the late 1940's. Lucidly written and eminently readable, it is factual and accurate enough to satisfy professional historians. A Short History of World <hi>War</hi> II will appeal equally to the general reader, the veteran who fought in the <hi>War</hi>, and the student interested in understanding the contemporary political world.\", 'documentid': 'id:bookrec:doc::0688085873', 'title': 'A Short History of World War II'}}, {'id': 'id:bookrec:doc::0787976385', 'relevance': 8.237935447285343, 'source': 'hybridsearchbv_content', 'fields': {'description': 'In yet another page-turner, New York Times best-selling author and acclaimed management expert Patrick Lencioni addresses the costly and maddening issue of silos, the barriers that create organizational politics. Silos devastate organizations, kill productivity, push good people out the door, and jeopardize the achievement of corporate goals. As with his other <hi>books</hi>, Lencioni writes Silos, Politics, and Turf <hi>Wars</hi> as a fictional—but eerily realistic—story. The story is <hi>about</hi> Jude Cousins, an eager young management consultant struggling to launch his practice by solving one of the more universal and frustrating problems faced by his clients. Through trial and error, he develops a simple yet ground-breaking approach for helping them transform confusion and infighting into clarity and alignment.', 'documentid': 'id:bookrec:doc::0787976385', 'title': 'Silos, Politics and Turf Wars'}}, {'id': 'id:bookrec:doc::0971316821', 'relevance': 7.622522185882612, 'source': 'hybridsearchbv_content', 'fields': {'description': 'Photography and historical information <hi>about</hi> the places and faces featured in the Betsy-Tacy Deep Valley <hi>books</hi>. Includes a removable map containing a walking or driving tour of the locations featured in the <hi>books</hi>, bibliographies of <hi>books</hi> by Maud Hart Lovelace, a list of characters and their real-life counterparts, and a membership application for the Betsy-Tacy Society.', 'documentid': 'id:bookrec:doc::0971316821', 'title': \"Maud Hart Lovelace's Deep Valley\"}}, {'id': 'id:bookrec:doc::1569719624', 'relevance': 7.03455920605577, 'source': 'hybridsearchbv_content', 'fields': {'description': 'The Clone <hi>Wars</hi> have begun! Ever since they were mentioned in the very first Star <hi>Wars</hi> film, fans have been dying to know more. Attack of the Clones offered a glimpse, but \"The Defense of Kamino\" brings the galaxy-wide conflict into full view! Two undercover Jedi discover a Separatist plan to destroy the cloning facility on the watery world of Kamino, thus crippling the Republic\\'s ability to maintain their clone army. Obi-Wan Kenobi and Anakin Skywalker are part of a Jedi fighter squadron sent to protect the installation, but they learn that there are heroes fighting for the Separatist cause as well as for the Republic, and that Jango Fett, though dead, still has something to say <hi>about</hi> how this <hi>war</hi> is fought! Meanwhile, Mace Windu, the leader of the Jedi Council, must deal with a rift in the Jedi ranks--a matter that reveals a Jedi traitor and a new Dark Jedi working in league with Dooku. Mace is considered one of the best swordsmen in the galaxy, but can he stand up to the swordmaster who taught him everything he knows--including the mysterious techinque known as \"Vaapad\"? New characters and new worlds are revealed as the Clone <hi>Wars</hi> spreads throughout the galaxy! This volume collects Star <hi>Wars</hi>: Republic #49-50 and Star <hi>Wars</hi>: Jedi -- Mace Windu', 'documentid': 'id:bookrec:doc::1569719624', 'title': 'Star Wars: Clone Wars Volume 1 - The Defense of Kamino'}}, {'id': 'id:bookrec:doc::0345463056', 'relevance': 6.983843180686657, 'source': 'hybridsearchbv_content', 'fields': {'description': 'With a <hi>war</hi> between the Killiks and Chiss threatening to engulf the entire galaxy, Luke Skywalker makes a desperate attempt to prevent <hi>war</hi> by venturing deep into hostile territory to undermine the <hi>war</hi>-making capabilities of all the combatants.', 'documentid': 'id:bookrec:doc::0345463056', 'title': 'The Swarm War'}}, {'id': 'id:bookrec:doc::0875428320', 'relevance': 6.7777109796405295, 'source': 'hybridsearchbv_content', 'fields': {'description': 'Now you can learn from the original, most important source for magic in the Western world that has ever been published, when you get Agrippa\\'s Three <hi>Books</hi> of Occult Philosophy. This massive volume was originally published in 1531, and occultists have been drawing on it ever since. Now, Llewellyn is proud to produce the first complete reprint of the original English translation in the last 500 years. Donald Tyson edited this work and removed the hundreds of errors that appeared in the original translation. He also fully annotated the work, to make it understandable--and usable--by people today. ·Discover what the Renaissance scholar knew <hi>about</hi> astrology, medicine, history, herbs, geography, animals, angels, devils, Witches, charms, the weather, and a host of other subjects ·Gain immediate reference to a vast amount of arcane, but completely annotated, magical material ·Find corrected drawings of seals, sigils, and magic squares, and correctly represented geomantic figures ·Explore the practical Kabbalah, geomancy, the magic squares, the elements, the humors, and the Soul of the World ·Consult the new Biographical dictionary for background on each of the hundreds of writers and historical figures referred to by Agrippa ·Consult the new Geographical Dictionary for data on referenced rivers, mountains, nations, cities--many of which now carry different names. The Three <hi>Books</hi> of Occult Philosophyis the most complete repository of pagan and Neoplatonic magic ever compiled. This book is packed with material you will not find elsewhere, including copious extracts on magic from obscure or lost works by Pythagoras, Ptolemy, Plato, Aristotle, and many others. Tyson\\'s detailed annotations clarify difficult references and provide origins of quotations, even expanding upon them in many cases, in order to make Agrippa\\'s work more accessible to the modern reader. The Three <hi>Books</hi> of Occult Philosophy is the ultimate \"how-to\" for magical workings. It describes how to work all manner of divinations and natural and ceremonial magic in such clear and useful detail that it is still the guidefor modern techniques. The extensive new supplementary material makes this wisdom practical for use today. The Three <hi>Books</hi> of Occult Philosophyis an essential reference tool for all students of the occult. Get your copy today.', 'documentid': 'id:bookrec:doc::0875428320', 'title': 'Three Books of Occult Philosophy'}}, {'id': 'id:bookrec:doc::0679760237', 'relevance': 6.763573595170383, 'source': 'hybridsearchbv_content', 'fields': {'description': 'The author recalls his experiences during the Vietnam <hi>war</hi>, reminiscing <hi>about</hi> his service in the Mekong Delta, his feelings <hi>about</hi> the miltary life, and the impact of the Vietnam experience on his life', 'documentid': 'id:bookrec:doc::0679760237', 'title': \"In Pharaoh's Army\"}}, {'id': 'id:bookrec:doc::0826414753', 'relevance': 6.752825865773475, 'source': 'hybridsearchbv_content', 'fields': {'description': 'A brilliant idea--short, perceptive <hi>books</hi> which tell you what you need to know <hi>about</hi> some of the most vibrant and challenging writing around today--a bit like having a reading group in your pocket. IAN RANKIN', 'documentid': 'id:bookrec:doc::0826414753', 'title': \"Gabriel Garcia Marquez's Love in the Time of Cholera\"}}, {'id': 'id:bookrec:doc::1580495869', 'relevance': 6.724924948489997, 'source': 'hybridsearchbv_content', 'fields': {'description': \"As he faces battle in the Civil <hi>War</hi> for the first time, a young Union soldier comes to grips with his fear and conflicting emotions <hi>about</hi> <hi>war</hi>. This edition includes Crane's short sequel, The veteran.\", 'documentid': 'id:bookrec:doc::1580495869', 'title': 'The Red Badge of Courage'}}, {'id': 'id:bookrec:doc::1840237872', 'relevance': 6.6074426653013125, 'source': 'hybridsearchbv_content', 'fields': {'description': \"Harvey Pekar is a true American original, known by many as the blue-collar Mark Twain. For over 25 years he's been writing comic <hi>books</hi> <hi>about</hi> his life, chronicling the ordinary and everyday in stories both funny and moving.\", 'documentid': 'id:bookrec:doc::1840237872', 'title': \"American Splendor Presents Bob and Harv's Comics\"}}, {'id': 'id:bookrec:doc::0439314550', 'relevance': 6.513949088437958, 'source': 'hybridsearchbv_content', 'fields': {'description': 'From her birth in Chipping Sodbury near Bristol, England, to the stories <hi>about</hi> her favorite teachers, to the funny misunderstanding in her first fan letter, the life of the author of the Harry Potter <hi>books</hi> is revealed. Original. 250,000 first printing.', 'documentid': 'id:bookrec:doc::0439314550', 'title': 'Conversations with J.K. Rowling'}}, {'id': 'id:bookrec:doc::0141306394', 'relevance': 6.49085233575045, 'source': 'hybridsearchbv_content', 'fields': {'description': 'Doug and his sister are <hi>about</hi> to meet the Beasties, a family of beings with <hi>war</hi> on their minds--against the human race', 'documentid': 'id:bookrec:doc::0141306394', 'title': 'The Beasties'}}, {'id': 'id:bookrec:doc::0842383670', 'relevance': 6.44012741031124, 'source': 'hybridsearchbv_content', 'fields': {'description': 'Many <hi>books</hi> have been written <hi>about</hi> the Bible, but few explain its origins. This volume provides a fascinating overview of how the Bible was first inspired, canonized, read as sacred literature, copied in ancient Hebrew and Greek manuscripts, and eventually translated into the languages of the world. No other one-volume work can match this wealth of information <hi>about</hi> the historical development of the Bible.', 'documentid': 'id:bookrec:doc::0842383670', 'title': 'The Origin of the Bible'}}, {'id': 'id:bookrec:doc::0374280398', 'relevance': 6.334680947915464, 'source': 'hybridsearchbv_content', 'fields': {'description': \"McPhee's <hi>books</hi> are <hi>about</hi> real people in real places. Over the past eight years, McPhee has spent considerable time in the company of people who work in freight transportation. This is his sketchbook of them and of his journeys with them. He rides from Atl\", 'documentid': 'id:bookrec:doc::0374280398', 'title': 'Uncommon Carriers'}}, {'id': 'id:bookrec:doc::0192833987', 'relevance': 6.334291883713867, 'source': 'hybridsearchbv_content', 'fields': {'description': 'Presents the classic epic of the Napoleonic <hi>Wars</hi> and their effects on four Russian families', 'documentid': 'id:bookrec:doc::0192833987', 'title': 'War and Peace'}}, {'id': 'id:bookrec:doc::0375760644', 'relevance': 6.30266777674796, 'source': 'hybridsearchbv_content', 'fields': {'description': 'The monumental Russian classic reflects the life and times of Russian society during the Napoleonic <hi>War</hi>.', 'documentid': 'id:bookrec:doc::0375760644', 'title': 'War and Peace'}}, {'id': 'id:bookrec:doc::0141185163', 'relevance': 6.219510424437036, 'source': 'hybridsearchbv_content', 'fields': {'description': \"Including Homage to Catalonia, Orwell's profound experience of fighting in the Spanish Civil <hi>War</hi>, this title also contains Orwell's essays, letters and pamphlets, which show his resolution to tell the truth <hi>about</hi> the <hi>war</hi> amid a crop of lies from both the Communist Party and the British Press.\", 'documentid': 'id:bookrec:doc::0141185163', 'title': 'Orwell in Spain'}}, {'id': 'id:bookrec:doc::1852339462', 'relevance': 6.125482604151588, 'source': 'hybridsearchbv_content', 'fields': {'description': 'Many <hi>books</hi> have described how the universe became the way it is today. But what <hi>about</hi> the future of the universe? How long might the universe as we recognize it survive? The Future of the Universe takes the reader on a journey through space and time, beginning with a long look at the Earth and solar system, voyaging to the outermost galaxies, and finishing with speculations <hi>about</hi> the life and fate of the entire universe.', 'documentid': 'id:bookrec:doc::1852339462', 'title': 'The Future of the Universe'}}, {'id': 'id:bookrec:doc::0449001172', 'relevance': 6.099542276523686, 'source': 'hybridsearchbv_content', 'fields': {'description': \"A haunting, unforgettable novel <hi>about</hi> an orphaned boy and his gallant aunt, and how, assuming false identities, they survive the horrors of <hi>war</hi>. Louis Begley's extraordinary novel is a work of wisdom and lyric power <hi>about</hi> the complex, terrifying process of growing up when the adult world has become insane.\", 'documentid': 'id:bookrec:doc::0449001172', 'title': 'Wartime Lies'}}, {'id': 'id:bookrec:doc::0395877431', 'relevance': 6.046088536983278, 'source': 'hybridsearchbv_content', 'fields': {'description': 'Draws on recent discoveries <hi>about</hi> human evolution to examine whether violence among men is a product of their primitive heritage, and searches for solutions to the problems of <hi>war</hi>, rape, and murder', 'documentid': 'id:bookrec:doc::0395877431', 'title': 'Demonic Males'}}, {'id': 'id:bookrec:doc::0307290468', 'relevance': 6.01417923943141, 'source': 'hybridsearchbv_content', 'fields': {'description': '\"Foote\\'s comprehensive history of the Civil <hi>War</hi> includes three compelling volumes: Fort Sumter to Perryville, Fredericksburg to Meridian, and Red River to Appomattox\"--Publisher description.', 'documentid': 'id:bookrec:doc::0307290468', 'title': 'The Civil War'}}, {'id': 'id:bookrec:doc::0140449779', 'relevance': 5.974275175620601, 'source': 'hybridsearchbv_content', 'fields': {'description': 'The Baron des Canolles is a man torn apart by the civil <hi>war</hi> that dominates mid-seventeenth century France. For while the na�ve Gascon soldier cares little for the politics behind the battles, he is torn apart by a deep passion for two powerful women on opposing sides of the <hi>war</hi>: Nanon de Lartigues, a keen supporter of the Queen Regent Anne of Austria, and the Victomtesse de Cambes, who supports the rebellious forces of the Princess de Cond�. Set around Bordeaux during the first turbulent years of the reign of Louis XIV, The Women�s <hi>War</hi> sees two women taking central stage in a battle for all France. Humorous, dramatic and romantic, it offers a compelling exploration of political intrigue, the power of redemption, the force of love and the futility of <hi>war</hi>.', 'documentid': 'id:bookrec:doc::0140449779', 'title': \"The Women's War\"}}, {'id': 'id:bookrec:doc::0060736259', 'relevance': 5.9559337858554535, 'source': 'hybridsearchbv_content', 'fields': {'description': 'Fifteen years ago Francesca Lia Block made a dazzling entrance into the literary scene with what would become one of the most talked-<hi>about</hi> <hi>books</hi> of the decade: Weetzie Bat. This poetic roller coaster swoop has a sleek new design to match its new sister and brother <hi>books</hi>, Goat Girls and Beautiful Boys. Rediscover the magic of Weetzie Bat, Ms. Blocks sophisticated, slinkster-cool love song to L.A.the book that shattered the standard, captivated readers of all generations, and made Francesca Lia Block one of the most heralded authors of the last decade.', 'documentid': 'id:bookrec:doc::0060736259', 'title': 'Weetzie Bat'}}, {'id': 'id:bookrec:doc::0553282808', 'relevance': 5.955405403468461, 'source': 'hybridsearchbv_content', 'fields': {'description': 'Writer Gideon Zadok leaves the glitter of Hollywood for the newly created State of Israel, where he learns much <hi>about</hi> himself and love on a dangerous military operation he covers as a <hi>war</hi> correspondent', 'documentid': 'id:bookrec:doc::0553282808', 'title': 'Mitla Pass'}}, {'id': 'id:bookrec:doc::0143036351', 'relevance': 5.890573020534042, 'source': 'hybridsearchbv_content', 'fields': {'description': \"Throughout history, some <hi>books</hi> have changed the world. They have transformed the way we see ourselves—and each other. They have inspired debate, dissent, <hi>war</hi> and revolution. They have enlightened, outraged, provoked and comforted. They have enriched lives—and destroyed them. Now, Penguin brings you the works of the great thinkers, pioneers, radicals and visionaries whose ideas shook civilization, and helped make us who we are. Penguin's Great Ideas series features twelve groundbreaking works by some of history's most prodigious thinkers, and each volume is beautifully packaged with a unique type-drive design that highlights the bookmaker's art. Offering great literature in great packages at great prices, this series is ideal for those readers who want to explore and savor the Great Ideas that have shaped the world. Whether puncturing the lies of politicians, wittily dissecting the English character or telling unpalatable truths <hi>about</hi> <hi>war</hi>, Orwell's timeless, uncompromising essays are more relevant, entertaining and essential than ever in today's era of spin.\", 'documentid': 'id:bookrec:doc::0143036351', 'title': 'Why I Write'}}, {'id': 'id:bookrec:doc::006183307X', 'relevance': 5.86740232101163, 'source': 'hybridsearchbv_content', 'fields': {'description': 'An extremely entertaining compendium of bon mots, anecdotes, and trivia <hi>about</hi> Winston Churchill from a leading Churchill lecturer and performer -- useful for speakers, students, of history, and World <hi>War</hi> II buffs, as well as general readers.', 'documentid': 'id:bookrec:doc::006183307X', 'title': 'The Wit and Wisdom of Winston Churchill'}}, {'id': 'id:bookrec:doc::1585004286', 'relevance': 5.8017756820514155, 'source': 'hybridsearchbv_content', 'fields': {'description': 'vejk represents one of the most unique and successful survival strategies ever conceived by man. Joseph Heller said that if it weren\\'t for his having read The Good Soldier vejk he would never had written his American novel Catch-22. The only Czech book on most 100 Best <hi>Books</hi> of the 20th Century lists. This is a new translation by Zdenek K. Sadlon and Emmett M. Joyce. The Good Soldier vejk is a picaresque series of tales <hi>about</hi> an ordinary man\\'s successful quest to survive, and to enjoy life in the face of the endless absurdities imposed on him by the effects of the complex institutions of modern society that magnify the rational and moral shortcomings of individuals in direct proportion to their positions in the hierarchies they are a part of. \"Like Diogenes, vejk lingers at the margins of an unfriendly society against which he is defending his independent existence.\" - Peter Steiner \"Those people who wanted the novel banned in the newly independent Czechoslovakia (after World <hi>War</hi> I) and elsewhere, some of whom succeeded, were quite correct to see it as more than a satire on <hi>war</hi> and militarism (although it is that, as well, of course) the book is a very funny but unrelentingly savage assault on the very idea of bureaucratic officialdom as a human enterprise conferring benefits on those who live under its control and, equally important, on the various justifications such bureaucracies offer for their own existence.\" - Ian Johnston', 'documentid': 'id:bookrec:doc::1585004286', 'title': 'The Fateful Adventures of the Good Soldier Švejk During the World War, Book One'}}, {'id': 'id:bookrec:doc::0851621813', 'relevance': 5.7604760019519095, 'source': 'hybridsearchbv_content', 'fields': {'description': '(Boosey & Hawkes Scores/<hi>Books</hi>). Contains the material from <hi>books</hi> 1, 2 and 3', 'documentid': 'id:bookrec:doc::0851621813', 'title': 'The Complete Theory Fun Factory'}}, {'id': 'id:bookrec:doc::006440692X', 'relevance': 5.740756567552838, 'source': 'hybridsearchbv_content', 'fields': {'description': \"The Little House <hi>books</hi> tell the story of a little pioneer girl and her family as they traveled by covered wagon across the Midwest. Laura Ingalls Wilder's classic <hi>books</hi>, illustrated with Garth Williams' timeless artwork, have been cherished by millions of readers ever since they were first published over sixty years ago. This My First Little House Book introduces Almanzo Wilder, the young boy from Farmer Boy who would one day marry Laura Ingalls. In Winter on the Farm, Almanzo goes through his afternoon barn chores, and then sits down to eat a hearty farm supper with his family. In this first book <hi>about</hi> Almanzo, young readers are able to share in the warmth and joy of another Little House family and celebrate new Little House adventures. Winter on the Farm is the first in an ongoing series <hi>about</hi> Laura’s beloved farmer boy.\", 'documentid': 'id:bookrec:doc::006440692X', 'title': 'Winter on the Farm'}}, {'id': 'id:bookrec:doc::0345477383', 'relevance': 5.739500394196109, 'source': 'hybridsearchbv_content', 'fields': {'description': \"Luke Skywalker is learning <hi>about</hi> the Force while Han Solo struggles with the decision to join the Rebel Alliance, Leia helps run the rebellion while dealing with her feelings for Han, and Mara Jade is doing the Emperor's dirty work.\", 'documentid': 'id:bookrec:doc::0345477383', 'title': 'Star Wars'}}, {'id': 'id:bookrec:doc::0345431103', 'relevance': 5.673998480886768, 'source': 'hybridsearchbv_content', 'fields': {'description': 'The complete screenplay for the latest \"Star <hi>Wars</hi>\" motion picture, which tells the story of Darth Vader\\'s youth, includes reproductions of storyboards from the director\\'s studio', 'documentid': 'id:bookrec:doc::0345431103', 'title': 'Star Wars, Episode I'}}, {'id': 'id:bookrec:doc::0425207757', 'relevance': 5.671344702508941, 'source': 'hybridsearchbv_content', 'fields': {'description': 'Sisters Celeste and Corinne Carson, each a best-selling author with her own fantasy-fulfilling hero, get more than they had bargained for when their \"fictional\" heroes--Jarred, a futuristic conqueror, and Mykhayl, a barbarian warrior of the past--worried <hi>about</hi> being written off, decide to kidnap their authors and imprison them in the seductive worlds that they created in their <hi>books</hi>. Original.', 'documentid': 'id:bookrec:doc::0425207757', 'title': 'Captive Dreams'}}, {'id': 'id:bookrec:doc::078680839X', 'relevance': 5.671344702508941, 'source': 'hybridsearchbv_content', 'fields': {'description': \"Introduce your baby to birds, cats, dogs, and babies through fine art, illustration, and photographs. These <hi>books</hi> are a rare opportunity to exopse little ones to a range of images on a single subject, from simple child's drawings and abstract art to playful photos. A brief text accompanies each image, introducing baby to some basic -- and sometimes playful -- information <hi>about</hi> the subjects.\", 'documentid': 'id:bookrec:doc::078680839X', 'title': 'Baby Einstein: Dogs'}}, {'id': 'id:bookrec:doc::0786808381', 'relevance': 5.636624745108348, 'source': 'hybridsearchbv_content', 'fields': {'description': \"Introduce your babies to birds, cats, dogs, and babies through fine art, illustration, and photographs. These <hi>books</hi> are a rare opportunity to expose little ones to a range of images on a single subject, from simple child's drawings and abstract art to playful photos. A brief text accompanies each image, introducing the baby to some basic -- and sometimes playful -- information <hi>about</hi> the subjects.\", 'documentid': 'id:bookrec:doc::0786808381', 'title': 'Baby Einstein: Babies'}}, {'id': 'id:bookrec:doc::0743454537', 'relevance': 5.602327311991562, 'source': 'hybridsearchbv_content', 'fields': {'description': 'A popular novel <hi>about</hi> a girl suing her parents because they want her to donate a kidney to her sister was named by the American Library Association as one of the top 10 <hi>books</hi> banned in 2009, with the novel being pulled from the shelves for a host of reasons, including homosexuality, sexually explicit material, religious viewpoint, drugs and suicide. Reprint. A best-selling book.', 'documentid': 'id:bookrec:doc::0743454537', 'title': \"My Sister's Keeper\"}}, {'id': 'id:bookrec:doc::0345449029', 'relevance': 5.575645803169979, 'source': 'hybridsearchbv_content', 'fields': {'description': \"An ultimate Star <hi>Wars</hi> fan's guide to the spacecraft and vehicles that put Luke Skywalker and his companions in the driver's seat profiles such ships as the Millennium Falcon, the Tie- and X-Wing fighters, and the Death Stars, and has been updated to include new full-color artwork, as well as entries from The Phantom Menace, Attack of the Clones, and more. Original.\", 'documentid': 'id:bookrec:doc::0345449029', 'title': 'Star Wars'}}, {'id': 'id:bookrec:doc::0375706364', 'relevance': 5.406581564933958, 'source': 'hybridsearchbv_content', 'fields': {'description': 'Demonstrating that the decisive \"Seven Years\\' <hi>War</hi>\" changed the balance of power between the British and French in North America, the author argues that this conflict destroyed the delicate balance of power that gave Native people a voice in the affairs of the continent while creating an \"American generation.\" Reprint. 25,00 first printing.', 'documentid': 'id:bookrec:doc::0375706364', 'title': 'Crucible of War'}}, {'id': 'id:bookrec:doc::0064404412', 'relevance': 5.300453683766191, 'source': 'hybridsearchbv_content', 'fields': {'description': '\"Culled from 69 stories collected in a [1930s] WPA project, [these 20] tales are organized into sections with themes like \\'Tricksters\\' or \\'Virtues and Vices,\\' each with a thoughtful introduction placing the individual stories in the context of feelings and background of the original tellers. Yep\\'s telling is vigorous, often poetic, imbued with earthy humor and realism touched with fatalism. A handsomely designed collection.\" —K. Notable Children\\'s <hi>Books</hi> of 1989 (ALA) The USA Through Children\\'s <hi>Books</hi> 1990 (ALA) 1989 Boston Globe–Horn Book Award for Nonfiction 1990 Fanfare Honor List (The Horn Book) 1989 Children\\'s Editors\\' Choices (BL) Notable 1989 Children\\'s Trade <hi>Books</hi> in Social Studies (NCSS/CBC) Children\\'s <hi>Books</hi> of 1989 (Library of Congress) 1989 Children\\'s <hi>Books</hi> (NY Public Library) \"The Best <hi>Books</hi>\" 1989 (Parents Magazine)', 'documentid': 'id:bookrec:doc::0064404412', 'title': 'The Rainbow People'}}, {'id': 'id:bookrec:doc::1845203348', 'relevance': 5.298324059206923, 'source': 'hybridsearchbv_content', 'fields': {'description': 'There are few philosophers today cool enough to be referenced in the Matrix, interesting enough to be mentioned on Six Feet Under, and popular enough to get over 606,000 hits on Google. Jean Baudrillard has succeeded in all of this and more. Now, in his latest book, Baudrillard presents his most popular themes--symbolic exchange, hyper-reality, technology and <hi>war</hi>--and applies them to the current global conflict between \"the West and the Rest\", including Islam. Ultimately, it is not simply <hi>about</hi> the <hi>war</hi> against terror but <hi>about</hi> the bigger picture of capitalism versus everything else. This book serves as the summation of Baudrillard\\'s work over the last twenty years and is the essential analysis of the fundamental conflict of our time.', 'documentid': 'id:bookrec:doc::1845203348', 'title': 'The Intelligence of Evil or the Lucidity Pact'}}, {'id': 'id:bookrec:doc::0345494768', 'relevance': 5.24821939747116, 'source': 'hybridsearchbv_content', 'fields': {'description': \"Coinciding with the thirtieth anniversary of the first Star <hi>Wars</hi> film and including long-lost interviews and photos, a work written by a Lucasfilm staff member reveals the challenges and dramas behind the movie's creation.\", 'documentid': 'id:bookrec:doc::0345494768', 'title': 'The Making of Star Wars'}}, {'id': 'id:bookrec:doc::1565044045', 'relevance': 5.214270847754326, 'source': 'hybridsearchbv_content', 'fields': {'description': '\"Kick Ass! And Live to Tell <hi>About</hi> It! Some people think the Awakened sit around dreaming <hi>about</hi> Ascension. Wrong. Dead wrong. When reality itself is on the brink of destruction, you don\\'t contemplate your navel. You fight -- and sometimes die -- for the sake of the future. Tales of Magick takes Mage from the realm of abstraction and kicks it screaming into high gear. If you ever wondered how to run an epic, exciting modern sorcery chronicle, Dark Adventure is for you. Indeed, Tales of Magick is an ongoing series of <hi>books</hi> dedicated to playing Mage in a variety of genres and settings. Now your Mage game can go anywhere, anywhen\".', 'documentid': 'id:bookrec:doc::1565044045', 'title': 'Tales of Magick'}}, {'id': 'id:bookrec:doc::0747569134', 'relevance': 5.150700885972729, 'source': 'hybridsearchbv_content', 'fields': {'description': \"Welcome back to maths class at Wayside School. How much is PEPPERS + PIG LIPS? If Jenny's shirt has sparkles on it, will Todd have egg in his hair? These Sideways Arithmetic problems may look puzzling at first, but you can use real maths to solve them, and the answers are perfectly logical. Three are lots of clues and hints, plus all the answers are right there in the book. Best of all the children you have read <hi>about</hi> in the other <hi>books</hi> <hi>about</hi> Wayside School are here to help you! Try solving the brainteasers in this book, along with Mrs Jewls and the children from her class, and maths will be a dream!\", 'documentid': 'id:bookrec:doc::0747569134', 'title': 'More Sideways Arithmetic from Wayside School'}}, {'id': 'id:bookrec:doc::0060739428', 'relevance': 5.112472653352482, 'source': 'hybridsearchbv_content', 'fields': {'description': 'Originally published: [New York]: Clarion <hi>Books</hi>, 1994.', 'documentid': 'id:bookrec:doc::0060739428', 'title': 'Catherine, Called Birdy (Summer Reading Edition)'}}, {'id': 'id:bookrec:doc::006446234X', 'relevance': 5.05672622828377, 'source': 'hybridsearchbv_content', 'fields': {'description': 'The pioneer spirit lives on... Readers around the world know and love Laura, the little girl born in the Big Woods of Wisconsin and raised in covered wagons and on wide open prairies. Now Little House fans can learn more <hi>about</hi> \"Half-pint\" in this, the first picture book biography book of Laura Ingalls Wilder. With a simple, glowing text by noted historian and Little House scholar William Anderson, and glorious paintings by Dan Andreasen, Pioneer Girl is a very special portrait of a writer whose classic <hi>books</hi> and poineer adventures have made her one of the most popular literary figures in America. This picture-book biography of Laura Ingalls Wilder tells the remarkable story of the pioneer girl who would one day immortalize her adventures in the beloved Little House <hi>books</hi>. Written in simple, glowing text by noted Little House scholar William Anderson, and illustrated with glorious paintings by artist Dan Andreasen, this wonderful first biography captures the very essence of the little girl called ‘Half-pint,\\' whose classic <hi>books</hi> and pioneer adventures have made her one of the most popular literary figures in America. This picture-book biography of Laura Ingalls Wilder tells the remarkable story of the pioneer girl who would one day immortalize her adventures in the beloved Little House <hi>books</hi>. Written in simple, glowing text by noted Little House scholar William Anderson, and illustrated with glorious paintings by artist Dan Andreasen, this wonderful first biography captures the very essence of the little girl called ‘Half-pint,’ whose classic <hi>books</hi> and pioneer adventures have made her one of the most popular literary figures in America.', 'documentid': 'id:bookrec:doc::006446234X', 'title': 'Pioneer Girl'}}, {'id': 'id:bookrec:doc::1400076811', 'relevance': 5.0470232957649515, 'source': 'hybridsearchbv_content', 'fields': {'description': 'Blending elements of reminiscence and cultural commentary, the award-winning author of Motherless Brooklyn presents a series of imaginative essays that address a wide range of cultural obsessions, in such works as \"Defending The Searchers,\" \"Identifying with Your Parents,\" and \"13/1977/21,\" <hi>about</hi> the summer he saw Star <hi>Wars</hi> twenty-one times. Reprint. 17,500 first printing.', 'documentid': 'id:bookrec:doc::1400076811', 'title': 'The Disappointment Artist'}}, {'id': 'id:bookrec:doc::159308269X', 'relevance': 5.021760636125121, 'source': 'hybridsearchbv_content', 'fields': {'description': \"From the Publisher: Western philosophy starts with Socrates and his student Plato. By way of the dialectic that evolved between master and student, Plato invented the philosophical method of inquiry and analysis, and became the first to use a logical framework to ask-and try to answer-the eternal questions <hi>about</hi> ethics, politics, art, and life that still haunt humanity. Along with such exemplars of Plato's thought as Symposium, Apology, and Phaedrus, this volume includes the first three <hi>books</hi> of Plato's Laws.\", 'documentid': 'id:bookrec:doc::159308269X', 'title': 'Essential Dialogues of Plato'}}, {'id': 'id:bookrec:doc::0340774770', 'relevance': 4.990192801087899, 'source': 'hybridsearchbv_content', 'fields': {'description': 'This text uses a source-based approach to study the origins of World <hi>War</hi> II. Activities and end-of-chapter questions are pitched at Intermediate level 1 and 2, and exam structure and extended-response questions are also covered.', 'documentid': 'id:bookrec:doc::0340774770', 'title': 'The Road to War, 1933-1939'}}, {'id': 'id:bookrec:doc::0312965680', 'relevance': 4.978522040052697, 'source': 'hybridsearchbv_content', 'fields': {'description': 'Inspector Ian Rutledge is quickly sent to investigate the sudden deaths of three members of the same eminent Cornwall family, but the World <hi>War</hi> I veteran soon realizes that nothing <hi>about</hi> this case is routine. Including the identity of one of the dead, a reclusive spinster unmasked as O. A. Manning, whose <hi>war</hi> poetry helped Rutledge retain his grasp on sanity in the trenches of France. Guided by the voice of Hamish, the Scot he unwillingly executed on the battlefield, Rutledge is driven to uncover the haunting truths of murder and madness rooted in a family crypt...', 'documentid': 'id:bookrec:doc::0312965680', 'title': 'Wings of Fire'}}, {'id': 'id:bookrec:doc::0976072610', 'relevance': 4.967997323487137, 'source': 'hybridsearchbv_content', 'fields': {'description': \"This complete edition of Caesar's Commentaries contains all eight of Caesar's <hi>books</hi> on the Gallic <hi>War</hi> as well as all three of his <hi>books</hi> on the Civil <hi>War</hi> masterfully translated into English by W. A. MacDevitt. Caesar's Commentaries are an outstanding account of extraordinary events by one of the most exceptional men in the history of the world. Julius Caesar himself was one of the most eminent writers of the age in which he lived. His commentaries on the Gallic and Civil <hi>Wars</hi> are written with a purity, precision, and perspicuity, which command approbation. They are elegant without affectation, and beautiful without ornament. Of the two <hi>books</hi> which he composed on Analogy, and those under the title of Anti-Cato, scarcely any fragment is preserved; but we may be assured of the justness of the observations on language, which were made by an author so much distinguished by the excellence of his own compositions. His poem entitled The Journey, which was probably an entertaining narrative, is likewise totally lost. All of Caesar's works that remain intact are contained in this edition of his commentaries. It is to the honor of Caesar, that when he had obtained the supreme power, he exercised it with a degree of moderation beyond what was generally expected by those who had fought on the side of the Republic. His time was almost entirely occupied with public affairs, in the management of which, though he employed many agents, he appears to have had none in the character of actual minister. Caesar deprecated a lingering death, and wished that his own might be sudden and speedy. And the day before he died, the conversation at supper, in the house of Marcus Lepidus, turning upon what wasthe most eligible way of dying, he gave his opinion in favor of a death that is sudden and unexpected. He died in the fifty-sixth year of his age, and was ranked amongst the Gods.\", 'documentid': 'id:bookrec:doc::0976072610', 'title': \"Caesar's Commentaries\"}}, {'id': 'id:bookrec:doc::1439117012', 'relevance': 4.936638730181123, 'source': 'hybridsearchbv_content', 'fields': {'description': 'Henry V is Shakespeare\\'s most famous \"<hi>war</hi> play\"; it includes the storied English victory over the French at Agincourt. Some of it glorifies <hi>war</hi>, especially the choruses and Henry\\'s speeches urging his troops into battle. But we also hear bishops conniving for <hi>war</hi> to postpone a bill that would tax the church, and soldiers expecting to reap profits from the conflict. Even in the speeches of Henry and his nobles, there are many chilling references to the human cost of <hi>war</hi>. The authoritative edition of Henry V from The Folger Shakespeare Library, the trusted and widely used Shakespeare series for students and general readers, is now available as an eBook. Features include: · The exact text of the printed book for easy cross-reference · Hundreds of hypertext links for instant navigation · Freshly edited text based on the best early printed version of the play · Full explanatory notes conveniently placed on pages facing the text of the play · Scene-by-scene plot summaries · A key to famous lines and phrases · An introduction to reading Shakespeare’s language · Illustrations from the Folger Shakespeare Library’s vast holdings of rare <hi>books</hi> · An essay by a leading Shakespeare scholar providing a modern perspective on the play', 'documentid': 'id:bookrec:doc::1439117012', 'title': 'Henry V'}}, {'id': 'id:bookrec:doc::1101177357', 'relevance': 4.8430941571691415, 'source': 'hybridsearchbv_content', 'fields': {'description': \"While best known for such novels as his monumental Moby-Dick, Herman Melville was also an extraordinarily gifted poet. This is the most complete anthology of Melville’s poetry ever published in a single volume. It features a large selection from Battle-Pieces and Aspects of the <hi>War</hi>, along with Melville’s own notes and prose supplement; cantos from all four <hi>books</hi> of Clarel: A Poem and Pilgrimage in the Holy Land; selections from Melville’s later <hi>books</hi>, Timoleon, John Marr and Other Sailors, and Weeds and Wildings, Chiefly, with a Rose or Two; as well as a number of his powerful and lesserknown uncollected poems. This volume will usher in a new appreciation for Melville’s poetic gifts. Includes a new introduction to Melville's life and later career as a poet during the Civil <hi>War</hi> and Gilded Age, as well as notes and suggestions for further reading. For more than seventy years, Penguin has been the leading publisher of classic literature in the English-speaking world. With more than 1,700 titles, Penguin Classics represents a global bookshelf of the best works throughout history and across genres and disciplines. Readers trust the series to provide authoritative texts enhanced by introductions and notes by distinguished scholars and contemporary authors, as well as up-to-date translations by award-winning translators.\", 'documentid': 'id:bookrec:doc::1101177357', 'title': 'Selected Poems (Melville, Herman)'}}, {'id': 'id:bookrec:doc::0060920645', 'relevance': 4.8394321830575295, 'source': 'hybridsearchbv_content', 'fields': {'description': \"A stunning collection of Annie Dillard's most popular <hi>books</hi> in one volume.\", 'documentid': 'id:bookrec:doc::0060920645', 'title': 'Three by Annie Dillard'}}, {'id': 'id:bookrec:doc::0806128941', 'relevance': 4.837835811841804, 'source': 'hybridsearchbv_content', 'fields': {'description': \"Ovid's Metamorphosesis a weaving-together of classical myths, extending in time from the creation of the world to the death of Julius Caesar. This volume provides the Latin text of the first five <hi>books</hi> of the poem and the most detailed commentary available in English of these <hi>books</hi>.\", 'documentid': 'id:bookrec:doc::0806128941', 'title': \"Ovid's Metamorphoses\"}}, {'id': 'id:bookrec:doc::0064405710', 'relevance': 4.837303922117908, 'source': 'hybridsearchbv_content', 'fields': {'description': \"Increasingly alienated from his widowed father, Vernon joins his friends in ridiculing the neighborhood outcasts'Maxine, an alcoholic prone to outrageous behavior, and Ronald, her retarded son. But when a social service agency tries to put Ronald into a special home, Vernon fights against the move. 1994 Newbery Honor Book Notable Children's <hi>Books</hi> of 1994 (ALA) 1994 Best <hi>Books</hi> for Young Adults (ALA) 1994 Young Adult Editors' Choices (BL) 1994 <hi>Books</hi> for the Teen Age (NY Public Library) Young Adult Choices for 1995 (IRA)\", 'documentid': 'id:bookrec:doc::0064405710', 'title': 'Crazy Lady!'}}, {'id': 'id:bookrec:doc::0140446044', 'relevance': 4.7017695781585855, 'source': 'hybridsearchbv_content', 'fields': {'description': \"In 1572 Montaigne retired to his estates in order to devote himself to leisure, reading and reflection. There he wrote his constantly expanding 'essays', inspired by the ideas he found in <hi>books</hi> from his library and his own experience. He discusses subjects as diverse as <hi>war</hi>-horses and cannibals, poetry and politics, sex and religion, love and friendship, ecstasy and experience. Above all, Montaigne studied himself to find his own inner nature and that of humanity. The Essays are among the most idiosyncratic and personal works in all literature. An insight into a wise Renaissance mind, they continue to engage, enlighten and entertain modern readers.\", 'documentid': 'id:bookrec:doc::0140446044', 'title': 'The Complete Essays'}}, {'id': 'id:bookrec:doc::0811201120', 'relevance': 4.691718562284096, 'source': 'hybridsearchbv_content', 'fields': {'description': \"Some of the most rewarding pages in Henry Miller's <hi>books</hi> concern his self-education as a writer. He tells, as few great writers ever have, how he set his goals, how he discovered the excitement of using words, how the <hi>books</hi> he read influenced him, and how he learned to draw on his own experience.\", 'documentid': 'id:bookrec:doc::0811201120', 'title': 'Henry Miller on Writing'}}, {'id': 'id:bookrec:doc::0811213765', 'relevance': 4.689385674616453, 'source': 'hybridsearchbv_content', 'fields': {'description': 'Federico Garcia Lorca was born in Spain in 1898 and executed in 1936, during the Spanish Civil <hi>War</hi>. The notion of \"duende\"--a demonic earth spirit--became a fixation of Lorca\\'s poetics over the course of his career. This book gathers Lorca\\'s writings <hi>about</hi> the duende, and a full bilingual sampling of his poetry also is included, with special attention to poems arising from traditional Spanish verse forms.', 'documentid': 'id:bookrec:doc::0811213765', 'title': 'In Search of Duende'}}, {'id': 'id:bookrec:doc::0618056998', 'relevance': 4.673050600827091, 'source': 'hybridsearchbv_content', 'fields': {'description': 'Selected letters discuss his <hi>books</hi>, their meanings, his interests and also reveal his view of the world.', 'documentid': 'id:bookrec:doc::0618056998', 'title': 'The Letters of J.R.R. Tolkien'}}, {'id': 'id:bookrec:doc::0805420436', 'relevance': 4.673050600827091, 'source': 'hybridsearchbv_content', 'fields': {'description': 'A collection of letters from the English author of the Narnia <hi>books</hi> to a variety of children.', 'documentid': 'id:bookrec:doc::0805420436', 'title': 'Letters to Children'}}, {'id': 'id:bookrec:doc::0691019622', 'relevance': 4.671562093541972, 'source': 'hybridsearchbv_content', 'fields': {'description': 'The two <hi>books</hi> comprised in this volume are in greater demand than any other works of Kierkegaard. This preference is a credit to the public taste, for Kierkegaard himself called them \"the most perfect <hi>books</hi> I have written,\" though in this commendation he included The Concept of Dread, and later stretched it to include Training in Christianity.', 'documentid': 'id:bookrec:doc::0691019622', 'title': 'Fear and Trembling'}}, {'id': 'id:bookrec:doc::0007162995', 'relevance': 4.664379638653269, 'source': 'hybridsearchbv_content', 'fields': {'description': \"Perhaps the best book to emerge from the Vietnam <hi>War</hi> -- reissued alongside five other jewels of the Flamingo backlist from the 1970s. First published in1973, this intensely personal novel <hi>about</hi> one foot soldier's tour of duty in Vietnam established Tim O'Brien's reputation as the outstanding chronicler of the Vietnam experience for a generation of Americans. From basic training to the front line and back again, he takes the reader on an unforgettable journey -- walking the minefields of My Lai, fighting the heat and the snipers in an alien land, crawling into the ghostly tunnels -- as he explores the ambiguities of manhood and morality in a <hi>war</hi> no one believes in.\", 'documentid': 'id:bookrec:doc::0007162995', 'title': 'If I Die in a Combat Zone'}}, {'id': 'id:bookrec:doc::067121148X', 'relevance': 4.6332275543330015, 'source': 'hybridsearchbv_content', 'fields': {'description': \"Writing for an adult audience, the popular children's book author presents a humorous satire of alphabet <hi>books</hi>.\", 'documentid': 'id:bookrec:doc::067121148X', 'title': \"Uncle Shelby'S Abz Book\"}}, {'id': 'id:bookrec:doc::0316853690', 'relevance': 4.6332275543330015, 'source': 'hybridsearchbv_content', 'fields': {'description': 'Two novels in one volume from horror writer Stephen King. The <hi>books</hi> contained are Dead Zone and Cujo.', 'documentid': 'id:bookrec:doc::0316853690', 'title': 'Stephen King Omnibus'}}, {'id': 'id:bookrec:doc::1416508953', 'relevance': 4.611828786541892, 'source': 'hybridsearchbv_content', 'fields': {'description': 'Bahzell of the Hradani is Back! Exciting Fantasy Adventure by the New York Times Best-Selling Author of the Honor Harrington Series. First Time in Paperback. In The <hi>War</hi> God\\'s Own, Bahzell had managed to stop a <hi>war</hi> by convincing Baron Tellian, leader of the Sothoii, to \"surrender\" to him, the <hi>War</hi> God\\'s champion. Now, he has journeyed to the Sothoii Wind Plain to oversee the parole he granted to Tellian and his men, to represent the Order of Tomanak, the <hi>War</hi> God, and to be an ambassador for the hradani. What\\'s more, the flying coursers of the Sothoii have accepted Bahzell as a wind rider-the first hradani wind rider in history. And since the wind riders are the elite of the elite among the Sothoii, Bahzell\\'s ascension is as likely to stir resentment as respect. That combination of duties would have been enough to keep anyone busy-even a warrior prince like Bahzell-but additional complications are bubbling under the surface. The goddess Shigu, the Queen of Hell, is sowing dissension among the <hi>war</hi> maids of the Sothoii. The supporters of the deposed Sothoii noble who started the <hi>war</hi> are plotting to murder their new leige lord and frame Bahzell for the deed. Of course, those problems are all in a day\\'s work for a champion of the <hi>War</hi> God. But what is Bahzell going to do <hi>about</hi> the fact that Baron Tellian\\'s daughter, and heir to the realm, seems to be thinking that he is the only man-or hradani-for her?', 'documentid': 'id:bookrec:doc::1416508953', 'title': \"Wind Rider's Oath\"}}, {'id': 'id:bookrec:doc::0898702623', 'relevance': 4.60734085343054, 'source': 'hybridsearchbv_content', 'fields': {'description': '\"I\\'ve been a philosopher for all my adult life and the three most profound <hi>books</hi> of philosophy that I have ever read are Ecclesiastes, Job, and Song of Songs.\" These are the opening lines of Kreeft\\'s Three Philosophies of Life. He reflects that there are ultimately only three philosophies of life and each one is represented by one of these <hi>books</hi> of the Bible-life is vanity; life is suffering; life is love. In these three <hi>books</hi> Kreeft shows how we have Dante\\'s great epic The Divine Comedy played out, from Hell to Purgatory to Heaven. But it is an epic played out in our hearts and lives, here and now. Just as there is movement in Dante\\'s epic, so there is movement in these <hi>books</hi>, from Ecclesiates to Job, from Job to Song of Songs. Love is the final answer to Ecclesiastes\\' quest, the alternative to vanity, and the true meaning of life. Finally, Kreeft sees in these <hi>books</hi> the epitome of theological virtues of faith, hope and love and \"an essential summary of the spiritual history of the world.\"', 'documentid': 'id:bookrec:doc::0898702623', 'title': 'Three Philosophies of Life'}}, {'id': 'id:bookrec:doc::0670876127', 'relevance': 4.594077504889436, 'source': 'hybridsearchbv_content', 'fields': {'description': 'A collection of three previously published <hi>books</hi>: Pippi Longstocking, Pippi goes on board, and Pippi in the South Seas.', 'documentid': 'id:bookrec:doc::0670876127', 'title': 'The Adventures of Pippi Longstocking'}}, {'id': 'id:bookrec:doc::0374525862', 'relevance': 4.592385276412166, 'source': 'hybridsearchbv_content', 'fields': {'description': \"Winner of the National Book Award for Fiction Introduction by Jhumpa Lahiri Bernard Malamud's first book of short stories, The Magic Barrel, has been recognized as a classic from the time it was published in 1959. The stories are set in New York and in Italy (where Malamud's alter ego, the struggleing New York Jewish Painter Arthur Fidelman, roams amid the ruins of old Europe in search of his artistic patrimony); they tell of egg candlers and shoemakers, matchmakers, and rabbis, in a voice that blends vigorous urban realism, Yiddish idiom, and a dash of artistic magic. The Magic Barrel is a book <hi>about</hi> New York and <hi>about</hi> the immigrant experience, and it is high point in the modern American short story. Few <hi>books</hi> of any kind have managed to depict struggle and frustration and heartbreak with such delight, or such artistry.\", 'documentid': 'id:bookrec:doc::0374525862', 'title': 'The Magic Barrel'}}, {'id': 'id:bookrec:doc::0618257764', 'relevance': 4.5278462341123555, 'source': 'hybridsearchbv_content', 'fields': {'description': 'From one of America\\'s foremost historians, Inventing America compares Thomas Jefferson\\'s original draft of the Declaration of Independence with the final, accepted version, thereby challenging many long-cherished assumptions <hi>about</hi> both the man and the document. Although Jefferson has long been idealized as a champion of individual rights, Wills argues that in fact his vision was one in which interdependence, not self-interest, lay at the foundation of society. \"No one has offered so drastic a revision or so close or convincing an analysis as Wills has . . . The results are little short of astonishing\" (Edmund S. Morgan New York Review of <hi>Books</hi> ).', 'documentid': 'id:bookrec:doc::0618257764', 'title': 'Inventing America'}}, {'id': 'id:bookrec:doc::0743223136', 'relevance': 4.439372301099095, 'source': 'hybridsearchbv_content', 'fields': {'description': 'The Pulitzer Prize–winning, bestselling biography of America’s founding father and second president that was the basis for the acclaimed HBO series, brilliantly told by master historian David McCullough. In this powerful, epic biography, David McCullough unfolds the adventurous life journey of John Adams, the brilliant, fiercely independent, often irascible, always honest Yankee patriot who spared nothing in his zeal for the American Revolution; who rose to become the second president of the United States and saved the country from blundering into an unnecessary <hi>war</hi>; who was learned beyond all but a few and regarded by some as “out of his senses”; and whose marriage to the wise and valiant Abigail Adams is one of the moving love stories in American history. This is history on a grand scale—a book <hi>about</hi> politics and <hi>war</hi> and social issues, but also <hi>about</hi> human nature, love, religious faith, virtue, ambition, friendship, and betrayal, and the far-reaching consequences of noble ideas. Above all, John Adams is an enthralling, often surprising story of one of the most important and fascinating Americans who ever lived.', 'documentid': 'id:bookrec:doc::0743223136', 'title': 'John Adams'}}, {'id': 'id:bookrec:doc::0380731509', 'relevance': 4.424454774278865, 'source': 'hybridsearchbv_content', 'fields': {'description': 'The extraordinary thirty-story school and its zany inhabitants are back in the long-awaited sequel to the classic SIDEWAYS STORIES FROM WAYSIDE SCHOOL, one of the most popular Camelot <hi>books</hi> ever. /FONTThe extraordinary thirty-story school and its zany inhabitants are back in the long-awaited sequel to the classic SIDEWAYS STORIES FROM WAYSIDE SCHOOL, one of the most popular Camelot <hi>books</hi> ever. \"Rib-tickling...sure-to-please...\"-Kirkus', 'documentid': 'id:bookrec:doc::0380731509', 'title': 'Wayside School Is Falling Down (rack)'}}, {'id': 'id:bookrec:doc::067003665X', 'relevance': 4.407849312448549, 'source': 'hybridsearchbv_content', 'fields': {'description': 'Presents selections from the author\\'s children\\'s <hi>books</hi> arranged in such categories as \"Animals,\" \"Magic,\" \"Family, friends and foes,\" and \"Matters of importance\"', 'documentid': 'id:bookrec:doc::067003665X', 'title': 'The Roald Dahl Treasury'}}, {'id': 'id:bookrec:doc::0192840940', 'relevance': 4.376459291476046, 'source': 'hybridsearchbv_content', 'fields': {'description': \"This is a book <hi>about</hi> the invention of Western philosophy, and the first thinkers to explore ideas <hi>about</hi> the nature of reality, time, and the origin of the universe. It begins with the finding of the new papyrus fragment of Empedocles' poem, and uses the story of its discovery and interpretation to highlight the way our understanding of early philosophers is marked by their presentation in later sources. Generations of philosophers, both ancient and modern, have traced their inspiration back to the presocratics, even though we have very few of their writings left. In this book, Catherine Osborne invites her readers to dip their toes into the fragmentary remains of thinkers from Thales to Pythagoras, Heraclitus to Protagoras, to try to fill in the bits of a jigsaw that has been rejigged many times and in many different ways. <hi>ABOUT</hi> THE SERIES: The Very Short Introductions series from Oxford University Press contains hundreds of titles in almost every subject area. These pocket-sized <hi>books</hi> are the perfect way to get ahead in a new subject quickly. Our expert authors combine facts, analysis, perspective, new ideas, and enthusiasm to make interesting and challenging topics highly readable.\", 'documentid': 'id:bookrec:doc::0192840940', 'title': 'Presocratic Philosophy: A Very Short Introduction'}}, {'id': 'id:bookrec:doc::0440504708', 'relevance': 4.372400876457514, 'source': 'hybridsearchbv_content', 'fields': {'description': \"In a parody of self-help <hi>books</hi>, Al Franken's comic character, Stuart Smalley, describes his own efforts to cope with life over one year\", 'documentid': 'id:bookrec:doc::0440504708', 'title': \"I'm Good Enough, I'm Smart Enough, and Doggone It, People Like Me!\"}}, {'id': 'id:bookrec:doc::0671854054', 'relevance': 4.372400876457514, 'source': 'hybridsearchbv_content', 'fields': {'description': 'Four exciting stories taken from the log <hi>books</hi> of the USS Enterprise - The Counter-Clock Incident, The Eye of the Beholder, Bem and Slaver Weapon.', 'documentid': 'id:bookrec:doc::0671854054', 'title': 'Star Trek'}}, {'id': 'id:bookrec:doc::0060926961', 'relevance': 4.372400876457514, 'source': 'hybridsearchbv_content', 'fields': {'description': 'From the award-winning poet and novelist—a must-have collection of his four previous <hi>books</hi> of poetry plus a selection of new, unpublished work.', 'documentid': 'id:bookrec:doc::0060926961', 'title': 'The Throne of the Third Heaven of the Nations Millennium General Assembly'}}, {'id': 'id:bookrec:doc::0575076267', 'relevance': 4.371097713151635, 'source': 'hybridsearchbv_content', 'fields': {'description': 'The Hyperion <hi>books</hi> are credited with single-handedly reinventing and reinvigorating SF in the 1990s. A broad canvased, hugely imaginative and exciting SF epic, the <hi>books</hi> draw on the works of Keats and provide a uniquely intelligent and literary approach with cutting edge science, compelling characterisation and edge-of-your-seat excitement. The story is continued in ENDYMION and THE RISE OF ENDYMION, which Gollancz will also be publishing in an omnibus volume.', 'documentid': 'id:bookrec:doc::0575076267', 'title': 'The Hyperion Omnibus'}}, {'id': 'id:bookrec:doc::0764586718', 'relevance': 4.359978416515279, 'source': 'hybridsearchbv_content', 'fields': {'description': \"The original CliffsNotes study guides offer expert commentary on major themes, plots, characters, literary devices, and historical background. The latest generation of titles in this series also features glossaries and visual elements that complement the classic, familiar format. In CliffsNotes on All Quiet on the Western Front, Erich Maria Remarque takes you inside the gruesome realities of World <hi>War</hi> I through the eyes of Paul Baumer, a sensitive teenager and typical infantryman in the German army. This study guide will help you begin to consider how Remarque's views on <hi>war</hi> might relate to modern-day conflicts. You'll also gain insight into the life and cultural background of the author. Other features that help you study include Character analyses of major players A character map that graphically illustrates the relationships among the characters Critical essays A review section that tests your knowledge A Resource Center full of <hi>books</hi>, articles, films, and Internet sites Classic literature or modern modern-day treasure — you'll understand it all with expert information and insight from CliffsNotes study guides.\", 'documentid': 'id:bookrec:doc::0764586718', 'title': \"CliffsNotes on Remarque's All Quiet on the Western Front\"}}, {'id': 'id:bookrec:doc::0679431365', 'relevance': 4.340213710810998, 'source': 'hybridsearchbv_content', 'fields': {'description': '(Book Jacket Status: Jacketed) This trilogy of novels <hi>about</hi> World <hi>War</hi> II, largely based on his own experiences as an army officer, is the crowning achievement of Evelyn Waugh’s career. Its central character is Guy Crouchback, head of an ancient but decayed Catholic family, who at first discovers new purpose in the challenge to defend Christian values against Nazi barbarism, but then gradually finds the complexities and cruelties of <hi>war</hi> too much for him. Yet, though often somber, the Sword of Honour trilogy is also a brilliant comedy, peopled by the fantastic figures so familiar from Waugh’s early satires. The deepest pleasures these novels afford come from observing a great satiric writer employ his gifts with extraordinary subtlety, delicacy, and human feeling, for purposes that are ultimately anything but satiric.', 'documentid': 'id:bookrec:doc::0679431365', 'title': 'The Sword of Honour Trilogy'}}, {'id': 'id:bookrec:doc::0791081265', 'relevance': 4.303187410807215, 'source': 'hybridsearchbv_content', 'fields': {'description': \"One of Edith Wharton's most critically acclaimed <hi>books</hi>, this Pulitzer Prize-winning novel tells the story of love in the high society of 1870s New York.\", 'documentid': 'id:bookrec:doc::0791081265', 'title': \"Edith Wharton's The Age of Innocence\"}}, {'id': 'id:bookrec:doc::0811201082', 'relevance': 4.294373541964011, 'source': 'hybridsearchbv_content', 'fields': {'description': 'Some writers attempt to conceal the literary influences which have shaped their thinking - but not Henry Miller. In The <hi>Books</hi> in My Life he shares the thrills of discovery that many kinds of <hi>books</hi> have brought to a keenly curious and questioning mind. Some of Miller\\'s favorite writers are the giants whom most of us revere - authors such as Dostoeyvsky, Boccaccio, Walt Whitman, James Joyce, Thomas Mann, Lao-Tse. To them he brings fresh and penetrating insights. But many are lesser-known figures: Krishnamurti, the prophet-sage; the French contemporaries Blaise Cendrars and Jean Giono; Richard Jeffries, who wrote The Story of My Heart ; the Welshman John Cowper Powys; and scores of others. The <hi>Books</hi> in My Life contains some fine autobiographical chapters, too. Miller describes his boyhood in Brooklyn, when he devoured the historical stories of G. A. Henty and the romances of Rider Haggard. He tells of the men and women whom he regards as living <hi>books</hi>\": Lou Jacobs, W. E. B. DuBois, Elizabeth Gurley Flynn, and others. He offers his reminiscences of the New York Theatre in the early 1900\\'s - including plays such as Alias Jimmy Valentine and Nellie, the Beautiful Cloak Model . And finally, in Miller\\'s best vein of humor, he provides a satiric chapter on bathroom reading. In an appendix, Miller lists the hundred <hi>books</hi> that have influenced him most. \"', 'documentid': 'id:bookrec:doc::0811201082', 'title': 'Mémoires, Plaidoiries Et Documents'}}, {'id': 'id:bookrec:doc::0934380236', 'relevance': 4.251465647870036, 'source': 'hybridsearchbv_content', 'fields': {'description': 'There are two classic texts that deal with crowd psychology and the irrational behavior that characterizes large groups of people acting en masse. They are The Crowd, and Extraordinary Popular Delusions and the Madness Crowds. Both <hi>books</hi> provide lucid and witty insights into the madness of crowd psychology, such as the tulipmania in Holland, when the price of tulip bulbs was up to astronomical heights. Both of these <hi>books</hi> are combined into a single volume for the price of one!', 'documentid': 'id:bookrec:doc::0934380236', 'title': 'The Crowd: Extradordinary Popular Delusions: Twin Classics of Crowd Pyschology'}}, {'id': 'id:bookrec:doc::0965020592', 'relevance': 4.236131045462501, 'source': 'hybridsearchbv_content', 'fields': {'description': 'A bookburner official in a future fascist state finds out <hi>books</hi> are a vital part of a culture he never knew. He clandestinely pursues reading, until he is betrayed.', 'documentid': 'id:bookrec:doc::0965020592', 'title': 'Fahrenheit 451'}}, {'id': 'id:bookrec:doc::1561633429', 'relevance': 4.236131045462501, 'source': 'hybridsearchbv_content', 'fields': {'description': \"An adaptation of the seven <hi>books</hi> of Proust's masterpiece in graphic novel format, which explores themes of love, art, sexuality, memory, and time in late nineteenth-century France.\", 'documentid': 'id:bookrec:doc::1561633429', 'title': 'Remembrance of Things Past, Part 2'}}, {'id': 'id:bookrec:doc::0066238501', 'relevance': 4.234296492451864, 'source': 'hybridsearchbv_content', 'fields': {'description': \"Journeys to the end of the world, fantastic creatures, and epic battles between good and evil -- what more could any reader ask for in one book? The book that has it all is The Lion, the Witch and the Wardrobe, written in 1949 by Clive Staples Lewis. But Lewis did not stop there. Six more <hi>books</hi> followed, and together they became known as The Chronicles of Narnia. For the past fifty years, The Chronicles of Narnia have transcended the fantasy genre to become part of the canon of classic literature. Each of the seven <hi>books</hi> is a masterpiece, drawing the reader into a land where magic meets reality, and the result is a fictional world whose scope has fascinated generations. This edition presents all seven <hi>books</hi> -- unabridged -- in one impressive volume. The <hi>books</hi> are presented here according to Lewis' preferred order, each chapter graced with an illustration by the original artist, Pauline Baynes. Deceptively simple and direct, The Chronicles of Narnia continue to captivate fans with adventures, characters, and truths that speak to readers of all ages, even fifty years after they were first published.\", 'documentid': 'id:bookrec:doc::0066238501', 'title': 'The Chronicles of Narnia (adult)'}}, {'id': 'id:bookrec:doc::092291561X', 'relevance': 4.22288129457872, 'source': 'hybridsearchbv_content', 'fields': {'description': \"What You Don't Know <hi>About</hi> the Deaths of Jim Morrison, Tupac Shakur, Michael Hutchence, Brian Jones, Jimi Hendrix, Phil Ochs, Bob Marley, Peter Tosh, John Lennon, and The Notorious B.I.G. Many rock musicians have been outspoken and powerful proponents for social change, making them a threat to those eager to maintain the status quo. In this comprehensive look at suspect rock star deaths, conspiracy researcher Constantine unearths the secrets that the music industry and organised crime would prefer kept under wraps.\", 'documentid': 'id:bookrec:doc::092291561X', 'title': 'The Covert War Against Rock'}}, {'id': 'id:bookrec:doc::0393064980', 'relevance': 4.203380505922888, 'source': 'hybridsearchbv_content', 'fields': {'description': \"Collects forty-four key segments from the late paleontologist and evolutionary biologist's <hi>books</hi>, papers, and essays, in a collection that includes an assortment of previously unpublished articles and speeches.\", 'documentid': 'id:bookrec:doc::0393064980', 'title': 'The Richness of Life'}}, {'id': 'id:bookrec:doc::0375726217', 'relevance': 4.203380505922888, 'source': 'hybridsearchbv_content', 'fields': {'description': 'Describes how libraries across the United States have dismantled collections of original bound newspapers and brittle <hi>books</hi> to replace them with microfilmed copies, exploring the hidden reasons for such policies.', 'documentid': 'id:bookrec:doc::0375726217', 'title': 'Double Fold'}}, {'id': 'id:bookrec:doc::0099910101', 'relevance': 4.1791324436906665, 'source': 'hybridsearchbv_content', 'fields': {'description': \"In 1918 Ernest Hemingway went to <hi>war</hi>, to the '<hi>war</hi> to end all <hi>wars</hi>'. He volunteered for ambulance service in Italy, was wounded and twice decorated. Out of his experiences came A Farewell to Arms. Hemingway's description of <hi>war</hi> is unforgettable. He recreates the fear, the comradeship, the courage of his young American volunteer and the men and women he meets in Italy with total conviction. But A Farewell to Arms is not only a novel of <hi>war</hi>. In it Hemingway has also created a love story of immense drama and uncompromising passion.\", 'documentid': 'id:bookrec:doc::0099910101', 'title': 'A Farewell to Arms'}}, {'id': 'id:bookrec:doc::1557831572', 'relevance': 4.108098439159331, 'source': 'hybridsearchbv_content', 'fields': {'description': '(Applause <hi>Books</hi>). The complete script to the critically acclaimed play. \"Shakespeare as written by Reader\\'s Digest , acted by Monty Python, and performed at the speed of the minute waltz.\" L.A. Herald', 'documentid': 'id:bookrec:doc::1557831572', 'title': \"The Reduced Shakespeare Company's the Complete Works of William Shakespeare (abridged)\"}}, {'id': 'id:bookrec:doc::1414306342', 'relevance': 4.108098439159331, 'source': 'hybridsearchbv_content', 'fields': {'description': 'Provides a Christian interpretation of the first six <hi>books</hi>, arguing that the series supports biblical teaching as opposed to the practice of the occult, and offers insights into character names, imagery, and themes.', 'documentid': 'id:bookrec:doc::1414306342', 'title': 'Looking for God in Harry Potter'}}, {'id': 'id:bookrec:doc::0099483475', 'relevance': 4.105096117697562, 'source': 'hybridsearchbv_content', 'fields': {'description': \"All Quiet on the Western Front is probably the most famous anti-<hi>war</hi> novel ever written. The story is told by a young 'unknown soldier' in the trenches of Flanders during the First World <hi>War</hi>. Through his eyes we see all the realities of <hi>war</hi>; under fire, on patrol, waiting in the trenches, at home on leave, and in hospitals and dressing stations. Although there are vividly described incidents which remain in mind, there is no sense of adventure here, only the feeling of youth betrayed and a deceptively simple indictment of <hi>war</hi> - of any <hi>war</hi> - told for a whole generation of victims.\", 'documentid': 'id:bookrec:doc::0099483475', 'title': 'All Quiet on the Western Front'}}, {'id': 'id:bookrec:doc::006083482X', 'relevance': 4.086157335997351, 'source': 'hybridsearchbv_content', 'fields': {'description': \"The Sheltering Sky is a landmark of twentieth-century literature. In this intensely fascinating story, Paul Bowles examines the ways in which Americans' incomprehension of alien cultures leads to the ultimate destruction of those cultures. A story <hi>about</hi> three American travelers adrift in the cities and deserts of North Africa after World <hi>War</hi> II, The Sheltering Sky explores the limits of humanity when it touches the unfathomable emptiness and impassive cruelty of the desert. This P.S. edition features an extra 16 pages of insights into the book, including author interviews, recommended reading, and more.\", 'documentid': 'id:bookrec:doc::006083482X', 'title': 'The Sheltering Sky'}}, {'id': 'id:bookrec:doc::0156260379', 'relevance': 4.077290484812356, 'source': 'hybridsearchbv_content', 'fields': {'description': \"Entries interrupted only by her periodic breakdowns record the daily events and activities, enthusiasms and disappointments, and writing tasks in Virginia Woolf's life and her responses to people, <hi>books</hi>, and her own work\", 'documentid': 'id:bookrec:doc::0156260379', 'title': 'The Diary of Virginia Woolf'}}, {'id': 'id:bookrec:doc::0156260395', 'relevance': 4.077290484812356, 'source': 'hybridsearchbv_content', 'fields': {'description': \"Entries interrupted only by her periodic breakdowns record the daily events and activities, enthusiasms and disappointments, and writing tasks in Virginia Woolf's life and her responses to people, <hi>books</hi>, and her own work\", 'documentid': 'id:bookrec:doc::0156260395', 'title': 'The Diary of Virginia Woolf: 1931-1935'}}, {'id': 'id:bookrec:doc::0517101351', 'relevance': 4.077290484812356, 'source': 'hybridsearchbv_content', 'fields': {'description': \"Fans of Jurassic Park and Rising Sun, the <hi>books</hi> and the movies, will want to own this collection of Crichton's earlier, technical suspense novels, which includes Congo, Sphere, and Eaters of the Dead.\", 'documentid': 'id:bookrec:doc::0517101351', 'title': 'A New Collection of Three Complete Novels'}}, {'id': 'id:bookrec:doc::0747566828', 'relevance': 4.046941168550329, 'source': 'hybridsearchbv_content', 'fields': {'description': 'The seventh story in the series featuring all the characters of the previous <hi>books</hi>. Marvin proves his bravery to himself and his friends and family after tackling the terrifyingly steep Suicide Hill on his bike.', 'documentid': 'id:bookrec:doc::0747566828', 'title': 'Super Fast, Out of Control!'}}]}}\n"
     ]
    }
   ],
   "source": [
    "with app.syncio(connections=12) as session:\n",
    "    response: VespaQueryResponse = session.query(\n",
    "        hits=10,\n",
    "        body={\n",
    "            \"yql\": \"select documentid, cord_uid, title, description, abstract from sources * where userQuery() LIMIT 100\",\n",
    "            \"query\": \"books about wars\",\n",
    "            \"ranking.profile\": \"bm25\",\n",
    "            \"presentation.timing\": True,\n",
    "        },\n",
    "    )\n",
    "    print(response.json)"
   ]
  },
  {
   "cell_type": "code",
   "execution_count": 95,
   "metadata": {},
   "outputs": [
    {
     "name": "stdout",
     "output_type": "stream",
     "text": [
      "Excel file 'books.xlsx' created successfully.\n"
     ]
    }
   ],
   "source": [
    "# Assuming response_boy_talk_animals is a VespaQueryResponse object\n",
    "response_json = response.json\n",
    "\n",
    "# Extracting data\n",
    "data = []\n",
    "for item in response_json['root']['children']:\n",
    "    title = item['fields']['title']\n",
    "    description = item['fields']['description']\n",
    "    binary = ''  # Empty value for the binary column\n",
    "    score = ''   # Empty value for the score column\n",
    "    data.append([title, description, binary, score])\n",
    "\n",
    "# Creating a DataFrame\n",
    "df = pd.DataFrame(data, columns=['title', 'description', 'binary', 'score'])\n",
    "\n",
    "# Saving to Excel\n",
    "df.to_excel('books_wars.xlsx', index=False)\n",
    "\n",
    "print(\"Excel file 'books.xlsx' created successfully.\")"
   ]
  },
  {
   "cell_type": "code",
   "execution_count": 96,
   "metadata": {},
   "outputs": [
    {
     "name": "stdout",
     "output_type": "stream",
     "text": [
      "{'timing': {'querytime': 0.017, 'summaryfetchtime': 0.05, 'searchtime': 0.069}, 'root': {'id': 'toplevel', 'relevance': 1.0, 'fields': {'totalCount': 524}, 'coverage': {'coverage': 100, 'documents': 6483, 'full': True, 'nodes': 1, 'results': 1, 'resultsFull': 1}, 'children': [{'id': 'id:bookrec:doc::0141010371', 'relevance': 11.101610430707503, 'source': 'hybridsearchbv_content', 'fields': {'description': \"The No 1 bestseller I love this book. It's the very first thing I ever wrote, and I never thought the person worst at English in my school would end up writing a book. It's largely made up of recipes scribbled on the back of order forms and beer mats, collected together in a black bin liner that my wife almost threw away twice - it's a miracle this book ever came to be! Because of this book, a lot of blokes were henpecked into doing a bit of <hi>cooking</hi>. Good job too! The salad and pasta recipes are real winners, but the one people still talk <hi>about</hi> all the time is my perfect roast chicken, with its herb butter stuffed right under the skin of the bird. I think one of the best things <hi>about</hi> the recipes in The Naked Chef is that the ingredients are totally accessible. It's the key element to my <hi>cooking</hi>: simple, quick recipes that can be made by everyone. Happy <hi>cooking</hi>. Love, Jamie O xxx 'Simply brilliant <hi>cooking</hi>, and Jamie's recipes are a joy' Nigel Slater 'When teenagers start asking for Jamie Oliver's cook <hi>books</hi> as a present, you know the tide has turned' Daily Telegraph\", 'documentid': 'id:bookrec:doc::0141010371', 'title': \"Jamie's Kitchen\"}}, {'id': 'id:bookrec:doc::0786868694', 'relevance': 8.896375258079912, 'source': 'hybridsearchbv_content', 'fields': {'description': 'With her charming style, delicious recipes, bestselling cookbooks, and popular <hi>cooking</hi> show, Nigella Lawson has become a household name -- symbolizing all that is sumptuous and pleasurable <hi>about</hi> food. In Nigella Bites, Nigella shares her favorite recipes that are easy to make after a busy day at the office, perfect to linger over during a lazy weekend, or fun to make with kids on a rainy afternoon. All the recipes are delectable to read, dreamy to look at, and, of course, delicious to eat. Whether <hi>cooking</hi> Pasta E Fagioli or baking Orange Breakfast Muffins, Nigella knows just how to achieve maximum flavor with minimum effort.', 'documentid': 'id:bookrec:doc::0786868694', 'title': 'Nigella Bites'}}, {'id': 'id:bookrec:doc::0723247781', 'relevance': 8.46691576669957, 'source': 'hybridsearchbv_content', 'fields': {'description': \"Relates how the barnyard collie and pups rescue Jemima Puddle-Duck from the fox's <hi>cooking</hi> pot.\", 'documentid': 'id:bookrec:doc::0723247781', 'title': 'The Tale of Jemima Puddle-Duck'}}, {'id': 'id:bookrec:doc::0971316821', 'relevance': 7.622522185882612, 'source': 'hybridsearchbv_content', 'fields': {'description': 'Photography and historical information <hi>about</hi> the places and faces featured in the Betsy-Tacy Deep Valley <hi>books</hi>. Includes a removable map containing a walking or driving tour of the locations featured in the <hi>books</hi>, bibliographies of <hi>books</hi> by Maud Hart Lovelace, a list of characters and their real-life counterparts, and a membership application for the Betsy-Tacy Society.', 'documentid': 'id:bookrec:doc::0971316821', 'title': \"Maud Hart Lovelace's Deep Valley\"}}, {'id': 'id:bookrec:doc::0393011836', 'relevance': 7.615939076871333, 'source': 'hybridsearchbv_content', 'fields': {'description': 'The chemistry professor columnist for the Washington Post\\'s \"Food 101\" presents layperson explanations of kitchen mysteries involving food types, temperature, <hi>cooking</hi> equipment, and food myths. 30,000 first printing.', 'documentid': 'id:bookrec:doc::0393011836', 'title': 'What Einstein Told His Cook'}}, {'id': 'id:bookrec:doc::1401301959', 'relevance': 7.601596023514835, 'source': 'hybridsearchbv_content', 'fields': {'description': 'Bestselling author Jamie Oliver finally devotes an entire book to America\\'s favorite cuisine -- Italian! Italy and its wonderful flavors have always had a major influence on Jamie Oliver\\'s food and <hi>cooking</hi>. In Jamie\\'s Italy, he travels this famously gastronomic country paying homage to the classic dishes of each region and searching for new ideas to bring home. The result is a sensational collection of Italian recipes, old and new, that will ensure that Italy\\'s influence reaches us all. Italy has inspired Jamie Oliver throughout his career. His ambition has always been to travel across the country on a quest to capture the very essence of Italian <hi>cooking</hi> -- and to produce the best and simplest Italian cookbook for everybody anywhere to enjoy. Jamie\\'s Italy is the result of that journey -- and it\\'s a land of plenty. As well as providing more than 120 brand-new recipes for everything from risotto to roasts and spaghetti to stews, structured as traditional trattoria menus, Jamie takes you all over Italy to cook with and learn from the real masters of Italian cuisine: the locals. Far from the standard \"lemons and olives\" version of Italian <hi>cooking</hi>, Jamie\\'s Italy is a cookbook by the people for the people. From Sicily to Tuscany, it\\'s <hi>about</hi> the local fishermen, family bakers, and, of course, the \"Mamas,\" sharing their recipes and the tips that have gone into their <hi>cooking</hi> for generations. But it\\'s not only mouthwatering food that Jamie brings back home: it\\'s also the spirit that makes <hi>cooking</hi> and eating absolutely central to family life, whichever part of Italy youre in. Bursting with the warmth and hospitality of real family life, this is both a superbly accessible cookbook and a unique travelogue and diary, in which youll find the authentic flavor of Italy and the people who live there. If you love quality food prepared with genuine passion -- youll never want to leave Jamie\\'s Italy.', 'documentid': 'id:bookrec:doc::1401301959', 'title': \"Jamie's Italy\"}}, {'id': 'id:bookrec:doc::0142000213', 'relevance': 7.27831666370475, 'source': 'hybridsearchbv_content', 'fields': {'description': 'Bridget Jones, the main character in the novel and the film, \"Bridget Jones\\'s Diary,\" shares her own ideas on homemaking, <hi>cooking</hi>, relationships, weight loss, and other subjects in a parody of a self-help book.', 'documentid': 'id:bookrec:doc::0142000213', 'title': \"Bridget Jones's Guide to Life\"}}, {'id': 'id:bookrec:doc::1583332057', 'relevance': 7.224935195552376, 'source': 'hybridsearchbv_content', 'fields': {'description': \"Provides a detailed overview of the health benefits of eating a macrobiotic diet and combines <hi>cooking</hi> tips and recipes with practical advice on how to strengthen one's body and mind through eating high-quality whole foods.\", 'documentid': 'id:bookrec:doc::1583332057', 'title': \"The Hip Chick's Guide to Macrobiotics\"}}, {'id': 'id:bookrec:doc::1400040361', 'relevance': 7.120487398390149, 'source': 'hybridsearchbv_content', 'fields': {'description': 'The popular TV chef offers a gastronomic tour of her native Italy, exploring the regional culinary traditions that have shaped her <hi>cooking</hi>, in a collection of 140 tempting recipes based on the cuisine of Rome, Sicily, Tuscany, and beyond.', 'documentid': 'id:bookrec:doc::1400040361', 'title': \"Lidia's Italy\"}}, {'id': 'id:bookrec:doc::0875428320', 'relevance': 6.7777109796405295, 'source': 'hybridsearchbv_content', 'fields': {'description': 'Now you can learn from the original, most important source for magic in the Western world that has ever been published, when you get Agrippa\\'s Three <hi>Books</hi> of Occult Philosophy. This massive volume was originally published in 1531, and occultists have been drawing on it ever since. Now, Llewellyn is proud to produce the first complete reprint of the original English translation in the last 500 years. Donald Tyson edited this work and removed the hundreds of errors that appeared in the original translation. He also fully annotated the work, to make it understandable--and usable--by people today. ·Discover what the Renaissance scholar knew <hi>about</hi> astrology, medicine, history, herbs, geography, animals, angels, devils, Witches, charms, the weather, and a host of other subjects ·Gain immediate reference to a vast amount of arcane, but completely annotated, magical material ·Find corrected drawings of seals, sigils, and magic squares, and correctly represented geomantic figures ·Explore the practical Kabbalah, geomancy, the magic squares, the elements, the humors, and the Soul of the World ·Consult the new Biographical dictionary for background on each of the hundreds of writers and historical figures referred to by Agrippa ·Consult the new Geographical Dictionary for data on referenced rivers, mountains, nations, cities--many of which now carry different names. The Three <hi>Books</hi> of Occult Philosophyis the most complete repository of pagan and Neoplatonic magic ever compiled. This book is packed with material you will not find elsewhere, including copious extracts on magic from obscure or lost works by Pythagoras, Ptolemy, Plato, Aristotle, and many others. Tyson\\'s detailed annotations clarify difficult references and provide origins of quotations, even expanding upon them in many cases, in order to make Agrippa\\'s work more accessible to the modern reader. The Three <hi>Books</hi> of Occult Philosophy is the ultimate \"how-to\" for magical workings. It describes how to work all manner of divinations and natural and ceremonial magic in such clear and useful detail that it is still the guidefor modern techniques. The extensive new supplementary material makes this wisdom practical for use today. The Three <hi>Books</hi> of Occult Philosophyis an essential reference tool for all students of the occult. Get your copy today.', 'documentid': 'id:bookrec:doc::0875428320', 'title': 'Three Books of Occult Philosophy'}}, {'id': 'id:bookrec:doc::0826414753', 'relevance': 6.752825865773475, 'source': 'hybridsearchbv_content', 'fields': {'description': 'A brilliant idea--short, perceptive <hi>books</hi> which tell you what you need to know <hi>about</hi> some of the most vibrant and challenging writing around today--a bit like having a reading group in your pocket. IAN RANKIN', 'documentid': 'id:bookrec:doc::0826414753', 'title': \"Gabriel Garcia Marquez's Love in the Time of Cholera\"}}, {'id': 'id:bookrec:doc::1933372192', 'relevance': 6.6612808149189835, 'source': 'hybridsearchbv_content', 'fields': {'description': \"In this sequel to the popular <hi>Cooking</hi> with Fernet Branca, Gerald Samper is back on his Tuscan hilltop and busily musing on the absurdities of modern life. His entertaining asides - on everything from publishing to penile implants, celebrity sportswomen to Australian media moguls - and his eccentric recipes form the comic heart of this literary romp. Marta, Gerald's nemesis in <hi>Cooking</hi> with Fernet Branca, is back, along with her penchant for the eponymous potent liquor and her talent for shattering Gerald's evening idylls. But she's not alone: Amazing Disgrace touts a cavalcade of memorable characters, including a foul-mouthed, one-armed yachtswoman, and sees Gerald jettisoned from his Tuscan hideaway into the trendy haunts of his native London.\", 'documentid': 'id:bookrec:doc::1933372192', 'title': 'Amazing Disgrace'}}, {'id': 'id:bookrec:doc::1840237872', 'relevance': 6.6074426653013125, 'source': 'hybridsearchbv_content', 'fields': {'description': \"Harvey Pekar is a true American original, known by many as the blue-collar Mark Twain. For over 25 years he's been writing comic <hi>books</hi> <hi>about</hi> his life, chronicling the ordinary and everyday in stories both funny and moving.\", 'documentid': 'id:bookrec:doc::1840237872', 'title': \"American Splendor Presents Bob and Harv's Comics\"}}, {'id': 'id:bookrec:doc::0061093998', 'relevance': 6.553691299088259, 'source': 'hybridsearchbv_content', 'fields': {'description': \"Damaged Houses A master craftsman, Don Lark could fix everything except what mattered, his own soul. After tragedy claimed the one thing he loved, he began looking for dilapidated houses to buy, renovate, and resell at a profit--giving these empty shells the second chance at life he denied himself. Damaged Souls Then in a quiet Southern town, Lark finds his biggest challenge: a squalid yet sturdy mansion that has suffered decades of abuse at the hands of greedy landlords and transient tenants. While two charming old neighbor ladies ply him with delicious <hi>cooking</hi>, they offer dire warnings <hi>about</hi> the house's evil past. But there is something <hi>about</hi> this building that pushes Lark on, even as its enchantments grow increasingly ominous. Will finishing the house offer Lark redemption, or unleash the darkest forces of damnation upon him?\", 'documentid': 'id:bookrec:doc::0061093998', 'title': 'Homebody'}}, {'id': 'id:bookrec:doc::0439314550', 'relevance': 6.513949088437958, 'source': 'hybridsearchbv_content', 'fields': {'description': 'From her birth in Chipping Sodbury near Bristol, England, to the stories <hi>about</hi> her favorite teachers, to the funny misunderstanding in her first fan letter, the life of the author of the Harry Potter <hi>books</hi> is revealed. Original. 250,000 first printing.', 'documentid': 'id:bookrec:doc::0439314550', 'title': 'Conversations with J.K. Rowling'}}, {'id': 'id:bookrec:doc::0316013269', 'relevance': 6.464566803383761, 'source': 'hybridsearchbv_content', 'fields': {'description': 'Now in paperback-the format in which it\\'s destined to become a reading group favorite-the most heralded and hilarious memoir of recent years: Nearing 30 and trapped in a dead-end secretarial job, Julie Powell reclaims her life by <hi>cooking</hi> every single recipe in Julia Child\\'s legendary Mastering the Art of French <hi>Cooking</hi> in the span of one year. It\\'s a hysterical, inconceivable redemptive journey - life rediscovered through aspics, calves\\' brains and crème brûlée. The bestselling memoir that\\'s \"irresistible....A kind of Bridget Jones meets The French Chef\" (Philadelphia Inquirer) is now a major motion picture directed by Nora Ephron, starring Amy Adams as Julie and Meryl Streep as Julia, the film Julie & Julia will be released by Sony Pictures on August 7, 2009.', 'documentid': 'id:bookrec:doc::0316013269', 'title': 'Julie and Julia'}}, {'id': 'id:bookrec:doc::0842383670', 'relevance': 6.44012741031124, 'source': 'hybridsearchbv_content', 'fields': {'description': 'Many <hi>books</hi> have been written <hi>about</hi> the Bible, but few explain its origins. This volume provides a fascinating overview of how the Bible was first inspired, canonized, read as sacred literature, copied in ancient Hebrew and Greek manuscripts, and eventually translated into the languages of the world. No other one-volume work can match this wealth of information <hi>about</hi> the historical development of the Bible.', 'documentid': 'id:bookrec:doc::0842383670', 'title': 'The Origin of the Bible'}}, {'id': 'id:bookrec:doc::0374280398', 'relevance': 6.334680947915464, 'source': 'hybridsearchbv_content', 'fields': {'description': \"McPhee's <hi>books</hi> are <hi>about</hi> real people in real places. Over the past eight years, McPhee has spent considerable time in the company of people who work in freight transportation. This is his sketchbook of them and of his journeys with them. He rides from Atl\", 'documentid': 'id:bookrec:doc::0374280398', 'title': 'Uncommon Carriers'}}, {'id': 'id:bookrec:doc::1401301940', 'relevance': 6.319419076108751, 'source': 'hybridsearchbv_content', 'fields': {'description': \"<hi>Cooking</hi> sensation Jamie Oliver returns with a cookbook designed to delight the entire family! estselling cookbook author Jamie Oliver takes his signature fresh, fun <hi>cooking</hi> style into new territory by putting his focus on the family. Designed to encourage us to eat healthier meals at home and enjoy our time spent in the kitchen, Jamie's Dinners features over 100 new and simple recipes for easy-to-afford, easy-to-prepare gourmet dinners that will get even the busiest of families back into the kitchen. Jamie's pared-down style and inventive use of fresh, uncomplicated ingredients will ensure that even novice chefs can cook up delicious dinners with confidence and ease using accessible, stylish recipes that the whole family will love, such as Farfalle with Carbonara and Spring Peas and Japanese-Style Saturday Night Steak.\", 'documentid': 'id:bookrec:doc::1401301940', 'title': \"Jamie's Dinners\"}}, {'id': 'id:bookrec:doc::1852339462', 'relevance': 6.125482604151588, 'source': 'hybridsearchbv_content', 'fields': {'description': 'Many <hi>books</hi> have described how the universe became the way it is today. But what <hi>about</hi> the future of the universe? How long might the universe as we recognize it survive? The Future of the Universe takes the reader on a journey through space and time, beginning with a long look at the Earth and solar system, voyaging to the outermost galaxies, and finishing with speculations <hi>about</hi> the life and fate of the entire universe.', 'documentid': 'id:bookrec:doc::1852339462', 'title': 'The Future of the Universe'}}, {'id': 'id:bookrec:doc::0060736259', 'relevance': 5.9559337858554535, 'source': 'hybridsearchbv_content', 'fields': {'description': 'Fifteen years ago Francesca Lia Block made a dazzling entrance into the literary scene with what would become one of the most talked-<hi>about</hi> <hi>books</hi> of the decade: Weetzie Bat. This poetic roller coaster swoop has a sleek new design to match its new sister and brother <hi>books</hi>, Goat Girls and Beautiful Boys. Rediscover the magic of Weetzie Bat, Ms. Blocks sophisticated, slinkster-cool love song to L.A.the book that shattered the standard, captivated readers of all generations, and made Francesca Lia Block one of the most heralded authors of the last decade.', 'documentid': 'id:bookrec:doc::0060736259', 'title': 'Weetzie Bat'}}, {'id': 'id:bookrec:doc::0851621813', 'relevance': 5.7604760019519095, 'source': 'hybridsearchbv_content', 'fields': {'description': '(Boosey & Hawkes Scores/<hi>Books</hi>). Contains the material from <hi>books</hi> 1, 2 and 3', 'documentid': 'id:bookrec:doc::0851621813', 'title': 'The Complete Theory Fun Factory'}}, {'id': 'id:bookrec:doc::006440692X', 'relevance': 5.740756567552838, 'source': 'hybridsearchbv_content', 'fields': {'description': \"The Little House <hi>books</hi> tell the story of a little pioneer girl and her family as they traveled by covered wagon across the Midwest. Laura Ingalls Wilder's classic <hi>books</hi>, illustrated with Garth Williams' timeless artwork, have been cherished by millions of readers ever since they were first published over sixty years ago. This My First Little House Book introduces Almanzo Wilder, the young boy from Farmer Boy who would one day marry Laura Ingalls. In Winter on the Farm, Almanzo goes through his afternoon barn chores, and then sits down to eat a hearty farm supper with his family. In this first book <hi>about</hi> Almanzo, young readers are able to share in the warmth and joy of another Little House family and celebrate new Little House adventures. Winter on the Farm is the first in an ongoing series <hi>about</hi> Laura’s beloved farmer boy.\", 'documentid': 'id:bookrec:doc::006440692X', 'title': 'Winter on the Farm'}}, {'id': 'id:bookrec:doc::0385503849', 'relevance': 5.682796609308573, 'source': 'hybridsearchbv_content', 'fields': {'description': 'A new collection of short fiction presents ten stories that capture important moments in the course of a life and in the lives intertwined with it, in a volume that ranges from the 1930s to the 1980s, is set in a variety of locales, and includes such works as \"The Bad News,\" \"The Art of <hi>Cooking</hi> and Serving,\" \"My Last Duchess,\" \"The Boys at the Lab,\" and the title tale. 75,000 first printing.', 'documentid': 'id:bookrec:doc::0385503849', 'title': 'Moral Disorder'}}, {'id': 'id:bookrec:doc::078680839X', 'relevance': 5.671344702508941, 'source': 'hybridsearchbv_content', 'fields': {'description': \"Introduce your baby to birds, cats, dogs, and babies through fine art, illustration, and photographs. These <hi>books</hi> are a rare opportunity to exopse little ones to a range of images on a single subject, from simple child's drawings and abstract art to playful photos. A brief text accompanies each image, introducing baby to some basic -- and sometimes playful -- information <hi>about</hi> the subjects.\", 'documentid': 'id:bookrec:doc::078680839X', 'title': 'Baby Einstein: Dogs'}}, {'id': 'id:bookrec:doc::0425207757', 'relevance': 5.671344702508941, 'source': 'hybridsearchbv_content', 'fields': {'description': 'Sisters Celeste and Corinne Carson, each a best-selling author with her own fantasy-fulfilling hero, get more than they had bargained for when their \"fictional\" heroes--Jarred, a futuristic conqueror, and Mykhayl, a barbarian warrior of the past--worried <hi>about</hi> being written off, decide to kidnap their authors and imprison them in the seductive worlds that they created in their <hi>books</hi>. Original.', 'documentid': 'id:bookrec:doc::0425207757', 'title': 'Captive Dreams'}}, {'id': 'id:bookrec:doc::1584794941', 'relevance': 5.6651195528481635, 'source': 'hybridsearchbv_content', 'fields': {'description': 'A noted chef and a dietician join forces to create one hundred delicious recipes specifically tailored to the needs of those suffering from Irritable Bowel Syndrome (IBS), featuring an array of dishes for breakfasts, breads, snacks, appetizers, soups, salads, main courses, and desserts, along with information on the syndrome and nutritional and dietary recommendations. Original.', 'documentid': 'id:bookrec:doc::1584794941', 'title': 'Healthy Cooking for IBS'}}, {'id': 'id:bookrec:doc::0786808381', 'relevance': 5.636624745108348, 'source': 'hybridsearchbv_content', 'fields': {'description': \"Introduce your babies to birds, cats, dogs, and babies through fine art, illustration, and photographs. These <hi>books</hi> are a rare opportunity to expose little ones to a range of images on a single subject, from simple child's drawings and abstract art to playful photos. A brief text accompanies each image, introducing the baby to some basic -- and sometimes playful -- information <hi>about</hi> the subjects.\", 'documentid': 'id:bookrec:doc::0786808381', 'title': 'Baby Einstein: Babies'}}, {'id': 'id:bookrec:doc::0743454537', 'relevance': 5.602327311991562, 'source': 'hybridsearchbv_content', 'fields': {'description': 'A popular novel <hi>about</hi> a girl suing her parents because they want her to donate a kidney to her sister was named by the American Library Association as one of the top 10 <hi>books</hi> banned in 2009, with the novel being pulled from the shelves for a host of reasons, including homosexuality, sexually explicit material, religious viewpoint, drugs and suicide. Reprint. A best-selling book.', 'documentid': 'id:bookrec:doc::0743454537', 'title': \"My Sister's Keeper\"}}, {'id': 'id:bookrec:doc::0064404412', 'relevance': 5.300453683766191, 'source': 'hybridsearchbv_content', 'fields': {'description': '\"Culled from 69 stories collected in a [1930s] WPA project, [these 20] tales are organized into sections with themes like \\'Tricksters\\' or \\'Virtues and Vices,\\' each with a thoughtful introduction placing the individual stories in the context of feelings and background of the original tellers. Yep\\'s telling is vigorous, often poetic, imbued with earthy humor and realism touched with fatalism. A handsomely designed collection.\" —K. Notable Children\\'s <hi>Books</hi> of 1989 (ALA) The USA Through Children\\'s <hi>Books</hi> 1990 (ALA) 1989 Boston Globe–Horn Book Award for Nonfiction 1990 Fanfare Honor List (The Horn Book) 1989 Children\\'s Editors\\' Choices (BL) Notable 1989 Children\\'s Trade <hi>Books</hi> in Social Studies (NCSS/CBC) Children\\'s <hi>Books</hi> of 1989 (Library of Congress) 1989 Children\\'s <hi>Books</hi> (NY Public Library) \"The Best <hi>Books</hi>\" 1989 (Parents Magazine)', 'documentid': 'id:bookrec:doc::0064404412', 'title': 'The Rainbow People'}}, {'id': 'id:bookrec:doc::1565044045', 'relevance': 5.214270847754326, 'source': 'hybridsearchbv_content', 'fields': {'description': '\"Kick Ass! And Live to Tell <hi>About</hi> It! Some people think the Awakened sit around dreaming <hi>about</hi> Ascension. Wrong. Dead wrong. When reality itself is on the brink of destruction, you don\\'t contemplate your navel. You fight -- and sometimes die -- for the sake of the future. Tales of Magick takes Mage from the realm of abstraction and kicks it screaming into high gear. If you ever wondered how to run an epic, exciting modern sorcery chronicle, Dark Adventure is for you. Indeed, Tales of Magick is an ongoing series of <hi>books</hi> dedicated to playing Mage in a variety of genres and settings. Now your Mage game can go anywhere, anywhen\".', 'documentid': 'id:bookrec:doc::1565044045', 'title': 'Tales of Magick'}}, {'id': 'id:bookrec:doc::0747569134', 'relevance': 5.150700885972729, 'source': 'hybridsearchbv_content', 'fields': {'description': \"Welcome back to maths class at Wayside School. How much is PEPPERS + PIG LIPS? If Jenny's shirt has sparkles on it, will Todd have egg in his hair? These Sideways Arithmetic problems may look puzzling at first, but you can use real maths to solve them, and the answers are perfectly logical. Three are lots of clues and hints, plus all the answers are right there in the book. Best of all the children you have read <hi>about</hi> in the other <hi>books</hi> <hi>about</hi> Wayside School are here to help you! Try solving the brainteasers in this book, along with Mrs Jewls and the children from her class, and maths will be a dream!\", 'documentid': 'id:bookrec:doc::0747569134', 'title': 'More Sideways Arithmetic from Wayside School'}}, {'id': 'id:bookrec:doc::039458404X', 'relevance': 5.116761212491832, 'source': 'hybridsearchbv_content', 'fields': {'description': 'With more than 100 illustrations by Karin Kretschman.', 'documentid': 'id:bookrec:doc::039458404X', 'title': 'Essentials of Classic Italian Cooking'}}, {'id': 'id:bookrec:doc::0060739428', 'relevance': 5.112472653352482, 'source': 'hybridsearchbv_content', 'fields': {'description': 'Originally published: [New York]: Clarion <hi>Books</hi>, 1994.', 'documentid': 'id:bookrec:doc::0060739428', 'title': 'Catherine, Called Birdy (Summer Reading Edition)'}}, {'id': 'id:bookrec:doc::006446234X', 'relevance': 5.05672622828377, 'source': 'hybridsearchbv_content', 'fields': {'description': 'The pioneer spirit lives on... Readers around the world know and love Laura, the little girl born in the Big Woods of Wisconsin and raised in covered wagons and on wide open prairies. Now Little House fans can learn more <hi>about</hi> \"Half-pint\" in this, the first picture book biography book of Laura Ingalls Wilder. With a simple, glowing text by noted historian and Little House scholar William Anderson, and glorious paintings by Dan Andreasen, Pioneer Girl is a very special portrait of a writer whose classic <hi>books</hi> and poineer adventures have made her one of the most popular literary figures in America. This picture-book biography of Laura Ingalls Wilder tells the remarkable story of the pioneer girl who would one day immortalize her adventures in the beloved Little House <hi>books</hi>. Written in simple, glowing text by noted Little House scholar William Anderson, and illustrated with glorious paintings by artist Dan Andreasen, this wonderful first biography captures the very essence of the little girl called ‘Half-pint,\\' whose classic <hi>books</hi> and pioneer adventures have made her one of the most popular literary figures in America. This picture-book biography of Laura Ingalls Wilder tells the remarkable story of the pioneer girl who would one day immortalize her adventures in the beloved Little House <hi>books</hi>. Written in simple, glowing text by noted Little House scholar William Anderson, and illustrated with glorious paintings by artist Dan Andreasen, this wonderful first biography captures the very essence of the little girl called ‘Half-pint,’ whose classic <hi>books</hi> and pioneer adventures have made her one of the most popular literary figures in America.', 'documentid': 'id:bookrec:doc::006446234X', 'title': 'Pioneer Girl'}}, {'id': 'id:bookrec:doc::159308269X', 'relevance': 5.021760636125121, 'source': 'hybridsearchbv_content', 'fields': {'description': \"From the Publisher: Western philosophy starts with Socrates and his student Plato. By way of the dialectic that evolved between master and student, Plato invented the philosophical method of inquiry and analysis, and became the first to use a logical framework to ask-and try to answer-the eternal questions <hi>about</hi> ethics, politics, art, and life that still haunt humanity. Along with such exemplars of Plato's thought as Symposium, Apology, and Phaedrus, this volume includes the first three <hi>books</hi> of Plato's Laws.\", 'documentid': 'id:bookrec:doc::159308269X', 'title': 'Essential Dialogues of Plato'}}, {'id': 'id:bookrec:doc::0060920645', 'relevance': 4.8394321830575295, 'source': 'hybridsearchbv_content', 'fields': {'description': \"A stunning collection of Annie Dillard's most popular <hi>books</hi> in one volume.\", 'documentid': 'id:bookrec:doc::0060920645', 'title': 'Three by Annie Dillard'}}, {'id': 'id:bookrec:doc::0806128941', 'relevance': 4.837835811841804, 'source': 'hybridsearchbv_content', 'fields': {'description': \"Ovid's Metamorphosesis a weaving-together of classical myths, extending in time from the creation of the world to the death of Julius Caesar. This volume provides the Latin text of the first five <hi>books</hi> of the poem and the most detailed commentary available in English of these <hi>books</hi>.\", 'documentid': 'id:bookrec:doc::0806128941', 'title': \"Ovid's Metamorphoses\"}}, {'id': 'id:bookrec:doc::0064405710', 'relevance': 4.837303922117908, 'source': 'hybridsearchbv_content', 'fields': {'description': \"Increasingly alienated from his widowed father, Vernon joins his friends in ridiculing the neighborhood outcasts'Maxine, an alcoholic prone to outrageous behavior, and Ronald, her retarded son. But when a social service agency tries to put Ronald into a special home, Vernon fights against the move. 1994 Newbery Honor Book Notable Children's <hi>Books</hi> of 1994 (ALA) 1994 Best <hi>Books</hi> for Young Adults (ALA) 1994 Young Adult Editors' Choices (BL) 1994 <hi>Books</hi> for the Teen Age (NY Public Library) Young Adult Choices for 1995 (IRA)\", 'documentid': 'id:bookrec:doc::0064405710', 'title': 'Crazy Lady!'}}, {'id': 'id:bookrec:doc::1590302257', 'relevance': 4.7375276564359545, 'source': 'hybridsearchbv_content', 'fields': {'description': 'Written around the 6th century BC, The Art of War is one of the oldest <hi>books</hi> <hi>about</hi> war and military strategy, and probably the best. For more than two thousand years, Sun-tzu\\'s \"The Art of War\" has provided leaders with essential advice on battlefield tactics, managing troops and terrain, and employing cunning and deception. Above all, it teaches how, when battles commences, to think on your feet and catch your enemy off guard. An elemental part of Chinese culture, it has also become a touchstone for the Western struggle for survival and success.', 'documentid': 'id:bookrec:doc::1590302257', 'title': 'The Art of War'}}, {'id': 'id:bookrec:doc::0811201120', 'relevance': 4.691718562284096, 'source': 'hybridsearchbv_content', 'fields': {'description': \"Some of the most rewarding pages in Henry Miller's <hi>books</hi> concern his self-education as a writer. He tells, as few great writers ever have, how he set his goals, how he discovered the excitement of using words, how the <hi>books</hi> he read influenced him, and how he learned to draw on his own experience.\", 'documentid': 'id:bookrec:doc::0811201120', 'title': 'Henry Miller on Writing'}}, {'id': 'id:bookrec:doc::0805420436', 'relevance': 4.673050600827091, 'source': 'hybridsearchbv_content', 'fields': {'description': 'A collection of letters from the English author of the Narnia <hi>books</hi> to a variety of children.', 'documentid': 'id:bookrec:doc::0805420436', 'title': 'Letters to Children'}}, {'id': 'id:bookrec:doc::0618056998', 'relevance': 4.673050600827091, 'source': 'hybridsearchbv_content', 'fields': {'description': 'Selected letters discuss his <hi>books</hi>, their meanings, his interests and also reveal his view of the world.', 'documentid': 'id:bookrec:doc::0618056998', 'title': 'The Letters of J.R.R. Tolkien'}}, {'id': 'id:bookrec:doc::0691019622', 'relevance': 4.671562093541972, 'source': 'hybridsearchbv_content', 'fields': {'description': 'The two <hi>books</hi> comprised in this volume are in greater demand than any other works of Kierkegaard. This preference is a credit to the public taste, for Kierkegaard himself called them \"the most perfect <hi>books</hi> I have written,\" though in this commendation he included The Concept of Dread, and later stretched it to include Training in Christianity.', 'documentid': 'id:bookrec:doc::0691019622', 'title': 'Fear and Trembling'}}, {'id': 'id:bookrec:doc::067121148X', 'relevance': 4.6332275543330015, 'source': 'hybridsearchbv_content', 'fields': {'description': \"Writing for an adult audience, the popular children's book author presents a humorous satire of alphabet <hi>books</hi>.\", 'documentid': 'id:bookrec:doc::067121148X', 'title': \"Uncle Shelby'S Abz Book\"}}, {'id': 'id:bookrec:doc::0316853690', 'relevance': 4.6332275543330015, 'source': 'hybridsearchbv_content', 'fields': {'description': 'Two novels in one volume from horror writer Stephen King. The <hi>books</hi> contained are Dead Zone and Cujo.', 'documentid': 'id:bookrec:doc::0316853690', 'title': 'Stephen King Omnibus'}}, {'id': 'id:bookrec:doc::0898702623', 'relevance': 4.60734085343054, 'source': 'hybridsearchbv_content', 'fields': {'description': '\"I\\'ve been a philosopher for all my adult life and the three most profound <hi>books</hi> of philosophy that I have ever read are Ecclesiastes, Job, and Song of Songs.\" These are the opening lines of Kreeft\\'s Three Philosophies of Life. He reflects that there are ultimately only three philosophies of life and each one is represented by one of these <hi>books</hi> of the Bible-life is vanity; life is suffering; life is love. In these three <hi>books</hi> Kreeft shows how we have Dante\\'s great epic The Divine Comedy played out, from Hell to Purgatory to Heaven. But it is an epic played out in our hearts and lives, here and now. Just as there is movement in Dante\\'s epic, so there is movement in these <hi>books</hi>, from Ecclesiates to Job, from Job to Song of Songs. Love is the final answer to Ecclesiastes\\' quest, the alternative to vanity, and the true meaning of life. Finally, Kreeft sees in these <hi>books</hi> the epitome of theological virtues of faith, hope and love and \"an essential summary of the spiritual history of the world.\"', 'documentid': 'id:bookrec:doc::0898702623', 'title': 'Three Philosophies of Life'}}, {'id': 'id:bookrec:doc::0670876127', 'relevance': 4.594077504889436, 'source': 'hybridsearchbv_content', 'fields': {'description': 'A collection of three previously published <hi>books</hi>: Pippi Longstocking, Pippi goes on board, and Pippi in the South Seas.', 'documentid': 'id:bookrec:doc::0670876127', 'title': 'The Adventures of Pippi Longstocking'}}, {'id': 'id:bookrec:doc::0374525862', 'relevance': 4.592385276412166, 'source': 'hybridsearchbv_content', 'fields': {'description': \"Winner of the National Book Award for Fiction Introduction by Jhumpa Lahiri Bernard Malamud's first book of short stories, The Magic Barrel, has been recognized as a classic from the time it was published in 1959. The stories are set in New York and in Italy (where Malamud's alter ego, the struggleing New York Jewish Painter Arthur Fidelman, roams amid the ruins of old Europe in search of his artistic patrimony); they tell of egg candlers and shoemakers, matchmakers, and rabbis, in a voice that blends vigorous urban realism, Yiddish idiom, and a dash of artistic magic. The Magic Barrel is a book <hi>about</hi> New York and <hi>about</hi> the immigrant experience, and it is high point in the modern American short story. Few <hi>books</hi> of any kind have managed to depict struggle and frustration and heartbreak with such delight, or such artistry.\", 'documentid': 'id:bookrec:doc::0374525862', 'title': 'The Magic Barrel'}}, {'id': 'id:bookrec:doc::0618257764', 'relevance': 4.5278462341123555, 'source': 'hybridsearchbv_content', 'fields': {'description': 'From one of America\\'s foremost historians, Inventing America compares Thomas Jefferson\\'s original draft of the Declaration of Independence with the final, accepted version, thereby challenging many long-cherished assumptions <hi>about</hi> both the man and the document. Although Jefferson has long been idealized as a champion of individual rights, Wills argues that in fact his vision was one in which interdependence, not self-interest, lay at the foundation of society. \"No one has offered so drastic a revision or so close or convincing an analysis as Wills has . . . The results are little short of astonishing\" (Edmund S. Morgan New York Review of <hi>Books</hi> ).', 'documentid': 'id:bookrec:doc::0618257764', 'title': 'Inventing America'}}, {'id': 'id:bookrec:doc::1932100598', 'relevance': 4.443877229829551, 'source': 'hybridsearchbv_content', 'fields': {'description': 'Presents a collection of critiques of the works of J. K. Rowling, covering the topics and characters found in the Harry Potter <hi>books</hi>.', 'documentid': 'id:bookrec:doc::1932100598', 'title': 'Mapping the World of Harry Potter'}}, {'id': 'id:bookrec:doc::0380731509', 'relevance': 4.424454774278865, 'source': 'hybridsearchbv_content', 'fields': {'description': 'The extraordinary thirty-story school and its zany inhabitants are back in the long-awaited sequel to the classic SIDEWAYS STORIES FROM WAYSIDE SCHOOL, one of the most popular Camelot <hi>books</hi> ever. /FONTThe extraordinary thirty-story school and its zany inhabitants are back in the long-awaited sequel to the classic SIDEWAYS STORIES FROM WAYSIDE SCHOOL, one of the most popular Camelot <hi>books</hi> ever. \"Rib-tickling...sure-to-please...\"-Kirkus', 'documentid': 'id:bookrec:doc::0380731509', 'title': 'Wayside School Is Falling Down (rack)'}}, {'id': 'id:bookrec:doc::067003665X', 'relevance': 4.407849312448549, 'source': 'hybridsearchbv_content', 'fields': {'description': 'Presents selections from the author\\'s children\\'s <hi>books</hi> arranged in such categories as \"Animals,\" \"Magic,\" \"Family, friends and foes,\" and \"Matters of importance\"', 'documentid': 'id:bookrec:doc::067003665X', 'title': 'The Roald Dahl Treasury'}}, {'id': 'id:bookrec:doc::0192840940', 'relevance': 4.376459291476046, 'source': 'hybridsearchbv_content', 'fields': {'description': \"This is a book <hi>about</hi> the invention of Western philosophy, and the first thinkers to explore ideas <hi>about</hi> the nature of reality, time, and the origin of the universe. It begins with the finding of the new papyrus fragment of Empedocles' poem, and uses the story of its discovery and interpretation to highlight the way our understanding of early philosophers is marked by their presentation in later sources. Generations of philosophers, both ancient and modern, have traced their inspiration back to the presocratics, even though we have very few of their writings left. In this book, Catherine Osborne invites her readers to dip their toes into the fragmentary remains of thinkers from Thales to Pythagoras, Heraclitus to Protagoras, to try to fill in the bits of a jigsaw that has been rejigged many times and in many different ways. <hi>ABOUT</hi> THE SERIES: The Very Short Introductions series from Oxford University Press contains hundreds of titles in almost every subject area. These pocket-sized <hi>books</hi> are the perfect way to get ahead in a new subject quickly. Our expert authors combine facts, analysis, perspective, new ideas, and enthusiasm to make interesting and challenging topics highly readable.\", 'documentid': 'id:bookrec:doc::0192840940', 'title': 'Presocratic Philosophy: A Very Short Introduction'}}, {'id': 'id:bookrec:doc::0440504708', 'relevance': 4.372400876457514, 'source': 'hybridsearchbv_content', 'fields': {'description': \"In a parody of self-help <hi>books</hi>, Al Franken's comic character, Stuart Smalley, describes his own efforts to cope with life over one year\", 'documentid': 'id:bookrec:doc::0440504708', 'title': \"I'm Good Enough, I'm Smart Enough, and Doggone It, People Like Me!\"}}, {'id': 'id:bookrec:doc::0060926961', 'relevance': 4.372400876457514, 'source': 'hybridsearchbv_content', 'fields': {'description': 'From the award-winning poet and novelist—a must-have collection of his four previous <hi>books</hi> of poetry plus a selection of new, unpublished work.', 'documentid': 'id:bookrec:doc::0060926961', 'title': 'The Throne of the Third Heaven of the Nations Millennium General Assembly'}}, {'id': 'id:bookrec:doc::0671854054', 'relevance': 4.372400876457514, 'source': 'hybridsearchbv_content', 'fields': {'description': 'Four exciting stories taken from the log <hi>books</hi> of the USS Enterprise - The Counter-Clock Incident, The Eye of the Beholder, Bem and Slaver Weapon.', 'documentid': 'id:bookrec:doc::0671854054', 'title': 'Star Trek'}}, {'id': 'id:bookrec:doc::0575076267', 'relevance': 4.371097713151635, 'source': 'hybridsearchbv_content', 'fields': {'description': 'The Hyperion <hi>books</hi> are credited with single-handedly reinventing and reinvigorating SF in the 1990s. A broad canvased, hugely imaginative and exciting SF epic, the <hi>books</hi> draw on the works of Keats and provide a uniquely intelligent and literary approach with cutting edge science, compelling characterisation and edge-of-your-seat excitement. The story is continued in ENDYMION and THE RISE OF ENDYMION, which Gollancz will also be publishing in an omnibus volume.', 'documentid': 'id:bookrec:doc::0575076267', 'title': 'The Hyperion Omnibus'}}, {'id': 'id:bookrec:doc::0791081265', 'relevance': 4.303187410807215, 'source': 'hybridsearchbv_content', 'fields': {'description': \"One of Edith Wharton's most critically acclaimed <hi>books</hi>, this Pulitzer Prize-winning novel tells the story of love in the high society of 1870s New York.\", 'documentid': 'id:bookrec:doc::0791081265', 'title': \"Edith Wharton's The Age of Innocence\"}}, {'id': 'id:bookrec:doc::0811201082', 'relevance': 4.294373541964011, 'source': 'hybridsearchbv_content', 'fields': {'description': 'Some writers attempt to conceal the literary influences which have shaped their thinking - but not Henry Miller. In The <hi>Books</hi> in My Life he shares the thrills of discovery that many kinds of <hi>books</hi> have brought to a keenly curious and questioning mind. Some of Miller\\'s favorite writers are the giants whom most of us revere - authors such as Dostoeyvsky, Boccaccio, Walt Whitman, James Joyce, Thomas Mann, Lao-Tse. To them he brings fresh and penetrating insights. But many are lesser-known figures: Krishnamurti, the prophet-sage; the French contemporaries Blaise Cendrars and Jean Giono; Richard Jeffries, who wrote The Story of My Heart ; the Welshman John Cowper Powys; and scores of others. The <hi>Books</hi> in My Life contains some fine autobiographical chapters, too. Miller describes his boyhood in Brooklyn, when he devoured the historical stories of G. A. Henty and the romances of Rider Haggard. He tells of the men and women whom he regards as living <hi>books</hi>\": Lou Jacobs, W. E. B. DuBois, Elizabeth Gurley Flynn, and others. He offers his reminiscences of the New York Theatre in the early 1900\\'s - including plays such as Alias Jimmy Valentine and Nellie, the Beautiful Cloak Model . And finally, in Miller\\'s best vein of humor, he provides a satiric chapter on bathroom reading. In an appendix, Miller lists the hundred <hi>books</hi> that have influenced him most. \"', 'documentid': 'id:bookrec:doc::0811201082', 'title': 'Mémoires, Plaidoiries Et Documents'}}, {'id': 'id:bookrec:doc::0934380236', 'relevance': 4.251465647870036, 'source': 'hybridsearchbv_content', 'fields': {'description': 'There are two classic texts that deal with crowd psychology and the irrational behavior that characterizes large groups of people acting en masse. They are The Crowd, and Extraordinary Popular Delusions and the Madness Crowds. Both <hi>books</hi> provide lucid and witty insights into the madness of crowd psychology, such as the tulipmania in Holland, when the price of tulip bulbs was up to astronomical heights. Both of these <hi>books</hi> are combined into a single volume for the price of one!', 'documentid': 'id:bookrec:doc::0934380236', 'title': 'The Crowd: Extradordinary Popular Delusions: Twin Classics of Crowd Pyschology'}}, {'id': 'id:bookrec:doc::1561633429', 'relevance': 4.236131045462501, 'source': 'hybridsearchbv_content', 'fields': {'description': \"An adaptation of the seven <hi>books</hi> of Proust's masterpiece in graphic novel format, which explores themes of love, art, sexuality, memory, and time in late nineteenth-century France.\", 'documentid': 'id:bookrec:doc::1561633429', 'title': 'Remembrance of Things Past, Part 2'}}, {'id': 'id:bookrec:doc::0965020592', 'relevance': 4.236131045462501, 'source': 'hybridsearchbv_content', 'fields': {'description': 'A bookburner official in a future fascist state finds out <hi>books</hi> are a vital part of a culture he never knew. He clandestinely pursues reading, until he is betrayed.', 'documentid': 'id:bookrec:doc::0965020592', 'title': 'Fahrenheit 451'}}, {'id': 'id:bookrec:doc::0066238501', 'relevance': 4.234296492451864, 'source': 'hybridsearchbv_content', 'fields': {'description': \"Journeys to the end of the world, fantastic creatures, and epic battles between good and evil -- what more could any reader ask for in one book? The book that has it all is The Lion, the Witch and the Wardrobe, written in 1949 by Clive Staples Lewis. But Lewis did not stop there. Six more <hi>books</hi> followed, and together they became known as The Chronicles of Narnia. For the past fifty years, The Chronicles of Narnia have transcended the fantasy genre to become part of the canon of classic literature. Each of the seven <hi>books</hi> is a masterpiece, drawing the reader into a land where magic meets reality, and the result is a fictional world whose scope has fascinated generations. This edition presents all seven <hi>books</hi> -- unabridged -- in one impressive volume. The <hi>books</hi> are presented here according to Lewis' preferred order, each chapter graced with an illustration by the original artist, Pauline Baynes. Deceptively simple and direct, The Chronicles of Narnia continue to captivate fans with adventures, characters, and truths that speak to readers of all ages, even fifty years after they were first published.\", 'documentid': 'id:bookrec:doc::0066238501', 'title': 'The Chronicles of Narnia (adult)'}}, {'id': 'id:bookrec:doc::0375726217', 'relevance': 4.203380505922888, 'source': 'hybridsearchbv_content', 'fields': {'description': 'Describes how libraries across the United States have dismantled collections of original bound newspapers and brittle <hi>books</hi> to replace them with microfilmed copies, exploring the hidden reasons for such policies.', 'documentid': 'id:bookrec:doc::0375726217', 'title': 'Double Fold'}}, {'id': 'id:bookrec:doc::0393064980', 'relevance': 4.203380505922888, 'source': 'hybridsearchbv_content', 'fields': {'description': \"Collects forty-four key segments from the late paleontologist and evolutionary biologist's <hi>books</hi>, papers, and essays, in a collection that includes an assortment of previously unpublished articles and speeches.\", 'documentid': 'id:bookrec:doc::0393064980', 'title': 'The Richness of Life'}}, {'id': 'id:bookrec:doc::0787976385', 'relevance': 4.178515627305318, 'source': 'hybridsearchbv_content', 'fields': {'description': 'In yet another page-turner, New York Times best-selling author and acclaimed management expert Patrick Lencioni addresses the costly and maddening issue of silos, the barriers that create organizational politics. Silos devastate organizations, kill productivity, push good people out the door, and jeopardize the achievement of corporate goals. As with his other <hi>books</hi>, Lencioni writes Silos, Politics, and Turf Wars as a fictional—but eerily realistic—story. The story is <hi>about</hi> Jude Cousins, an eager young management consultant struggling to launch his practice by solving one of the more universal and frustrating problems faced by his clients. Through trial and error, he develops a simple yet ground-breaking approach for helping them transform confusion and infighting into clarity and alignment.', 'documentid': 'id:bookrec:doc::0787976385', 'title': 'Silos, Politics and Turf Wars'}}, {'id': 'id:bookrec:doc::1414306342', 'relevance': 4.108098439159331, 'source': 'hybridsearchbv_content', 'fields': {'description': 'Provides a Christian interpretation of the first six <hi>books</hi>, arguing that the series supports biblical teaching as opposed to the practice of the occult, and offers insights into character names, imagery, and themes.', 'documentid': 'id:bookrec:doc::1414306342', 'title': 'Looking for God in Harry Potter'}}, {'id': 'id:bookrec:doc::1557831572', 'relevance': 4.108098439159331, 'source': 'hybridsearchbv_content', 'fields': {'description': '(Applause <hi>Books</hi>). The complete script to the critically acclaimed play. \"Shakespeare as written by Reader\\'s Digest , acted by Monty Python, and performed at the speed of the minute waltz.\" L.A. Herald', 'documentid': 'id:bookrec:doc::1557831572', 'title': \"The Reduced Shakespeare Company's the Complete Works of William Shakespeare (abridged)\"}}, {'id': 'id:bookrec:doc::0517101351', 'relevance': 4.077290484812356, 'source': 'hybridsearchbv_content', 'fields': {'description': \"Fans of Jurassic Park and Rising Sun, the <hi>books</hi> and the movies, will want to own this collection of Crichton's earlier, technical suspense novels, which includes Congo, Sphere, and Eaters of the Dead.\", 'documentid': 'id:bookrec:doc::0517101351', 'title': 'A New Collection of Three Complete Novels'}}, {'id': 'id:bookrec:doc::0156260379', 'relevance': 4.077290484812356, 'source': 'hybridsearchbv_content', 'fields': {'description': \"Entries interrupted only by her periodic breakdowns record the daily events and activities, enthusiasms and disappointments, and writing tasks in Virginia Woolf's life and her responses to people, <hi>books</hi>, and her own work\", 'documentid': 'id:bookrec:doc::0156260379', 'title': 'The Diary of Virginia Woolf'}}, {'id': 'id:bookrec:doc::0156260395', 'relevance': 4.077290484812356, 'source': 'hybridsearchbv_content', 'fields': {'description': \"Entries interrupted only by her periodic breakdowns record the daily events and activities, enthusiasms and disappointments, and writing tasks in Virginia Woolf's life and her responses to people, <hi>books</hi>, and her own work\", 'documentid': 'id:bookrec:doc::0156260395', 'title': 'The Diary of Virginia Woolf: 1931-1935'}}, {'id': 'id:bookrec:doc::0747566828', 'relevance': 4.046941168550329, 'source': 'hybridsearchbv_content', 'fields': {'description': 'The seventh story in the series featuring all the characters of the previous <hi>books</hi>. Marvin proves his bravery to himself and his friends and family after tackling the terrifyingly steep Suicide Hill on his bike.', 'documentid': 'id:bookrec:doc::0747566828', 'title': 'Super Fast, Out of Control!'}}, {'id': 'id:bookrec:doc::1568821441', 'relevance': 4.015940351994013, 'source': 'hybridsearchbv_content', 'fields': {'description': '[CALL OF CTHULHU ROLEPLAYING] \"The Keeper\\'s Companion\" is an invaluable resource for gamemasters. The material includes advice for new keepers, a lengthy study of Mythos artifacts, a learned discussion of many occult <hi>books</hi>, an up-to-the-moment description of every facet of forensic medicine, a thorough revision and expansion of the game skills (including nearly two dozen new ones), and the entire text of \"The Keeper\\'s Compendium,\" somewhat updated -- forbidden <hi>books</hi>, secret cults, alien races, and mysterious places. Additional short essays and features round out this book -- more than 100,000 words!', 'documentid': 'id:bookrec:doc::1568821441', 'title': \"The Keeper's Companion\"}}, {'id': 'id:bookrec:doc::0471133124', 'relevance': 3.98757808472607, 'source': 'hybridsearchbv_content', 'fields': {'description': 'A study of crowd behavior includes two landmark <hi>books</hi> of the past, Extraordinary Popular Delusions and the Madness of Crowds and Confusions de Confusions, that show how markets are shaped by the fluctuations of mob psychology. Reprint.', 'documentid': 'id:bookrec:doc::0471133124', 'title': 'Extraordinary Popular Delusions and the Madness of Crowds and ConfusiÃ3n de Confusiones'}}, {'id': 'id:bookrec:doc::158134449X', 'relevance': 3.98757808472607, 'source': 'hybridsearchbv_content', 'fields': {'description': \"Arranged as a series of meditations on selected passages from one of the Bible's most beloved <hi>books</hi>, this book is for Christians who, like Job, are experiencing deep suffering and a sense of separation from God.\", 'documentid': 'id:bookrec:doc::158134449X', 'title': 'The Gospel According to Job'}}, {'id': 'id:bookrec:doc::0345449002', 'relevance': 3.98757808472607, 'source': 'hybridsearchbv_content', 'fields': {'description': \"A who's who of the popular series provides profiles of the most important characters from the Star Wars movies, <hi>books</hi>, comics, TV specials, and games, and spotlights individuals from the films of episodes I and II.\", 'documentid': 'id:bookrec:doc::0345449002', 'title': 'Star Wars'}}, {'id': 'id:bookrec:doc::0812971345', 'relevance': 3.958544869131719, 'source': 'hybridsearchbv_content', 'fields': {'description': 'Since 1917 The Modern Library prides itself as \"The modern Library of the world\\'s Best <hi>Books</hi>\". Its paperback series feature treasured classics, major translations of great works, and rediscoveries of keen literary and historical merit. Featuring introduc', 'documentid': 'id:bookrec:doc::0812971345', 'title': 'Kim'}}, {'id': 'id:bookrec:doc::0812971450', 'relevance': 3.958544869131719, 'source': 'hybridsearchbv_content', 'fields': {'description': 'Since 1917 The Modern Library prides itself as \"The modern Library of the world\\'s Best <hi>Books</hi>\". Its paperback series feature treasured classics, major translations of great works, and rediscoveries of keen literary and historical merit. Featuring introduc', 'documentid': 'id:bookrec:doc::0812971450', 'title': 'Rendezvous in Black'}}, {'id': 'id:bookrec:doc::0812975049', 'relevance': 3.958544869131719, 'source': 'hybridsearchbv_content', 'fields': {'description': 'Since 1917 The Modern Library prides itself as \"The modern Library of the world\\'s Best <hi>Books</hi>\". Its paperback series feature treasured classics, major translations of great works, and rediscoveries of keen literary and historical merit. Featuring introduct', 'documentid': 'id:bookrec:doc::0812975049', 'title': 'The Cossacks'}}, {'id': 'id:bookrec:doc::0060760443', 'relevance': 3.947543634869312, 'source': 'hybridsearchbv_content', 'fields': {'description': \"The Reading Group follows the trials and tribulations of a group of women who meet regularly to read and discuss <hi>books</hi>.Over the course of a year, each of these women become intertwined, both in the <hi>books</hi> they read and within each other's lives. Inspired by a shared desire for conversation, a good book and a glass of wine-Clare, Harriet, Nicole, Polly, and Susan undergo startling revelations and transformations despite their differences in background, age and respective dilemmas. What starts as a reading group gradually evolves into a forum where the women may express their views through the <hi>books</hi> they read and grow to become increasingly more open as the bonds of friendship cement. In The Reading Group, Noble reveals the many complicated paths in life we all face as well as the power and importance of friendship. This P.S. edition features an extra 16 pages of insights into the book, including author interviews, recommended reading, and more.\", 'documentid': 'id:bookrec:doc::0060760443', 'title': 'The Reading Group'}}, {'id': 'id:bookrec:doc::1889032204', 'relevance': 3.9457246343850096, 'source': 'hybridsearchbv_content', 'fields': {'description': \"The bookshelves in your home no doubt contain volumes of <hi>books</hi>, manuals, seminar notes, magazine articles, and video and audio cassettes purporting to address parenting from a Christian point of view. With rare exception, however, most of today's Christian parenting resources fail to emphasize what is perhaps the most important aspect of true biblical parenting -- how to relate the Bible to the disciplinary process in practical ways. Think <hi>about</hi> it. With all of your training, do you really know how to use the Bible for doctrine, reproof, correction, and instruction in righteousness with your children? If you do, read no further. If you don't, this little book will augment and strengthen your parenting skills as you learn how to use the scriptures more thoroughly and effectively in your child training. - Back cover.\", 'documentid': 'id:bookrec:doc::1889032204', 'title': 'Teach Them Diligently'}}, {'id': 'id:bookrec:doc::0060652926', 'relevance': 3.9299313743142723, 'source': 'hybridsearchbv_content', 'fields': {'description': \"A forceful and accessible discussion of Christian belief that has become one of the most popular introductions to Christianity and one of the most popular of Lewis's <hi>books</hi>. Uncovers common ground upon which all Christians can stand together.\", 'documentid': 'id:bookrec:doc::0060652926', 'title': 'Mere Christianity'}}, {'id': 'id:bookrec:doc::0786809604', 'relevance': 3.9121932805774704, 'source': 'hybridsearchbv_content', 'fields': {'description': 'Mrs. McBloom, clean up your room!\"For nearly fifty years, that\\'s been the refrain of janitors, principals, and students who enter the chaos of Room Five. Now the beloved Mrs. McBloom-who has taught nearly everyone in the town of Up Yonder, even Principal Pumpernickel-is <hi>about</hi> to retire. Finally, she must clean up her classroom.But where to begin? Years of science experiments have left all kinds of critters hoppin\\' and cluckin\\' and flyin\\' around. Giant sunflowers droop over desks; vines with fat green beans climb the walls; and a full-grown apple tree grows smack-dab in the middle of the floor. There are more <hi>books</hi> stacked in Room Five than in the Up Yonder Library. And who knows what else lurks in the piles of papers or the lost-and-found box?', 'documentid': 'id:bookrec:doc::0786809604', 'title': \"If I Have a Wicked Stepmother, Where's My Prince?\"}}, {'id': 'id:bookrec:doc::042518160X', 'relevance': 3.901728564004906, 'source': 'hybridsearchbv_content', 'fields': {'description': 'The best-selling author offers a subjective tour of favorite <hi>books</hi>, films, and television programs which have met his criteria for great horror, examines the attractions and satisfactions of horror stories, and recounts his own vital encounter with horror. Reprint.', 'documentid': 'id:bookrec:doc::042518160X', 'title': \"Stephen King's Danse Macabre\"}}, {'id': 'id:bookrec:doc::0064435261', 'relevance': 3.8889098318134208, 'source': 'hybridsearchbv_content', 'fields': {'description': \"Long, long ago, a little girl named Laura Ingalls headed west toward the prairie with her Pa, her Ma, her sisters, Mary and Carrie, and their good old bulldog, Jack. They traveled far each day in their covered wagon, driving through tall grass until they found just the right spot for their new home. With the help of their kind neighbor, Mr. Edwards, Pa built a snug little house for the family in the middle of the wide-open prairie. Laura Ingalls Wilder's Little House <hi>books</hi> have been cherished by generations of readers. Now for the first time, the youngest readers can share her adventure in these very special picture <hi>books</hi> adapted from Laura Ingalls Wilder's beloved story-<hi>books</hi>. Renee Graef's warm paintings, inspired by Garth Williams' classic Little House illustrations, bring Laura and her family lovingly to life. Renée Graef recieved her bachelor's degree in art from the University of Wisconsin at Madison. She is the illustrator of teh paper dolls and the Kirsten <hi>books</hi> in the American Girls Collection. She is also an avid hat collector, with over 150 hats at last count. She lives in Milwaukee, Wisconsin, with her huisband, Tim, and thier children, Maggie and Maxfeild.Join the Ingalls family as they pick a special spot on the prairie and build their snug log cabin home. Their new neighbor, Mr. Edwards, comes by to help, and after the hard work is through, everyone sings and dances to the joyful music of Pa's fiddle. Renee Graef's enchanting full-color illustrations, inspired by Garth William's classic artwork, bring Laura and her family lovingly to life in this eleventh title in the My First Little House <hi>Books</hi> series, adapted from Laura Ingalls Wilder's beloved storybooks.\", 'documentid': 'id:bookrec:doc::0064435261', 'title': 'A Little Prairie House'}}, {'id': 'id:bookrec:doc::034547760X', 'relevance': 3.873927659478541, 'source': 'hybridsearchbv_content', 'fields': {'description': 'A comprehensive overview of alien beings from the \"Star Wars\" universe provides a physical description of the beings, a description of their homeworld, and where and when they appeared in the Star Wars films, novels, cartoon series, comic <hi>books</hi>, or videogames.', 'documentid': 'id:bookrec:doc::034547760X', 'title': 'Star Wars'}}, {'id': 'id:bookrec:doc::075660592X', 'relevance': 3.873927659478541, 'source': 'hybridsearchbv_content', 'fields': {'description': 'A richly illustrated reference provides a definitive guide to all of the superheroes and archvillains of the DC universe, featuring more than one thousand different characters, including images from the original comic <hi>books</hi>, from the past sixty years of DC Comics.', 'documentid': 'id:bookrec:doc::075660592X', 'title': 'The DC Comics Encyclopedia'}}, {'id': 'id:bookrec:doc::0064402452', 'relevance': 3.872904657043831, 'source': 'hybridsearchbv_content', 'fields': {'description': \"‘Racso, a brash and boastful little rodent, is making his way to Thorn Valley, determined to learn how to read and write and become a hero. His bragging and lies get him off to a bad start, but a crisis gives him the opportunity to prove his mettle. A worthy successor [to Mrs. Frisby and the Rats of NIMH, a Newbery Medal winner by the author's father].' 'BL. 1986 Children's Editors' Choices (BL) Children's Choices for 1987 (IRA/CBC) Notable 1986 Childrens' Trade <hi>Books</hi> in Social Studies (NCSS/CBC) 1986 Children's <hi>Books</hi> (NY Public Library) Best Science Fiction/Fantasy 1986 (VOYA)\", 'documentid': 'id:bookrec:doc::0064402452', 'title': 'Racso and the Rats of NIMH'}}, {'id': 'id:bookrec:doc::0330334689', 'relevance': 3.8271308194041405, 'source': 'hybridsearchbv_content', 'fields': {'description': 'In an upside-down Lolita, Umberto Umberto pursues a granny with ‘whitely lascivious locks’. Professor Anouk Ooma of Prince Joseph’s Land University addresses his colleagues on recent archaeological findings that shed light on the poetry of Italy before the Explosion. Columbus’s landing in the New World is covered by television reporters, commentators and guest experts. We are permitted to see in-house publisher’s readers’ reports, most of them unfavourable, on such submissions as The Odyssey, Don Quixote, Kant’s Critique of Pure Reason, and the Five <hi>Books</hi> of Moses; and we hear a diatribe, in ancient Greece, against the vulgarity of such upstarts as Herodotus, Thucydides and Plato. ‘For sheer exuberant good humour, nothing could surpass Misreadings, a collection of parodies and squibs that began appearing in the 1950s and 1960s, but whose panache has not faded one bit’ Marina Warner, <hi>Books</hi> of the Year, Independent on Sunday ‘Made up of vintage, good-humoured games – parodies of think-pieces, spoof essays and carnival pranks’ Lorna Sage, <hi>Books</hi> of the Year, Observer', 'documentid': 'id:bookrec:doc::0330334689', 'title': 'Misreadings'}}, {'id': 'id:bookrec:doc::0060919884', 'relevance': 3.792852267852921, 'source': 'hybridsearchbv_content', 'fields': {'description': 'Annie Dillard has written eleven <hi>books</hi>, including the memoir of her parents, An American Childhood; the Northwest pioneer epic The Living; and the nonfiction narrative Pilgrim at Tinker Creek. A gregarious recluse, she is a member of the American Academy of Arts and Letters.', 'documentid': 'id:bookrec:doc::0060919884', 'title': 'The Writing Life'}}, {'id': 'id:bookrec:doc::0140283366', 'relevance': 3.792852267852921, 'source': 'hybridsearchbv_content', 'fields': {'description': \"Startling and bizarre, Kafka's masterpiece tells the story of a young man who becomes an object of disgrace to his family, an outsider in his own home, and a quintessentially alienated man. Part of Penguin's Great <hi>Books</hi> of the 20th Century series.\", 'documentid': 'id:bookrec:doc::0140283366', 'title': 'The Metamorphosis and Other Stories'}}, {'id': 'id:bookrec:doc::0939682044', 'relevance': 3.7665760391513095, 'source': 'hybridsearchbv_content', 'fields': {'description': 'The essential source book for anyone wanting to pursue the SI. A vast compendium of writings from all their major works, <hi>books</hi>, journals, leaflets etc. All the stars are here, and much more. Much of this has been translated into English for the first time.', 'documentid': 'id:bookrec:doc::0939682044', 'title': 'Situationist International Anthology'}}, {'id': 'id:bookrec:doc::0385333900', 'relevance': 3.7406613799519564, 'source': 'hybridsearchbv_content', 'fields': {'description': \"A master of contemporary American literature, Vonnegut has authored 18 highly acclaimed <hi>books</hi> and dozens of short stories and essays. This wry tale follows bumbling bureaucrat Walter F. Starbuck from Harvard to the Nixon White House to the penitentiary as Watergate's least known co-conspirator.\", 'documentid': 'id:bookrec:doc::0385333900', 'title': 'Jailbird'}}, {'id': 'id:bookrec:doc::0806133635', 'relevance': 3.7151008782785326, 'source': 'hybridsearchbv_content', 'fields': {'description': \"First published in 1903, Selections from Homer's Iliad has become a classic Greek textbook. Allen Rogers Benner presents selections from twelve <hi>books</hi> of the Iliad in both Greek and English and short summaries that help students understand the Iliad as a work of literature and art.\", 'documentid': 'id:bookrec:doc::0806133635', 'title': \"Selections from Homer's Iliad\"}}, {'id': 'id:bookrec:doc::0618479031', 'relevance': 3.707403836737596, 'source': 'hybridsearchbv_content', 'fields': {'description': 'The best-selling <hi>books</hi> of Andrew Weil, \"the guru of alternative medicine,\" (San Francisco Examiner) offer a comprehensive blend of traditional and alternative methods that help to achieve better health in the modern world. Natural Health, Natural Medicine is a comprehensive resource for everything you need to know to maintain optimum health and treat common ailments. This landmark book incorporates Dr. Weil’s theories of preventive health maintenance and alternative healing into one extremely useful and readable reference, featuring general diet and nutrition information as well as simple recipes, answers to readers’ most pressing questions, a catalogue of home remedies, invaluable resources, and hundreds of practical tips. This edition includes up-to-the-minute scientific findings and has been expanded to provide trustworthy advice <hi>about</hi> low-carb diets, hormone replacement therapy, Alzheimer’s, attention deficit disorder, reflux disease, autism, type 2 diabetes, erectile dysfunction, the flu, and much more.', 'documentid': 'id:bookrec:doc::0618479031', 'title': 'Natural Health, Natural Medicine'}}, {'id': 'id:bookrec:doc::0316769487', 'relevance': 3.707403836737596, 'source': 'hybridsearchbv_content', 'fields': {'description': 'The \"brilliant, funny, meaningful novel\" (The New Yorker) that established J. D. Salinger as a leading voice in American literature--and that has instilled in millions of readers around the world a lifelong love of <hi>books</hi>. \"If you really want to hear <hi>about</hi> it, the first thing you\\'ll probably want to know is where I was born, and what my lousy childhood was like, and how my parents were occupied and all before they had me, and all that David Copperfield kind of crap, but I don\\'t feel like going into it, if you want to know the truth.\" The hero-narrator of The Catcher in the Rye is an ancient child of sixteen, a native New Yorker named Holden Caufield. Through circumstances that tend to preclude adult, secondhand description, he leaves his prep school in Pennsylvania and goes underground in New York City for three days.', 'documentid': 'id:bookrec:doc::0316769487', 'title': 'The Catcher in the Rye'}}, {'id': 'id:bookrec:doc::0571225551', 'relevance': 3.6898873233683807, 'source': 'hybridsearchbv_content', 'fields': {'description': 'An omnibus edition of the five novels published by Durrell in a kaleidoscopic sequence between 1974 and 1985. The <hi>books</hi> are set mainly in Avignon and the ancient kingdom of Provence, though significant episodes in the quintet are set in the Egyptian desert, Venice, Paris, Vienna and Geneva.', 'documentid': 'id:bookrec:doc::0571225551', 'title': 'The Avignon Quintet'}}, {'id': 'id:bookrec:doc::0060593245', 'relevance': 3.6777855245640594, 'source': 'hybridsearchbv_content', 'fields': {'description': 'Inspired by a landmark exhibition mounted by the British Museum in 1963 to celebrate five eventful centuries of the printed word, Nicholas A. Basbanes offers a lively consideration of writings that have \"made things happen\" in the world, works that have both nudged the course of history and fired the imagination of countless influential people. In his fifth work to examine a specific aspect of book culture, Basbanes also asks what we can know <hi>about</hi> such figures as John Milton, Edward Gibbon, John Locke, Isaac Newton, Samuel Taylor Coleridge, John Adams, Frederick Douglass, Abraham Lincoln, Henry James, Thomas Edison, Helen Keller––even the notorious Marquis de Sade and Adolf Hitler––by knowing what they have read. He shows how <hi>books</hi> that many of these people have consulted, in some cases annotated with their marginal notes, can offer tantalizing clues to the evolution of their character and the development of their thought.', 'documentid': 'id:bookrec:doc::0060593245', 'title': 'Every Book Its Reader'}}, {'id': 'id:bookrec:doc::0761501665', 'relevance': 3.6486367008661342, 'source': 'hybridsearchbv_content', 'fields': {'description': 'In this new and expanded edition of one of the biggest selling financial-planning <hi>books</hi> ever, Chilton simplifies the complex puzzles of personal finance and helps you achieve financial independence. With the help of his fictional barber, Roy, and a large dose of humor, Chilton shows you how you can take control of your financial future slowly, steadily, and with sure success. Chilton\\'s plan (detailed in an entertaining story) is no get-rich-quick scheme, but it does make financial independence possible on nothing more than an average salary. Even if you consider yourself a financial basket-case, Chilton explains how you can easily put an effective financial plan into action.<hi>About</hi> the Author \"David Chilton is the president of Financial Awareness Corporation, a financial consulting firm. \"The Wealthy Barber\" and \"The Wealthy Barber Returns\" TV shows have enjoyed tremendous popularity since first airing on Public Television in the spring of 1993.', 'documentid': 'id:bookrec:doc::0761501665', 'title': 'The Wealthy Barber'}}]}}\n"
     ]
    }
   ],
   "source": [
    "with app.syncio(connections=12) as session:\n",
    "    response: VespaQueryResponse = session.query(\n",
    "        hits=10,\n",
    "        body={\n",
    "            \"yql\": \"select documentid, cord_uid, title, description, abstract from sources * where userQuery() LIMIT 100\",\n",
    "            \"query\": \"books about cooking\",\n",
    "            \"ranking.profile\": \"bm25\",\n",
    "            \"presentation.timing\": True,\n",
    "        },\n",
    "    )\n",
    "    print(response.json)"
   ]
  },
  {
   "cell_type": "code",
   "execution_count": 97,
   "metadata": {},
   "outputs": [
    {
     "name": "stdout",
     "output_type": "stream",
     "text": [
      "Excel file 'books.xlsx' created successfully.\n"
     ]
    }
   ],
   "source": [
    "# Assuming response_boy_talk_animals is a VespaQueryResponse object\n",
    "response_json = response.json\n",
    "\n",
    "# Extracting data\n",
    "data = []\n",
    "for item in response_json['root']['children']:\n",
    "    title = item['fields']['title']\n",
    "    description = item['fields']['description']\n",
    "    binary = ''  # Empty value for the binary column\n",
    "    score = ''   # Empty value for the score column\n",
    "    data.append([title, description, binary, score])\n",
    "\n",
    "# Creating a DataFrame\n",
    "df = pd.DataFrame(data, columns=['title', 'description', 'binary', 'score'])\n",
    "\n",
    "# Saving to Excel\n",
    "df.to_excel('books_cooking.xlsx', index=False)\n",
    "\n",
    "print(\"Excel file 'books.xlsx' created successfully.\")"
   ]
  },
  {
   "cell_type": "code",
   "execution_count": 98,
   "metadata": {},
   "outputs": [
    {
     "name": "stdout",
     "output_type": "stream",
     "text": [
      "{'timing': {'querytime': 0.016, 'summaryfetchtime': 0.135, 'searchtime': 0.153}, 'root': {'id': 'toplevel', 'relevance': 1.0, 'fields': {'totalCount': 294}, 'coverage': {'coverage': 100, 'documents': 6483, 'full': True, 'nodes': 1, 'results': 1, 'resultsFull': 1}, 'children': [{'id': 'id:bookrec:doc::1585675172', 'relevance': 7.574690245391311, 'source': 'hybridsearchbv_content', 'fields': {'description': 'Originally published to glowing reviews in 1972, Dow Mossman\\'s extraordinary debut is a sweeping coming-of-age novel that developed a passionate cult following - even as it went out of print for more than twenty years. It recently inspired director Mark Moskowitz\\'s award-winning documentary film Stone Reader, which was embraced by readers across the country and described by Peter Rainer in New York magazine as \"a marvelous literary <hi>thriller</hi> that gets at the way <hi>books</hi> can stay with people forever.\"', 'documentid': 'id:bookrec:doc::1585675172', 'title': 'The Stones of Summer'}}, {'id': 'id:bookrec:doc::0778322998', 'relevance': 7.098810212109337, 'source': 'hybridsearchbv_content', 'fields': {'description': 'A collection of thirty tales of suspense features contributions from Heather Graham, Lincoln Child, Denise Hamilton, Michael Palmer, Douglas Preston, Alex Kava, Michael Palmer, and John Lescroart.', 'documentid': 'id:bookrec:doc::0778322998', 'title': 'Thriller'}}, {'id': 'id:bookrec:doc::0439436540', 'relevance': 6.790055012402848, 'source': 'hybridsearchbv_content', 'fields': {'description': 'Presents the classic science fiction <hi>thriller</hi> depicting the adventures of the Time Traveler whose fantastic invention carries him into the world of the future.', 'documentid': 'id:bookrec:doc::0439436540', 'title': 'The Time Machine'}}, {'id': 'id:bookrec:doc::034069291X', 'relevance': 6.628828976875653, 'source': 'hybridsearchbv_content', 'fields': {'description': 'As well as being a gripping <hi>thriller</hi>, Crucifix Lane explores topical issues such as genetic engineering, and weaves in Celtic mythology in an original and inventive way.', 'documentid': 'id:bookrec:doc::034069291X', 'title': 'Crucifix Lane'}}, {'id': 'id:bookrec:doc::0517084791', 'relevance': 6.376485541613126, 'source': 'hybridsearchbv_content', 'fields': {'description': 'Three classic scientific suspense novels, Andromeda Strain, The Terminal Man, and The Great Train Robbery, demonstrate what made this master of the potboiling <hi>thriller</hi> the best-selling success that he is today.', 'documentid': 'id:bookrec:doc::0517084791', 'title': 'Three Complete Novels'}}, {'id': 'id:bookrec:doc::0525461310', 'relevance': 6.2340954099336265, 'source': 'hybridsearchbv_content', 'fields': {'description': 'When the boltzman comes to deliver his wish for power, young Chris gets much more than he expected and soon his life is turned inside out in this suspenseful science fiction <hi>thriller</hi> for young readers.', 'documentid': 'id:bookrec:doc::0525461310', 'title': 'Boltzmon!'}}, {'id': 'id:bookrec:doc::0449227944', 'relevance': 6.053848109371663, 'source': 'hybridsearchbv_content', 'fields': {'description': 'In the conclusion to the serial <hi>thriller</hi> by the popular horror writer, newspaperman Oliver Metcalf finds the key to the grisly horrors afflicting the New England town of Blackstone in a mysterious package that arrives on his doorstep. Original.', 'documentid': 'id:bookrec:doc::0449227944', 'title': 'Asylum'}}, {'id': 'id:bookrec:doc::0875428320', 'relevance': 5.964000992319042, 'source': 'hybridsearchbv_content', 'fields': {'description': 'Now you can learn from the original, most important source for magic in the Western world that has ever been published, when you get Agrippa\\'s Three <hi>Books</hi> of Occult Philosophy. This massive volume was originally published in 1531, and occultists have been drawing on it ever since. Now, Llewellyn is proud to produce the first complete reprint of the original English translation in the last 500 years. Donald Tyson edited this work and removed the hundreds of errors that appeared in the original translation. He also fully annotated the work, to make it understandable--and usable--by people today. ·Discover what the Renaissance scholar knew about astrology, medicine, history, herbs, geography, animals, angels, devils, Witches, charms, the weather, and a host of other subjects ·Gain immediate reference to a vast amount of arcane, but completely annotated, magical material ·Find corrected drawings of seals, sigils, and magic squares, and correctly represented geomantic figures ·Explore the practical Kabbalah, geomancy, the magic squares, the elements, the humors, and the Soul of the World ·Consult the new Biographical dictionary for background on each of the hundreds of writers and historical figures referred to by Agrippa ·Consult the new Geographical Dictionary for data on referenced rivers, mountains, nations, cities--many of which now carry different names. The Three <hi>Books</hi> of Occult Philosophyis the most complete repository of pagan and Neoplatonic magic ever compiled. This book is packed with material you will not find elsewhere, including copious extracts on magic from obscure or lost works by Pythagoras, Ptolemy, Plato, Aristotle, and many others. Tyson\\'s detailed annotations clarify difficult references and provide origins of quotations, even expanding upon them in many cases, in order to make Agrippa\\'s work more accessible to the modern reader. The Three <hi>Books</hi> of Occult Philosophy is the ultimate \"how-to\" for magical workings. It describes how to work all manner of divinations and natural and ceremonial magic in such clear and useful detail that it is still the guidefor modern techniques. The extensive new supplementary material makes this wisdom practical for use today. The Three <hi>Books</hi> of Occult Philosophyis an essential reference tool for all students of the occult. Get your copy today.', 'documentid': 'id:bookrec:doc::0875428320', 'title': 'Three Books of Occult Philosophy'}}, {'id': 'id:bookrec:doc::045052468X', 'relevance': 5.802207993364642, 'source': 'hybridsearchbv_content', 'fields': {'description': \"Written by the author of CARRIE, 'SALEM'S LOT, THE SHINING and CHRISTINE, this novel features Thad Beaumont, a Pulitzer Prize-winning author who has developed a lucrative <hi>thriller</hi>-writing alter ego named George Stark. He stops being fun so Beaumont wants to kill him.\", 'documentid': 'id:bookrec:doc::045052468X', 'title': 'The Dark Half'}}, {'id': 'id:bookrec:doc::1400098033', 'relevance': 5.802207993364642, 'source': 'hybridsearchbv_content', 'fields': {'description': 'Nicolai Hel uses his nearly superhuman mental and physical prowess to destroy political terrorists and decides to take on The Mother Company itself, a supermonolith of espionage and economic monopoly, in a twenty-fifth anniversary edition of the classic <hi>thriller</hi>. Reprint. 50,000 first printing.', 'documentid': 'id:bookrec:doc::1400098033', 'title': 'Shibumi'}}, {'id': 'id:bookrec:doc::0851621813', 'relevance': 5.7604760019519095, 'source': 'hybridsearchbv_content', 'fields': {'description': '(Boosey & Hawkes Scores/<hi>Books</hi>). Contains the material from <hi>books</hi> 1, 2 and 3', 'documentid': 'id:bookrec:doc::0851621813', 'title': 'The Complete Theory Fun Factory'}}, {'id': 'id:bookrec:doc::0006496431', 'relevance': 5.533845289242631, 'source': 'hybridsearchbv_content', 'fields': {'description': \"It was easy for Elizabeth. She married the man she loved. It was harder for Ruth. She married Elizabeth's son and then found that, somehow, she could never quite measure up. This <hi>thriller</hi> examines what women want and what they fear, as Ruth confronts the shifting borders of her own sanity.\", 'documentid': 'id:bookrec:doc::0006496431', 'title': 'The Little House'}}, {'id': 'id:bookrec:doc::0553585800', 'relevance': 5.533845289242631, 'source': 'hybridsearchbv_content', 'fields': {'description': 'In the first installment of a trilogy of eco-<hi>thrillers</hi> set in Washington, D.C., environmental aide Charlie Quibler is frustrated in his attempts to prove to a distracted government that global warming has reached cataclysmic levels, a situation that is complicated when a promising technology is exploited for private interests. Reprint.', 'documentid': 'id:bookrec:doc::0553585800', 'title': 'Forty Signs of Rain'}}, {'id': 'id:bookrec:doc::055358295X', 'relevance': 5.391353887949157, 'source': 'hybridsearchbv_content', 'fields': {'description': \"The explosion of the Velvet Venus Theater, an X-rated movie house, makes twenty-one-year-old Rune determined to create a documentary on adult films, but she soon discovers that she is also tracking a killer to her prospective film career forever, in a revised edition of the best-selling author's classic <hi>thriller</hi>. Reprint.\", 'documentid': 'id:bookrec:doc::055358295X', 'title': 'Death of a Blue Movie Star'}}, {'id': 'id:bookrec:doc::0553383434', 'relevance': 5.322824976308952, 'source': 'hybridsearchbv_content', 'fields': {'description': 'In a near-future political <hi>thriller</hi>, a network of investors has a vested and sinister interest in the presidential race, and together the shadowy coalition attempts to control the worldwide economy by using a special biochip implant to control the mind of a presidential candidate. Originally written under the pseudonym of Stephen Bury. Reissue. 30,000 first printing.', 'documentid': 'id:bookrec:doc::0553383434', 'title': 'Interface'}}, {'id': 'id:bookrec:doc::0064404412', 'relevance': 5.300453683766191, 'source': 'hybridsearchbv_content', 'fields': {'description': '\"Culled from 69 stories collected in a [1930s] WPA project, [these 20] tales are organized into sections with themes like \\'Tricksters\\' or \\'Virtues and Vices,\\' each with a thoughtful introduction placing the individual stories in the context of feelings and background of the original tellers. Yep\\'s telling is vigorous, often poetic, imbued with earthy humor and realism touched with fatalism. A handsomely designed collection.\" —K. Notable Children\\'s <hi>Books</hi> of 1989 (ALA) The USA Through Children\\'s <hi>Books</hi> 1990 (ALA) 1989 Boston Globe–Horn Book Award for Nonfiction 1990 Fanfare Honor List (The Horn Book) 1989 Children\\'s Editors\\' Choices (BL) Notable 1989 Children\\'s Trade <hi>Books</hi> in Social Studies (NCSS/CBC) Children\\'s <hi>Books</hi> of 1989 (Library of Congress) 1989 Children\\'s <hi>Books</hi> (NY Public Library) \"The Best <hi>Books</hi>\" 1989 (Parents Magazine)', 'documentid': 'id:bookrec:doc::0064404412', 'title': 'The Rainbow People'}}, {'id': 'id:bookrec:doc::0971316821', 'relevance': 5.241469071190837, 'source': 'hybridsearchbv_content', 'fields': {'description': 'Photography and historical information about the places and faces featured in the Betsy-Tacy Deep Valley <hi>books</hi>. Includes a removable map containing a walking or driving tour of the locations featured in the <hi>books</hi>, bibliographies of <hi>books</hi> by Maud Hart Lovelace, a list of characters and their real-life counterparts, and a membership application for the Betsy-Tacy Society.', 'documentid': 'id:bookrec:doc::0971316821', 'title': \"Maud Hart Lovelace's Deep Valley\"}}, {'id': 'id:bookrec:doc::0060739428', 'relevance': 5.112472653352482, 'source': 'hybridsearchbv_content', 'fields': {'description': 'Originally published: [New York]: Clarion <hi>Books</hi>, 1994.', 'documentid': 'id:bookrec:doc::0060739428', 'title': 'Catherine, Called Birdy (Summer Reading Edition)'}}, {'id': 'id:bookrec:doc::0425144372', 'relevance': 5.065287697002544, 'source': 'hybridsearchbv_content', 'fields': {'description': \"The sudden and surprising assassination of three American officials inColombia. Many people in many places, moving off on missions they all mistakenly thought theyunderstood. The future was too fearful for contemplation, and beyond the expected finish lineswere things that, once decided, were better left unseen. Tom Clancy's new <hi>thriller</hi> is based on America's war on drugs . . . and the covert --and shocking -- U. S. response.\", 'documentid': 'id:bookrec:doc::0425144372', 'title': 'Clear and Present Danger'}}, {'id': 'id:bookrec:doc::0330419641', 'relevance': 4.944561333264415, 'source': 'hybridsearchbv_content', 'fields': {'description': \"'Accomplished and amazing - one of the hottest reads around' DAILY MAIL Set in Washington D.C., this fascinating <hi>thriller</hi> of unparalleled suspense dares to explore an unthinkable abuse of power and criminal conspiracy: a vicious murder involving the US President and a cover-up orchestrared by his zealously loyal Chief of Staff and the Secret Service. But, unknown to the President and his lackeys, one unlikely witness saw everything.Trapped behind a two-way mirror in a country house in Maryland, Luther Whitney, a professional burglar, witnesses an event that destroys his faith in justice. By the time he escapes, pursued by two Secret Service agents, a young woman has been sexually assaulted, then shot dead. And a breathtaking cover-up has been set in motion. 'Baldacci's prose is fluent and amazing . . . this book is sure to make a killing' THE TIMES 'A high-octane legal <hi>thriller</hi>. An almost Shakespearian study in the nature of evil - horror in its purest form' SPECTATOR\", 'documentid': 'id:bookrec:doc::0330419641', 'title': 'Absolute Power'}}, {'id': 'id:bookrec:doc::0714530034', 'relevance': 4.9166107079540895, 'source': 'hybridsearchbv_content', 'fields': {'description': \"Thirty years after its creation, Psycho ramains the yardstick by whicy all other <hi>thrillers</hi> are measured. Stephen Rebello gives readers an intimate glance at the making of this incredible movie from beginning (the true life crime on which Psycho is based) to end (Hitchcock's obsessive instructions to darken theaters and close the curtains for 30 seconds after the opening credits, in order to raise the suspense). 16 pages of photographs.\", 'documentid': 'id:bookrec:doc::0714530034', 'title': 'Alfred Hitchcock and the Making of Psycho'}}, {'id': 'id:bookrec:doc::1567921892', 'relevance': 4.88791655435442, 'source': 'hybridsearchbv_content', 'fields': {'description': '1986 Set on the obligatory English moor, on an isolated cause-way, the story stars an up-and-coming young solicitor who sets out to settle the estate of Mrs. Drablow. Routine affairs quickly give way to a tumble of events and secrets more sinister than any nightmare. This first-class <hi>thriller</hi> - lately reincarnated on the stage - is a brilliant exercise in controlled horror. A real spine-tingler by a real master.', 'documentid': 'id:bookrec:doc::1567921892', 'title': 'The Woman in Black'}}, {'id': 'id:bookrec:doc::0060920645', 'relevance': 4.8394321830575295, 'source': 'hybridsearchbv_content', 'fields': {'description': \"A stunning collection of Annie Dillard's most popular <hi>books</hi> in one volume.\", 'documentid': 'id:bookrec:doc::0060920645', 'title': 'Three by Annie Dillard'}}, {'id': 'id:bookrec:doc::0806128941', 'relevance': 4.837835811841804, 'source': 'hybridsearchbv_content', 'fields': {'description': \"Ovid's Metamorphosesis a weaving-together of classical myths, extending in time from the creation of the world to the death of Julius Caesar. This volume provides the Latin text of the first five <hi>books</hi> of the poem and the most detailed commentary available in English of these <hi>books</hi>.\", 'documentid': 'id:bookrec:doc::0806128941', 'title': \"Ovid's Metamorphoses\"}}, {'id': 'id:bookrec:doc::0064405710', 'relevance': 4.837303922117908, 'source': 'hybridsearchbv_content', 'fields': {'description': \"Increasingly alienated from his widowed father, Vernon joins his friends in ridiculing the neighborhood outcasts'Maxine, an alcoholic prone to outrageous behavior, and Ronald, her retarded son. But when a social service agency tries to put Ronald into a special home, Vernon fights against the move. 1994 Newbery Honor Book Notable Children's <hi>Books</hi> of 1994 (ALA) 1994 Best <hi>Books</hi> for Young Adults (ALA) 1994 Young Adult Editors' Choices (BL) 1994 <hi>Books</hi> for the Teen Age (NY Public Library) Young Adult Choices for 1995 (IRA)\", 'documentid': 'id:bookrec:doc::0064405710', 'title': 'Crazy Lady!'}}, {'id': 'id:bookrec:doc::0471678783', 'relevance': 4.72254715479374, 'source': 'hybridsearchbv_content', 'fields': {'description': \"This is the first full-length account of the CIA's coup d'etat in Iran in 1953—a covert operation whose consequences are still with us today. Written by a noted New York Times journalist, this book is based on documents about the coup (including some lengthy internal CIA reports) that have now been declassified. Stephen Kinzer's compelling narrative is at once a vital piece of history, a cautionary tale, and a real-life espionage <hi>thriller</hi>.\", 'documentid': 'id:bookrec:doc::0471678783', 'title': \"All the Shah's Men\"}}, {'id': 'id:bookrec:doc::0811201120', 'relevance': 4.691718562284096, 'source': 'hybridsearchbv_content', 'fields': {'description': \"Some of the most rewarding pages in Henry Miller's <hi>books</hi> concern his self-education as a writer. He tells, as few great writers ever have, how he set his goals, how he discovered the excitement of using words, how the <hi>books</hi> he read influenced him, and how he learned to draw on his own experience.\", 'documentid': 'id:bookrec:doc::0811201120', 'title': 'Henry Miller on Writing'}}, {'id': 'id:bookrec:doc::0805420436', 'relevance': 4.673050600827091, 'source': 'hybridsearchbv_content', 'fields': {'description': 'A collection of letters from the English author of the Narnia <hi>books</hi> to a variety of children.', 'documentid': 'id:bookrec:doc::0805420436', 'title': 'Letters to Children'}}, {'id': 'id:bookrec:doc::0618056998', 'relevance': 4.673050600827091, 'source': 'hybridsearchbv_content', 'fields': {'description': 'Selected letters discuss his <hi>books</hi>, their meanings, his interests and also reveal his view of the world.', 'documentid': 'id:bookrec:doc::0618056998', 'title': 'The Letters of J.R.R. Tolkien'}}, {'id': 'id:bookrec:doc::0691019622', 'relevance': 4.671562093541972, 'source': 'hybridsearchbv_content', 'fields': {'description': 'The two <hi>books</hi> comprised in this volume are in greater demand than any other works of Kierkegaard. This preference is a credit to the public taste, for Kierkegaard himself called them \"the most perfect <hi>books</hi> I have written,\" though in this commendation he included The Concept of Dread, and later stretched it to include Training in Christianity.', 'documentid': 'id:bookrec:doc::0691019622', 'title': 'Fear and Trembling'}}, {'id': 'id:bookrec:doc::0316853690', 'relevance': 4.6332275543330015, 'source': 'hybridsearchbv_content', 'fields': {'description': 'Two novels in one volume from horror writer Stephen King. The <hi>books</hi> contained are Dead Zone and Cujo.', 'documentid': 'id:bookrec:doc::0316853690', 'title': 'Stephen King Omnibus'}}, {'id': 'id:bookrec:doc::067121148X', 'relevance': 4.6332275543330015, 'source': 'hybridsearchbv_content', 'fields': {'description': \"Writing for an adult audience, the popular children's book author presents a humorous satire of alphabet <hi>books</hi>.\", 'documentid': 'id:bookrec:doc::067121148X', 'title': \"Uncle Shelby'S Abz Book\"}}, {'id': 'id:bookrec:doc::0898702623', 'relevance': 4.60734085343054, 'source': 'hybridsearchbv_content', 'fields': {'description': '\"I\\'ve been a philosopher for all my adult life and the three most profound <hi>books</hi> of philosophy that I have ever read are Ecclesiastes, Job, and Song of Songs.\" These are the opening lines of Kreeft\\'s Three Philosophies of Life. He reflects that there are ultimately only three philosophies of life and each one is represented by one of these <hi>books</hi> of the Bible-life is vanity; life is suffering; life is love. In these three <hi>books</hi> Kreeft shows how we have Dante\\'s great epic The Divine Comedy played out, from Hell to Purgatory to Heaven. But it is an epic played out in our hearts and lives, here and now. Just as there is movement in Dante\\'s epic, so there is movement in these <hi>books</hi>, from Ecclesiates to Job, from Job to Song of Songs. Love is the final answer to Ecclesiastes\\' quest, the alternative to vanity, and the true meaning of life. Finally, Kreeft sees in these <hi>books</hi> the epitome of theological virtues of faith, hope and love and \"an essential summary of the spiritual history of the world.\"', 'documentid': 'id:bookrec:doc::0898702623', 'title': 'Three Philosophies of Life'}}, {'id': 'id:bookrec:doc::0670876127', 'relevance': 4.594077504889436, 'source': 'hybridsearchbv_content', 'fields': {'description': 'A collection of three previously published <hi>books</hi>: Pippi Longstocking, Pippi goes on board, and Pippi in the South Seas.', 'documentid': 'id:bookrec:doc::0670876127', 'title': 'The Adventures of Pippi Longstocking'}}, {'id': 'id:bookrec:doc::1932100598', 'relevance': 4.443877229829551, 'source': 'hybridsearchbv_content', 'fields': {'description': 'Presents a collection of critiques of the works of J. K. Rowling, covering the topics and characters found in the Harry Potter <hi>books</hi>.', 'documentid': 'id:bookrec:doc::1932100598', 'title': 'Mapping the World of Harry Potter'}}, {'id': 'id:bookrec:doc::0380731509', 'relevance': 4.424454774278865, 'source': 'hybridsearchbv_content', 'fields': {'description': 'The extraordinary thirty-story school and its zany inhabitants are back in the long-awaited sequel to the classic SIDEWAYS STORIES FROM WAYSIDE SCHOOL, one of the most popular Camelot <hi>books</hi> ever. /FONTThe extraordinary thirty-story school and its zany inhabitants are back in the long-awaited sequel to the classic SIDEWAYS STORIES FROM WAYSIDE SCHOOL, one of the most popular Camelot <hi>books</hi> ever. \"Rib-tickling...sure-to-please...\"-Kirkus', 'documentid': 'id:bookrec:doc::0380731509', 'title': 'Wayside School Is Falling Down (rack)'}}, {'id': 'id:bookrec:doc::067003665X', 'relevance': 4.407849312448549, 'source': 'hybridsearchbv_content', 'fields': {'description': 'Presents selections from the author\\'s children\\'s <hi>books</hi> arranged in such categories as \"Animals,\" \"Magic,\" \"Family, friends and foes,\" and \"Matters of importance\"', 'documentid': 'id:bookrec:doc::067003665X', 'title': 'The Roald Dahl Treasury'}}, {'id': 'id:bookrec:doc::0671854054', 'relevance': 4.372400876457514, 'source': 'hybridsearchbv_content', 'fields': {'description': 'Four exciting stories taken from the log <hi>books</hi> of the USS Enterprise - The Counter-Clock Incident, The Eye of the Beholder, Bem and Slaver Weapon.', 'documentid': 'id:bookrec:doc::0671854054', 'title': 'Star Trek'}}, {'id': 'id:bookrec:doc::0440504708', 'relevance': 4.372400876457514, 'source': 'hybridsearchbv_content', 'fields': {'description': \"In a parody of self-help <hi>books</hi>, Al Franken's comic character, Stuart Smalley, describes his own efforts to cope with life over one year\", 'documentid': 'id:bookrec:doc::0440504708', 'title': \"I'm Good Enough, I'm Smart Enough, and Doggone It, People Like Me!\"}}, {'id': 'id:bookrec:doc::0060926961', 'relevance': 4.372400876457514, 'source': 'hybridsearchbv_content', 'fields': {'description': 'From the award-winning poet and novelist—a must-have collection of his four previous <hi>books</hi> of poetry plus a selection of new, unpublished work.', 'documentid': 'id:bookrec:doc::0060926961', 'title': 'The Throne of the Third Heaven of the Nations Millennium General Assembly'}}, {'id': 'id:bookrec:doc::0575076267', 'relevance': 4.371097713151635, 'source': 'hybridsearchbv_content', 'fields': {'description': 'The Hyperion <hi>books</hi> are credited with single-handedly reinventing and reinvigorating SF in the 1990s. A broad canvased, hugely imaginative and exciting SF epic, the <hi>books</hi> draw on the works of Keats and provide a uniquely intelligent and literary approach with cutting edge science, compelling characterisation and edge-of-your-seat excitement. The story is continued in ENDYMION and THE RISE OF ENDYMION, which Gollancz will also be publishing in an omnibus volume.', 'documentid': 'id:bookrec:doc::0575076267', 'title': 'The Hyperion Omnibus'}}, {'id': 'id:bookrec:doc::0791081265', 'relevance': 4.303187410807215, 'source': 'hybridsearchbv_content', 'fields': {'description': \"One of Edith Wharton's most critically acclaimed <hi>books</hi>, this Pulitzer Prize-winning novel tells the story of love in the high society of 1870s New York.\", 'documentid': 'id:bookrec:doc::0791081265', 'title': \"Edith Wharton's The Age of Innocence\"}}, {'id': 'id:bookrec:doc::0811201082', 'relevance': 4.294373541964011, 'source': 'hybridsearchbv_content', 'fields': {'description': 'Some writers attempt to conceal the literary influences which have shaped their thinking - but not Henry Miller. In The <hi>Books</hi> in My Life he shares the thrills of discovery that many kinds of <hi>books</hi> have brought to a keenly curious and questioning mind. Some of Miller\\'s favorite writers are the giants whom most of us revere - authors such as Dostoeyvsky, Boccaccio, Walt Whitman, James Joyce, Thomas Mann, Lao-Tse. To them he brings fresh and penetrating insights. But many are lesser-known figures: Krishnamurti, the prophet-sage; the French contemporaries Blaise Cendrars and Jean Giono; Richard Jeffries, who wrote The Story of My Heart ; the Welshman John Cowper Powys; and scores of others. The <hi>Books</hi> in My Life contains some fine autobiographical chapters, too. Miller describes his boyhood in Brooklyn, when he devoured the historical stories of G. A. Henty and the romances of Rider Haggard. He tells of the men and women whom he regards as living <hi>books</hi>\": Lou Jacobs, W. E. B. DuBois, Elizabeth Gurley Flynn, and others. He offers his reminiscences of the New York Theatre in the early 1900\\'s - including plays such as Alias Jimmy Valentine and Nellie, the Beautiful Cloak Model . And finally, in Miller\\'s best vein of humor, he provides a satiric chapter on bathroom reading. In an appendix, Miller lists the hundred <hi>books</hi> that have influenced him most. \"', 'documentid': 'id:bookrec:doc::0811201082', 'title': 'Mémoires, Plaidoiries Et Documents'}}, {'id': 'id:bookrec:doc::0934380236', 'relevance': 4.251465647870036, 'source': 'hybridsearchbv_content', 'fields': {'description': 'There are two classic texts that deal with crowd psychology and the irrational behavior that characterizes large groups of people acting en masse. They are The Crowd, and Extraordinary Popular Delusions and the Madness Crowds. Both <hi>books</hi> provide lucid and witty insights into the madness of crowd psychology, such as the tulipmania in Holland, when the price of tulip bulbs was up to astronomical heights. Both of these <hi>books</hi> are combined into a single volume for the price of one!', 'documentid': 'id:bookrec:doc::0934380236', 'title': 'The Crowd: Extradordinary Popular Delusions: Twin Classics of Crowd Pyschology'}}, {'id': 'id:bookrec:doc::1561633429', 'relevance': 4.236131045462501, 'source': 'hybridsearchbv_content', 'fields': {'description': \"An adaptation of the seven <hi>books</hi> of Proust's masterpiece in graphic novel format, which explores themes of love, art, sexuality, memory, and time in late nineteenth-century France.\", 'documentid': 'id:bookrec:doc::1561633429', 'title': 'Remembrance of Things Past, Part 2'}}, {'id': 'id:bookrec:doc::0965020592', 'relevance': 4.236131045462501, 'source': 'hybridsearchbv_content', 'fields': {'description': 'A bookburner official in a future fascist state finds out <hi>books</hi> are a vital part of a culture he never knew. He clandestinely pursues reading, until he is betrayed.', 'documentid': 'id:bookrec:doc::0965020592', 'title': 'Fahrenheit 451'}}, {'id': 'id:bookrec:doc::0066238501', 'relevance': 4.234296492451864, 'source': 'hybridsearchbv_content', 'fields': {'description': \"Journeys to the end of the world, fantastic creatures, and epic battles between good and evil -- what more could any reader ask for in one book? The book that has it all is The Lion, the Witch and the Wardrobe, written in 1949 by Clive Staples Lewis. But Lewis did not stop there. Six more <hi>books</hi> followed, and together they became known as The Chronicles of Narnia. For the past fifty years, The Chronicles of Narnia have transcended the fantasy genre to become part of the canon of classic literature. Each of the seven <hi>books</hi> is a masterpiece, drawing the reader into a land where magic meets reality, and the result is a fictional world whose scope has fascinated generations. This edition presents all seven <hi>books</hi> -- unabridged -- in one impressive volume. The <hi>books</hi> are presented here according to Lewis' preferred order, each chapter graced with an illustration by the original artist, Pauline Baynes. Deceptively simple and direct, The Chronicles of Narnia continue to captivate fans with adventures, characters, and truths that speak to readers of all ages, even fifty years after they were first published.\", 'documentid': 'id:bookrec:doc::0066238501', 'title': 'The Chronicles of Narnia (adult)'}}, {'id': 'id:bookrec:doc::009930791X', 'relevance': 4.2225431250496825, 'source': 'hybridsearchbv_content', 'fields': {'description': \"What If A Look-Alike Stranger Stole Your Name, Usurped Your Biography, And Went About The World Pretending To Be You? In His Extraordinary New Book, His Most Ingenious And Original Work Since The Counterlife, Phillip Roth Confronts His Double, An Imposter Whose Self-Appointed Task Is To Lead The Jews Out Of Israel And Back To Europe, A Moses In Reverse And A Monstrous Nemesis To The 'Real' Philip Roth. Suspensful, Hilarious Hugely Impassioned, Pulsing With Intelligence And Narrative Energy, Operaton Shylock Is At Once A Spy Story, A Political <hi>Thriller</hi>, A Meditation On Identity, And A Confession.\", 'documentid': 'id:bookrec:doc::009930791X', 'title': 'Operation Shylock'}}, {'id': 'id:bookrec:doc::0393064980', 'relevance': 4.203380505922888, 'source': 'hybridsearchbv_content', 'fields': {'description': \"Collects forty-four key segments from the late paleontologist and evolutionary biologist's <hi>books</hi>, papers, and essays, in a collection that includes an assortment of previously unpublished articles and speeches.\", 'documentid': 'id:bookrec:doc::0393064980', 'title': 'The Richness of Life'}}, {'id': 'id:bookrec:doc::0375726217', 'relevance': 4.203380505922888, 'source': 'hybridsearchbv_content', 'fields': {'description': 'Describes how libraries across the United States have dismantled collections of original bound newspapers and brittle <hi>books</hi> to replace them with microfilmed copies, exploring the hidden reasons for such policies.', 'documentid': 'id:bookrec:doc::0375726217', 'title': 'Double Fold'}}, {'id': 'id:bookrec:doc::0688151329', 'relevance': 4.159628201185269, 'source': 'hybridsearchbv_content', 'fields': {'description': 'Six years before she wrote Little Women, Louisa May Alcott, in financial straits, entered \"Pauline\\'s Passion and Punishment,\" a novelette, in a newspaper contest. Not only did it win the $100 prize, but, published anonymously, it marked the first in the series of \"blood & thunder tales\" that would be her livelihood for years. In Behind a Mask, editor Madeleine Stern introduces four Alcott <hi>thrillers</hi>: \"Pauline\\'s Passion and Punishment,\" \"The Mysterious Key,\" \"The Abbot\\'s Ghost,\" and the title story, \"Behind a Mask.\" First published in one volume in 1975, they are regarded as Alcott\\'s finest work in this genre.', 'documentid': 'id:bookrec:doc::0688151329', 'title': 'Behind a Mask'}}, {'id': 'id:bookrec:doc::1563891891', 'relevance': 4.139071131084022, 'source': 'hybridsearchbv_content', 'fields': {'description': \"The psychological <hi>thriller</hi> 'The mystery play' illustrates the devastating power of fear and accusations as a small-town community is ripped apart from within. When the actor portraying Satan is accused of brutally murdering the actor playing God in a Renaissance festival, a rural English village teeters on the edge of self-destruction. Looking to save the town from itself, a mysterious detective arrives and begins to piece together the clues of the slaying. But even if the enigmatic stranger can solve the disturbing mystery, the revelation of his true identity and past may still lead to the fiery end of the village.\", 'documentid': 'id:bookrec:doc::1563891891', 'title': 'Mystery Play'}}, {'id': 'id:bookrec:doc::0743482794', 'relevance': 4.118767874122826, 'source': 'hybridsearchbv_content', 'fields': {'description': 'Macbeth: The DVD Edition includes everything you\\'ve come to expect from the Folger Shakespeare Library editions of Shakespeare\\'s plays -- facing-page explanatory notes, scene-by-scene plot summaries, illustrations from the Folger archives -- combined here with a bonus DVD of a performance of Macbeth recorded before a rapt audience in the Folger\\'s intimate Elizabethan Theatre. Conceived and directed by Teller (of Penn & Teller) and Aaron Posner, this acclaimed production showcases the inventive magic of Teller, who, with Posner, contributes a new foreword to this edition, writing about their vision of the play as a \"supernatural horror <hi>thriller</hi>.\" Macbeth: The DVD Edition is the perfect volume for those encountering the play for the first time and for those finding brilliant new insights into a classic. THIS DVD EDITION INCLUDES: • DVD of the 2008 Folger Theatre/Two River Theater Company production -- with over 50 minutes of special features, including interviews with the directors, actors, designers, and scholars • Foreword by directors Teller and Aaron Posner on the staging of Macbeth • Freshly edited text based on the 1623 First Folio • Full explanatory notes conveniently placed on pages facing the text of the play • A key to the play\\'s famous lines and phrases • An introduction to reading Shakespeare\\'s language in Macbeth • Illustrations from the Folger Shakespeare Library\\'s vast holdings of rare <hi>books</hi> • An essay by Susan Snyder that provides a modern perspective on the play', 'documentid': 'id:bookrec:doc::0743482794', 'title': 'Macbeth'}}, {'id': 'id:bookrec:doc::1416524797', 'relevance': 4.118716249691516, 'source': 'hybridsearchbv_content', 'fields': {'description': 'The explosive Robert Langdon <hi>thriller</hi> from Dan Brown, the #1 New York Times bestselling author of The Da Vinci Code and Inferno—now a major film directed by Ron Howard and starring Tom Hanks and Felicity Jones. Angels & Demons careens from enlightening epiphanies to dark truths as the battle between science and religion turns to war. This is the book that started it all: we meet Robert Langdon for the first time, caught up in a race against time to find an apocalyptic time-bomb, planted by an ancient secret society that has surfaced to carry out its ultimate threat: to destroy the Vatican.', 'documentid': 'id:bookrec:doc::1416524797', 'title': 'Angels & Demons'}}, {'id': 'id:bookrec:doc::1557831572', 'relevance': 4.108098439159331, 'source': 'hybridsearchbv_content', 'fields': {'description': '(Applause <hi>Books</hi>). The complete script to the critically acclaimed play. \"Shakespeare as written by Reader\\'s Digest , acted by Monty Python, and performed at the speed of the minute waltz.\" L.A. Herald', 'documentid': 'id:bookrec:doc::1557831572', 'title': \"The Reduced Shakespeare Company's the Complete Works of William Shakespeare (abridged)\"}}, {'id': 'id:bookrec:doc::1414306342', 'relevance': 4.108098439159331, 'source': 'hybridsearchbv_content', 'fields': {'description': 'Provides a Christian interpretation of the first six <hi>books</hi>, arguing that the series supports biblical teaching as opposed to the practice of the occult, and offers insights into character names, imagery, and themes.', 'documentid': 'id:bookrec:doc::1414306342', 'title': 'Looking for God in Harry Potter'}}, {'id': 'id:bookrec:doc::0156260395', 'relevance': 4.077290484812356, 'source': 'hybridsearchbv_content', 'fields': {'description': \"Entries interrupted only by her periodic breakdowns record the daily events and activities, enthusiasms and disappointments, and writing tasks in Virginia Woolf's life and her responses to people, <hi>books</hi>, and her own work\", 'documentid': 'id:bookrec:doc::0156260395', 'title': 'The Diary of Virginia Woolf: 1931-1935'}}, {'id': 'id:bookrec:doc::0517101351', 'relevance': 4.077290484812356, 'source': 'hybridsearchbv_content', 'fields': {'description': \"Fans of Jurassic Park and Rising Sun, the <hi>books</hi> and the movies, will want to own this collection of Crichton's earlier, technical suspense novels, which includes Congo, Sphere, and Eaters of the Dead.\", 'documentid': 'id:bookrec:doc::0517101351', 'title': 'A New Collection of Three Complete Novels'}}, {'id': 'id:bookrec:doc::0156260379', 'relevance': 4.077290484812356, 'source': 'hybridsearchbv_content', 'fields': {'description': \"Entries interrupted only by her periodic breakdowns record the daily events and activities, enthusiasms and disappointments, and writing tasks in Virginia Woolf's life and her responses to people, <hi>books</hi>, and her own work\", 'documentid': 'id:bookrec:doc::0156260379', 'title': 'The Diary of Virginia Woolf'}}, {'id': 'id:bookrec:doc::0747566828', 'relevance': 4.046941168550329, 'source': 'hybridsearchbv_content', 'fields': {'description': 'The seventh story in the series featuring all the characters of the previous <hi>books</hi>. Marvin proves his bravery to himself and his friends and family after tackling the terrifyingly steep Suicide Hill on his bike.', 'documentid': 'id:bookrec:doc::0747566828', 'title': 'Super Fast, Out of Control!'}}, {'id': 'id:bookrec:doc::006446234X', 'relevance': 4.033152204148257, 'source': 'hybridsearchbv_content', 'fields': {'description': 'The pioneer spirit lives on... Readers around the world know and love Laura, the little girl born in the Big Woods of Wisconsin and raised in covered wagons and on wide open prairies. Now Little House fans can learn more about \"Half-pint\" in this, the first picture book biography book of Laura Ingalls Wilder. With a simple, glowing text by noted historian and Little House scholar William Anderson, and glorious paintings by Dan Andreasen, Pioneer Girl is a very special portrait of a writer whose classic <hi>books</hi> and poineer adventures have made her one of the most popular literary figures in America. This picture-book biography of Laura Ingalls Wilder tells the remarkable story of the pioneer girl who would one day immortalize her adventures in the beloved Little House <hi>books</hi>. Written in simple, glowing text by noted Little House scholar William Anderson, and illustrated with glorious paintings by artist Dan Andreasen, this wonderful first biography captures the very essence of the little girl called ‘Half-pint,\\' whose classic <hi>books</hi> and pioneer adventures have made her one of the most popular literary figures in America. This picture-book biography of Laura Ingalls Wilder tells the remarkable story of the pioneer girl who would one day immortalize her adventures in the beloved Little House <hi>books</hi>. Written in simple, glowing text by noted Little House scholar William Anderson, and illustrated with glorious paintings by artist Dan Andreasen, this wonderful first biography captures the very essence of the little girl called ‘Half-pint,’ whose classic <hi>books</hi> and pioneer adventures have made her one of the most popular literary figures in America.', 'documentid': 'id:bookrec:doc::006446234X', 'title': 'Pioneer Girl'}}, {'id': 'id:bookrec:doc::1568821441', 'relevance': 4.015940351994013, 'source': 'hybridsearchbv_content', 'fields': {'description': '[CALL OF CTHULHU ROLEPLAYING] \"The Keeper\\'s Companion\" is an invaluable resource for gamemasters. The material includes advice for new keepers, a lengthy study of Mythos artifacts, a learned discussion of many occult <hi>books</hi>, an up-to-the-moment description of every facet of forensic medicine, a thorough revision and expansion of the game skills (including nearly two dozen new ones), and the entire text of \"The Keeper\\'s Compendium,\" somewhat updated -- forbidden <hi>books</hi>, secret cults, alien races, and mysterious places. Additional short essays and features round out this book -- more than 100,000 words!', 'documentid': 'id:bookrec:doc::1568821441', 'title': \"The Keeper's Companion\"}}, {'id': 'id:bookrec:doc::0060736259', 'relevance': 4.015940351994013, 'source': 'hybridsearchbv_content', 'fields': {'description': 'Fifteen years ago Francesca Lia Block made a dazzling entrance into the literary scene with what would become one of the most talked-about <hi>books</hi> of the decade: Weetzie Bat. This poetic roller coaster swoop has a sleek new design to match its new sister and brother <hi>books</hi>, Goat Girls and Beautiful Boys. Rediscover the magic of Weetzie Bat, Ms. Blocks sophisticated, slinkster-cool love song to L.A.the book that shattered the standard, captivated readers of all generations, and made Francesca Lia Block one of the most heralded authors of the last decade.', 'documentid': 'id:bookrec:doc::0060736259', 'title': 'Weetzie Bat'}}, {'id': 'id:bookrec:doc::0826414753', 'relevance': 3.98757808472607, 'source': 'hybridsearchbv_content', 'fields': {'description': 'A brilliant idea--short, perceptive <hi>books</hi> which tell you what you need to know about some of the most vibrant and challenging writing around today--a bit like having a reading group in your pocket. IAN RANKIN', 'documentid': 'id:bookrec:doc::0826414753', 'title': \"Gabriel Garcia Marquez's Love in the Time of Cholera\"}}, {'id': 'id:bookrec:doc::0471133124', 'relevance': 3.98757808472607, 'source': 'hybridsearchbv_content', 'fields': {'description': 'A study of crowd behavior includes two landmark <hi>books</hi> of the past, Extraordinary Popular Delusions and the Madness of Crowds and Confusions de Confusions, that show how markets are shaped by the fluctuations of mob psychology. Reprint.', 'documentid': 'id:bookrec:doc::0471133124', 'title': 'Extraordinary Popular Delusions and the Madness of Crowds and ConfusiÃ3n de Confusiones'}}, {'id': 'id:bookrec:doc::0345449002', 'relevance': 3.98757808472607, 'source': 'hybridsearchbv_content', 'fields': {'description': \"A who's who of the popular series provides profiles of the most important characters from the Star Wars movies, <hi>books</hi>, comics, TV specials, and games, and spotlights individuals from the films of episodes I and II.\", 'documentid': 'id:bookrec:doc::0345449002', 'title': 'Star Wars'}}, {'id': 'id:bookrec:doc::158134449X', 'relevance': 3.98757808472607, 'source': 'hybridsearchbv_content', 'fields': {'description': \"Arranged as a series of meditations on selected passages from one of the Bible's most beloved <hi>books</hi>, this book is for Christians who, like Job, are experiencing deep suffering and a sense of separation from God.\", 'documentid': 'id:bookrec:doc::158134449X', 'title': 'The Gospel According to Job'}}, {'id': 'id:bookrec:doc::0812971450', 'relevance': 3.958544869131719, 'source': 'hybridsearchbv_content', 'fields': {'description': 'Since 1917 The Modern Library prides itself as \"The modern Library of the world\\'s Best <hi>Books</hi>\". Its paperback series feature treasured classics, major translations of great works, and rediscoveries of keen literary and historical merit. Featuring introduc', 'documentid': 'id:bookrec:doc::0812971450', 'title': 'Rendezvous in Black'}}, {'id': 'id:bookrec:doc::0812971345', 'relevance': 3.958544869131719, 'source': 'hybridsearchbv_content', 'fields': {'description': 'Since 1917 The Modern Library prides itself as \"The modern Library of the world\\'s Best <hi>Books</hi>\". Its paperback series feature treasured classics, major translations of great works, and rediscoveries of keen literary and historical merit. Featuring introduc', 'documentid': 'id:bookrec:doc::0812971345', 'title': 'Kim'}}, {'id': 'id:bookrec:doc::0812975049', 'relevance': 3.958544869131719, 'source': 'hybridsearchbv_content', 'fields': {'description': 'Since 1917 The Modern Library prides itself as \"The modern Library of the world\\'s Best <hi>Books</hi>\". Its paperback series feature treasured classics, major translations of great works, and rediscoveries of keen literary and historical merit. Featuring introduct', 'documentid': 'id:bookrec:doc::0812975049', 'title': 'The Cossacks'}}, {'id': 'id:bookrec:doc::0060760443', 'relevance': 3.947543634869312, 'source': 'hybridsearchbv_content', 'fields': {'description': \"The Reading Group follows the trials and tribulations of a group of women who meet regularly to read and discuss <hi>books</hi>.Over the course of a year, each of these women become intertwined, both in the <hi>books</hi> they read and within each other's lives. Inspired by a shared desire for conversation, a good book and a glass of wine-Clare, Harriet, Nicole, Polly, and Susan undergo startling revelations and transformations despite their differences in background, age and respective dilemmas. What starts as a reading group gradually evolves into a forum where the women may express their views through the <hi>books</hi> they read and grow to become increasingly more open as the bonds of friendship cement. In The Reading Group, Noble reveals the many complicated paths in life we all face as well as the power and importance of friendship. This P.S. edition features an extra 16 pages of insights into the book, including author interviews, recommended reading, and more.\", 'documentid': 'id:bookrec:doc::0060760443', 'title': 'The Reading Group'}}, {'id': 'id:bookrec:doc::0679732543', 'relevance': 3.9441494853535155, 'source': 'hybridsearchbv_content', 'fields': {'description': \"Once upon a time Eddie played concert piano to reverent audiences at Carnegie Hall. Now he bangs out honky-tonk for drunks in a dive in Philadelphia. But then two people walk into Eddie's life--the first promising Eddie a future, the other dragging him back into a treacherous past. Shoot the Piano Player is a bittersweet and nerve-racking exploration of different kinds of loyalty: the kind a man owes his family, no matter how bad that family is; the kind a man owes a woman; and, ultimately, the loyalty he owes himself. The result is a moody <hi>thriller</hi> that, like the best hard-boiled fiction, carries a moral depth charge.\", 'documentid': 'id:bookrec:doc::0679732543', 'title': 'Shoot the Piano Player'}}, {'id': 'id:bookrec:doc::0060652926', 'relevance': 3.9299313743142723, 'source': 'hybridsearchbv_content', 'fields': {'description': \"A forceful and accessible discussion of Christian belief that has become one of the most popular introductions to Christianity and one of the most popular of Lewis's <hi>books</hi>. Uncovers common ground upon which all Christians can stand together.\", 'documentid': 'id:bookrec:doc::0060652926', 'title': 'Mere Christianity'}}, {'id': 'id:bookrec:doc::057120905X', 'relevance': 3.9256623287555836, 'source': 'hybridsearchbv_content', 'fields': {'description': \"In the final days of the Second World War, Hugh Selwyn Mauberley scrawls his desperate account on the walls and ceilings of his ice-cold prison high in the Austrian Alps. Officers of the liberating army discover his frozen, disfigured corpse and his astonishing testament - the sordid truth that he alone possessed. Fascinated but horrified, they learn of a dazzling array of characters caught up in a scandal and political corruption.Famous Last Words is part-<hi>thriller</hi>, part-horror story; it is also a meditation on history and the human soul and it is Findley's fine achievement that he has combined these elements into a web that constantly surprises and astounds the reader.\", 'documentid': 'id:bookrec:doc::057120905X', 'title': 'Famous Last Words'}}, {'id': 'id:bookrec:doc::1840237872', 'relevance': 3.901728564004906, 'source': 'hybridsearchbv_content', 'fields': {'description': \"Harvey Pekar is a true American original, known by many as the blue-collar Mark Twain. For over 25 years he's been writing comic <hi>books</hi> about his life, chronicling the ordinary and everyday in stories both funny and moving.\", 'documentid': 'id:bookrec:doc::1840237872', 'title': \"American Splendor Presents Bob and Harv's Comics\"}}, {'id': 'id:bookrec:doc::042518160X', 'relevance': 3.901728564004906, 'source': 'hybridsearchbv_content', 'fields': {'description': 'The best-selling author offers a subjective tour of favorite <hi>books</hi>, films, and television programs which have met his criteria for great horror, examines the attractions and satisfactions of horror stories, and recounts his own vital encounter with horror. Reprint.', 'documentid': 'id:bookrec:doc::042518160X', 'title': \"Stephen King's Danse Macabre\"}}, {'id': 'id:bookrec:doc::0064435261', 'relevance': 3.8889098318134208, 'source': 'hybridsearchbv_content', 'fields': {'description': \"Long, long ago, a little girl named Laura Ingalls headed west toward the prairie with her Pa, her Ma, her sisters, Mary and Carrie, and their good old bulldog, Jack. They traveled far each day in their covered wagon, driving through tall grass until they found just the right spot for their new home. With the help of their kind neighbor, Mr. Edwards, Pa built a snug little house for the family in the middle of the wide-open prairie. Laura Ingalls Wilder's Little House <hi>books</hi> have been cherished by generations of readers. Now for the first time, the youngest readers can share her adventure in these very special picture <hi>books</hi> adapted from Laura Ingalls Wilder's beloved story-<hi>books</hi>. Renee Graef's warm paintings, inspired by Garth Williams' classic Little House illustrations, bring Laura and her family lovingly to life. Renée Graef recieved her bachelor's degree in art from the University of Wisconsin at Madison. She is the illustrator of teh paper dolls and the Kirsten <hi>books</hi> in the American Girls Collection. She is also an avid hat collector, with over 150 hats at last count. She lives in Milwaukee, Wisconsin, with her huisband, Tim, and thier children, Maggie and Maxfeild.Join the Ingalls family as they pick a special spot on the prairie and build their snug log cabin home. Their new neighbor, Mr. Edwards, comes by to help, and after the hard work is through, everyone sings and dances to the joyful music of Pa's fiddle. Renee Graef's enchanting full-color illustrations, inspired by Garth William's classic artwork, bring Laura and her family lovingly to life in this eleventh title in the My First Little House <hi>Books</hi> series, adapted from Laura Ingalls Wilder's beloved storybooks.\", 'documentid': 'id:bookrec:doc::0064435261', 'title': 'A Little Prairie House'}}, {'id': 'id:bookrec:doc::075660592X', 'relevance': 3.873927659478541, 'source': 'hybridsearchbv_content', 'fields': {'description': 'A richly illustrated reference provides a definitive guide to all of the superheroes and archvillains of the DC universe, featuring more than one thousand different characters, including images from the original comic <hi>books</hi>, from the past sixty years of DC Comics.', 'documentid': 'id:bookrec:doc::075660592X', 'title': 'The DC Comics Encyclopedia'}}, {'id': 'id:bookrec:doc::034547760X', 'relevance': 3.873927659478541, 'source': 'hybridsearchbv_content', 'fields': {'description': 'A comprehensive overview of alien beings from the \"Star Wars\" universe provides a physical description of the beings, a description of their homeworld, and where and when they appeared in the Star Wars films, novels, cartoon series, comic <hi>books</hi>, or videogames.', 'documentid': 'id:bookrec:doc::034547760X', 'title': 'Star Wars'}}, {'id': 'id:bookrec:doc::0064402452', 'relevance': 3.872904657043831, 'source': 'hybridsearchbv_content', 'fields': {'description': \"‘Racso, a brash and boastful little rodent, is making his way to Thorn Valley, determined to learn how to read and write and become a hero. His bragging and lies get him off to a bad start, but a crisis gives him the opportunity to prove his mettle. A worthy successor [to Mrs. Frisby and the Rats of NIMH, a Newbery Medal winner by the author's father].' 'BL. 1986 Children's Editors' Choices (BL) Children's Choices for 1987 (IRA/CBC) Notable 1986 Childrens' Trade <hi>Books</hi> in Social Studies (NCSS/CBC) 1986 Children's <hi>Books</hi> (NY Public Library) Best Science Fiction/Fantasy 1986 (VOYA)\", 'documentid': 'id:bookrec:doc::0064402452', 'title': 'Racso and the Rats of NIMH'}}, {'id': 'id:bookrec:doc::0439314550', 'relevance': 3.846520130443401, 'source': 'hybridsearchbv_content', 'fields': {'description': 'From her birth in Chipping Sodbury near Bristol, England, to the stories about her favorite teachers, to the funny misunderstanding in her first fan letter, the life of the author of the Harry Potter <hi>books</hi> is revealed. Original. 250,000 first printing.', 'documentid': 'id:bookrec:doc::0439314550', 'title': 'Conversations with J.K. Rowling'}}, {'id': 'id:bookrec:doc::0330334689', 'relevance': 3.8271308194041405, 'source': 'hybridsearchbv_content', 'fields': {'description': 'In an upside-down Lolita, Umberto Umberto pursues a granny with ‘whitely lascivious locks’. Professor Anouk Ooma of Prince Joseph’s Land University addresses his colleagues on recent archaeological findings that shed light on the poetry of Italy before the Explosion. Columbus’s landing in the New World is covered by television reporters, commentators and guest experts. We are permitted to see in-house publisher’s readers’ reports, most of them unfavourable, on such submissions as The Odyssey, Don Quixote, Kant’s Critique of Pure Reason, and the Five <hi>Books</hi> of Moses; and we hear a diatribe, in ancient Greece, against the vulgarity of such upstarts as Herodotus, Thucydides and Plato. ‘For sheer exuberant good humour, nothing could surpass Misreadings, a collection of parodies and squibs that began appearing in the 1950s and 1960s, but whose panache has not faded one bit’ Marina Warner, <hi>Books</hi> of the Year, Independent on Sunday ‘Made up of vintage, good-humoured games – parodies of think-pieces, spoof essays and carnival pranks’ Lorna Sage, <hi>Books</hi> of the Year, Observer', 'documentid': 'id:bookrec:doc::0330334689', 'title': 'Misreadings'}}, {'id': 'id:bookrec:doc::0140283366', 'relevance': 3.792852267852921, 'source': 'hybridsearchbv_content', 'fields': {'description': \"Startling and bizarre, Kafka's masterpiece tells the story of a young man who becomes an object of disgrace to his family, an outsider in his own home, and a quintessentially alienated man. Part of Penguin's Great <hi>Books</hi> of the 20th Century series.\", 'documentid': 'id:bookrec:doc::0140283366', 'title': 'The Metamorphosis and Other Stories'}}, {'id': 'id:bookrec:doc::0060919884', 'relevance': 3.792852267852921, 'source': 'hybridsearchbv_content', 'fields': {'description': 'Annie Dillard has written eleven <hi>books</hi>, including the memoir of her parents, An American Childhood; the Northwest pioneer epic The Living; and the nonfiction narrative Pilgrim at Tinker Creek. A gregarious recluse, she is a member of the American Academy of Arts and Letters.', 'documentid': 'id:bookrec:doc::0060919884', 'title': 'The Writing Life'}}, {'id': 'id:bookrec:doc::0939682044', 'relevance': 3.7665760391513095, 'source': 'hybridsearchbv_content', 'fields': {'description': 'The essential source book for anyone wanting to pursue the SI. A vast compendium of writings from all their major works, <hi>books</hi>, journals, leaflets etc. All the stars are here, and much more. Much of this has been translated into English for the first time.', 'documentid': 'id:bookrec:doc::0939682044', 'title': 'Situationist International Anthology'}}, {'id': 'id:bookrec:doc::0374280398', 'relevance': 3.7406613799519564, 'source': 'hybridsearchbv_content', 'fields': {'description': \"McPhee's <hi>books</hi> are about real people in real places. Over the past eight years, McPhee has spent considerable time in the company of people who work in freight transportation. This is his sketchbook of them and of his journeys with them. He rides from Atl\", 'documentid': 'id:bookrec:doc::0374280398', 'title': 'Uncommon Carriers'}}, {'id': 'id:bookrec:doc::0385333900', 'relevance': 3.7406613799519564, 'source': 'hybridsearchbv_content', 'fields': {'description': \"A master of contemporary American literature, Vonnegut has authored 18 highly acclaimed <hi>books</hi> and dozens of short stories and essays. This wry tale follows bumbling bureaucrat Walter F. Starbuck from Harvard to the Nixon White House to the penitentiary as Watergate's least known co-conspirator.\", 'documentid': 'id:bookrec:doc::0385333900', 'title': 'Jailbird'}}, {'id': 'id:bookrec:doc::0806133635', 'relevance': 3.7151008782785326, 'source': 'hybridsearchbv_content', 'fields': {'description': \"First published in 1903, Selections from Homer's Iliad has become a classic Greek textbook. Allen Rogers Benner presents selections from twelve <hi>books</hi> of the Iliad in both Greek and English and short summaries that help students understand the Iliad as a work of literature and art.\", 'documentid': 'id:bookrec:doc::0806133635', 'title': \"Selections from Homer's Iliad\"}}, {'id': 'id:bookrec:doc::0571225551', 'relevance': 3.6898873233683807, 'source': 'hybridsearchbv_content', 'fields': {'description': 'An omnibus edition of the five novels published by Durrell in a kaleidoscopic sequence between 1974 and 1985. The <hi>books</hi> are set mainly in Avignon and the ancient kingdom of Provence, though significant episodes in the quintet are set in the Egyptian desert, Venice, Paris, Vienna and Geneva.', 'documentid': 'id:bookrec:doc::0571225551', 'title': 'The Avignon Quintet'}}, {'id': 'id:bookrec:doc::0060511133', 'relevance': 3.6677857103134315, 'source': 'hybridsearchbv_content', 'fields': {'description': \"When an exquisitely crafted, authentic imperial Faberge egg mysteriously shows up at Laurel Swann's home studio, she knows it can only be from one person—her father, who has drifted in and out of her life for as long as she can remember. But this time Jamie Swann leaves her something too many people will kill for. Out of her league and desperate, Laurel is forced to accept help from the very man who is trying to ensnare her father in his own web of double crosses. Cruz Rowan can help her stay alive, but will he do the same for her father? Elizabeth Lowell, writing as Ann Maxwell, deftly combines the nonstop action of a spy <hi>thriller</hi> with the heart-pounding excitement of true love and adventure.\", 'documentid': 'id:bookrec:doc::0060511133', 'title': 'Whirlpool'}}, {'id': 'id:bookrec:doc::0674992407', 'relevance': 3.5923650263258864, 'source': 'hybridsearchbv_content', 'fields': {'description': 'These volumes contain the teachings (\"Discourses\") of the slave-philosopher Epictetus (55 A.D-135 AD). Also included in volume 2 are \"Fragments\", additional pieces from other (now lost) <hi>books</hi> of the \"Discourses\"; and \"The Encheirdion\", a collection of practical precepts for stoicism which can be seen as a handbook for life.', 'documentid': 'id:bookrec:doc::0674992407', 'title': 'Epictetus'}}, {'id': 'id:bookrec:doc::0874778719', 'relevance': 3.5923650263258864, 'source': 'hybridsearchbv_content', 'fields': {'description': 'The pioneering creator of transformative workshops and <hi>books</hi>, Dr. Jean Houston here explores the nature of spiritual yearning and demonstrates to readers how to facilitate a personal quest for fulfillment by focusing on the aspects of Sacred Psychology. Houston provides a passport to the wondrous and tragic dimensions of the human psyche.', 'documentid': 'id:bookrec:doc::0874778719', 'title': 'The Search for the Beloved'}}, {'id': 'id:bookrec:doc::0768423481', 'relevance': 3.5923650263258864, 'source': 'hybridsearchbv_content', 'fields': {'description': \"Experiencing Father's Embrace is an excellent resource for anyone interested in growing or ministering in the Father's love message. The author's style of writing makes this book easy to read, yet it is one of the most thorough and profoundly impacting <hi>books</hi> available on knowing God as a Father.\", 'documentid': 'id:bookrec:doc::0768423481', 'title': \"Experiencing Father's Embrace\"}}, {'id': 'id:bookrec:doc::0486287599', 'relevance': 3.5923650263258864, 'source': 'hybridsearchbv_content', 'fields': {'description': \"Treasury of five shorter works by the author of Gulliver's Travels offers ample evidence of the great satirist's inspired lampoonery. Title piece plus The Battle of the <hi>Books</hi>, A Meditation Upon a Broom-Stick, A Discourse Concerning the Mechanical Operation of the Spirit and The Abolishing of Christianity in England.\", 'documentid': 'id:bookrec:doc::0486287599', 'title': 'A Modest Proposal and Other Satirical Works'}}, {'id': 'id:bookrec:doc::081121592X', 'relevance': 3.544654850931674, 'source': 'hybridsearchbv_content', 'fields': {'description': \"Vogelstein is a loner who has always lived among <hi>books</hi>. Suddenly, fate grabs hold of his insignificant life and carries him off to Buenos Aires, to a conference on Edgar Allan Poe, the inventor of the modern detective story. There Vogelstein meets his idol, Jorge Luis Borges, and for reasons that a mere passion for literature cannot explain, he finds himself at the center of a murder investigation that involves arcane demons, the mysteries of the Kaballah, the possible destruction of the world, and the Elizabethan magus John Dee's theory of the Eternal Orangutan, which, given all the time in the world, would end up writing all the known <hi>books</hi> in the cosmos. Verissimo's small masterpiece is at once a literary tour de force and a brilliant mystery novel.\", 'documentid': 'id:bookrec:doc::081121592X', 'title': 'Borges and the Eternal Orangutans'}}, {'id': 'id:bookrec:doc::0060511117', 'relevance': 3.533137440154874, 'source': 'hybridsearchbv_content', 'fields': {'description': 'Starring everyone\\'s favourite literal–minded housekeeper, Amelia Bedelia Helps Out appears for the first time in full colour and as an I Can Read Book! A neighbor needs Amelia Bedelia\\'s helping hands, so everyone\\'s favorite housekeeper is off to Miss Emma\\'s house for a day of work. It\\'s a good thing Miss Emma likes to laugh, because Amelia Bedelia makes her usual merry mess! \" Available for the first time in full color! \" The zany antics of Amelia Bedelia, one of children\\'s <hi>books</hi> most lovable characters, have been enjoyed by kids for more than 40 years! \" Herman Parish, nephew to Peggy Parish, who was the original creator of Amelia Bedelia, carries on the tradition of his aunt with new <hi>books</hi> starring the entertaining housekeeper. Ages 4–8', 'documentid': 'id:bookrec:doc::0060511117', 'title': 'Amelia Bedelia Helps Out'}}, {'id': 'id:bookrec:doc::0061094234', 'relevance': 3.5287053914838347, 'source': 'hybridsearchbv_content', 'fields': {'description': 'On the heels of his New York Times bestseller Choke, Stuart Woods brings back one of his best-loved characters, Stone Barrington, in a glittering roller-coaster ride through the murderous world of high-profile celebrity gossip. Feared and disliked for both her poison pen and ice-queen persona, gossip columnist Amanda Dart finds the tables have turned. When an anonymous gossipmonger begins faxing the scathing details of Amanda\\'s sexual indiscretions to national opinion makers, she turns to Stone Barrington for help. But as the faxes also expose other members of the gossip \"community,\" it becomes apparent that the most respected of the social scene will stop at nothing--even murder--to clear their names. Set against a backdrop of glitzy Manhattan society, Dirt is a sexy, fast-paced and witty <hi>thriller</hi>--Stuart Woods at his best.', 'documentid': 'id:bookrec:doc::0061094234', 'title': 'Dirt'}}, {'id': 'id:bookrec:doc::0453005071', 'relevance': 3.5019914211216316, 'source': 'hybridsearchbv_content', 'fields': {'description': \"A collection of Stephen King's early works, written under the pseudonym of Richard Bachman\", 'documentid': 'id:bookrec:doc::0453005071', 'title': 'The Bachman Books'}}, {'id': 'id:bookrec:doc::0736909524', 'relevance': 3.499864947302373, 'source': 'hybridsearchbv_content', 'fields': {'description': 'The author of more than 40 <hi>books</hi>, LaHaye says The Rapture is the result of the most comprehensive study and research effort of his career. His complete, compelling defense of the pre-Tribulation theory prides a timeline and chart of the events of the Rapture, a strong case against mid- and post-Tribulation theories and more.', 'documentid': 'id:bookrec:doc::0736909524', 'title': 'The Rapture'}}, {'id': 'id:bookrec:doc::0141311401', 'relevance': 3.499864947302373, 'source': 'hybridsearchbv_content', 'fields': {'description': \"'Throughout my young days at school and just afterwards, a number of things happened to me that I have never forgotten.' Many remarkable things did happen to Roald Dahl when he was a boy, no doubt providing some of the marvellous ideas for his later <hi>books</hi>. And, like his stories, Dahl's childhood tales are unmissable.\", 'documentid': 'id:bookrec:doc::0141311401', 'title': 'Boy'}}]}}\n"
     ]
    }
   ],
   "source": [
    "with app.syncio(connections=12) as session:\n",
    "    response: VespaQueryResponse = session.query(\n",
    "        hits=10,\n",
    "        body={\n",
    "            \"yql\": \"select documentid, cord_uid, title, description, abstract from sources * where userQuery() LIMIT 100\",\n",
    "            \"query\": \"thriller books\",\n",
    "            \"ranking.profile\": \"bm25\",\n",
    "            \"presentation.timing\": True,\n",
    "        },\n",
    "    )\n",
    "    print(response.json)"
   ]
  },
  {
   "cell_type": "code",
   "execution_count": 99,
   "metadata": {},
   "outputs": [
    {
     "name": "stdout",
     "output_type": "stream",
     "text": [
      "Excel file 'books.xlsx' created successfully.\n"
     ]
    }
   ],
   "source": [
    "# Assuming response_boy_talk_animals is a VespaQueryResponse object\n",
    "response_json = response.json\n",
    "\n",
    "# Extracting data\n",
    "data = []\n",
    "for item in response_json['root']['children']:\n",
    "    title = item['fields']['title']\n",
    "    description = item['fields']['description']\n",
    "    binary = ''  # Empty value for the binary column\n",
    "    score = ''   # Empty value for the score column\n",
    "    data.append([title, description, binary, score])\n",
    "\n",
    "# Creating a DataFrame\n",
    "df = pd.DataFrame(data, columns=['title', 'description', 'binary', 'score'])\n",
    "\n",
    "# Saving to Excel\n",
    "df.to_excel('books_thrillers.xlsx', index=False)\n",
    "\n",
    "print(\"Excel file 'books.xlsx' created successfully.\")"
   ]
  },
  {
   "cell_type": "markdown",
   "metadata": {},
   "source": [
    "## Teste automatizado modelo LLM"
   ]
  },
  {
   "cell_type": "markdown",
   "metadata": {},
   "source": [
    "### Híbrido"
   ]
  },
  {
   "cell_type": "code",
   "execution_count": 221,
   "metadata": {},
   "outputs": [],
   "source": [
    "#openai.api_key "
   ]
  },
  {
   "cell_type": "code",
   "execution_count": 16,
   "metadata": {},
   "outputs": [],
   "source": [
    "df = pd.read_csv(\"https://raw.githubusercontent.com/bernardovma/dados_livros/main/data.csv\")\n",
    "books_df = df.sample(n=200)\n",
    "books_df = books_df[['title', 'description']]"
   ]
  },
  {
   "cell_type": "code",
   "execution_count": 201,
   "metadata": {},
   "outputs": [],
   "source": [
    "llm_model = LLM_Model(openai.api_key)"
   ]
  },
  {
   "cell_type": "code",
   "execution_count": 27,
   "metadata": {},
   "outputs": [],
   "source": [
    "def dcg(relevance_scores, p):\n",
    "    relevance_scores = np.asfarray(relevance_scores)[:p]\n",
    "    if relevance_scores.size:\n",
    "        return np.sum(relevance_scores / np.log2(np.arange(2, relevance_scores.size + 2)))\n",
    "    return 0.0\n",
    "\n",
    "def ndcg(relevance_scores, p):\n",
    "    dcg_p = dcg(relevance_scores, p)\n",
    "    idcg_p = dcg(sorted(relevance_scores, reverse=True), p)\n",
    "    if idcg_p == 0:\n",
    "        return 0.0\n",
    "    return dcg_p / idcg_p"
   ]
  },
  {
   "cell_type": "code",
   "execution_count": 54,
   "metadata": {},
   "outputs": [
    {
     "name": "stdout",
     "output_type": "stream",
     "text": [
      "Processing book: Triumph of the Darksword\n",
      "Processing book: The Patron Saint of Liars\n",
      "Processing book: Light\n",
      "Processing book: My Sister's Keeper\n",
      "Processing book: How to be Alone\n",
      "Processing book: El Paso\n",
      "Processing book: The Bluest Eye\n",
      "Processing book: The Two Towers\n",
      "Processing book: Gone for Good\n",
      "Processing book: Blaming the Victims\n",
      "Processing book: 五輪書 : 英文版\n",
      "Processing book: Mister Monday\n",
      "Processing book: Wilkins' Tooth\n",
      "Processing book: Wild Magic\n",
      "Processing book: Spellbound\n",
      "Processing book: The A.B.C. Murders\n",
      "Processing book: Six Easy Pieces\n",
      "Processing book: The Purpose of Your Life\n",
      "Processing book: I Capture the Castle\n",
      "Processing book: Laughter in the Dark\n",
      "Processing book: No More Dead Dogs\n",
      "Processing book: Thin Air\n",
      "Processing book: Does Anybody Have a Problem with That?\n",
      "Processing book: God Knows\n",
      "Processing book: Fear of Fifty\n",
      "Processing book: Alone\n",
      "Processing book: In the Lake of the Woods\n",
      "Processing book: The Meanest Doll in the World\n",
      "Processing book: Runaways\n",
      "Processing book: A Wrinkle in Time\n",
      "Processing book: An Autobiography\n",
      "Processing book: Writings to Young Women from Laura Ingalls Wilder on Wisdom and Virtues\n",
      "Processing book: Exclusion and Embrace\n",
      "Processing book: India Song\n",
      "Processing book: Codebreakers' Victory\n",
      "Processing book: The Memory Keeper's Daughter\n",
      "Processing book: Disney's Little Einstein\n",
      "Processing book: Ecuador & the Galápagos Islands\n",
      "Processing book: The Woman in White\n",
      "Processing book: Phaedrus\n",
      "Processing book: Time to Be in Earnest\n",
      "Processing book: Built to Last\n",
      "Processing book: The Heart of a Woman\n",
      "Processing book: The Bear and the Dragon\n",
      "Processing book: The Wakefields of Sweet Valley\n",
      "Processing book: Harry Potter and the Half-Blood Prince (Book 6)\n",
      "Processing book: Vox\n",
      "Processing book: A Long Short War\n",
      "Processing book: Cause of Death\n",
      "Processing book: The Foundation Trilogy\n",
      "Processing book: Boogaloo on 2nd Avenue\n",
      "Processing book: The Passion\n",
      "Processing book: The Norton Anthology of Western Literature: Beginnings through the Renaissance\n",
      "Processing book: The Grits (Girls Raised in the South) Guide to Life\n",
      "Processing book: Brevity & echo\n",
      "Processing book: Memoirs\n",
      "Processing book: The Civil War\n",
      "Processing book: The Swords of Night and Day\n",
      "Processing book: The Seventy Wonders of the Ancient World\n",
      "Processing book: Political Philosophy\n",
      "Processing book: The Odyssey\n",
      "Processing book: The Naked Warrior\n",
      "Processing book: Civilization and Its Discontents\n",
      "Processing book: Three Plays by Kobo Abe\n",
      "Processing book: Shakespeare A to Z\n",
      "Processing book: Cast a Yellow Shadow\n",
      "Processing book: Harvest\n",
      "Processing book: The Wave in the Mind\n",
      "Processing book: Einstein's 1912 manuscript on the special theory of relativity\n",
      "Processing book: Saint Thomas of Aquinas\n",
      "Processing book: Writing the Novel from Plot to Print\n",
      "Processing book: Naughty Little Secret\n",
      "Processing book: Harry Potter and the Goblet of Fire\n",
      "Processing book: The Days of Vengeance\n",
      "Processing book: Vampire Hunter D Volume 6: Pilgrimage of the Sacred\n",
      "Processing book: Selected Letters, 1957-1969\n",
      "Processing book: Great Dialogues of Plato\n",
      "Processing book: Blame it on the Blackout\n",
      "Processing book: Call It Sleep\n",
      "Processing book: London Fields\n",
      "Processing book: Wizard's First Rule\n",
      "Processing book: Medea\n",
      "Processing book: A Man Betrayed\n",
      "Processing book: The Best of Roald Dahl\n",
      "Processing book: The Robber Bride\n",
      "Processing book: Doc Savage\n",
      "Processing book: Gilead\n",
      "Processing book: The Ivory Tower\n",
      "Processing book: Fall on Your Knees\n",
      "Processing book: Richard Brautigan's A Confederate General from Big Sur, Dreaming of Babylon, and The Hawkline Monster\n",
      "Processing book: The Sonnets\n",
      "Processing book: Ghost in the Shell\n",
      "Processing book: With Friends Like These\n",
      "Processing book: Cujo\n",
      "Processing book: The Pilgrim's Regress\n",
      "Processing book: The Canterbury Tales\n",
      "Processing book: On Late Style\n",
      "Processing book: Code\n",
      "Processing book: The Pound Era\n",
      "Processing book: Skellig\n",
      "Processing book: Fierce Invalids Home from Hot Climates\n",
      "Processing book: The Brothers Lionheart\n",
      "Processing book: The Portable Faulkner\n",
      "Processing book: If Beale Street Could Talk\n",
      "Processing book: Hunger\n",
      "Processing book: It's Kind of a Funny Story\n",
      "Processing book: The Pilgrim's Progress\n",
      "Processing book: Welcome to the Great Mysterious\n",
      "Processing book: Lost City\n",
      "Processing book: Cutting Edge\n",
      "Processing book: Western Philosophy\n",
      "Processing book: Flirting With Danger\n",
      "Processing book: The Aviators\n",
      "Processing book: Lysistrata\n",
      "Processing book: The Art of Fiction\n",
      "Processing book: A Near Thing for Captain Najork\n",
      "Processing book: No Exit, and Three Other Plays\n",
      "Processing book: Blindness\n",
      "Processing book: Best Stories\n",
      "Processing book: The Pizza Monster\n",
      "Processing book: A Book of Blue Flowers\n",
      "Processing book: The Rings of Saturn\n",
      "Processing book: Virginia Woolf\n",
      "Processing book: Three Books of Occult Philosophy\n",
      "Processing book: Stars in Their Courses\n",
      "Processing book: Drifters\n",
      "Processing book: The Spiral Stair\n",
      "Processing book: Little Miss Birthday\n",
      "Processing book: Strip Tease\n",
      "Processing book: Time for Ballet\n",
      "Processing book: Execution\n",
      "Processing book: Homecoming\n",
      "Processing book: Brightness Reef\n",
      "Processing book: Star Wars: Clone Wars Volume 1 - The Defense of Kamino\n",
      "Processing book: Touching the Rock\n",
      "Processing book: Wookiee Cookies\n",
      "Processing book: Dead Famous\n",
      "Processing book: Deep River\n",
      "Processing book: Six Frigates\n",
      "Processing book: The Magic Barrel\n",
      "Processing book: The Simpsons and Philosophy\n",
      "Processing book: Beowulf\n",
      "Processing book: Data Structures and Algorithms in Java\n",
      "Processing book: Star Wars\n",
      "Processing book: Sherlock Holmes\n",
      "Processing book: An Imaginary Life\n",
      "Processing book: The Secret Garden\n",
      "Processing book: Rape\n",
      "Processing book: Midnight Predator\n",
      "Processing book: Save the Date\n",
      "Processing book: Dead Souls\n",
      "Processing book: What is the what\n",
      "Processing book: Melville\n",
      "Processing book: Hamlet\n",
      "Processing book: Astronomy\n",
      "Processing book: Sophocles: the Theban Plays\n",
      "Processing book: Crackup\n",
      "Processing book: Cold Blood\n",
      "Processing book: The Lexus and the Olive Tree\n",
      "Processing book: For a Few Demons More\n",
      "Processing book: The Husband\n",
      "Processing book: I Wonder Why the Sun Rises\n",
      "Processing book: The New Jessica\n",
      "Processing book: The Sleeping Doll\n",
      "Processing book: The Power of One\n",
      "Processing book: How to Be a Jewish Parent\n",
      "Processing book: The Attraction\n",
      "Processing book: Boys That Bite\n",
      "Processing book: Replay\n",
      "Processing book: Galapagos, a Natural History\n",
      "Processing book: The Conan Chronicles 1\n",
      "Processing book: Complete Short Stories\n",
      "Processing book: The Complete Poetry of John Milton\n",
      "Processing book: Robinson Crusoe\n",
      "Processing book: The Gilded Web\n",
      "Processing book: Heat Wave\n",
      "Processing book: Popcorn\n",
      "Processing book: Running from Safety\n",
      "Processing book: The Reign of Istar\n",
      "Processing book: Daniel Deronda\n",
      "Processing book: In Search of Lost Time: Time regained & A guide to Proust\n",
      "Processing book: Organic Church\n",
      "Processing book: Good-bye Stacey, Good-bye\n",
      "Processing book: The Great Ape Project\n",
      "Processing book: Infinite Jests\n",
      "Processing book: Exile's Valor\n",
      "Processing book: The Puppet and the Dwarf\n",
      "Processing book: A Power Governments Cannot Suppress\n",
      "Processing book: Discourse on the Origin of Inequality\n",
      "Processing book: A Farewell to Arms\n",
      "Processing book: The Portrait of a Lady\n",
      "Processing book: The Heidi Chronicles\n",
      "Processing book: Robert Langdon Novels\n",
      "Processing book: The Price of the Ticket\n",
      "Processing book: A Chosen Few\n",
      "Processing book: The Greenlander\n",
      "Processing book: The Stranger Beside Me\n",
      "Processing book: King of the Vagabonds\n",
      "Processing book: A Spy In The House Of Love\n",
      "Processing book: The Devilish Pleasures of a Duke\n"
     ]
    }
   ],
   "source": [
    "results = {}\n",
    "total_appearance_count = 0\n",
    "total_questions = 0\n",
    "\n",
    "for index, row in books_df.iterrows():\n",
    "    title = row['title']\n",
    "    print(f\"Processing book: {title}\")\n",
    "    description = row['description']\n",
    "    questions = llm_model.generate_generic_questions(title, description)\n",
    "    \n",
    "    results[title] = {\n",
    "        \"questions\": questions,\n",
    "        \"appearance_count\": 0,\n",
    "        \"total_questions\": len(questions),\n",
    "        \"relevance_scores\": []\n",
    "    }\n",
    "    \n",
    "    for question in questions:\n",
    "        search_results = app.query_hybrid(question)\n",
    "        search_results_titles = list(search_results['title'])\n",
    "        book_appears = title in search_results_titles\n",
    "        results[title][\"relevance_scores\"].append(int(book_appears))\n",
    "        if book_appears:\n",
    "            results[title][\"appearance_count\"] += 1\n",
    "    \n",
    "    total_appearance_count += results[title][\"appearance_count\"]\n",
    "    total_questions += results[title][\"total_questions\"]"
   ]
  },
  {
   "cell_type": "code",
   "execution_count": 55,
   "metadata": {},
   "outputs": [
    {
     "name": "stdout",
     "output_type": "stream",
     "text": [
      "Overall percentage: 30.11%\n"
     ]
    }
   ],
   "source": [
    "if total_questions > 0:\n",
    "    overall_percentage_hybrid = (total_appearance_count / total_questions) * 100\n",
    "else:\n",
    "    overall_percentage_hybrid = 0\n",
    "\n",
    "print(f\"Overall percentage: {overall_percentage_hybrid:.2f}%\")"
   ]
  },
  {
   "cell_type": "code",
   "execution_count": 56,
   "metadata": {},
   "outputs": [
    {
     "name": "stdout",
     "output_type": "stream",
     "text": [
      "Mean NDCG@10 across all books: 0.4184\n"
     ]
    }
   ],
   "source": [
    "ndcg_scores_hybrid = {}\n",
    "p = 10  # Define the position at which NDCG is calculated\n",
    "for title, data in results.items():\n",
    "    relevance_scores = data[\"relevance_scores\"]\n",
    "    ndcg_scores_hybrid[title] = ndcg(relevance_scores, p)\n",
    "\n",
    "# Optional: Calculate the mean NDCG score across all books\n",
    "mean_ndcg_hybrid = np.mean(list(ndcg_scores_hybrid.values()))\n",
    "print(f\"Mean NDCG@{p} across all books: {mean_ndcg_hybrid:.4f}\")"
   ]
  },
  {
   "cell_type": "markdown",
   "metadata": {},
   "source": [
    "### BM_25"
   ]
  },
  {
   "cell_type": "code",
   "execution_count": null,
   "metadata": {},
   "outputs": [],
   "source": [
    "results_bm_25 = {}\n",
    "total_appearance_count_bm_25 = 0\n",
    "total_questions_bm_25 = 0"
   ]
  },
  {
   "cell_type": "code",
   "execution_count": 36,
   "metadata": {},
   "outputs": [
    {
     "name": "stdout",
     "output_type": "stream",
     "text": [
      "Processing book: The Puppet and the Dwarf\n",
      "Processing book: A Power Governments Cannot Suppress\n",
      "Processing book: Discourse on the Origin of Inequality\n",
      "Processing book: A Farewell to Arms\n",
      "Processing book: The Portrait of a Lady\n",
      "Processing book: The Heidi Chronicles\n",
      "Processing book: Robert Langdon Novels\n",
      "Processing book: The Price of the Ticket\n",
      "Processing book: A Chosen Few\n",
      "Processing book: The Greenlander\n",
      "Processing book: The Stranger Beside Me\n",
      "Processing book: King of the Vagabonds\n",
      "Processing book: A Spy In The House Of Love\n",
      "Processing book: The Devilish Pleasures of a Duke\n"
     ]
    }
   ],
   "source": [
    "if results_bm_25:\n",
    "    last_title = list(results_bm_25.keys())[-1]\n",
    "    last_book_data = results_bm_25.pop(last_title)\n",
    "    total_appearance_count_bm_25 -= last_book_data[\"appearance_count\"]\n",
    "    total_questions_bm_25 -= last_book_data[\"total_questions\"]\n",
    "\n",
    "\n",
    "start_index = len(results_bm_25)\n",
    "books_to_process = books_df.iloc[start_index:]\n",
    "\n",
    "for index, row in books_to_process.iterrows():\n",
    "    title = row['title']\n",
    "    print(f\"Processing book: {title}\")\n",
    "    description = row['description']\n",
    "    questions_bm_25 = llm_model.generate_generic_questions(title, description)\n",
    "    \n",
    "    results_bm_25[title] = {\n",
    "        \"questions\": questions_bm_25,\n",
    "        \"appearance_count\": 0,\n",
    "        \"total_questions\": len(questions_bm_25),\n",
    "        \"relevance_scores\": []\n",
    "    }\n",
    "    \n",
    "    for question in questions_bm_25:\n",
    "        search_results_bm_25 = app.query_bm25(question)\n",
    "        search_results_titles_bm_25 = list(search_results_bm_25['title'])\n",
    "        book_appears_bm_25 = title in search_results_titles_bm_25\n",
    "        results_bm_25[title][\"relevance_scores\"].append(int(book_appears_bm_25))\n",
    "        if book_appears_bm_25:\n",
    "            results_bm_25[title][\"appearance_count\"] += 1\n",
    "    \n",
    "    total_appearance_count_bm_25 += results_bm_25[title][\"appearance_count\"]\n",
    "    total_questions_bm_25 += results_bm_25[title][\"total_questions\"]"
   ]
  },
  {
   "cell_type": "code",
   "execution_count": 39,
   "metadata": {},
   "outputs": [
    {
     "name": "stdout",
     "output_type": "stream",
     "text": [
      "Overall percentage: 35.94%\n"
     ]
    }
   ],
   "source": [
    "if total_questions_bm_25 > 0:\n",
    "    overall_percentage_bm_25 = (total_appearance_count_bm_25 / total_questions_bm_25) * 100\n",
    "else:\n",
    "    overall_percentage_bm_25 = 0\n",
    "\n",
    "print(f\"Overall percentage: {overall_percentage_bm_25:.2f}%\")"
   ]
  },
  {
   "cell_type": "code",
   "execution_count": 52,
   "metadata": {},
   "outputs": [
    {
     "name": "stdout",
     "output_type": "stream",
     "text": [
      "Mean NDCG@10 across all books: 0.4557\n"
     ]
    }
   ],
   "source": [
    "ndcg_scores_bm_25 = {}\n",
    "p = 10  # Define the position at which NDCG is calculated\n",
    "for title, data in results_bm_25.items():\n",
    "    relevance_scores = data[\"relevance_scores\"]\n",
    "    ndcg_scores_bm_25[title] = ndcg(relevance_scores, p)\n",
    "\n",
    "# Optional: Calculate the mean NDCG score across all books\n",
    "mean_ndcg_bm_25 = np.mean(list(ndcg_scores_bm_25.values()))\n",
    "print(f\"Mean NDCG@{p} across all books: {mean_ndcg_bm_25:.4f}\")"
   ]
  },
  {
   "cell_type": "markdown",
   "metadata": {},
   "source": [
    "### Semântico"
   ]
  },
  {
   "cell_type": "code",
   "execution_count": 48,
   "metadata": {},
   "outputs": [],
   "source": [
    "results_semantico = {}\n",
    "total_appearance_count_semantico = 0\n",
    "total_questions_bm_semantico = 0"
   ]
  },
  {
   "cell_type": "code",
   "execution_count": 49,
   "metadata": {},
   "outputs": [
    {
     "name": "stdout",
     "output_type": "stream",
     "text": [
      "Processing book: Triumph of the Darksword\n",
      "Processing book: The Patron Saint of Liars\n",
      "Processing book: Light\n",
      "Processing book: My Sister's Keeper\n",
      "Processing book: How to be Alone\n",
      "Processing book: El Paso\n",
      "Processing book: The Bluest Eye\n",
      "Processing book: The Two Towers\n",
      "Processing book: Gone for Good\n",
      "Processing book: Blaming the Victims\n",
      "Processing book: 五輪書 : 英文版\n",
      "Processing book: Mister Monday\n",
      "Processing book: Wilkins' Tooth\n",
      "Processing book: Wild Magic\n",
      "Processing book: Spellbound\n",
      "Processing book: The A.B.C. Murders\n",
      "Processing book: Six Easy Pieces\n",
      "Processing book: The Purpose of Your Life\n",
      "Processing book: I Capture the Castle\n",
      "Processing book: Laughter in the Dark\n",
      "Processing book: No More Dead Dogs\n",
      "Processing book: Thin Air\n",
      "Processing book: Does Anybody Have a Problem with That?\n",
      "Processing book: God Knows\n",
      "Processing book: Fear of Fifty\n",
      "Processing book: Alone\n",
      "Processing book: In the Lake of the Woods\n",
      "Processing book: The Meanest Doll in the World\n",
      "Processing book: Runaways\n",
      "Processing book: A Wrinkle in Time\n",
      "Processing book: An Autobiography\n",
      "Processing book: Writings to Young Women from Laura Ingalls Wilder on Wisdom and Virtues\n",
      "Processing book: Exclusion and Embrace\n",
      "Processing book: India Song\n",
      "Processing book: Codebreakers' Victory\n",
      "Processing book: The Memory Keeper's Daughter\n",
      "Processing book: Disney's Little Einstein\n",
      "Processing book: Ecuador & the Galápagos Islands\n",
      "Processing book: The Woman in White\n",
      "Processing book: Phaedrus\n",
      "Processing book: Time to Be in Earnest\n",
      "Processing book: Built to Last\n",
      "Processing book: The Heart of a Woman\n",
      "Processing book: The Bear and the Dragon\n",
      "Processing book: The Wakefields of Sweet Valley\n",
      "Processing book: Harry Potter and the Half-Blood Prince (Book 6)\n",
      "Processing book: Vox\n",
      "Processing book: A Long Short War\n",
      "Processing book: Cause of Death\n",
      "Processing book: The Foundation Trilogy\n",
      "Processing book: Boogaloo on 2nd Avenue\n",
      "Processing book: The Passion\n",
      "Processing book: The Norton Anthology of Western Literature: Beginnings through the Renaissance\n",
      "Processing book: The Grits (Girls Raised in the South) Guide to Life\n",
      "Processing book: Brevity & echo\n",
      "Processing book: Memoirs\n",
      "Processing book: The Civil War\n",
      "Processing book: The Swords of Night and Day\n",
      "Processing book: The Seventy Wonders of the Ancient World\n",
      "Processing book: Political Philosophy\n",
      "Processing book: The Odyssey\n",
      "Processing book: The Naked Warrior\n",
      "Processing book: Civilization and Its Discontents\n",
      "Processing book: Three Plays by Kobo Abe\n",
      "Processing book: Shakespeare A to Z\n",
      "Processing book: Cast a Yellow Shadow\n",
      "Processing book: Harvest\n",
      "Processing book: The Wave in the Mind\n",
      "Processing book: Einstein's 1912 manuscript on the special theory of relativity\n",
      "Processing book: Saint Thomas of Aquinas\n",
      "Processing book: Writing the Novel from Plot to Print\n",
      "Processing book: Naughty Little Secret\n",
      "Processing book: Harry Potter and the Goblet of Fire\n",
      "Processing book: The Days of Vengeance\n",
      "Processing book: Vampire Hunter D Volume 6: Pilgrimage of the Sacred\n",
      "Processing book: Selected Letters, 1957-1969\n",
      "Processing book: Great Dialogues of Plato\n",
      "Processing book: Blame it on the Blackout\n",
      "Processing book: Call It Sleep\n",
      "Processing book: London Fields\n",
      "Processing book: Wizard's First Rule\n",
      "Processing book: Medea\n",
      "Processing book: A Man Betrayed\n",
      "Processing book: The Best of Roald Dahl\n",
      "Processing book: The Robber Bride\n",
      "Processing book: Doc Savage\n",
      "Processing book: Gilead\n",
      "Processing book: The Ivory Tower\n",
      "Processing book: Fall on Your Knees\n",
      "Processing book: Richard Brautigan's A Confederate General from Big Sur, Dreaming of Babylon, and The Hawkline Monster\n",
      "Processing book: The Sonnets\n",
      "Processing book: Ghost in the Shell\n",
      "Processing book: With Friends Like These\n",
      "Processing book: Cujo\n",
      "Processing book: The Pilgrim's Regress\n",
      "Processing book: The Canterbury Tales\n",
      "Processing book: On Late Style\n",
      "Processing book: Code\n",
      "Processing book: The Pound Era\n",
      "Processing book: Skellig\n",
      "Processing book: Fierce Invalids Home from Hot Climates\n",
      "Processing book: The Brothers Lionheart\n",
      "Processing book: The Portable Faulkner\n",
      "Processing book: If Beale Street Could Talk\n",
      "Processing book: Hunger\n",
      "Processing book: It's Kind of a Funny Story\n",
      "Processing book: The Pilgrim's Progress\n",
      "Processing book: Welcome to the Great Mysterious\n",
      "Processing book: Lost City\n",
      "Processing book: Cutting Edge\n",
      "Processing book: Western Philosophy\n",
      "Processing book: Flirting With Danger\n",
      "Processing book: The Aviators\n",
      "Processing book: Lysistrata\n",
      "Processing book: The Art of Fiction\n",
      "Processing book: A Near Thing for Captain Najork\n",
      "Processing book: No Exit, and Three Other Plays\n",
      "Processing book: Blindness\n",
      "Processing book: Best Stories\n",
      "Processing book: The Pizza Monster\n",
      "Processing book: A Book of Blue Flowers\n",
      "Processing book: The Rings of Saturn\n",
      "Processing book: Virginia Woolf\n",
      "Processing book: Three Books of Occult Philosophy\n",
      "Processing book: Stars in Their Courses\n",
      "Processing book: Drifters\n",
      "Processing book: The Spiral Stair\n",
      "Processing book: Little Miss Birthday\n",
      "Processing book: Strip Tease\n",
      "Processing book: Time for Ballet\n",
      "Processing book: Execution\n",
      "Processing book: Homecoming\n",
      "Processing book: Brightness Reef\n",
      "Processing book: Star Wars: Clone Wars Volume 1 - The Defense of Kamino\n",
      "Processing book: Touching the Rock\n",
      "Processing book: Wookiee Cookies\n",
      "Processing book: Dead Famous\n",
      "Processing book: Deep River\n",
      "Processing book: Six Frigates\n",
      "Processing book: The Magic Barrel\n",
      "Processing book: The Simpsons and Philosophy\n",
      "Processing book: Beowulf\n",
      "Processing book: Data Structures and Algorithms in Java\n",
      "Processing book: Star Wars\n",
      "Processing book: Sherlock Holmes\n",
      "Processing book: An Imaginary Life\n",
      "Processing book: The Secret Garden\n",
      "Processing book: Rape\n",
      "Processing book: Midnight Predator\n",
      "Processing book: Save the Date\n",
      "Processing book: Dead Souls\n",
      "Processing book: What is the what\n",
      "Processing book: Melville\n",
      "Processing book: Hamlet\n",
      "Processing book: Astronomy\n",
      "Processing book: Sophocles: the Theban Plays\n",
      "Processing book: Crackup\n",
      "Processing book: Cold Blood\n",
      "Processing book: The Lexus and the Olive Tree\n",
      "Processing book: For a Few Demons More\n",
      "Processing book: The Husband\n",
      "Processing book: I Wonder Why the Sun Rises\n",
      "Processing book: The New Jessica\n",
      "Processing book: The Sleeping Doll\n",
      "Processing book: The Power of One\n",
      "Processing book: How to Be a Jewish Parent\n",
      "Processing book: The Attraction\n",
      "Processing book: Boys That Bite\n",
      "Processing book: Replay\n",
      "Processing book: Galapagos, a Natural History\n",
      "Processing book: The Conan Chronicles 1\n",
      "Processing book: Complete Short Stories\n",
      "Processing book: The Complete Poetry of John Milton\n",
      "Processing book: Robinson Crusoe\n",
      "Processing book: The Gilded Web\n",
      "Processing book: Heat Wave\n",
      "Processing book: Popcorn\n",
      "Processing book: Running from Safety\n",
      "Processing book: The Reign of Istar\n",
      "Processing book: Daniel Deronda\n",
      "Processing book: In Search of Lost Time: Time regained & A guide to Proust\n",
      "Processing book: Organic Church\n",
      "Processing book: Good-bye Stacey, Good-bye\n",
      "Processing book: The Great Ape Project\n",
      "Processing book: Infinite Jests\n",
      "Processing book: Exile's Valor\n",
      "Processing book: The Puppet and the Dwarf\n",
      "Processing book: A Power Governments Cannot Suppress\n",
      "Processing book: Discourse on the Origin of Inequality\n",
      "Processing book: A Farewell to Arms\n",
      "Processing book: The Portrait of a Lady\n",
      "Processing book: The Heidi Chronicles\n",
      "Processing book: Robert Langdon Novels\n",
      "Processing book: The Price of the Ticket\n",
      "Processing book: A Chosen Few\n",
      "Processing book: The Greenlander\n",
      "Processing book: The Stranger Beside Me\n",
      "Processing book: King of the Vagabonds\n",
      "Processing book: A Spy In The House Of Love\n",
      "Processing book: The Devilish Pleasures of a Duke\n"
     ]
    }
   ],
   "source": [
    "if results_semantico:\n",
    "    last_title = list(results_semantico.keys())[-1]\n",
    "    last_book_data = results_semantico.pop(last_title)\n",
    "    total_appearance_count_semantico -= last_book_data[\"appearance_count\"]\n",
    "    total_questions_bm_semantico -= last_book_data[\"total_questions\"]\n",
    "\n",
    "\n",
    "start_index = len(results_semantico)\n",
    "books_to_process = books_df.iloc[start_index:]\n",
    "\n",
    "for index, row in books_to_process.iterrows():\n",
    "    title = row['title']\n",
    "    print(f\"Processing book: {title}\")\n",
    "    description = row['description']\n",
    "    questions_semantico = llm_model.generate_generic_questions(title, description)\n",
    "    \n",
    "    results_semantico[title] = {\n",
    "        \"questions\": questions_semantico,\n",
    "        \"appearance_count\": 0,\n",
    "        \"total_questions\": len(questions_semantico),\n",
    "        \"relevance_scores\": []\n",
    "    }\n",
    "    \n",
    "    for question in questions_semantico:\n",
    "        search_results_semantico = app.query_semantic(question)\n",
    "        search_results_titles_semantico = list(search_results_semantico['title'])\n",
    "        book_appears_semantico = title in search_results_titles_semantico\n",
    "        results_semantico[title][\"relevance_scores\"].append(int(book_appears_semantico))\n",
    "        if book_appears_semantico:\n",
    "            results_semantico[title][\"appearance_count\"] += 1\n",
    "    \n",
    "    total_appearance_count_semantico += results_semantico[title][\"appearance_count\"]\n",
    "    total_questions_bm_semantico += results_semantico[title][\"total_questions\"]"
   ]
  },
  {
   "cell_type": "code",
   "execution_count": 50,
   "metadata": {},
   "outputs": [
    {
     "name": "stdout",
     "output_type": "stream",
     "text": [
      "Overall percentage: 28.68%\n"
     ]
    }
   ],
   "source": [
    "if total_questions_bm_semantico > 0:\n",
    "    overall_percentage_semantic = (total_appearance_count_semantico/ total_questions_bm_semantico) * 100\n",
    "else:\n",
    "    overall_percentage_semantic = 0\n",
    "\n",
    "print(f\"Overall percentage: {overall_percentage_semantic:.2f}%\")"
   ]
  },
  {
   "cell_type": "code",
   "execution_count": 57,
   "metadata": {},
   "outputs": [
    {
     "name": "stdout",
     "output_type": "stream",
     "text": [
      "Mean NDCG@10 across all books: 0.3779\n"
     ]
    }
   ],
   "source": [
    "ndcg_scores_semantic = {}\n",
    "p = 10  # Define the position at which NDCG is calculated\n",
    "for title, data in results_semantico.items():\n",
    "    relevance_scores = data[\"relevance_scores\"]\n",
    "    ndcg_scores_semantic[title] = ndcg(relevance_scores, p)\n",
    "\n",
    "# Optional: Calculate the mean NDCG score across all books\n",
    "mean_ndcg_semantic = np.mean(list(ndcg_scores_semantic.values()))\n",
    "print(f\"Mean NDCG@{p} across all books: {mean_ndcg_semantic:.4f}\")"
   ]
  },
  {
   "cell_type": "markdown",
   "metadata": {},
   "source": [
    "### Plots"
   ]
  },
  {
   "cell_type": "code",
   "execution_count": 58,
   "metadata": {},
   "outputs": [],
   "source": [
    "import matplotlib.pyplot as plt"
   ]
  },
  {
   "cell_type": "code",
   "execution_count": 59,
   "metadata": {},
   "outputs": [
    {
     "data": {
      "image/png": "[encoded data removed]",
      "text/plain": [
       "<Figure size 640x480 with 1 Axes>"
      ]
     },
     "metadata": {},
     "output_type": "display_data"
    }
   ],
   "source": [
    "#plot bar graph for the three overall percentages\n",
    "fig, ax = plt.subplots()\n",
    "bar_width = 0.3\n",
    "opacity = 0.8\n",
    "index = np.arange(3)\n",
    "rects1 = plt.bar(index, [overall_percentage_hybrid, overall_percentage_bm_25, overall_percentage_semantic], bar_width, alpha=opacity, color='b', label='Overall Percentage')\n",
    "plt.xlabel('Models')\n",
    "plt.ylabel('Overall Percentage')\n",
    "plt.title('Overall Percentage by Model')\n",
    "plt.xticks(index, ['Hybrid', 'BM25', 'Semantic'])\n",
    "plt.legend()\n",
    "plt.tight_layout()\n",
    "plt.show()\n"
   ]
  },
  {
   "cell_type": "code",
   "execution_count": 60,
   "metadata": {},
   "outputs": [
    {
     "data": {
      "image/png": "[encoded data removed]",
      "text/plain": [
       "<Figure size 640x480 with 1 Axes>"
      ]
     },
     "metadata": {},
     "output_type": "display_data"
    }
   ],
   "source": [
    "fig, ax = plt.subplots()\n",
    "bar_width = 0.3\n",
    "opacity = 0.8\n",
    "index = np.arange(3)\n",
    "rects1 = plt.bar(index, [mean_ndcg_hybrid, mean_ndcg_bm_25, mean_ndcg_semantic], bar_width, alpha=opacity, color='b', label='Mean NDCG')\n",
    "plt.xlabel('Models')\n",
    "plt.ylabel('Mean NDCG')\n",
    "plt.title('Mean NDCG by Model')\n",
    "plt.xticks(index, ['Hybrid', 'BM25', 'Semantic'])\n",
    "plt.legend()\n",
    "plt.tight_layout()\n",
    "plt.show()"
   ]
  },
  {
   "cell_type": "markdown",
   "metadata": {},
   "source": [
    "## Teste 2"
   ]
  },
  {
   "cell_type": "markdown",
   "metadata": {},
   "source": [
    "### BM_25"
   ]
  },
  {
   "cell_type": "code",
   "execution_count": 1,
   "metadata": {},
   "outputs": [],
   "source": [
    "import docker\n",
    "from vespa.io import VespaResponse, VespaQueryResponse\n",
    "from vespa.package import (\n",
    "    ApplicationPackage,\n",
    "    Field,\n",
    "    Schema,\n",
    "    Document,\n",
    "    HNSW,\n",
    "    RankProfile,\n",
    "    Component,\n",
    "    Parameter,\n",
    "    FieldSet,\n",
    "    GlobalPhaseRanking,\n",
    "    Function,\n",
    ")\n",
    "from vespa.deployment import VespaDocker\n",
    "import pandas as pd\n",
    "import numpy as np"
   ]
  },
  {
   "cell_type": "code",
   "execution_count": 2,
   "metadata": {},
   "outputs": [],
   "source": [
    "package = ApplicationPackage(\n",
    "    name=\"hybridsearchbv\",\n",
    "    schema=[\n",
    "        Schema(\n",
    "            name=\"doc\",\n",
    "            document=Document(\n",
    "                fields=[\n",
    "                    Field(name=\"id\", type=\"string\", indexing=[\"summary\"]),\n",
    "                    Field(\n",
    "                        name=\"title\",\n",
    "                        type=\"string\",\n",
    "                        indexing=[\"index\", \"summary\"],\n",
    "                        index=\"enable-bm25\",\n",
    "                    ),\n",
    "                    Field(\n",
    "                        name=\"authors\",\n",
    "                        type=\"string\",\n",
    "                        indexing=[\"index\", \"summary\"],\n",
    "                        index=\"enable-bm25\",\n",
    "                        bolding=True,\n",
    "                    ),\n",
    "                    Field(\n",
    "                        name=\"description\",\n",
    "                        type=\"string\",\n",
    "                        indexing=[\"index\", \"summary\"],\n",
    "                        index=\"enable-bm25\",\n",
    "                        bolding=True,\n",
    "                    ),\n",
    "                    Field(\n",
    "                        name=\"categories\",\n",
    "                        type=\"string\",\n",
    "                        indexing=[\"index\", \"summary\"],\n",
    "                        index=\"enable-bm25\",\n",
    "                        bolding=True,\n",
    "                    ),\n",
    "                    Field(\n",
    "                        name=\"embedding\",\n",
    "                        type=\"tensor<float>(x[384])\",\n",
    "                        indexing=[\n",
    "                            'input authors . \" \" . input description . \" \" . input categories',\n",
    "                            \"embed\",\n",
    "                            \"index\",\n",
    "                            \"attribute\",\n",
    "                        ],\n",
    "                        ann=HNSW(distance_metric=\"angular\"),\n",
    "                        is_document_field=False,\n",
    "                    ),\n",
    "                ]\n",
    "            ),\n",
    "            fieldsets=[FieldSet(name=\"default\", fields=[\"title\", \"authors\", \"description\", \"categories\"])],\n",
    "            rank_profiles=[\n",
    "                RankProfile(\n",
    "                    name=\"bm25\",\n",
    "                    inputs=[(\"query(q)\", \"tensor<float>(x[384])\")],\n",
    "                    functions=[\n",
    "                        Function(name=\"bm25sum\", expression=\"bm25(authors) + bm25(description) + bm25(categories)\")\n",
    "                    ],\n",
    "                    first_phase=\"bm25sum\",\n",
    "                ),\n",
    "                RankProfile(\n",
    "                    name=\"semantic\",\n",
    "                    inputs=[(\"query(q)\", \"tensor<float>(x[384])\")],\n",
    "                    first_phase=\"closeness(field, embedding)\",\n",
    "                ),\n",
    "                RankProfile(\n",
    "                    name=\"fusion\",\n",
    "                    inherits=\"bm25\",\n",
    "                    inputs=[(\"query(q)\", \"tensor<float>(x[384])\")],\n",
    "                    first_phase=\"closeness(field, embedding)\",\n",
    "                    global_phase=GlobalPhaseRanking(\n",
    "                        expression=\"reciprocal_rank_fusion(bm25sum, closeness(field, embedding))\",\n",
    "                        rerank_count=1000,\n",
    "                    ),\n",
    "                ),\n",
    "            ],\n",
    "        )\n",
    "    ],\n",
    "    components=[\n",
    "        Component(\n",
    "            id=\"e5\",\n",
    "            type=\"hugging-face-embedder\",\n",
    "            parameters=[\n",
    "                Parameter(\n",
    "                    \"transformer-model\",\n",
    "                    {\n",
    "                        \"url\": \"https://github.com/vespa-engine/sample-apps/raw/master/simple-semantic-search/model/e5-small-v2-int8.onnx\"\n",
    "                    },\n",
    "                ),\n",
    "                Parameter(\n",
    "                    \"tokenizer-model\",\n",
    "                    {\n",
    "                        \"url\": \"https://raw.githubusercontent.com/vespa-engine/sample-apps/master/simple-semantic-search/model/tokenizer.json\"\n",
    "                    },\n",
    "                ),\n",
    "            ],\n",
    "        )\n",
    "    ],\n",
    ")"
   ]
  },
  {
   "cell_type": "code",
   "execution_count": 3,
   "metadata": {},
   "outputs": [
    {
     "name": "stdout",
     "output_type": "stream",
     "text": [
      "Waiting for configuration server, 0/60 seconds...\n",
      "Waiting for configuration server, 5/60 seconds...\n",
      "Waiting for configuration server, 10/60 seconds...\n",
      "Using plain http against endpoint http://localhost:8080/ApplicationStatus\n",
      "Waiting for application status, 0/300 seconds...\n",
      "Using plain http against endpoint http://localhost:8080/ApplicationStatus\n",
      "Waiting for application status, 5/300 seconds...\n",
      "Using plain http against endpoint http://localhost:8080/ApplicationStatus\n",
      "Waiting for application status, 10/300 seconds...\n",
      "Using plain http against endpoint http://localhost:8080/ApplicationStatus\n",
      "Waiting for application status, 15/300 seconds...\n",
      "Using plain http against endpoint http://localhost:8080/ApplicationStatus\n",
      "Waiting for application status, 20/300 seconds...\n",
      "Using plain http against endpoint http://localhost:8080/ApplicationStatus\n",
      "Waiting for application status, 25/300 seconds...\n",
      "Using plain http against endpoint http://localhost:8080/ApplicationStatus\n",
      "Waiting for application status, 30/300 seconds...\n",
      "Using plain http against endpoint http://localhost:8080/ApplicationStatus\n",
      "Application is up!\n",
      "Finished deployment.\n"
     ]
    }
   ],
   "source": [
    "vespa_docker = VespaDocker()\n",
    "app = vespa_docker.deploy(application_package=package)"
   ]
  },
  {
   "cell_type": "code",
   "execution_count": 4,
   "metadata": {},
   "outputs": [],
   "source": [
    "def transform_row(row):\n",
    "    return {\n",
    "        \"id\": row[\"id\"],\n",
    "        \"fields\": {\"title\": row[\"title\"], \"authors\": row[\"authors\"], \"description\": row[\"description\"], \"categories\": row[\"categories\"], \"id\": row[\"id\"]},\n",
    "    }"
   ]
  },
  {
   "cell_type": "code",
   "execution_count": 5,
   "metadata": {},
   "outputs": [],
   "source": [
    "def callback(response:VespaResponse, id:str):\n",
    "    if not response.is_successful():\n",
    "        print(f\"Error when feeding document {id}: {response.get_json()}\")"
   ]
  },
  {
   "cell_type": "code",
   "execution_count": 6,
   "metadata": {},
   "outputs": [],
   "source": [
    "df = pd.read_csv(\"https://raw.githubusercontent.com/bernardovma/dados_livros/main/data.csv\")\n",
    "df['id'] = range(1, len(df) + 1)\n",
    "df = df.fillna(\"\")\n",
    "vespa_feed = df.apply(transform_row, axis=1).tolist()\n",
    "\n",
    "app.feed_iterable(vespa_feed, schema=\"doc\", namespace=\"bookrec\", callback=callback)"
   ]
  },
  {
   "cell_type": "code",
   "execution_count": 7,
   "metadata": {},
   "outputs": [],
   "source": [
    "def hits_as_df(response, fields):\n",
    "    records = []\n",
    "    for hit in response.hits:\n",
    "        record = {}\n",
    "        for field in fields:\n",
    "            record[field] = hit['fields'].get(field, None) \n",
    "        records.append(record)\n",
    "    return pd.DataFrame(records)"
   ]
  },
  {
   "cell_type": "code",
   "execution_count": 51,
   "metadata": {},
   "outputs": [],
   "source": [
    "def query_bm25_initial(query, limit = 10):\n",
    "    with app.syncio(connections=12) as session:\n",
    "            response:VespaQueryResponse = session.query(\n",
    "                yql=f\"select * from sources * where userQuery() limit {limit}\",\n",
    "                query=query,\n",
    "                ranking=\"bm25\"\n",
    "            )\n",
    "            assert(response.is_successful())\n",
    "\n",
    "    return hits_as_df(response, ['id', 'title', 'authors', 'description', 'categories'])\n",
    "\n",
    "\n",
    "def query_semantic_initial(input_query):\n",
    "    with app.syncio(connections=12) as session:\n",
    "        query = input_query\n",
    "        response: VespaQueryResponse = session.query(\n",
    "            yql=\"select * from sources * where ({targetHits:1000}nearestNeighbor(embedding,q)) limit 10\",\n",
    "            query=query,\n",
    "            ranking=\"semantic\",\n",
    "            body={\"input.query(q)\": f\"embed({query})\"},\n",
    "        )\n",
    "        assert response.is_successful()\n",
    "\n",
    "    return hits_as_df(response, ['id', 'title', 'authors', 'description', 'categories'])\n",
    "\n",
    "\n",
    "def query_hybrid_initial(input_query):\n",
    "    with app.syncio(connections=25) as session:\n",
    "        query = input_query\n",
    "        response: VespaQueryResponse = session.query(\n",
    "            yql=\"select * from sources * where userQuery() or ({targetHits:1000}nearestNeighbor(embedding,q)) limit 10\",\n",
    "            query=query,\n",
    "            ranking=\"fusion\",\n",
    "            body={\"input.query(q)\": f\"embed({query})\"},\n",
    "        )\n",
    "        assert response.is_successful()\n",
    "\n",
    "    return hits_as_df(response, ['id', 'title', 'authors', 'description', 'categories']) "
   ]
  },
  {
   "cell_type": "code",
   "execution_count": 13,
   "metadata": {},
   "outputs": [],
   "source": [
    "teste_df = df.sample(n=100)\n",
    "teste_df = teste_df[['title', 'description']]"
   ]
  },
  {
   "cell_type": "code",
   "execution_count": 37,
   "metadata": {},
   "outputs": [],
   "source": [
    "def generate_generic_questions(book_title, book_description):\n",
    "    prompt = f\"Generate three generic questions about any book, given the following book titled '{book_title}' with this description: '{book_description}'. The questions should be broad and not specific, not giving away the book title, being more general and applicable to other books, but at the same time giving elements to discuss the book.\"\n",
    "    messages = [\n",
    "        {\"role\": \"system\", \"content\": \"You are a helpful assistant.\"},\n",
    "        {\"role\": \"user\", \"content\": prompt}\n",
    "    ]\n",
    "    response = openai.chat.completions.create(\n",
    "        model=\"gpt-3.5-turbo\",\n",
    "        messages=messages,\n",
    "        max_tokens=150,\n",
    "        temperature=0.7,\n",
    "    )\n",
    "    questions = response.choices[0].message.content.strip().split(\"\\n\")\n",
    "    return [q for q in questions if q]"
   ]
  },
  {
   "cell_type": "code",
   "execution_count": 35,
   "metadata": {},
   "outputs": [],
   "source": [
    "results_bm_25 = {}\n",
    "total_appearance_count_bm_25 = 0\n",
    "total_questions_bm_25 = 0"
   ]
  },
  {
   "cell_type": "code",
   "execution_count": 43,
   "metadata": {},
   "outputs": [
    {
     "name": "stdout",
     "output_type": "stream",
     "text": [
      "Processing book: The Poetry of Sylvia Plath\n",
      "Processing book: Zero\n",
      "Processing book: The Walking Dead\n",
      "Processing book: Dead Air\n",
      "Processing book: Bored of the Rings\n"
     ]
    }
   ],
   "source": [
    "if results_bm_25:\n",
    "    last_title = list(results_bm_25.keys())[-1]\n",
    "    last_book_data = results_bm_25.pop(last_title)\n",
    "    total_appearance_count_bm_25 -= last_book_data[\"appearance_count\"]\n",
    "    total_questions_bm_25 -= last_book_data[\"total_questions\"]\n",
    "\n",
    "\n",
    "start_index = len(results_bm_25)\n",
    "books_to_process = teste_df.iloc[start_index:]\n",
    "\n",
    "for index, row in books_to_process.iterrows():\n",
    "    title = row['title']\n",
    "    print(f\"Processing book: {title}\")\n",
    "    description = row['description']\n",
    "    questions_bm_25 = generate_generic_questions(title, description)\n",
    "    \n",
    "    results_bm_25[title] = {\n",
    "        \"questions\": questions_bm_25,\n",
    "        \"appearance_count\": 0,\n",
    "        \"total_questions\": len(questions_bm_25),\n",
    "        \"relevance_scores\": []\n",
    "    }\n",
    "    \n",
    "    for question in questions_bm_25:\n",
    "        search_results_bm_25 = query_bm25(question)\n",
    "        search_results_titles_bm_25 = list(search_results_bm_25['title'])\n",
    "        book_appears_bm_25 = title in search_results_titles_bm_25\n",
    "        results_bm_25[title][\"relevance_scores\"].append(int(book_appears_bm_25))\n",
    "        if book_appears_bm_25:\n",
    "            results_bm_25[title][\"appearance_count\"] += 1\n",
    "    \n",
    "    total_appearance_count_bm_25 += results_bm_25[title][\"appearance_count\"]\n",
    "    total_questions_bm_25 += results_bm_25[title][\"total_questions\"]"
   ]
  },
  {
   "cell_type": "code",
   "execution_count": 44,
   "metadata": {},
   "outputs": [
    {
     "name": "stdout",
     "output_type": "stream",
     "text": [
      "Overall percentage: 35.96%\n"
     ]
    }
   ],
   "source": [
    "if total_questions_bm_25 > 0:\n",
    "    overall_percentage_bm_25 = (total_appearance_count_bm_25 / total_questions_bm_25) * 100\n",
    "else:\n",
    "    overall_percentage_bm_25 = 0\n",
    "\n",
    "print(f\"Overall percentage: {overall_percentage_bm_25:.2f}%\")"
   ]
  },
  {
   "cell_type": "code",
   "execution_count": 46,
   "metadata": {},
   "outputs": [],
   "source": [
    "def dcg(relevance_scores, p):\n",
    "    relevance_scores = np.asfarray(relevance_scores)[:p]\n",
    "    if relevance_scores.size:\n",
    "        return np.sum(relevance_scores / np.log2(np.arange(2, relevance_scores.size + 2)))\n",
    "    return 0.0\n",
    "\n",
    "def ndcg(relevance_scores, p):\n",
    "    dcg_p = dcg(relevance_scores, p)\n",
    "    idcg_p = dcg(sorted(relevance_scores, reverse=True), p)\n",
    "    if idcg_p == 0:\n",
    "        return 0.0\n",
    "    return dcg_p / idcg_p"
   ]
  },
  {
   "cell_type": "code",
   "execution_count": 47,
   "metadata": {},
   "outputs": [
    {
     "name": "stdout",
     "output_type": "stream",
     "text": [
      "Mean NDCG@10 across all books: 0.4870\n"
     ]
    }
   ],
   "source": [
    "ndcg_scores_bm_25 = {}\n",
    "p = 10  # Define the position at which NDCG is calculated\n",
    "for title, data in results_bm_25.items():\n",
    "    relevance_scores = data[\"relevance_scores\"]\n",
    "    ndcg_scores_bm_25[title] = ndcg(relevance_scores, p)\n",
    "\n",
    "# Optional: Calculate the mean NDCG score across all books\n",
    "mean_ndcg_bm_25 = np.mean(list(ndcg_scores_bm_25.values()))\n",
    "print(f\"Mean NDCG@{p} across all books: {mean_ndcg_bm_25:.4f}\")"
   ]
  },
  {
   "cell_type": "markdown",
   "metadata": {},
   "source": [
    "### Hybrid"
   ]
  },
  {
   "cell_type": "code",
   "execution_count": 49,
   "metadata": {},
   "outputs": [
    {
     "name": "stdout",
     "output_type": "stream",
     "text": [
      "Processing book: Not Much Fun\n",
      "Processing book: A Man of the People\n",
      "Processing book: The Complete Idiot's Guide to World Religions\n",
      "Processing book: The Chaneysville Incident\n",
      "Processing book: Tomie\n",
      "Processing book: The Invisibles, the Invisible Kingdom\n",
      "Processing book: The Farthest Shore\n",
      "Processing book: Field Guide to Home Buying in America\n",
      "Processing book: The Professor and the Madman\n",
      "Processing book: Nixon Agonistes\n",
      "Processing book: Me Talk Pretty One Day\n",
      "Processing book: The Guardian\n",
      "Processing book: A Midsummer Night's Dream\n",
      "Processing book: West Africa\n",
      "Processing book: The Day of the Tempest\n",
      "Processing book: The Good Earth\n",
      "Processing book: Hamlet's Mill\n",
      "Processing book: Pirates of the Caribbean: The Sword of Cortes - Jack Sparrow #4\n",
      "Processing book: Rameau's Nephew / D'alembert's Dream\n",
      "Processing book: A Dirty Job\n",
      "Processing book: Confessions of an Ugly Stepsister\n",
      "Processing book: The All-true Travels and Adventures of Lidie Newton\n",
      "Processing book: Alice in Wonderland\n",
      "Processing book: The Orchard Keeper\n",
      "Processing book: Savage Inequalities\n",
      "Processing book: The Prestige\n",
      "Processing book: Moon-Flash\n",
      "Processing book: Three Nights in August\n",
      "Processing book: James Tiptree, Jr.\n",
      "Processing book: Hallowe'en Party\n",
      "Processing book: Ultimate Spider-Man - Volume 16\n",
      "Processing book: Blue at the Mizzen (Vol. Book 20) (Aubrey/Maturin Novels)\n",
      "Processing book: The Deer in the Wood\n",
      "Processing book: Jessica's Bad Idea\n",
      "Processing book: Brave New World\n",
      "Processing book: Stuart Little\n",
      "Processing book: Three Complete Novels\n",
      "Processing book: Queen of Sorcery\n",
      "Processing book: Anybody Out There?\n",
      "Processing book: Lori's Little Secret\n",
      "Processing book: Buddha\n",
      "Processing book: Forms of Talk\n",
      "Processing book: Falling Up\n",
      "Processing book: See No Evil\n",
      "Processing book: The Book of Leviathan\n",
      "Processing book: Redwall\n",
      "Processing book: Zinn and the Art of Road Bike Maintenance\n",
      "Processing book: The Treasure Principle\n",
      "Processing book: Girls who Wore Black\n",
      "Processing book: Jeeves And The Tie That Binds\n",
      "Processing book: The Jew of Malta\n",
      "Processing book: Scary Edwin Page\n",
      "Processing book: Mother God\n",
      "Processing book: The Tutor's First Love\n",
      "Processing book: A Journal of the Plague Year\n",
      "Processing book: The complete works of Aristotle\n",
      "Processing book: The Third Man and the Fallen Idol\n",
      "Processing book: The Heart of a Leader\n",
      "Processing book: The Periodic Table\n",
      "Processing book: Cat's Cradle\n",
      "Processing book: The Footprints of God\n",
      "Processing book: The Mistress Manual\n",
      "Processing book: Appointment with Death\n",
      "Processing book: Living with the Passive-Aggressive Man\n",
      "Processing book: Merde!\n",
      "Processing book: CSS Cookbook\n",
      "Processing book: Corroborating Evidence\n",
      "Processing book: Hard Drive\n",
      "Processing book: Winterdance\n",
      "Processing book: Eaters of the Dead\n",
      "Processing book: If I Die in a Combat Zone\n",
      "Processing book: Cousin Pons\n",
      "Processing book: Bright Purple\n",
      "Processing book: The Invisibles, Apocalipstick\n",
      "Processing book: The Black Dahlia\n",
      "Processing book: Star Wars\n",
      "Processing book: Seventeen & In-Between\n",
      "Processing book: Alanna\n",
      "Processing book: Political Philosophy: A Beginner's Guide for Students and Politicians\n",
      "Processing book: The Epic of Gilgamesh\n",
      "Processing book: Sure of You\n",
      "Processing book: Vincent Van Gogh\n",
      "Processing book: Bad Boys in Black Tie\n",
      "Processing book: Road Trip USA\n",
      "Processing book: Malgudi Days\n",
      "Processing book: Zen in the Art of Writing\n",
      "Processing book: X/1999, Vol. 1\n",
      "Processing book: Antitrust Law, Second Edition\n",
      "Processing book: Lovingkindness\n",
      "Processing book: Plagues and peoples\n",
      "Processing book: Brando Unzipped\n",
      "Processing book: No One is Illegal\n",
      "Processing book: The Transition of H.P. Lovecraft\n",
      "Processing book: Everything on a Waffle\n",
      "Processing book: Winston S. Churchill\n",
      "Processing book: The Poetry of Sylvia Plath\n",
      "Processing book: Zero\n",
      "Processing book: The Walking Dead\n",
      "Processing book: Dead Air\n",
      "Processing book: Bored of the Rings\n"
     ]
    }
   ],
   "source": [
    "results = {}\n",
    "total_appearance_count = 0\n",
    "total_questions = 0\n",
    "\n",
    "for index, row in teste_df.iterrows():\n",
    "    title = row['title']\n",
    "    print(f\"Processing book: {title}\")\n",
    "    description = row['description']\n",
    "    questions = generate_generic_questions(title, description)\n",
    "    \n",
    "    results[title] = {\n",
    "        \"questions\": questions,\n",
    "        \"appearance_count\": 0,\n",
    "        \"total_questions\": len(questions),\n",
    "        \"relevance_scores\": []\n",
    "    }\n",
    "    \n",
    "    for question in questions:\n",
    "        search_results = query_hybrid(question)\n",
    "        search_results_titles = list(search_results['title'])\n",
    "        book_appears = title in search_results_titles\n",
    "        results[title][\"relevance_scores\"].append(int(book_appears))\n",
    "        if book_appears:\n",
    "            results[title][\"appearance_count\"] += 1\n",
    "    \n",
    "    total_appearance_count += results[title][\"appearance_count\"]\n",
    "    total_questions += results[title][\"total_questions\"]"
   ]
  },
  {
   "cell_type": "code",
   "execution_count": 50,
   "metadata": {},
   "outputs": [
    {
     "name": "stdout",
     "output_type": "stream",
     "text": [
      "Overall percentage: 29.08%\n"
     ]
    }
   ],
   "source": [
    "if total_questions > 0:\n",
    "    overall_percentage = (total_appearance_count / total_questions) * 100\n",
    "else:\n",
    "    overall_percentage = 0\n",
    "\n",
    "print(f\"Overall percentage: {overall_percentage:.2f}%\")"
   ]
  },
  {
   "cell_type": "code",
   "execution_count": 51,
   "metadata": {},
   "outputs": [
    {
     "name": "stdout",
     "output_type": "stream",
     "text": [
      "Mean NDCG@10 across all books: 0.4034\n"
     ]
    }
   ],
   "source": [
    "ndcg_scores = {}\n",
    "p = 10  # Define the position at which NDCG is calculated\n",
    "for title, data in results.items():\n",
    "    relevance_scores = data[\"relevance_scores\"]\n",
    "    ndcg_scores[title] = ndcg(relevance_scores, p)\n",
    "\n",
    "# Optional: Calculate the mean NDCG score across all books\n",
    "mean_ndcg = np.mean(list(ndcg_scores.values()))\n",
    "print(f\"Mean NDCG@{p} across all books: {mean_ndcg:.4f}\")"
   ]
  },
  {
   "cell_type": "markdown",
   "metadata": {},
   "source": [
    "### Semântico"
   ]
  },
  {
   "cell_type": "code",
   "execution_count": 53,
   "metadata": {},
   "outputs": [],
   "source": [
    "results_semantico = {}\n",
    "total_appearance_count_semantico = 0\n",
    "total_questions_bm_semantico = 0"
   ]
  },
  {
   "cell_type": "code",
   "execution_count": 54,
   "metadata": {},
   "outputs": [
    {
     "name": "stdout",
     "output_type": "stream",
     "text": [
      "Processing book: Not Much Fun\n",
      "Processing book: A Man of the People\n",
      "Processing book: The Complete Idiot's Guide to World Religions\n",
      "Processing book: The Chaneysville Incident\n",
      "Processing book: Tomie\n",
      "Processing book: The Invisibles, the Invisible Kingdom\n",
      "Processing book: The Farthest Shore\n",
      "Processing book: Field Guide to Home Buying in America\n",
      "Processing book: The Professor and the Madman\n",
      "Processing book: Nixon Agonistes\n",
      "Processing book: Me Talk Pretty One Day\n",
      "Processing book: The Guardian\n",
      "Processing book: A Midsummer Night's Dream\n",
      "Processing book: West Africa\n",
      "Processing book: The Day of the Tempest\n",
      "Processing book: The Good Earth\n",
      "Processing book: Hamlet's Mill\n",
      "Processing book: Pirates of the Caribbean: The Sword of Cortes - Jack Sparrow #4\n",
      "Processing book: Rameau's Nephew / D'alembert's Dream\n",
      "Processing book: A Dirty Job\n",
      "Processing book: Confessions of an Ugly Stepsister\n",
      "Processing book: The All-true Travels and Adventures of Lidie Newton\n",
      "Processing book: Alice in Wonderland\n",
      "Processing book: The Orchard Keeper\n",
      "Processing book: Savage Inequalities\n",
      "Processing book: The Prestige\n",
      "Processing book: Moon-Flash\n",
      "Processing book: Three Nights in August\n",
      "Processing book: James Tiptree, Jr.\n",
      "Processing book: Hallowe'en Party\n",
      "Processing book: Ultimate Spider-Man - Volume 16\n",
      "Processing book: Blue at the Mizzen (Vol. Book 20) (Aubrey/Maturin Novels)\n",
      "Processing book: The Deer in the Wood\n",
      "Processing book: Jessica's Bad Idea\n",
      "Processing book: Brave New World\n",
      "Processing book: Stuart Little\n",
      "Processing book: Three Complete Novels\n",
      "Processing book: Queen of Sorcery\n",
      "Processing book: Anybody Out There?\n",
      "Processing book: Lori's Little Secret\n",
      "Processing book: Buddha\n",
      "Processing book: Forms of Talk\n",
      "Processing book: Falling Up\n",
      "Processing book: See No Evil\n",
      "Processing book: The Book of Leviathan\n",
      "Processing book: Redwall\n",
      "Processing book: Zinn and the Art of Road Bike Maintenance\n",
      "Processing book: The Treasure Principle\n",
      "Processing book: Girls who Wore Black\n",
      "Processing book: Jeeves And The Tie That Binds\n",
      "Processing book: The Jew of Malta\n",
      "Processing book: Scary Edwin Page\n",
      "Processing book: Mother God\n",
      "Processing book: The Tutor's First Love\n",
      "Processing book: A Journal of the Plague Year\n",
      "Processing book: The complete works of Aristotle\n",
      "Processing book: The Third Man and the Fallen Idol\n",
      "Processing book: The Heart of a Leader\n",
      "Processing book: The Periodic Table\n",
      "Processing book: Cat's Cradle\n",
      "Processing book: The Footprints of God\n",
      "Processing book: The Mistress Manual\n",
      "Processing book: Appointment with Death\n",
      "Processing book: Living with the Passive-Aggressive Man\n",
      "Processing book: Merde!\n",
      "Processing book: CSS Cookbook\n",
      "Processing book: Corroborating Evidence\n",
      "Processing book: Hard Drive\n",
      "Processing book: Winterdance\n",
      "Processing book: Eaters of the Dead\n",
      "Processing book: If I Die in a Combat Zone\n",
      "Processing book: Cousin Pons\n",
      "Processing book: Bright Purple\n",
      "Processing book: The Invisibles, Apocalipstick\n",
      "Processing book: The Black Dahlia\n",
      "Processing book: Star Wars\n",
      "Processing book: Seventeen & In-Between\n",
      "Processing book: Alanna\n",
      "Processing book: Political Philosophy: A Beginner's Guide for Students and Politicians\n",
      "Processing book: The Epic of Gilgamesh\n",
      "Processing book: Sure of You\n",
      "Processing book: Vincent Van Gogh\n",
      "Processing book: Bad Boys in Black Tie\n",
      "Processing book: Road Trip USA\n",
      "Processing book: Malgudi Days\n",
      "Processing book: Zen in the Art of Writing\n",
      "Processing book: X/1999, Vol. 1\n",
      "Processing book: Antitrust Law, Second Edition\n",
      "Processing book: Lovingkindness\n",
      "Processing book: Plagues and peoples\n",
      "Processing book: Brando Unzipped\n",
      "Processing book: No One is Illegal\n",
      "Processing book: The Transition of H.P. Lovecraft\n",
      "Processing book: Everything on a Waffle\n",
      "Processing book: Winston S. Churchill\n",
      "Processing book: The Poetry of Sylvia Plath\n",
      "Processing book: Zero\n",
      "Processing book: The Walking Dead\n",
      "Processing book: Dead Air\n",
      "Processing book: Bored of the Rings\n"
     ]
    }
   ],
   "source": [
    "if results_semantico:\n",
    "    last_title = list(results_semantico.keys())[-1]\n",
    "    last_book_data = results_semantico.pop(last_title)\n",
    "    total_appearance_count_semantico -= last_book_data[\"appearance_count\"]\n",
    "    total_questions_bm_semantico -= last_book_data[\"total_questions\"]\n",
    "\n",
    "\n",
    "start_index = len(results_semantico)\n",
    "books_to_process = teste_df.iloc[start_index:]\n",
    "\n",
    "for index, row in books_to_process.iterrows():\n",
    "    title = row['title']\n",
    "    print(f\"Processing book: {title}\")\n",
    "    description = row['description']\n",
    "    questions_semantico = generate_generic_questions(title, description)\n",
    "    \n",
    "    results_semantico[title] = {\n",
    "        \"questions\": questions_semantico,\n",
    "        \"appearance_count\": 0,\n",
    "        \"total_questions\": len(questions_semantico),\n",
    "        \"relevance_scores\": []\n",
    "    }\n",
    "    \n",
    "    for question in questions_semantico:\n",
    "        search_results_semantico = query_semantic(question)\n",
    "        search_results_titles_semantico = list(search_results_semantico['title'])\n",
    "        book_appears_semantico = title in search_results_titles_semantico\n",
    "        results_semantico[title][\"relevance_scores\"].append(int(book_appears_semantico))\n",
    "        if book_appears_semantico:\n",
    "            results_semantico[title][\"appearance_count\"] += 1\n",
    "    \n",
    "    total_appearance_count_semantico += results_semantico[title][\"appearance_count\"]\n",
    "    total_questions_bm_semantico += results_semantico[title][\"total_questions\"]"
   ]
  },
  {
   "cell_type": "code",
   "execution_count": 55,
   "metadata": {},
   "outputs": [
    {
     "name": "stdout",
     "output_type": "stream",
     "text": [
      "Overall percentage: 30.35%\n"
     ]
    }
   ],
   "source": [
    "if total_questions_bm_semantico > 0:\n",
    "    overall_percentage_semantic = (total_appearance_count_semantico/ total_questions_bm_semantico) * 100\n",
    "else:\n",
    "    overall_percentage_semantic = 0\n",
    "\n",
    "print(f\"Overall percentage: {overall_percentage_semantic:.2f}%\")"
   ]
  },
  {
   "cell_type": "code",
   "execution_count": 56,
   "metadata": {},
   "outputs": [
    {
     "name": "stdout",
     "output_type": "stream",
     "text": [
      "Mean NDCG@10 across all books: 0.4127\n"
     ]
    }
   ],
   "source": [
    "ndcg_scores_semantic = {}\n",
    "p = 10  # Define the position at which NDCG is calculated\n",
    "for title, data in results_semantico.items():\n",
    "    relevance_scores = data[\"relevance_scores\"]\n",
    "    ndcg_scores_semantic[title] = ndcg(relevance_scores, p)\n",
    "\n",
    "# Optional: Calculate the mean NDCG score across all books\n",
    "mean_ndcg_semantic = np.mean(list(ndcg_scores_semantic.values()))\n",
    "print(f\"Mean NDCG@{p} across all books: {mean_ndcg_semantic:.4f}\")"
   ]
  },
  {
   "cell_type": "markdown",
   "metadata": {},
   "source": [
    "### Plots"
   ]
  },
  {
   "cell_type": "code",
   "execution_count": 60,
   "metadata": {},
   "outputs": [
    {
     "data": {
      "image/png": "[encoded data removed]",
      "text/plain": [
       "<Figure size 640x480 with 1 Axes>"
      ]
     },
     "metadata": {},
     "output_type": "display_data"
    }
   ],
   "source": [
    "import matplotlib.pyplot as plt\n",
    "fig, ax = plt.subplots()\n",
    "bar_width = 0.3\n",
    "opacity = 0.8\n",
    "index = np.arange(3)\n",
    "rects1 = plt.bar(index, [overall_percentage, overall_percentage_bm_25, overall_percentage_semantic], bar_width, alpha=opacity, color='b', label='Overall Percentage')\n",
    "plt.xlabel('Models')\n",
    "plt.ylabel('Overall Percentage')\n",
    "plt.title('Overall Percentage by Model')\n",
    "plt.xticks(index, ['Hybrid', 'BM25', 'Semantic'])\n",
    "plt.legend()\n",
    "plt.tight_layout()\n",
    "plt.show()\n"
   ]
  },
  {
   "cell_type": "code",
   "execution_count": 61,
   "metadata": {},
   "outputs": [
    {
     "data": {
      "image/png": "[encoded data removed]",
      "text/plain": [
       "<Figure size 640x480 with 1 Axes>"
      ]
     },
     "metadata": {},
     "output_type": "display_data"
    }
   ],
   "source": [
    "fig, ax = plt.subplots()\n",
    "bar_width = 0.3\n",
    "opacity = 0.8\n",
    "index = np.arange(3)\n",
    "rects1 = plt.bar(index, [mean_ndcg, mean_ndcg_bm_25, mean_ndcg_semantic], bar_width, alpha=opacity, color='b', label='Mean NDCG')\n",
    "plt.xlabel('Models')\n",
    "plt.ylabel('Mean NDCG')\n",
    "plt.title('Mean NDCG by Model')\n",
    "plt.xticks(index, ['Hybrid', 'BM25', 'Semantic'])\n",
    "plt.legend()\n",
    "plt.tight_layout()\n",
    "plt.show()"
   ]
  },
  {
   "cell_type": "markdown",
   "metadata": {},
   "source": [
    "## Teste 3"
   ]
  },
  {
   "cell_type": "markdown",
   "metadata": {},
   "source": [
    "### BM_25"
   ]
  },
  {
   "cell_type": "code",
   "execution_count": 7,
   "metadata": {},
   "outputs": [],
   "source": [
    "package = ApplicationPackage(\n",
    "    name=\"hybridsearchbv\",\n",
    "    schema=[\n",
    "        Schema(\n",
    "            name=\"doc\",\n",
    "            document=Document(\n",
    "                fields=[\n",
    "                    Field(name=\"id\", type=\"string\", indexing=[\"summary\"]),\n",
    "                    Field(\n",
    "                        name=\"title\",\n",
    "                        type=\"string\",\n",
    "                        indexing=[\"index\", \"summary\"],\n",
    "                        index=\"enable-bm25\",\n",
    "                    ),\n",
    "                    Field(\n",
    "                        name=\"authors\",\n",
    "                        type=\"string\",\n",
    "                        indexing=[\"index\", \"summary\"],\n",
    "                        index=\"enable-bm25\",\n",
    "                        bolding=True,\n",
    "                    ),\n",
    "                    Field(\n",
    "                        name=\"description\",\n",
    "                        type=\"string\",\n",
    "                        indexing=[\"index\", \"summary\"],\n",
    "                        index=\"enable-bm25\",\n",
    "                        bolding=True,\n",
    "                    ),\n",
    "                    Field(\n",
    "                        name=\"categories\",\n",
    "                        type=\"string\",\n",
    "                        indexing=[\"index\", \"summary\"],\n",
    "                        index=\"enable-bm25\",\n",
    "                        bolding=True,\n",
    "                    ),\n",
    "                    Field(\n",
    "                        name=\"embedding\",\n",
    "                        type=\"tensor<float>(x[384])\",\n",
    "                        indexing=[\n",
    "                            'input description . \" \" . input categories',\n",
    "                            \"embed\",\n",
    "                            \"index\",\n",
    "                            \"attribute\",\n",
    "                        ],\n",
    "                        ann=HNSW(distance_metric=\"angular\"),\n",
    "                        is_document_field=False,\n",
    "                    ),\n",
    "                ]\n",
    "            ),\n",
    "            fieldsets=[FieldSet(name=\"default\", fields=[\"title\", \"authors\", \"description\", \"categories\"])],\n",
    "            rank_profiles=[\n",
    "                RankProfile(\n",
    "                    name=\"bm25\",\n",
    "                    inputs=[(\"query(q)\", \"tensor<float>(x[384])\")],\n",
    "                    functions=[\n",
    "                        Function(name=\"bm25sum\", expression=\"bm25(description) + bm25(categories)\")\n",
    "                    ],\n",
    "                    first_phase=\"bm25sum\",\n",
    "                ),\n",
    "                RankProfile(\n",
    "                    name=\"semantic\",\n",
    "                    inputs=[(\"query(q)\", \"tensor<float>(x[384])\")],\n",
    "                    first_phase=\"closeness(field, embedding)\",\n",
    "                ),\n",
    "                RankProfile(\n",
    "                    name=\"fusion\",\n",
    "                    inherits=\"bm25\",\n",
    "                    inputs=[(\"query(q)\", \"tensor<float>(x[384])\")],\n",
    "                    first_phase=\"closeness(field, embedding)\",\n",
    "                    global_phase=GlobalPhaseRanking(\n",
    "                        expression=\"reciprocal_rank_fusion(bm25sum, closeness(field, embedding))\",\n",
    "                        rerank_count=1000,\n",
    "                    ),\n",
    "                ),\n",
    "            ],\n",
    "        )\n",
    "    ],\n",
    "    components=[\n",
    "        Component(\n",
    "            id=\"e5\",\n",
    "            type=\"hugging-face-embedder\",\n",
    "            parameters=[\n",
    "                Parameter(\n",
    "                    \"transformer-model\",\n",
    "                    {\n",
    "                        \"url\": \"https://github.com/vespa-engine/sample-apps/raw/master/simple-semantic-search/model/e5-small-v2-int8.onnx\"\n",
    "                    },\n",
    "                ),\n",
    "                Parameter(\n",
    "                    \"tokenizer-model\",\n",
    "                    {\n",
    "                        \"url\": \"https://raw.githubusercontent.com/vespa-engine/sample-apps/master/simple-semantic-search/model/tokenizer.json\"\n",
    "                    },\n",
    "                ),\n",
    "            ],\n",
    "        )\n",
    "    ],\n",
    ")"
   ]
  },
  {
   "cell_type": "code",
   "execution_count": 8,
   "metadata": {},
   "outputs": [
    {
     "name": "stdout",
     "output_type": "stream",
     "text": [
      "Waiting for configuration server, 0/60 seconds...\n",
      "Waiting for configuration server, 5/60 seconds...\n",
      "Waiting for configuration server, 10/60 seconds...\n",
      "Waiting for configuration server, 15/60 seconds...\n",
      "Using plain http against endpoint http://localhost:8080/ApplicationStatus\n",
      "Waiting for application status, 0/300 seconds...\n",
      "Using plain http against endpoint http://localhost:8080/ApplicationStatus\n",
      "Waiting for application status, 5/300 seconds...\n",
      "Using plain http against endpoint http://localhost:8080/ApplicationStatus\n",
      "Waiting for application status, 10/300 seconds...\n",
      "Using plain http against endpoint http://localhost:8080/ApplicationStatus\n",
      "Waiting for application status, 15/300 seconds...\n",
      "Using plain http against endpoint http://localhost:8080/ApplicationStatus\n",
      "Waiting for application status, 20/300 seconds...\n",
      "Using plain http against endpoint http://localhost:8080/ApplicationStatus\n",
      "Waiting for application status, 25/300 seconds...\n",
      "Using plain http against endpoint http://localhost:8080/ApplicationStatus\n",
      "Waiting for application status, 30/300 seconds...\n",
      "Using plain http against endpoint http://localhost:8080/ApplicationStatus\n",
      "Waiting for application status, 35/300 seconds...\n",
      "Using plain http against endpoint http://localhost:8080/ApplicationStatus\n",
      "Waiting for application status, 40/300 seconds...\n",
      "Using plain http against endpoint http://localhost:8080/ApplicationStatus\n",
      "Waiting for application status, 45/300 seconds...\n",
      "Using plain http against endpoint http://localhost:8080/ApplicationStatus\n",
      "Waiting for application status, 50/300 seconds...\n",
      "Using plain http against endpoint http://localhost:8080/ApplicationStatus\n",
      "Waiting for application status, 55/300 seconds...\n",
      "Using plain http against endpoint http://localhost:8080/ApplicationStatus\n",
      "Waiting for application status, 60/300 seconds...\n",
      "Using plain http against endpoint http://localhost:8080/ApplicationStatus\n",
      "Waiting for application status, 65/300 seconds...\n",
      "Using plain http against endpoint http://localhost:8080/ApplicationStatus\n",
      "Waiting for application status, 70/300 seconds...\n",
      "Using plain http against endpoint http://localhost:8080/ApplicationStatus\n",
      "Waiting for application status, 75/300 seconds...\n",
      "Using plain http against endpoint http://localhost:8080/ApplicationStatus\n",
      "Application is up!\n",
      "Finished deployment.\n"
     ]
    }
   ],
   "source": [
    "vespa_docker = VespaDocker()\n",
    "app = vespa_docker.deploy(application_package=package)"
   ]
  },
  {
   "cell_type": "code",
   "execution_count": 9,
   "metadata": {},
   "outputs": [],
   "source": [
    "df = pd.read_csv(\"https://raw.githubusercontent.com/bernardovma/dados_livros/main/data.csv\")\n",
    "df['id'] = range(1, len(df) + 1)\n",
    "df = df.fillna(\"\")\n",
    "vespa_feed = df.apply(transform_row, axis=1).tolist()\n",
    "\n",
    "app.feed_iterable(vespa_feed, schema=\"doc\", namespace=\"bookrec\", callback=callback)"
   ]
  },
  {
   "cell_type": "code",
   "execution_count": 11,
   "metadata": {},
   "outputs": [
    {
     "data": {
      "text/html": [
       "<div>\n",
       "<style scoped>\n",
       "    .dataframe tbody tr th:only-of-type {\n",
       "        vertical-align: middle;\n",
       "    }\n",
       "\n",
       "    .dataframe tbody tr th {\n",
       "        vertical-align: top;\n",
       "    }\n",
       "\n",
       "    .dataframe thead th {\n",
       "        text-align: right;\n",
       "    }\n",
       "</style>\n",
       "<table border=\"1\" class=\"dataframe\">\n",
       "  <thead>\n",
       "    <tr style=\"text-align: right;\">\n",
       "      <th></th>\n",
       "      <th>id</th>\n",
       "      <th>title</th>\n",
       "      <th>authors</th>\n",
       "      <th>description</th>\n",
       "      <th>categories</th>\n",
       "    </tr>\n",
       "  </thead>\n",
       "  <tbody>\n",
       "    <tr>\n",
       "      <th>0</th>\n",
       "      <td>3254</td>\n",
       "      <td>The Complete Science Fiction Treasury of H.G. ...</td>\n",
       "      <td>H. G. Wells</td>\n",
       "      <td>Includes fantasies of &lt;hi&gt;travel&lt;/hi&gt; in time ...</td>\n",
       "      <td>Science fiction, English.</td>\n",
       "    </tr>\n",
       "    <tr>\n",
       "      <th>1</th>\n",
       "      <td>6677</td>\n",
       "      <td>Teleportation: From Star Trek to Tesla</td>\n",
       "      <td>Commander X;Tim Swartz</td>\n",
       "      <td>NOW YOU CAN &lt;hi&gt;TRAVEL&lt;/hi&gt; UP, UP and AWAY......</td>\n",
       "      <td>Body, Mind &amp; Spirit</td>\n",
       "    </tr>\n",
       "    <tr>\n",
       "      <th>2</th>\n",
       "      <td>878</td>\n",
       "      <td>The Fabric of the Cosmos</td>\n",
       "      <td>Brian Greene</td>\n",
       "      <td>From the bestselling author of The Elegant Uni...</td>\n",
       "      <td>Science</td>\n",
       "    </tr>\n",
       "    <tr>\n",
       "      <th>3</th>\n",
       "      <td>5327</td>\n",
       "      <td>Gabriel Garcia Marquez's Love in the Time of C...</td>\n",
       "      <td>Tom Fahy</td>\n",
       "      <td>A brilliant idea--short, perceptive &lt;hi&gt;books&lt;...</td>\n",
       "      <td>Literary Criticism</td>\n",
       "    </tr>\n",
       "    <tr>\n",
       "      <th>4</th>\n",
       "      <td>6560</td>\n",
       "      <td>The Future of the Universe</td>\n",
       "      <td>A.J. Meadows</td>\n",
       "      <td>Many &lt;hi&gt;books&lt;/hi&gt; have described how the uni...</td>\n",
       "      <td>Science</td>\n",
       "    </tr>\n",
       "    <tr>\n",
       "      <th>5</th>\n",
       "      <td>3436</td>\n",
       "      <td>Triumph of the Darksword</td>\n",
       "      <td>Margaret Weis;Tracy Hickman</td>\n",
       "      <td>Science fiction.</td>\n",
       "      <td>Fiction</td>\n",
       "    </tr>\n",
       "    <tr>\n",
       "      <th>6</th>\n",
       "      <td>4237</td>\n",
       "      <td>The Time Machine</td>\n",
       "      <td>Herbert George Wells</td>\n",
       "      <td>None</td>\n",
       "      <td>Science fiction, English</td>\n",
       "    </tr>\n",
       "    <tr>\n",
       "      <th>7</th>\n",
       "      <td>3263</td>\n",
       "      <td>Two Complete Novels</td>\n",
       "      <td>Douglas Adams</td>\n",
       "      <td>Following themes of zany &lt;hi&gt;space&lt;/hi&gt; explor...</td>\n",
       "      <td>Detective and mystery stories, English.</td>\n",
       "    </tr>\n",
       "    <tr>\n",
       "      <th>8</th>\n",
       "      <td>1935</td>\n",
       "      <td>Star Trek, the Animated Series</td>\n",
       "      <td>Alan Dean Foster</td>\n",
       "      <td>None</td>\n",
       "      <td>Star trek fiction</td>\n",
       "    </tr>\n",
       "    <tr>\n",
       "      <th>9</th>\n",
       "      <td>1813</td>\n",
       "      <td>Life, the Universe and Everything</td>\n",
       "      <td>Douglas Adams</td>\n",
       "      <td>Arthur Dent and Ford Prefect learn why Earth h...</td>\n",
       "      <td>Fiction</td>\n",
       "    </tr>\n",
       "  </tbody>\n",
       "</table>\n",
       "</div>"
      ],
      "text/plain": [
       "     id                                              title  \\\n",
       "0  3254  The Complete Science Fiction Treasury of H.G. ...   \n",
       "1  6677             Teleportation: From Star Trek to Tesla   \n",
       "2   878                           The Fabric of the Cosmos   \n",
       "3  5327  Gabriel Garcia Marquez's Love in the Time of C...   \n",
       "4  6560                         The Future of the Universe   \n",
       "5  3436                           Triumph of the Darksword   \n",
       "6  4237                                   The Time Machine   \n",
       "7  3263                                Two Complete Novels   \n",
       "8  1935                     Star Trek, the Animated Series   \n",
       "9  1813                  Life, the Universe and Everything   \n",
       "\n",
       "                       authors  \\\n",
       "0                  H. G. Wells   \n",
       "1       Commander X;Tim Swartz   \n",
       "2                 Brian Greene   \n",
       "3                     Tom Fahy   \n",
       "4                 A.J. Meadows   \n",
       "5  Margaret Weis;Tracy Hickman   \n",
       "6         Herbert George Wells   \n",
       "7                Douglas Adams   \n",
       "8             Alan Dean Foster   \n",
       "9                Douglas Adams   \n",
       "\n",
       "                                         description  \\\n",
       "0  Includes fantasies of <hi>travel</hi> in time ...   \n",
       "1  NOW YOU CAN <hi>TRAVEL</hi> UP, UP and AWAY......   \n",
       "2  From the bestselling author of The Elegant Uni...   \n",
       "3  A brilliant idea--short, perceptive <hi>books<...   \n",
       "4  Many <hi>books</hi> have described how the uni...   \n",
       "5                                   Science fiction.   \n",
       "6                                               None   \n",
       "7  Following themes of zany <hi>space</hi> explor...   \n",
       "8                                               None   \n",
       "9  Arthur Dent and Ford Prefect learn why Earth h...   \n",
       "\n",
       "                                categories  \n",
       "0                Science fiction, English.  \n",
       "1                      Body, Mind & Spirit  \n",
       "2                                  Science  \n",
       "3                       Literary Criticism  \n",
       "4                                  Science  \n",
       "5                                  Fiction  \n",
       "6                 Science fiction, English  \n",
       "7  Detective and mystery stories, English.  \n",
       "8                        Star trek fiction  \n",
       "9                                  Fiction  "
      ]
     },
     "execution_count": 11,
     "metadata": {},
     "output_type": "execute_result"
    }
   ],
   "source": [
    "query_hybrid('books about space travel')"
   ]
  },
  {
   "cell_type": "code",
   "execution_count": 65,
   "metadata": {},
   "outputs": [],
   "source": [
    "results_bm_25 = {}\n",
    "total_appearance_count_bm_25 = 0\n",
    "total_questions_bm_25 = 0"
   ]
  },
  {
   "cell_type": "code",
   "execution_count": 76,
   "metadata": {},
   "outputs": [
    {
     "name": "stdout",
     "output_type": "stream",
     "text": [
      "Processing book: Plagues and peoples\n",
      "Processing book: Brando Unzipped\n",
      "Processing book: No One is Illegal\n",
      "Processing book: The Transition of H.P. Lovecraft\n",
      "Processing book: Everything on a Waffle\n",
      "Processing book: Winston S. Churchill\n",
      "Processing book: The Poetry of Sylvia Plath\n",
      "Processing book: Zero\n",
      "Processing book: The Walking Dead\n",
      "Processing book: Dead Air\n",
      "Processing book: Bored of the Rings\n"
     ]
    }
   ],
   "source": [
    "if results_bm_25:\n",
    "    last_title = list(results_bm_25.keys())[-1]\n",
    "    last_book_data = results_bm_25.pop(last_title)\n",
    "    total_appearance_count_bm_25 -= last_book_data[\"appearance_count\"]\n",
    "    total_questions_bm_25 -= last_book_data[\"total_questions\"]\n",
    "\n",
    "\n",
    "start_index = len(results_bm_25)\n",
    "books_to_process = teste_df.iloc[start_index:]\n",
    "\n",
    "for index, row in books_to_process.iterrows():\n",
    "    title = row['title']\n",
    "    print(f\"Processing book: {title}\")\n",
    "    description = row['description']\n",
    "    questions_bm_25 = generate_generic_questions(title, description)\n",
    "    \n",
    "    results_bm_25[title] = {\n",
    "        \"questions\": questions_bm_25,\n",
    "        \"appearance_count\": 0,\n",
    "        \"total_questions\": len(questions_bm_25),\n",
    "        \"relevance_scores\": []\n",
    "    }\n",
    "    \n",
    "    for question in questions_bm_25:\n",
    "        search_results_bm_25 = query_bm25(question)\n",
    "        search_results_titles_bm_25 = list(search_results_bm_25['title'])\n",
    "        book_appears_bm_25 = title in search_results_titles_bm_25\n",
    "        results_bm_25[title][\"relevance_scores\"].append(int(book_appears_bm_25))\n",
    "        if book_appears_bm_25:\n",
    "            results_bm_25[title][\"appearance_count\"] += 1\n",
    "    \n",
    "    total_appearance_count_bm_25 += results_bm_25[title][\"appearance_count\"]\n",
    "    total_questions_bm_25 += results_bm_25[title][\"total_questions\"]"
   ]
  },
  {
   "cell_type": "code",
   "execution_count": 77,
   "metadata": {},
   "outputs": [
    {
     "name": "stdout",
     "output_type": "stream",
     "text": [
      "Overall percentage: 46.43%\n"
     ]
    }
   ],
   "source": [
    "if total_questions_bm_25 > 0:\n",
    "    overall_percentage_bm_25 = (total_appearance_count_bm_25 / total_questions_bm_25) * 100\n",
    "else:\n",
    "    overall_percentage_bm_25 = 0\n",
    "\n",
    "print(f\"Overall percentage: {overall_percentage_bm_25:.2f}%\")"
   ]
  },
  {
   "cell_type": "code",
   "execution_count": 78,
   "metadata": {},
   "outputs": [
    {
     "name": "stdout",
     "output_type": "stream",
     "text": [
      "Mean NDCG@10 across all books: 0.5298\n"
     ]
    }
   ],
   "source": [
    "ndcg_scores_bm_25 = {}\n",
    "p = 10  # Define the position at which NDCG is calculated\n",
    "for title, data in results_bm_25.items():\n",
    "    relevance_scores = data[\"relevance_scores\"]\n",
    "    ndcg_scores_bm_25[title] = ndcg(relevance_scores, p)\n",
    "\n",
    "# Optional: Calculate the mean NDCG score across all books\n",
    "mean_ndcg_bm_25 = np.mean(list(ndcg_scores_bm_25.values()))\n",
    "print(f\"Mean NDCG@{p} across all books: {mean_ndcg_bm_25:.4f}\")"
   ]
  },
  {
   "cell_type": "markdown",
   "metadata": {},
   "source": [
    "### Hybrid"
   ]
  },
  {
   "cell_type": "code",
   "execution_count": 25,
   "metadata": {},
   "outputs": [
    {
     "name": "stdout",
     "output_type": "stream",
     "text": [
      "Processing book: Appointment with Death\n",
      "Processing book: Wittgenstein on Rules and Private Language\n",
      "Processing book: Junie B. Jones and a Little Monkey Business\n",
      "Processing book: Tales of the Cthulhu Mythos\n",
      "Processing book: The Canterbury Tales\n",
      "Processing book: Birds of a Feather\n",
      "Processing book: Shattered\n",
      "Processing book: Pendulum\n",
      "Processing book: Feersum Endjinn\n",
      "Processing book: Sliding Scales\n",
      "Processing book: Blame it on the Blackout\n",
      "Processing book: The Portable Arthur Miller\n",
      "Processing book: The Magic Journey\n",
      "Processing book: Child of the Owl\n",
      "Processing book: A Friar's Bloodfeud\n",
      "Processing book: Persuasive Writing\n",
      "Processing book: Spiritual Midwifery\n",
      "Processing book: The Tristan Betrayal\n",
      "Processing book: Mama Day\n",
      "Processing book: A Nose for Murder\n",
      "Processing book: The Bridge at Andau\n",
      "Processing book: The Case of the Curious Bride\n",
      "Processing book: El Paso\n",
      "Processing book: The Return of the King\n",
      "Processing book: The Chronicles of Narnia (adult)\n",
      "Processing book: Three Famous Short Novels: short novels, Spotted Horses, Old Man, The Bear\n",
      "Processing book: Reinventing Jesus\n",
      "Processing book: West Africa\n",
      "Processing book: The Portable Faulkner\n",
      "Processing book: A False Mirror\n",
      "Processing book: The Nuclear Age\n",
      "Processing book: My Life in France\n",
      "Processing book: Bury the Chains\n",
      "Processing book: High Five\n",
      "Processing book: Crown of Shadows\n",
      "Processing book: The Annotated Uncle Tom's Cabin\n",
      "Processing book: All the Pretty Horses\n",
      "Processing book: Fools Die\n",
      "Processing book: New Mutants\n",
      "Processing book: A Year at the Races\n",
      "Processing book: The Promise of Rest\n",
      "Processing book: IWoz\n",
      "Processing book: The Trial of God (as it was Held on February 25, 1649, in Shamgorod)\n",
      "Processing book: Voices\n",
      "Processing book: Ethics and the Limits of Philosophy\n",
      "Processing book: Waterborn\n",
      "Processing book: Lord of the Flies\n",
      "Processing book: Mother God\n",
      "Processing book: Parliament of Whores\n",
      "Processing book: Rumer Godden\n",
      "Processing book: From Bondage\n",
      "Processing book: Solo\n",
      "Processing book: Stone Tables\n",
      "Processing book: Marcovaldo, Or, The Seasons in the City\n",
      "Processing book: The Crucible of Time\n",
      "Processing book: The Roman Empire\n",
      "Processing book: Cliffs notes on Faulkner's As I lay dying\n",
      "Processing book: Moral Disorder\n",
      "Processing book: CliffsNotes on Voltaire's Candide\n",
      "Processing book: 100 Great Fantasy Short Short Stories\n",
      "Processing book: Whores for Gloria\n",
      "Processing book: A Dirty Job\n",
      "Processing book: Escape\n",
      "Processing book: Once Upon a Gulf Coast Summer\n",
      "Processing book: Expectant Father\n",
      "Processing book: Joust\n",
      "Processing book: The Blonde on the Street Corner\n",
      "Processing book: Rebellion\n",
      "Processing book: The Deer in the Wood\n",
      "Processing book: The Boat of Dreams\n",
      "Processing book: Spider Mountain\n",
      "Processing book: Edgar Allan Poe Complete Tales and Poems\n",
      "Processing book: Already Dead\n",
      "Processing book: The Echo of Greece\n",
      "Processing book: True Believers\n",
      "Processing book: The Mutineer\n",
      "Processing book: The Enormous Crocodile\n",
      "Processing book: Betsy and the Great World\n",
      "Processing book: Alone\n",
      "Processing book: No Place Like Home\n",
      "Processing book: The Left Hand Dreams of Him\n",
      "Processing book: The Naked and the Dead\n",
      "Processing book: You Don't Know Jack\n",
      "Processing book: The Inner Reaches of Outer Space\n",
      "Processing book: You Can Never Go Home Again\n",
      "Processing book: Debt of Honor\n",
      "Processing book: The Complete Short Prose, 1929-1989\n",
      "Processing book: Execution\n",
      "Processing book: Echo of Eternity\n",
      "Processing book: The Pact\n",
      "Processing book: Gargantua and Pantagruel\n",
      "Processing book: Salt\n",
      "Processing book: The Blue and Brown Books\n",
      "Processing book: American Tragedy\n",
      "Processing book: Lost Prophet\n",
      "Processing book: The Annotated Lolita\n",
      "Processing book: Robin Williams Web Design Workshop\n",
      "Processing book: Daughters of Decadence\n",
      "Processing book: Cheetah Girls #2: Shop in the Name of Love\n",
      "Processing book: Ulysses S. Grant\n"
     ]
    }
   ],
   "source": [
    "results = {}\n",
    "total_appearance_count = 0\n",
    "total_questions = 0\n",
    "\n",
    "for index, row in teste_df.iterrows():\n",
    "    title = row['title']\n",
    "    print(f\"Processing book: {title}\")\n",
    "    description = row['description']\n",
    "    questions = llm_model.generate_generic_questions(title, description)\n",
    "    \n",
    "    results[title] = {\n",
    "        \"questions\": questions,\n",
    "        \"appearance_count\": 0,\n",
    "        \"total_questions\": len(questions),\n",
    "        \"relevance_scores\": []\n",
    "    }\n",
    "    \n",
    "    for question in questions:\n",
    "        search_results = query_hybrid(question)\n",
    "        search_results_titles = list(search_results['title'])\n",
    "        book_appears = title in search_results_titles\n",
    "        results[title][\"relevance_scores\"].append(int(book_appears))\n",
    "        if book_appears:\n",
    "            results[title][\"appearance_count\"] += 1\n",
    "    \n",
    "    total_appearance_count += results[title][\"appearance_count\"]\n",
    "    total_questions += results[title][\"total_questions\"]"
   ]
  },
  {
   "cell_type": "code",
   "execution_count": 26,
   "metadata": {},
   "outputs": [
    {
     "name": "stdout",
     "output_type": "stream",
     "text": [
      "Overall percentage: 24.76%\n"
     ]
    }
   ],
   "source": [
    "if total_questions > 0:\n",
    "    overall_percentage = (total_appearance_count / total_questions) * 100\n",
    "else:\n",
    "    overall_percentage = 0\n",
    "\n",
    "print(f\"Overall percentage: {overall_percentage:.2f}%\")"
   ]
  },
  {
   "cell_type": "code",
   "execution_count": 27,
   "metadata": {},
   "outputs": [
    {
     "ename": "NameError",
     "evalue": "name 'ndcg' is not defined",
     "output_type": "error",
     "traceback": [
      "\u001b[1;31m---------------------------------------------------------------------------\u001b[0m",
      "\u001b[1;31mNameError\u001b[0m                                 Traceback (most recent call last)",
      "Cell \u001b[1;32mIn[27], line 5\u001b[0m\n\u001b[0;32m      3\u001b[0m \u001b[38;5;28;01mfor\u001b[39;00m title, data \u001b[38;5;129;01min\u001b[39;00m results\u001b[38;5;241m.\u001b[39mitems():\n\u001b[0;32m      4\u001b[0m     relevance_scores \u001b[38;5;241m=\u001b[39m data[\u001b[38;5;124m\"\u001b[39m\u001b[38;5;124mrelevance_scores\u001b[39m\u001b[38;5;124m\"\u001b[39m]\n\u001b[1;32m----> 5\u001b[0m     ndcg_scores[title] \u001b[38;5;241m=\u001b[39m \u001b[43mndcg\u001b[49m(relevance_scores, p)\n\u001b[0;32m      7\u001b[0m \u001b[38;5;66;03m# Optional: Calculate the mean NDCG score across all books\u001b[39;00m\n\u001b[0;32m      8\u001b[0m mean_ndcg \u001b[38;5;241m=\u001b[39m np\u001b[38;5;241m.\u001b[39mmean(\u001b[38;5;28mlist\u001b[39m(ndcg_scores\u001b[38;5;241m.\u001b[39mvalues()))\n",
      "\u001b[1;31mNameError\u001b[0m: name 'ndcg' is not defined"
     ]
    }
   ],
   "source": [
    "ndcg_scores = {}\n",
    "p = 10  # Define the position at which NDCG is calculated\n",
    "for title, data in results.items():\n",
    "    relevance_scores = data[\"relevance_scores\"]\n",
    "    ndcg_scores[title] = ndcg(relevance_scores, p)\n",
    "\n",
    "# Optional: Calculate the mean NDCG score across all books\n",
    "mean_ndcg = np.mean(list(ndcg_scores.values()))\n",
    "print(f\"Mean NDCG@{p} across all books: {mean_ndcg:.4f}\")"
   ]
  },
  {
   "cell_type": "markdown",
   "metadata": {},
   "source": [
    "### Semântico"
   ]
  },
  {
   "cell_type": "code",
   "execution_count": 82,
   "metadata": {},
   "outputs": [],
   "source": [
    "results_semantico = {}\n",
    "total_appearance_count_semantico = 0\n",
    "total_questions_bm_semantico = 0"
   ]
  },
  {
   "cell_type": "code",
   "execution_count": 83,
   "metadata": {},
   "outputs": [
    {
     "name": "stdout",
     "output_type": "stream",
     "text": [
      "Processing book: Not Much Fun\n",
      "Processing book: A Man of the People\n",
      "Processing book: The Complete Idiot's Guide to World Religions\n",
      "Processing book: The Chaneysville Incident\n",
      "Processing book: Tomie\n",
      "Processing book: The Invisibles, the Invisible Kingdom\n",
      "Processing book: The Farthest Shore\n",
      "Processing book: Field Guide to Home Buying in America\n",
      "Processing book: The Professor and the Madman\n",
      "Processing book: Nixon Agonistes\n",
      "Processing book: Me Talk Pretty One Day\n",
      "Processing book: The Guardian\n",
      "Processing book: A Midsummer Night's Dream\n",
      "Processing book: West Africa\n",
      "Processing book: The Day of the Tempest\n",
      "Processing book: The Good Earth\n",
      "Processing book: Hamlet's Mill\n",
      "Processing book: Pirates of the Caribbean: The Sword of Cortes - Jack Sparrow #4\n",
      "Processing book: Rameau's Nephew / D'alembert's Dream\n",
      "Processing book: A Dirty Job\n",
      "Processing book: Confessions of an Ugly Stepsister\n",
      "Processing book: The All-true Travels and Adventures of Lidie Newton\n",
      "Processing book: Alice in Wonderland\n",
      "Processing book: The Orchard Keeper\n",
      "Processing book: Savage Inequalities\n",
      "Processing book: The Prestige\n",
      "Processing book: Moon-Flash\n",
      "Processing book: Three Nights in August\n",
      "Processing book: James Tiptree, Jr.\n",
      "Processing book: Hallowe'en Party\n",
      "Processing book: Ultimate Spider-Man - Volume 16\n",
      "Processing book: Blue at the Mizzen (Vol. Book 20) (Aubrey/Maturin Novels)\n",
      "Processing book: The Deer in the Wood\n",
      "Processing book: Jessica's Bad Idea\n",
      "Processing book: Brave New World\n",
      "Processing book: Stuart Little\n",
      "Processing book: Three Complete Novels\n",
      "Processing book: Queen of Sorcery\n",
      "Processing book: Anybody Out There?\n",
      "Processing book: Lori's Little Secret\n",
      "Processing book: Buddha\n",
      "Processing book: Forms of Talk\n",
      "Processing book: Falling Up\n",
      "Processing book: See No Evil\n",
      "Processing book: The Book of Leviathan\n",
      "Processing book: Redwall\n",
      "Processing book: Zinn and the Art of Road Bike Maintenance\n",
      "Processing book: The Treasure Principle\n",
      "Processing book: Girls who Wore Black\n",
      "Processing book: Jeeves And The Tie That Binds\n",
      "Processing book: The Jew of Malta\n",
      "Processing book: Scary Edwin Page\n",
      "Processing book: Mother God\n",
      "Processing book: The Tutor's First Love\n",
      "Processing book: A Journal of the Plague Year\n",
      "Processing book: The complete works of Aristotle\n",
      "Processing book: The Third Man and the Fallen Idol\n",
      "Processing book: The Heart of a Leader\n",
      "Processing book: The Periodic Table\n",
      "Processing book: Cat's Cradle\n",
      "Processing book: The Footprints of God\n",
      "Processing book: The Mistress Manual\n",
      "Processing book: Appointment with Death\n",
      "Processing book: Living with the Passive-Aggressive Man\n",
      "Processing book: Merde!\n",
      "Processing book: CSS Cookbook\n",
      "Processing book: Corroborating Evidence\n",
      "Processing book: Hard Drive\n",
      "Processing book: Winterdance\n",
      "Processing book: Eaters of the Dead\n",
      "Processing book: If I Die in a Combat Zone\n",
      "Processing book: Cousin Pons\n",
      "Processing book: Bright Purple\n",
      "Processing book: The Invisibles, Apocalipstick\n",
      "Processing book: The Black Dahlia\n",
      "Processing book: Star Wars\n",
      "Processing book: Seventeen & In-Between\n",
      "Processing book: Alanna\n",
      "Processing book: Political Philosophy: A Beginner's Guide for Students and Politicians\n",
      "Processing book: The Epic of Gilgamesh\n",
      "Processing book: Sure of You\n",
      "Processing book: Vincent Van Gogh\n",
      "Processing book: Bad Boys in Black Tie\n",
      "Processing book: Road Trip USA\n",
      "Processing book: Malgudi Days\n",
      "Processing book: Zen in the Art of Writing\n",
      "Processing book: X/1999, Vol. 1\n",
      "Processing book: Antitrust Law, Second Edition\n",
      "Processing book: Lovingkindness\n",
      "Processing book: Plagues and peoples\n",
      "Processing book: Brando Unzipped\n",
      "Processing book: No One is Illegal\n",
      "Processing book: The Transition of H.P. Lovecraft\n",
      "Processing book: Everything on a Waffle\n",
      "Processing book: Winston S. Churchill\n",
      "Processing book: The Poetry of Sylvia Plath\n",
      "Processing book: Zero\n",
      "Processing book: The Walking Dead\n",
      "Processing book: Dead Air\n",
      "Processing book: Bored of the Rings\n"
     ]
    }
   ],
   "source": [
    "if results_semantico:\n",
    "    last_title = list(results_semantico.keys())[-1]\n",
    "    last_book_data = results_semantico.pop(last_title)\n",
    "    total_appearance_count_semantico -= last_book_data[\"appearance_count\"]\n",
    "    total_questions_bm_semantico -= last_book_data[\"total_questions\"]\n",
    "\n",
    "\n",
    "start_index = len(results_semantico)\n",
    "books_to_process = teste_df.iloc[start_index:]\n",
    "\n",
    "for index, row in books_to_process.iterrows():\n",
    "    title = row['title']\n",
    "    print(f\"Processing book: {title}\")\n",
    "    description = row['description']\n",
    "    questions_semantico = generate_generic_questions(title, description)\n",
    "    \n",
    "    results_semantico[title] = {\n",
    "        \"questions\": questions_semantico,\n",
    "        \"appearance_count\": 0,\n",
    "        \"total_questions\": len(questions_semantico),\n",
    "        \"relevance_scores\": []\n",
    "    }\n",
    "    \n",
    "    for question in questions_semantico:\n",
    "        search_results_semantico = query_semantic(question)\n",
    "        search_results_titles_semantico = list(search_results_semantico['title'])\n",
    "        book_appears_semantico = title in search_results_titles_semantico\n",
    "        results_semantico[title][\"relevance_scores\"].append(int(book_appears_semantico))\n",
    "        if book_appears_semantico:\n",
    "            results_semantico[title][\"appearance_count\"] += 1\n",
    "    \n",
    "    total_appearance_count_semantico += results_semantico[title][\"appearance_count\"]\n",
    "    total_questions_bm_semantico += results_semantico[title][\"total_questions\"]"
   ]
  },
  {
   "cell_type": "code",
   "execution_count": 84,
   "metadata": {},
   "outputs": [
    {
     "name": "stdout",
     "output_type": "stream",
     "text": [
      "Overall percentage: 29.08%\n"
     ]
    }
   ],
   "source": [
    "if total_questions_bm_semantico > 0:\n",
    "    overall_percentage_semantic = (total_appearance_count_semantico/ total_questions_bm_semantico) * 100\n",
    "else:\n",
    "    overall_percentage_semantic = 0\n",
    "\n",
    "print(f\"Overall percentage: {overall_percentage_semantic:.2f}%\")"
   ]
  },
  {
   "cell_type": "code",
   "execution_count": 85,
   "metadata": {},
   "outputs": [
    {
     "name": "stdout",
     "output_type": "stream",
     "text": [
      "Mean NDCG@10 across all books: 0.4103\n"
     ]
    }
   ],
   "source": [
    "ndcg_scores_semantic = {}\n",
    "p = 10  # Define the position at which NDCG is calculated\n",
    "for title, data in results_semantico.items():\n",
    "    relevance_scores = data[\"relevance_scores\"]\n",
    "    ndcg_scores_semantic[title] = ndcg(relevance_scores, p)\n",
    "\n",
    "# Optional: Calculate the mean NDCG score across all books\n",
    "mean_ndcg_semantic = np.mean(list(ndcg_scores_semantic.values()))\n",
    "print(f\"Mean NDCG@{p} across all books: {mean_ndcg_semantic:.4f}\")"
   ]
  },
  {
   "cell_type": "markdown",
   "metadata": {},
   "source": [
    "### Plots"
   ]
  },
  {
   "cell_type": "code",
   "execution_count": 86,
   "metadata": {},
   "outputs": [
    {
     "data": {
      "image/png": "[encoded data removed]",
      "text/plain": [
       "<Figure size 640x480 with 1 Axes>"
      ]
     },
     "metadata": {},
     "output_type": "display_data"
    }
   ],
   "source": [
    "fig, ax = plt.subplots()\n",
    "bar_width = 0.3\n",
    "opacity = 0.8\n",
    "index = np.arange(3)\n",
    "rects1 = plt.bar(index, [overall_percentage, overall_percentage_bm_25, overall_percentage_semantic], bar_width, alpha=opacity, color='b', label='Overall Percentage')\n",
    "plt.xlabel('Models')\n",
    "plt.ylabel('Overall Percentage')\n",
    "plt.title('Overall Percentage by Model')\n",
    "plt.xticks(index, ['Hybrid', 'BM25', 'Semantic'])\n",
    "plt.legend()\n",
    "plt.tight_layout()\n",
    "plt.show()"
   ]
  },
  {
   "cell_type": "code",
   "execution_count": 87,
   "metadata": {},
   "outputs": [
    {
     "data": {
      "image/png": "[encoded data removed]",
      "text/plain": [
       "<Figure size 640x480 with 1 Axes>"
      ]
     },
     "metadata": {},
     "output_type": "display_data"
    }
   ],
   "source": [
    "fig, ax = plt.subplots()\n",
    "bar_width = 0.3\n",
    "opacity = 0.8\n",
    "index = np.arange(3)\n",
    "rects1 = plt.bar(index, [mean_ndcg, mean_ndcg_bm_25, mean_ndcg_semantic], bar_width, alpha=opacity, color='b', label='Mean NDCG')\n",
    "plt.xlabel('Models')\n",
    "plt.ylabel('Mean NDCG')\n",
    "plt.title('Mean NDCG by Model')\n",
    "plt.xticks(index, ['Hybrid', 'BM25', 'Semantic'])\n",
    "plt.legend()\n",
    "plt.tight_layout()\n",
    "plt.show()"
   ]
  },
  {
   "cell_type": "markdown",
   "metadata": {},
   "source": [
    "## Teste 4 - BM25 + Hybrid/Semântico"
   ]
  },
  {
   "cell_type": "code",
   "execution_count": 1,
   "metadata": {},
   "outputs": [],
   "source": [
    "import docker\n",
    "from vespa.io import VespaResponse, VespaQueryResponse\n",
    "from vespa.package import (\n",
    "    ApplicationPackage,\n",
    "    Field,\n",
    "    Schema,\n",
    "    Document,\n",
    "    HNSW,\n",
    "    RankProfile,\n",
    "    Component,\n",
    "    Parameter,\n",
    "    FieldSet,\n",
    "    GlobalPhaseRanking,\n",
    "    Function,\n",
    ")\n",
    "from vespa.deployment import VespaDocker\n",
    "import pandas as pd\n",
    "import numpy as np"
   ]
  },
  {
   "cell_type": "code",
   "execution_count": 2,
   "metadata": {},
   "outputs": [],
   "source": [
    "package = ApplicationPackage(\n",
    "    name=\"hybridsearchbv\",\n",
    "    schema=[\n",
    "        Schema(\n",
    "            name=\"doc\",\n",
    "            document=Document(\n",
    "                fields=[\n",
    "                    Field(name=\"id\", type=\"string\", indexing=[\"summary\"]),\n",
    "                    Field(\n",
    "                        name=\"title\",\n",
    "                        type=\"string\",\n",
    "                        indexing=[\"index\", \"summary\"],\n",
    "                        index=\"enable-bm25\",\n",
    "                    ),\n",
    "                    Field(\n",
    "                        name=\"authors\",\n",
    "                        type=\"string\",\n",
    "                        indexing=[\"index\", \"summary\"],\n",
    "                        index=\"enable-bm25\",\n",
    "                        bolding=True,\n",
    "                    ),\n",
    "                    Field(\n",
    "                        name=\"description\",\n",
    "                        type=\"string\",\n",
    "                        indexing=[\"index\", \"summary\"],\n",
    "                        index=\"enable-bm25\",\n",
    "                        bolding=True,\n",
    "                    ),\n",
    "                    Field(\n",
    "                        name=\"categories\",\n",
    "                        type=\"string\",\n",
    "                        indexing=[\"index\", \"summary\"],\n",
    "                        index=\"enable-bm25\",\n",
    "                        bolding=True,\n",
    "                    ),\n",
    "                    Field(\n",
    "                        name=\"embedding\",\n",
    "                        type=\"tensor<float>(x[384])\",\n",
    "                        indexing=[\n",
    "                            'input description . \" \" . input categories',\n",
    "                            \"embed\",\n",
    "                            \"index\",\n",
    "                            \"attribute\",\n",
    "                        ],\n",
    "                        ann=HNSW(distance_metric=\"angular\"),\n",
    "                        is_document_field=False,\n",
    "                    ),\n",
    "                ]\n",
    "            ),\n",
    "            fieldsets=[FieldSet(name=\"default\", fields=[\"title\", \"authors\", \"description\", \"categories\"])],\n",
    "            rank_profiles=[\n",
    "                RankProfile(\n",
    "                    name=\"bm25\",\n",
    "                    inputs=[(\"query(q)\", \"tensor<float>(x[384])\")],\n",
    "                    functions=[\n",
    "                        Function(name=\"bm25sum\", expression=\"bm25(description) + bm25(categories)\")\n",
    "                    ],\n",
    "                    first_phase=\"bm25sum\",\n",
    "                ),\n",
    "                RankProfile(\n",
    "                    name=\"semantic\",\n",
    "                    inputs=[(\"query(q)\", \"tensor<float>(x[384])\")],\n",
    "                    first_phase=\"closeness(field, embedding)\",\n",
    "                ),\n",
    "                RankProfile(\n",
    "                    name=\"fusion\",\n",
    "                    inherits=\"bm25\",\n",
    "                    inputs=[(\"query(q)\", \"tensor<float>(x[384])\")],\n",
    "                    first_phase=\"closeness(field, embedding)\",\n",
    "                    global_phase=GlobalPhaseRanking(\n",
    "                        expression=\"reciprocal_rank_fusion(bm25sum, closeness(field, embedding))\",\n",
    "                        rerank_count=1000,\n",
    "                    ),\n",
    "                ),\n",
    "            ],\n",
    "        )\n",
    "    ],\n",
    "    components=[\n",
    "        Component(\n",
    "            id=\"e5\",\n",
    "            type=\"hugging-face-embedder\",\n",
    "            parameters=[\n",
    "                Parameter(\n",
    "                    \"transformer-model\",\n",
    "                    {\n",
    "                        \"url\": \"https://github.com/vespa-engine/sample-apps/raw/master/simple-semantic-search/model/e5-small-v2-int8.onnx\"\n",
    "                    },\n",
    "                ),\n",
    "                Parameter(\n",
    "                    \"tokenizer-model\",\n",
    "                    {\n",
    "                        \"url\": \"https://raw.githubusercontent.com/vespa-engine/sample-apps/master/simple-semantic-search/model/tokenizer.json\"\n",
    "                    },\n",
    "                ),\n",
    "            ],\n",
    "        )\n",
    "    ],\n",
    ")"
   ]
  },
  {
   "cell_type": "code",
   "execution_count": 60,
   "metadata": {},
   "outputs": [
    {
     "name": "stdout",
     "output_type": "stream",
     "text": [
      "Waiting for configuration server, 0/60 seconds...\n",
      "Waiting for configuration server, 5/60 seconds...\n",
      "Waiting for configuration server, 10/60 seconds...\n",
      "Using plain http against endpoint http://localhost:8080/ApplicationStatus\n",
      "Waiting for application status, 0/300 seconds...\n",
      "Using plain http against endpoint http://localhost:8080/ApplicationStatus\n",
      "Waiting for application status, 5/300 seconds...\n",
      "Using plain http against endpoint http://localhost:8080/ApplicationStatus\n",
      "Waiting for application status, 10/300 seconds...\n",
      "Using plain http against endpoint http://localhost:8080/ApplicationStatus\n",
      "Waiting for application status, 15/300 seconds...\n",
      "Using plain http against endpoint http://localhost:8080/ApplicationStatus\n",
      "Waiting for application status, 20/300 seconds...\n",
      "Using plain http against endpoint http://localhost:8080/ApplicationStatus\n",
      "Application is up!\n",
      "Finished deployment.\n"
     ]
    }
   ],
   "source": [
    "vespa_docker = VespaDocker()\n",
    "app = vespa_docker.deploy(application_package=package)"
   ]
  },
  {
   "cell_type": "code",
   "execution_count": 62,
   "metadata": {},
   "outputs": [],
   "source": [
    "df = pd.read_csv(\"https://raw.githubusercontent.com/bernardovma/dados_livros/main/data.csv\")\n",
    "df['id'] = range(1, len(df) + 1)\n",
    "df = df.fillna(\"\")\n",
    "vespa_feed = df.apply(transform_row, axis=1).tolist()\n",
    "\n",
    "app.feed_iterable(vespa_feed, schema=\"doc\", namespace=\"bookrec\", callback=callback)"
   ]
  },
  {
   "cell_type": "code",
   "execution_count": 131,
   "metadata": {},
   "outputs": [],
   "source": [
    "teste_df = df.sample(n=100)\n",
    "teste_df = teste_df[['title', 'description', 'categories']]"
   ]
  },
  {
   "cell_type": "code",
   "execution_count": 132,
   "metadata": {},
   "outputs": [],
   "source": [
    "def query_semantic(input_query, top_titles):\n",
    "    with app.syncio(connections=12) as session:\n",
    "            query = input_query\n",
    "            sanitized_titles = [title.replace(\"'\", \"\") for title in top_titles]\n",
    "            title_filter = \" or \".join([f\"title contains '{title}'\" for title in sanitized_titles])\n",
    "            select = f\"select * from sources * where ({title_filter})\"\n",
    "            tg_hit = \" and ({targetHits:1000}nearestNeighbor(embedding, q)) limit 10\"\n",
    "            response: VespaQueryResponse = session.query(\n",
    "                yql = select + tg_hit,\n",
    "                query=query,\n",
    "                ranking=\"fusion\",\n",
    "                body={\"input.query(q)\": f\"embed({query})\"},\n",
    "            )\n",
    "            assert response.is_successful()\n",
    "\n",
    "    return hits_as_df(response, ['id', 'title', 'authors', 'description', 'categories'])\n",
    "\n",
    "def query_hybrid(input_query, top_titles):\n",
    "    with app.syncio(connections=12) as session:\n",
    "            query = input_query\n",
    "            sanitized_titles = [title.replace(\"'\", \"\") for title in top_titles]\n",
    "            title_filter = \" or \".join([f\"title contains '{title}'\" for title in sanitized_titles])\n",
    "            select = f\"select * from sources * where ({title_filter})\"\n",
    "            tg_hit = \" and ({targetHits:1000}nearestNeighbor(embedding, q)) limit 10\"\n",
    "            response: VespaQueryResponse = session.query(\n",
    "                yql = select + tg_hit,\n",
    "                query=query,\n",
    "                ranking=\"fusion\",\n",
    "                body={\"input.query(q)\": f\"embed({query})\"},\n",
    "            )\n",
    "            assert response.is_successful()\n",
    "\n",
    "    return hits_as_df(response, ['id', 'title', 'authors', 'description', 'categories'])\n"
   ]
  },
  {
   "cell_type": "code",
   "execution_count": 133,
   "metadata": {},
   "outputs": [],
   "source": [
    "results = {}\n",
    "total_appearance_count = 0\n",
    "total_questions = 0"
   ]
  },
  {
   "cell_type": "code",
   "execution_count": 141,
   "metadata": {},
   "outputs": [
    {
     "name": "stdout",
     "output_type": "stream",
     "text": [
      "Processing book: The Portable Faulkner\n",
      "Processing book: Notre-Dame de Paris\n",
      "Processing book: The End of the Affair\n",
      "Processing book: Obasan\n",
      "Processing book: Cod\n",
      "Processing book: Ivanhoe\n",
      "Processing book: On Being Ill\n",
      "Processing book: The Miraculous Journey of Edward Tulane\n",
      "Processing book: Naked Pictures of Famous People\n",
      "Processing book: The Hannibal Lecter Trilogy\n",
      "Processing book: The Sex Lives of Cannibals\n",
      "Processing book: The Winter's Tale\n",
      "Processing book: Blind Flight\n",
      "Processing book: The Epic of Gilgamesh\n",
      "Processing book: Hamlet, Prince of Denmark\n",
      "Processing book: The Fateful Adventures of the Good Soldier Švejk During the World War, Book One\n",
      "Processing book: Mystery Play\n",
      "Processing book: Ruby Ann's Down Home Trailer Park Cookbook\n",
      "Processing book: Floating Dragon\n",
      "Processing book: The Complete Tales of Nikolai Gogol\n",
      "Processing book: The Curtain\n",
      "Processing book: Shakespeare's Sonnets\n",
      "Processing book: Bravo Two Zero\n",
      "Processing book: The Sixties\n",
      "Processing book: The Governess\n",
      "Processing book: William Shakespeare's Twelfth Night\n",
      "Processing book: The Ice Storm\n",
      "Processing book: Development, Geography, and Economic Theory\n",
      "Processing book: The Razor's Edge\n",
      "Processing book: Europe and the People Without History\n",
      "Processing book: Doctor Who\n"
     ]
    }
   ],
   "source": [
    "if results:\n",
    "    last_title = list(results.keys())[-1]\n",
    "    last_book_data = results.pop(last_title)\n",
    "    total_appearance_count -= last_book_data[\"appearance_count\"]\n",
    "    total_questions -= last_book_data[\"total_questions\"]\n",
    "\n",
    "start_index = len(results)\n",
    "books_to_process = teste_df.iloc[start_index:]\n",
    "\n",
    "for index, row in books_to_process.iterrows():\n",
    "    title = row['title']\n",
    "    print(f\"Processing book: {title}\")\n",
    "    description = row['description']\n",
    "    categories = row['categories']\n",
    "    questions = generate_generic_questions_modified(title, description, categories)\n",
    "    \n",
    "    results[title] = {\n",
    "        \"questions\": questions,\n",
    "        \"appearance_count\": 0,\n",
    "        \"total_questions\": len(questions),\n",
    "        \"relevance_scores\": []\n",
    "    }\n",
    "    \n",
    "    for question in questions:\n",
    "\n",
    "        top_x_documents_bm_25 = query_bm25_initial(question, limit = 50)  \n",
    "        top_x_titles_bm_25 = list(top_x_documents_bm_25['title'])\n",
    "        \n",
    "        search_results_hybrid = query_semantic(question, top_x_titles_bm_25)\n",
    "        search_results_titles_hybrid = list(search_results_hybrid['title'])\n",
    "        \n",
    "        book_appears_hybrid = title in search_results_titles_hybrid\n",
    "        results[title][\"relevance_scores\"].append(int(book_appears_hybrid))\n",
    "        if book_appears_hybrid:\n",
    "            results[title][\"appearance_count\"] += 1\n",
    "    \n",
    "    total_appearance_count += results[title][\"appearance_count\"]\n",
    "    total_questions += results[title][\"total_questions\"]"
   ]
  },
  {
   "cell_type": "code",
   "execution_count": 142,
   "metadata": {},
   "outputs": [
    {
     "name": "stdout",
     "output_type": "stream",
     "text": [
      "Overall percentage: 41.95%\n"
     ]
    }
   ],
   "source": [
    "if total_questions > 0:\n",
    "    overall_percentage = (total_appearance_count / total_questions) * 100\n",
    "else:\n",
    "    overall_percentage = 0\n",
    "\n",
    "print(f\"Overall percentage: {overall_percentage:.2f}%\")"
   ]
  },
  {
   "cell_type": "code",
   "execution_count": 143,
   "metadata": {},
   "outputs": [
    {
     "name": "stdout",
     "output_type": "stream",
     "text": [
      "Mean NDCG@10 across all books: 0.5478\n"
     ]
    }
   ],
   "source": [
    "ndcg_scores = {}\n",
    "p = 10\n",
    "for title, data in results.items():\n",
    "    relevance_scores = data[\"relevance_scores\"]\n",
    "    ndcg_scores[title] = ndcg(relevance_scores, p)\n",
    "\n",
    "mean_ndcg = np.mean(list(ndcg_scores.values()))\n",
    "print(f\"Mean NDCG@{p} across all books: {mean_ndcg:.4f}\")"
   ]
  },
  {
   "cell_type": "code",
   "execution_count": 145,
   "metadata": {},
   "outputs": [],
   "source": [
    "results_hybrid = {}\n",
    "total_appearance_count_hybrid = 0\n",
    "total_questions_hybrid = 0"
   ]
  },
  {
   "cell_type": "code",
   "execution_count": 152,
   "metadata": {},
   "outputs": [
    {
     "name": "stdout",
     "output_type": "stream",
     "text": [
      "Processing book: Naked Pictures of Famous People\n",
      "Processing book: The Hannibal Lecter Trilogy\n",
      "Processing book: The Sex Lives of Cannibals\n",
      "Processing book: The Winter's Tale\n",
      "Processing book: Blind Flight\n",
      "Processing book: The Epic of Gilgamesh\n",
      "Processing book: Hamlet, Prince of Denmark\n",
      "Processing book: The Fateful Adventures of the Good Soldier Švejk During the World War, Book One\n",
      "Processing book: Mystery Play\n",
      "Processing book: Ruby Ann's Down Home Trailer Park Cookbook\n",
      "Processing book: Floating Dragon\n",
      "Processing book: The Complete Tales of Nikolai Gogol\n",
      "Processing book: The Curtain\n",
      "Processing book: Shakespeare's Sonnets\n",
      "Processing book: Bravo Two Zero\n",
      "Processing book: The Sixties\n",
      "Processing book: The Governess\n",
      "Processing book: William Shakespeare's Twelfth Night\n",
      "Processing book: The Ice Storm\n",
      "Processing book: Development, Geography, and Economic Theory\n",
      "Processing book: The Razor's Edge\n",
      "Processing book: Europe and the People Without History\n",
      "Processing book: Doctor Who\n"
     ]
    }
   ],
   "source": [
    "if results_hybrid:\n",
    "    last_title = list(results_hybrid.keys())[-1]\n",
    "    last_book_data = results_hybrid.pop(last_title)\n",
    "    total_appearance_count_hybrid -= last_book_data[\"appearance_count\"]\n",
    "    total_questions_hybrid -= last_book_data[\"total_questions\"]\n",
    "\n",
    "start_index = len(results_hybrid)\n",
    "books_to_process = teste_df.iloc[start_index:]\n",
    "\n",
    "for index, row in books_to_process.iterrows():\n",
    "    title = row['title']\n",
    "    print(f\"Processing book: {title}\")\n",
    "    description = row['description']\n",
    "    questions = llm_model.generate_generic_questions(title, description)\n",
    "    \n",
    "    results_hybrid[title] = {\n",
    "        \"questions\": questions,\n",
    "        \"appearance_count\": 0,\n",
    "        \"total_questions\": len(questions),\n",
    "        \"relevance_scores\": []\n",
    "    }\n",
    "    \n",
    "    for question in questions:\n",
    "\n",
    "        top_x_documents_bm_25 = query_bm25_initial(question, limit = 50)  \n",
    "        top_x_titles_bm_25 = list(top_x_documents_bm_25['title'])\n",
    "        \n",
    "        search_results_hybrid = query_hybrid(question, top_x_titles_bm_25)\n",
    "        search_results_titles_hybrid = list(search_results_hybrid['title'])\n",
    "        \n",
    "        book_appears_hybrid = title in search_results_titles_hybrid\n",
    "        results_hybrid[title][\"relevance_scores\"].append(int(book_appears_hybrid))\n",
    "        if book_appears_hybrid:\n",
    "            results_hybrid[title][\"appearance_count\"] += 1\n",
    "    \n",
    "    total_appearance_count_hybrid += results_hybrid[title][\"appearance_count\"]\n",
    "    total_questions_hybrid += results_hybrid[title][\"total_questions\"]"
   ]
  },
  {
   "cell_type": "code",
   "execution_count": 153,
   "metadata": {},
   "outputs": [
    {
     "name": "stdout",
     "output_type": "stream",
     "text": [
      "Overall percentage: 29.78%\n"
     ]
    }
   ],
   "source": [
    "if total_questions > 0:\n",
    "    overall_percentage_hybrid = (total_appearance_count_hybrid / total_questions_hybrid) * 100\n",
    "else:\n",
    "    overall_percentage_hybrid = 0\n",
    "\n",
    "print(f\"Overall percentage: {overall_percentage_hybrid:.2f}%\")"
   ]
  },
  {
   "cell_type": "code",
   "execution_count": 154,
   "metadata": {},
   "outputs": [
    {
     "name": "stdout",
     "output_type": "stream",
     "text": [
      "Mean NDCG@10 across all books: 0.4476\n"
     ]
    }
   ],
   "source": [
    "ndcg_scores_hybrid = {}\n",
    "p = 10  \n",
    "for title, data in results_hybrid.items():\n",
    "    relevance_scores = data[\"relevance_scores\"]\n",
    "    ndcg_scores_hybrid[title] = ndcg(relevance_scores, p)\n",
    "\n",
    "mean_ndcg_hybrid = np.mean(list(ndcg_scores_hybrid.values()))\n",
    "print(f\"Mean NDCG@{p} across all books: {mean_ndcg_hybrid:.4f}\")"
   ]
  },
  {
   "cell_type": "code",
   "execution_count": null,
   "metadata": {},
   "outputs": [],
   "source": []
  }
 ],
 "metadata": {
  "kernelspec": {
   "display_name": "Python 3",
   "language": "python",
   "name": "python3"
  },
  "language_info": {
   "codemirror_mode": {
    "name": "ipython",
    "version": 3
   },
   "file_extension": ".py",
   "mimetype": "text/x-python",
   "name": "python",
   "nbconvert_exporter": "python",
   "pygments_lexer": "ipython3",
   "version": "3.11.5"
  }
 },
 "nbformat": 4,
 "nbformat_minor": 2
}
