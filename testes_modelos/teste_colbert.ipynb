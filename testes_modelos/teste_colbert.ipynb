{
  "cells": [
    {
      "cell_type": "code",
      "execution_count": 1,
      "metadata": {
        "id": "3WnIaQiQ7ILp"
      },
      "outputs": [],
      "source": [
        "import docker\n",
        "from vespa.io import VespaResponse, VespaQueryResponse\n",
        "from vespa.package import (\n",
        "    ApplicationPackage,\n",
        "    Field,\n",
        "    Schema,\n",
        "    Document,\n",
        "    HNSW,\n",
        "    RankProfile,\n",
        "    Component,\n",
        "    Parameter,\n",
        "    FieldSet,\n",
        "    GlobalPhaseRanking,\n",
        "    Function,\n",
        "    FirstPhaseRanking, SecondPhaseRanking\n",
        ")\n",
        "from vespa.deployment import VespaDocker\n",
        "import pandas as pd\n",
        "import numpy as np"
      ]
    },
    {
      "cell_type": "code",
      "execution_count": null,
      "metadata": {},
      "outputs": [],
      "source": [
        "package = ApplicationPackage(\n",
        "    name=\"hybridsearchbv\",\n",
        "    schema=[\n",
        "        Schema(\n",
        "            name=\"doc\",\n",
        "            document=Document(\n",
        "                fields=[\n",
        "                    Field(name=\"id\", type=\"string\", indexing=[\"summary\"]),\n",
        "                    Field(\n",
        "                        name=\"title\",\n",
        "                        type=\"string\",\n",
        "                        indexing=[\"index\", \"summary\"]\n",
        "                    ),\n",
        "                    Field(\n",
        "                        name=\"authors\",\n",
        "                        type=\"string\",\n",
        "                        indexing=[\"index\", \"summary\"],\n",
        "                        bolding=False,\n",
        "                    ),\n",
        "                    Field(\n",
        "                        name=\"description\",\n",
        "                        type=\"string\",\n",
        "                        indexing=[\"index\", \"summary\"],\n",
        "                        bolding=False,\n",
        "                    ),\n",
        "                    Field(\n",
        "                        name=\"categories\",\n",
        "                        type=\"string\",\n",
        "                        indexing=[\"index\", \"summary\"],\n",
        "                        bolding=False,\n",
        "                    ),\n",
        "                    Field(\n",
        "                        name=\"embedding\",\n",
        "                        type=\"tensor<bfloat16>(description{}, x[384])\",\n",
        "                        indexing=[\n",
        "                            'input description . \" \" . input categories',\n",
        "                            \"embed\",\n",
        "                            \"index\",\n",
        "                            \"attribute\",\n",
        "                        ],\n",
        "                        ann=(distance_metric=\"angular\"),\n",
        "                        is_document_field=False,\n",
        "                    ),\n",
        "                    Field(\n",
        "                        name=\"colbert\",\n",
        "                        type=\"tensor<int8>(description{}, token{}, v[16])\",\n",
        "                        indexing=[\"input description . \" \" . input categories\", \"embed colbert description\", \"attribute\"],\n",
        "                        is_document_field=False,\n",
        "                    ),\n",
        "                ],\n",
        "            ),\n",
        "            fieldsets=[FieldSet(name=\"default\", fields=[\"title\", \"contexts\"])],\n",
        ")"
      ]
    },
    {
      "cell_type": "code",
      "execution_count": 31,
      "metadata": {},
      "outputs": [],
      "source": [
        "package = ApplicationPackage(\n",
        "    name=\"hybridsearchbv\",\n",
        "    schema=[\n",
        "        Schema(\n",
        "            name=\"doc\",\n",
        "            document=Document(\n",
        "                fields=[\n",
        "                    Field(name=\"id\", type=\"string\", indexing=[\"summary\"]),\n",
        "                    Field(\n",
        "                        name=\"title\",\n",
        "                        type=\"string\",\n",
        "                        indexing=[\"index\", \"summary\"]\n",
        "                    ),\n",
        "                    Field(\n",
        "                        name=\"authors\",\n",
        "                        type=\"string\",\n",
        "                        indexing=[\"index\", \"summary\"],\n",
        "                        bolding=False,\n",
        "                    ),\n",
        "                    Field(\n",
        "                        name=\"description\",\n",
        "                        type=\"string\",\n",
        "                        indexing=[\"index\", \"summary\"],\n",
        "                        bolding=False,\n",
        "                    ),\n",
        "                    Field(\n",
        "                        name=\"categories\",\n",
        "                        type=\"string\",\n",
        "                        indexing=[\"index\", \"summary\"],\n",
        "                        bolding=False,\n",
        "                    ),\n",
        "                    Field(\n",
        "                        name=\"embedding\",\n",
        "                        type=\"tensor<bfloat16>(description{}, x[384])\",\n",
        "                        indexing=[\n",
        "                            'input description . \" \" . input categories',\n",
        "                            \"embed\",\n",
        "                            \"index\",\n",
        "                            \"attribute\",\n",
        "                        ],\n",
        "                        ann=(\"distance_metric: angular\"),\n",
        "                        is_document_field=False,\n",
        "                    ),\n",
        "                    Field(\n",
        "                        name=\"colbert\",\n",
        "                        type=\"tensor<int8>(description{}, token{}, v[16])\",\n",
        "                        indexing=[\"input description . \" \" . input categories\", \"embed colbert description\", \"attribute\"],\n",
        "                        is_document_field=False,\n",
        "                    ),\n",
        "                ],\n",
        "            ),\n",
        "            fieldsets=[FieldSet(name=\"default\", fields=[\"title\", \"authors\", \"description\", \"categories\"])],\n",
        "            rank_profiles=[\n",
        "                RankProfile(\n",
        "                    name=\"colbert\",\n",
        "                    inputs=[\n",
        "                        (\"query(q)\", \"tensor<float>(x[384])\"),\n",
        "                        (\"query(qt)\", \"tensor<float>(querytoken{}, v[128])\"),\n",
        "                    ],\n",
        "                    functions=[\n",
        "                        Function(name=\"cos_sim\", expression=\"closeness(field, embedding)\"),\n",
        "                        Function(\n",
        "                            name=\"max_sim_per_description\",\n",
        "                            expression=\"\"\"\n",
        "                                sum(\n",
        "                                    reduce(\n",
        "                                        sum(\n",
        "                                            query(qt) * unpack_bits(attribute(colbert)) , v\n",
        "                                        ),\n",
        "                                        max, token\n",
        "                                    ),\n",
        "                                    querytoken\n",
        "                                )\n",
        "                            \"\"\",\n",
        "                        ),\n",
        "                        Function(\n",
        "                            name=\"max_sim\", expression=\"reduce(max_sim_per_description, max, description)\"\n",
        "                        ),\n",
        "                    ],\n",
        "                    first_phase=FirstPhaseRanking(expression=\"cos_sim\"),\n",
        "                    second_phase=SecondPhaseRanking(expression=\"max_sim\"),\n",
        "                    match_features=[\"cos_sim\", \"max_sim\", \"max_sim_per_description\"],\n",
        "                ),\n",
        "            ]\n",
        "        )\n",
        "    ],\n",
        "    components=[\n",
        "        Component(\n",
        "            id=\"e5\",\n",
        "            type=\"hugging-face-embedder\",\n",
        "            parameters=[\n",
        "                Parameter(\n",
        "                    name=\"transformer-model\",\n",
        "                    args={\n",
        "                        \"url\": \"https://huggingface.co/intfloat/e5-small-v2/resolve/main/model.onnx\"\n",
        "                    },\n",
        "                ),\n",
        "                Parameter(\n",
        "                    name=\"tokenizer-model\",\n",
        "                    args={\n",
        "                        \"url\": \"https://huggingface.co/intfloat/e5-small-v2/raw/main/tokenizer.json\"\n",
        "                    },\n",
        "                ),\n",
        "            ],\n",
        "        ),\n",
        "        Component(\n",
        "            id=\"colbert\",\n",
        "            type=\"colbert-embedder\",\n",
        "            parameters=[\n",
        "                Parameter(\n",
        "                    name=\"transformer-model\",\n",
        "                    args={\n",
        "                        \"url\": \"https://huggingface.co/colbert-ir/colbertv2.0/resolve/main/model.onnx\"\n",
        "                    },\n",
        "                ),\n",
        "                Parameter(\n",
        "                    name=\"tokenizer-model\",\n",
        "                    args={\n",
        "                        \"url\": \"https://huggingface.co/colbert-ir/colbertv2.0/raw/main/tokenizer.json\"\n",
        "                    },\n",
        "                ),\n",
        "            ],\n",
        "        ),\n",
        "    ]\n",
        ")\n"
      ]
    },
    {
      "cell_type": "code",
      "execution_count": 32,
      "metadata": {
        "id": "Qfk-eFnD9T_L"
      },
      "outputs": [
        {
          "name": "stdout",
          "output_type": "stream",
          "text": [
            "Waiting for configuration server, 0/300 seconds...\n",
            "Waiting for configuration server, 5/300 seconds...\n"
          ]
        },
        {
          "ename": "RuntimeError",
          "evalue": "Deployment failed, code: 400, message: {'error-code': 'INVALID_APPLICATION_PACKAGE', 'message': 'Invalid application: Failed parsing schema from \\'doc.sd\\': Encountered \" \"\\\\n\" \"\\\\n\"\" at line 22, column 30.\\n\\nWas expecting one of:\\n\\n\"annotation\" ...\\n    \"annotationreference\" ...\\n    \"schema\" ...\\n    \"search\" ...\\n    \"diversity\" ...\\n    \"min-groups\" ...\\n    \"cutoff-factor\" ...\\n    \"cutoff-strategy\" ...\\n    \"loose\" ...\\n    \"strict\" ...\\n    \"document\" ...\\n    \"operation\" ...\\n    \"on-match\" ...\\n    \"on-first-phase\" ...\\n    \"on-second-phase\" ...\\n    \"on-summary\" ...\\n    \"struct\" ...\\n    \"inherits\" ...\\n    \"field\" ...\\n    \"fields\" ...\\n    \"fieldset\" ...\\n    \"struct-field\" ...\\n    \"import\" ...\\n    \"as\" ...\\n    \"indexing\" ...\\n    \"summary-to\" ...\\n    \"document-summary\" ...\\n    \"rank-type\" ...\\n    \"weight\" ...\\n    \"type\" ...\\n    \"index\" ...\\n    \"inputs\" ...\\n    \"token\" ...\\n    \"text\" ...\\n    \"word\" ...\\n    \"gram\" ...\\n    \"gram-size\" ...\\n    \"max-length\" ...\\n    \"prefix\" ...\\n    \"substring\" ...\\n    \"suffix\" ...\\n    \"constant\" ...\\n    \"onnx-model\" ...\\n    \"significance\" ...\\n    \"use-model\" ...\\n    \"intraop-threads\" ...\\n    \"interop-threads\" ...\\n    \"gpu-device\" ...\\n    \"execution-mode\" ...\\n    \"parallel\" ...\\n    \"sequential\" ...\\n    \"model\" ...\\n    \"mutate\" ...\\n    \"query\" ...\\n    \"rank-profile\" ...\\n    \"raw-as-base64-in-summary\" ...\\n    \"summary\" ...\\n    \"full\" ...\\n    \"static\" ...\\n    \"dynamic\" ...\\n    \"tokens\" ...\\n    \"matched-elements-only\" ...\\n    \"contextual\" ...\\n    \"override\" ...\\n    \"title\" ...\\n    \"url\" ...\\n    \"properties\" ...\\n    \"attribute\" ...\\n    \"sorting\" ...\\n    \"dictionary\" ...\\n    \"ascending\" ...\\n    \"descending\" ...\\n    \"uca\" ...\\n    \"raw\" ...\\n    \"lowercase\" ...\\n    \"function\" ...\\n    \"locale\" ...\\n    \"strength\" ...\\n    \"primary\" ...\\n    \"secondary\" ...\\n    \"tertiary\" ...\\n    \"quaternary\" ...\\n    \"identical\" ...\\n    \"stemming\" ...\\n    \"normalizing\" ...\\n    \"hash\" ...\\n    \"btree\" ...\\n    \"cased\" ...\\n    \"uncased\" ...\\n    \"bolding\" ...\\n    \"none\" ...\\n    \"on\" ...\\n    \"off\" ...\\n    \"true\" ...\\n    \"false\" ...\\n    \"symmetric\" ...\\n    \"query-command\" ...\\n    \"alias\" ...\\n    \"match\" ...\\n    \"rank\" ...\\n    \"literal\" ...\\n    \"exact\" ...\\n    \"filter\" ...\\n    \"normal\" ...\\n    \"exact-terminator\" ...\\n    \"ignore-default-rank-features\" ...\\n    \"id\" ...\\n    \"source\" ...\\n    \"to\" ...\\n    \"direct\" ...\\n    \"from-disk\" ...\\n    \"omit-summary-features\" ...\\n    \"always\" ...\\n    \"on-demand\" ...\\n    \"never\" ...\\n    \"enable-bit-vectors\" ...\\n    \"enable-only-bit-vector\" ...\\n    \"fast-access\" ...\\n    \"mutable\" ...\\n    \"paged\" ...\\n    \"fast-rank\" ...\\n    \"fast-search\" ...\\n    \"array\" ...\\n    \"weightedset\" ...\\n    \"map\" ...\\n    \"reference\" ...\\n    \"create-if-nonexistent\" ...\\n    \"remove-if-zero\" ...\\n    \"match-phase\" ...\\n    \"evaluation-point\" ...\\n    \"pre-post-filter-tipping-point\" ...\\n    \"order\" ...\\n    \"max-filter-coverage\" ...\\n    \"max-hits\" ...\\n    \"first-phase\" ...\\n    \"second-phase\" ...\\n    \"global-phase\" ...\\n    \"macro\" ...\\n    \"inline\" ...\\n    \"arity\" ...\\n    \"lower-bound\" ...\\n    \"upper-bound\" ...\\n    \"dense-posting-list-threshold\" ...\\n    \"enable-bm25\" ...\\n    \"hnsw\" ...\\n    \"max-links-per-node\" ...\\n    \"double\" ...\\n    \"float\" ...\\n    \"long\" ...\\n    \"string\" ...\\n    \"distance-metric\" ...\\n    \"neighbors-to-explore-at-insert\" ...\\n    \"multi-threaded-indexing\" ...\\n    \"rank-properties\" ...\\n    \"rerank-count\" ...\\n    \"num-threads-per-search\" ...\\n    \"min-hits-per-thread\" ...\\n    \"num-search-partitions\" ...\\n    \"termwise-limit\" ...\\n    \"post-filter-threshold\" ...\\n    \"approximate-threshold\" ...\\n    \"target-hits-max-adjustment-factor\" ...\\n    \"keep-rank-count\" ...\\n    \"rank-score-drop-limit\" ...\\n    \"constants\" ...\\n    \"file\" ...\\n    \"uri\" ...\\n    <IDENTIFIER> ...\\n    <IDENTIFIER_WITH_DASH> ...\\n    <CONTEXT> ...\\n    <INTEGER> ...\\n    <LONG> ...\\n    <STRING> ...\\n    <VARIABLE> ...\\n    \\nAt position:\\n            distance-metric: \\n                             ^'}",
          "output_type": "error",
          "traceback": [
            "\u001b[1;31m---------------------------------------------------------------------------\u001b[0m",
            "\u001b[1;31mRuntimeError\u001b[0m                              Traceback (most recent call last)",
            "Cell \u001b[1;32mIn[32], line 2\u001b[0m\n\u001b[0;32m      1\u001b[0m vespa_docker \u001b[38;5;241m=\u001b[39m VespaDocker()\n\u001b[1;32m----> 2\u001b[0m app \u001b[38;5;241m=\u001b[39m \u001b[43mvespa_docker\u001b[49m\u001b[38;5;241;43m.\u001b[39;49m\u001b[43mdeploy\u001b[49m\u001b[43m(\u001b[49m\u001b[43mapplication_package\u001b[49m\u001b[38;5;241;43m=\u001b[39;49m\u001b[43mpackage\u001b[49m\u001b[43m)\u001b[49m\n",
            "File \u001b[1;32m~\\AppData\\Local\\Packages\\PythonSoftwareFoundation.Python.3.11_qbz5n2kfra8p0\\LocalCache\\local-packages\\Python311\\site-packages\\vespa\\deployment.py:166\u001b[0m, in \u001b[0;36mVespaDocker.deploy\u001b[1;34m(self, application_package, debug)\u001b[0m\n\u001b[0;32m    154\u001b[0m \u001b[38;5;28;01mdef\u001b[39;00m \u001b[38;5;21mdeploy\u001b[39m(\n\u001b[0;32m    155\u001b[0m         \u001b[38;5;28mself\u001b[39m,\n\u001b[0;32m    156\u001b[0m         application_package: ApplicationPackage,\n\u001b[0;32m    157\u001b[0m         debug: \u001b[38;5;28mbool\u001b[39m \u001b[38;5;241m=\u001b[39m \u001b[38;5;28;01mFalse\u001b[39;00m,\n\u001b[0;32m    158\u001b[0m ) \u001b[38;5;241m-\u001b[39m\u001b[38;5;241m>\u001b[39m Vespa:\n\u001b[0;32m    159\u001b[0m \u001b[38;5;250m    \u001b[39m\u001b[38;5;124;03m\"\"\"\u001b[39;00m\n\u001b[0;32m    160\u001b[0m \u001b[38;5;124;03m    Deploy the application package into a Vespa container.\u001b[39;00m\n\u001b[0;32m    161\u001b[0m \n\u001b[1;32m   (...)\u001b[0m\n\u001b[0;32m    164\u001b[0m \u001b[38;5;124;03m    :return: a Vespa connection instance.\u001b[39;00m\n\u001b[0;32m    165\u001b[0m \u001b[38;5;124;03m    \"\"\"\u001b[39;00m\n\u001b[1;32m--> 166\u001b[0m     \u001b[38;5;28;01mreturn\u001b[39;00m \u001b[38;5;28;43mself\u001b[39;49m\u001b[38;5;241;43m.\u001b[39;49m\u001b[43m_deploy_data\u001b[49m\u001b[43m(\u001b[49m\u001b[43mapplication_package\u001b[49m\u001b[43m,\u001b[49m\u001b[43m \u001b[49m\u001b[43mapplication_package\u001b[49m\u001b[38;5;241;43m.\u001b[39;49m\u001b[43mto_zip\u001b[49m\u001b[43m(\u001b[49m\u001b[43m)\u001b[49m\u001b[43m,\u001b[49m\u001b[43m \u001b[49m\u001b[43mdebug\u001b[49m\u001b[43m)\u001b[49m\n",
            "File \u001b[1;32m~\\AppData\\Local\\Packages\\PythonSoftwareFoundation.Python.3.11_qbz5n2kfra8p0\\LocalCache\\local-packages\\Python311\\site-packages\\vespa\\deployment.py:300\u001b[0m, in \u001b[0;36mVespaDocker._deploy_data\u001b[1;34m(self, application, data, debug)\u001b[0m\n\u001b[0;32m    298\u001b[0m logging\u001b[38;5;241m.\u001b[39mdebug(\u001b[38;5;124m\"\u001b[39m\u001b[38;5;124mDeploy status code: \u001b[39m\u001b[38;5;132;01m{}\u001b[39;00m\u001b[38;5;124m\"\u001b[39m\u001b[38;5;241m.\u001b[39mformat(r\u001b[38;5;241m.\u001b[39mstatus_code))\n\u001b[0;32m    299\u001b[0m \u001b[38;5;28;01mif\u001b[39;00m r\u001b[38;5;241m.\u001b[39mstatus_code \u001b[38;5;241m!=\u001b[39m \u001b[38;5;241m200\u001b[39m:\n\u001b[1;32m--> 300\u001b[0m     \u001b[38;5;28;01mraise\u001b[39;00m \u001b[38;5;167;01mRuntimeError\u001b[39;00m(\n\u001b[0;32m    301\u001b[0m         \u001b[38;5;124m\"\u001b[39m\u001b[38;5;124mDeployment failed, code: \u001b[39m\u001b[38;5;132;01m{}\u001b[39;00m\u001b[38;5;124m, message: \u001b[39m\u001b[38;5;132;01m{}\u001b[39;00m\u001b[38;5;124m\"\u001b[39m\u001b[38;5;241m.\u001b[39mformat(\n\u001b[0;32m    302\u001b[0m             r\u001b[38;5;241m.\u001b[39mstatus_code, json\u001b[38;5;241m.\u001b[39mloads(r\u001b[38;5;241m.\u001b[39mcontent\u001b[38;5;241m.\u001b[39mdecode(\u001b[38;5;124m\"\u001b[39m\u001b[38;5;124mutf8\u001b[39m\u001b[38;5;124m\"\u001b[39m))\n\u001b[0;32m    303\u001b[0m         )\n\u001b[0;32m    304\u001b[0m     )\n\u001b[0;32m    306\u001b[0m app \u001b[38;5;241m=\u001b[39m Vespa(url\u001b[38;5;241m=\u001b[39m\u001b[38;5;28mself\u001b[39m\u001b[38;5;241m.\u001b[39murl, port\u001b[38;5;241m=\u001b[39m\u001b[38;5;28mself\u001b[39m\u001b[38;5;241m.\u001b[39mlocal_port, application_package\u001b[38;5;241m=\u001b[39mapplication)\n\u001b[0;32m    307\u001b[0m app\u001b[38;5;241m.\u001b[39mwait_for_application_up(max_wait\u001b[38;5;241m=\u001b[39mAPP_INIT_TIMEOUT)\n",
            "\u001b[1;31mRuntimeError\u001b[0m: Deployment failed, code: 400, message: {'error-code': 'INVALID_APPLICATION_PACKAGE', 'message': 'Invalid application: Failed parsing schema from \\'doc.sd\\': Encountered \" \"\\\\n\" \"\\\\n\"\" at line 22, column 30.\\n\\nWas expecting one of:\\n\\n\"annotation\" ...\\n    \"annotationreference\" ...\\n    \"schema\" ...\\n    \"search\" ...\\n    \"diversity\" ...\\n    \"min-groups\" ...\\n    \"cutoff-factor\" ...\\n    \"cutoff-strategy\" ...\\n    \"loose\" ...\\n    \"strict\" ...\\n    \"document\" ...\\n    \"operation\" ...\\n    \"on-match\" ...\\n    \"on-first-phase\" ...\\n    \"on-second-phase\" ...\\n    \"on-summary\" ...\\n    \"struct\" ...\\n    \"inherits\" ...\\n    \"field\" ...\\n    \"fields\" ...\\n    \"fieldset\" ...\\n    \"struct-field\" ...\\n    \"import\" ...\\n    \"as\" ...\\n    \"indexing\" ...\\n    \"summary-to\" ...\\n    \"document-summary\" ...\\n    \"rank-type\" ...\\n    \"weight\" ...\\n    \"type\" ...\\n    \"index\" ...\\n    \"inputs\" ...\\n    \"token\" ...\\n    \"text\" ...\\n    \"word\" ...\\n    \"gram\" ...\\n    \"gram-size\" ...\\n    \"max-length\" ...\\n    \"prefix\" ...\\n    \"substring\" ...\\n    \"suffix\" ...\\n    \"constant\" ...\\n    \"onnx-model\" ...\\n    \"significance\" ...\\n    \"use-model\" ...\\n    \"intraop-threads\" ...\\n    \"interop-threads\" ...\\n    \"gpu-device\" ...\\n    \"execution-mode\" ...\\n    \"parallel\" ...\\n    \"sequential\" ...\\n    \"model\" ...\\n    \"mutate\" ...\\n    \"query\" ...\\n    \"rank-profile\" ...\\n    \"raw-as-base64-in-summary\" ...\\n    \"summary\" ...\\n    \"full\" ...\\n    \"static\" ...\\n    \"dynamic\" ...\\n    \"tokens\" ...\\n    \"matched-elements-only\" ...\\n    \"contextual\" ...\\n    \"override\" ...\\n    \"title\" ...\\n    \"url\" ...\\n    \"properties\" ...\\n    \"attribute\" ...\\n    \"sorting\" ...\\n    \"dictionary\" ...\\n    \"ascending\" ...\\n    \"descending\" ...\\n    \"uca\" ...\\n    \"raw\" ...\\n    \"lowercase\" ...\\n    \"function\" ...\\n    \"locale\" ...\\n    \"strength\" ...\\n    \"primary\" ...\\n    \"secondary\" ...\\n    \"tertiary\" ...\\n    \"quaternary\" ...\\n    \"identical\" ...\\n    \"stemming\" ...\\n    \"normalizing\" ...\\n    \"hash\" ...\\n    \"btree\" ...\\n    \"cased\" ...\\n    \"uncased\" ...\\n    \"bolding\" ...\\n    \"none\" ...\\n    \"on\" ...\\n    \"off\" ...\\n    \"true\" ...\\n    \"false\" ...\\n    \"symmetric\" ...\\n    \"query-command\" ...\\n    \"alias\" ...\\n    \"match\" ...\\n    \"rank\" ...\\n    \"literal\" ...\\n    \"exact\" ...\\n    \"filter\" ...\\n    \"normal\" ...\\n    \"exact-terminator\" ...\\n    \"ignore-default-rank-features\" ...\\n    \"id\" ...\\n    \"source\" ...\\n    \"to\" ...\\n    \"direct\" ...\\n    \"from-disk\" ...\\n    \"omit-summary-features\" ...\\n    \"always\" ...\\n    \"on-demand\" ...\\n    \"never\" ...\\n    \"enable-bit-vectors\" ...\\n    \"enable-only-bit-vector\" ...\\n    \"fast-access\" ...\\n    \"mutable\" ...\\n    \"paged\" ...\\n    \"fast-rank\" ...\\n    \"fast-search\" ...\\n    \"array\" ...\\n    \"weightedset\" ...\\n    \"map\" ...\\n    \"reference\" ...\\n    \"create-if-nonexistent\" ...\\n    \"remove-if-zero\" ...\\n    \"match-phase\" ...\\n    \"evaluation-point\" ...\\n    \"pre-post-filter-tipping-point\" ...\\n    \"order\" ...\\n    \"max-filter-coverage\" ...\\n    \"max-hits\" ...\\n    \"first-phase\" ...\\n    \"second-phase\" ...\\n    \"global-phase\" ...\\n    \"macro\" ...\\n    \"inline\" ...\\n    \"arity\" ...\\n    \"lower-bound\" ...\\n    \"upper-bound\" ...\\n    \"dense-posting-list-threshold\" ...\\n    \"enable-bm25\" ...\\n    \"hnsw\" ...\\n    \"max-links-per-node\" ...\\n    \"double\" ...\\n    \"float\" ...\\n    \"long\" ...\\n    \"string\" ...\\n    \"distance-metric\" ...\\n    \"neighbors-to-explore-at-insert\" ...\\n    \"multi-threaded-indexing\" ...\\n    \"rank-properties\" ...\\n    \"rerank-count\" ...\\n    \"num-threads-per-search\" ...\\n    \"min-hits-per-thread\" ...\\n    \"num-search-partitions\" ...\\n    \"termwise-limit\" ...\\n    \"post-filter-threshold\" ...\\n    \"approximate-threshold\" ...\\n    \"target-hits-max-adjustment-factor\" ...\\n    \"keep-rank-count\" ...\\n    \"rank-score-drop-limit\" ...\\n    \"constants\" ...\\n    \"file\" ...\\n    \"uri\" ...\\n    <IDENTIFIER> ...\\n    <IDENTIFIER_WITH_DASH> ...\\n    <CONTEXT> ...\\n    <INTEGER> ...\\n    <LONG> ...\\n    <STRING> ...\\n    <VARIABLE> ...\\n    \\nAt position:\\n            distance-metric: \\n                             ^'}"
          ]
        }
      ],
      "source": [
        "vespa_docker = VespaDocker()\n",
        "app = vespa_docker.deploy(application_package=package)"
      ]
    },
    {
      "cell_type": "code",
      "execution_count": 8,
      "metadata": {},
      "outputs": [],
      "source": [
        "def transform_row(row):\n",
        "    return {\n",
        "        \"id\": row[\"id\"],\n",
        "        \"fields\": {\"title\": row[\"title\"], \"authors\": row[\"authors\"], \"description\": row[\"description\"], \"categories\": row[\"categories\"], \"id\": row[\"id\"]},\n",
        "    }"
      ]
    },
    {
      "cell_type": "code",
      "execution_count": 9,
      "metadata": {},
      "outputs": [],
      "source": [
        "def callback(response:VespaResponse, id:str):\n",
        "    if not response.is_successful():\n",
        "        print(f\"Error when feeding document {id}: {response.get_json()}\")"
      ]
    },
    {
      "cell_type": "code",
      "execution_count": 10,
      "metadata": {
        "id": "Itffv9qI9UtA"
      },
      "outputs": [
        {
          "name": "stdout",
          "output_type": "stream",
          "text": [
            "Error when feeding document 1: {'Exception': '[UNKNOWN(252001) @ tcp/hybridsearchbv:19101/chain.indexing]: Processing failed. Error message: java.lang.IllegalArgumentException: Invalid colbert embedder tensor target destination. Wanted a mixed 2-d mapped-indexed tensor, got tensor<int8>(steps{},token{},v[16]) -- See Vespa log for details. ', 'id': 1, 'message': 'Exception during feed_data_point'}\n",
            "Error when feeding document 3: {'Exception': '[UNKNOWN(252001) @ tcp/hybridsearchbv:19101/chain.indexing]: Processing failed. Error message: java.lang.IllegalArgumentException: Invalid colbert embedder tensor target destination. Wanted a mixed 2-d mapped-indexed tensor, got tensor<int8>(steps{},token{},v[16]) -- See Vespa log for details. ', 'id': 3, 'message': 'Exception during feed_data_point'}\n",
            "Error when feeding document 5: {'Exception': '[UNKNOWN(252001) @ tcp/hybridsearchbv:19101/chain.indexing]: Processing failed. Error message: java.lang.IllegalArgumentException: Invalid colbert embedder tensor target destination. Wanted a mixed 2-d mapped-indexed tensor, got tensor<int8>(steps{},token{},v[16]) -- See Vespa log for details. ', 'id': 5, 'message': 'Exception during feed_data_point'}\n",
            "Error when feeding document 7: {'Exception': '[UNKNOWN(252001) @ tcp/hybridsearchbv:19101/chain.indexing]: Processing failed. Error message: java.lang.IllegalArgumentException: Invalid colbert embedder tensor target destination. Wanted a mixed 2-d mapped-indexed tensor, got tensor<int8>(steps{},token{},v[16]) -- See Vespa log for details. ', 'id': 7, 'message': 'Exception during feed_data_point'}\n",
            "Error when feeding document 2: {'Exception': '[UNKNOWN(252001) @ tcp/hybridsearchbv:19101/chain.indexing]: Processing failed. Error message: java.lang.IllegalArgumentException: Invalid colbert embedder tensor target destination. Wanted a mixed 2-d mapped-indexed tensor, got tensor<int8>(steps{},token{},v[16]) -- See Vespa log for details. ', 'id': 2, 'message': 'Exception during feed_data_point'}\n",
            "Error when feeding document 4: {'Exception': '[UNKNOWN(252001) @ tcp/hybridsearchbv:19101/chain.indexing]: Processing failed. Error message: java.lang.IllegalArgumentException: Invalid colbert embedder tensor target destination. Wanted a mixed 2-d mapped-indexed tensor, got tensor<int8>(steps{},token{},v[16]) -- See Vespa log for details. ', 'id': 4, 'message': 'Exception during feed_data_point'}\n",
            "Error when feeding document 6: {'Exception': '[UNKNOWN(252001) @ tcp/hybridsearchbv:19101/chain.indexing]: Processing failed. Error message: java.lang.IllegalArgumentException: Invalid colbert embedder tensor target destination. Wanted a mixed 2-d mapped-indexed tensor, got tensor<int8>(steps{},token{},v[16]) -- See Vespa log for details. ', 'id': 6, 'message': 'Exception during feed_data_point'}\n",
            "Error when feeding document 8: {'Exception': '[UNKNOWN(252001) @ tcp/hybridsearchbv:19101/chain.indexing]: Processing failed. Error message: java.lang.IllegalArgumentException: Invalid colbert embedder tensor target destination. Wanted a mixed 2-d mapped-indexed tensor, got tensor<int8>(steps{},token{},v[16]) -- See Vespa log for details. ', 'id': 8, 'message': 'Exception during feed_data_point'}\n"
          ]
        },
        {
          "name": "stderr",
          "output_type": "stream",
          "text": [
            "Exception in thread Thread-5 (_consumer):\n",
            "Traceback (most recent call last):\n",
            "  File \"C:\\Program Files\\WindowsApps\\PythonSoftwareFoundation.Python.3.11_3.11.2544.0_x64__qbz5n2kfra8p0\\Lib\\threading.py\", line 1045, in _bootstrap_inner\n",
            "    self.run()\n",
            "  File \"C:\\Users\\Bernardo Vargas\\AppData\\Local\\Packages\\PythonSoftwareFoundation.Python.3.11_qbz5n2kfra8p0\\LocalCache\\local-packages\\Python311\\site-packages\\ipykernel\\ipkernel.py\", line 766, in run_closure\n",
            "    _threading_Thread_run(self)\n",
            "  File \"C:\\Program Files\\WindowsApps\\PythonSoftwareFoundation.Python.3.11_3.11.2544.0_x64__qbz5n2kfra8p0\\Lib\\threading.py\", line 982, in run\n",
            "    self._target(*self._args, **self._kwargs)\n",
            "  File \"C:\\Users\\Bernardo Vargas\\AppData\\Local\\Packages\\PythonSoftwareFoundation.Python.3.11_qbz5n2kfra8p0\\LocalCache\\local-packages\\Python311\\site-packages\\vespa\\application.py\", line 377, in _consumer\n",
            "    future:Future = executor.submit(_submit, doc, sync_session)\n",
            "                    ^^^^^^^^^^^^^^^^^^^^^^^^^^^^^^^^^^^^^^^^^^^\n",
            "  File \"C:\\Program Files\\WindowsApps\\PythonSoftwareFoundation.Python.3.11_3.11.2544.0_x64__qbz5n2kfra8p0\\Lib\\concurrent\\futures\\thread.py\", line 167, in submit\n",
            "    raise RuntimeError('cannot schedule new futures after shutdown')\n",
            "RuntimeError: cannot schedule new futures after shutdown\n"
          ]
        },
        {
          "name": "stdout",
          "output_type": "stream",
          "text": [
            "Error when feeding document 14: {'Exception': '[UNKNOWN(252001) @ tcp/hybridsearchbv:19101/chain.indexing]: Processing failed. Error message: java.lang.IllegalArgumentException: Invalid colbert embedder tensor target destination. Wanted a mixed 2-d mapped-indexed tensor, got tensor<int8>(steps{},token{},v[16]) -- See Vespa log for details. ', 'id': 14, 'message': 'Exception during feed_data_point'}\n",
            "Error when feeding document 10: {'Exception': '[UNKNOWN(252001) @ tcp/hybridsearchbv:19101/chain.indexing]: Processing failed. Error message: java.lang.IllegalArgumentException: Invalid colbert embedder tensor target destination. Wanted a mixed 2-d mapped-indexed tensor, got tensor<int8>(steps{},token{},v[16]) -- See Vespa log for details. ', 'id': 10, 'message': 'Exception during feed_data_point'}\n",
            "Error when feeding document 15: {'Exception': '[UNKNOWN(252001) @ tcp/hybridsearchbv:19101/chain.indexing]: Processing failed. Error message: java.lang.IllegalArgumentException: Invalid colbert embedder tensor target destination. Wanted a mixed 2-d mapped-indexed tensor, got tensor<int8>(steps{},token{},v[16]) -- See Vespa log for details. ', 'id': 15, 'message': 'Exception during feed_data_point'}\n",
            "Error when feeding document 9: {'Exception': '[UNKNOWN(252001) @ tcp/hybridsearchbv:19101/chain.indexing]: Processing failed. Error message: java.lang.IllegalArgumentException: Invalid colbert embedder tensor target destination. Wanted a mixed 2-d mapped-indexed tensor, got tensor<int8>(steps{},token{},v[16]) -- See Vespa log for details. ', 'id': 9, 'message': 'Exception during feed_data_point'}\n",
            "Error when feeding document 12: {'Exception': '[UNKNOWN(252001) @ tcp/hybridsearchbv:19101/chain.indexing]: Processing failed. Error message: java.lang.IllegalArgumentException: Invalid colbert embedder tensor target destination. Wanted a mixed 2-d mapped-indexed tensor, got tensor<int8>(steps{},token{},v[16]) -- See Vespa log for details. ', 'id': 12, 'message': 'Exception during feed_data_point'}\n",
            "Error when feeding document 16: {'Exception': '[UNKNOWN(252001) @ tcp/hybridsearchbv:19101/chain.indexing]: Processing failed. Error message: java.lang.IllegalArgumentException: Invalid colbert embedder tensor target destination. Wanted a mixed 2-d mapped-indexed tensor, got tensor<int8>(steps{},token{},v[16]) -- See Vespa log for details. ', 'id': 16, 'message': 'Exception during feed_data_point'}\n"
          ]
        }
      ],
      "source": [
        "df = pd.read_csv(\"https://raw.githubusercontent.com/bernardovma/dados_livros/main/data.csv\")\n",
        "df['id'] = range(1, len(df) + 1)\n",
        "df = df.fillna(\"\")\n",
        "vespa_feed = df.apply(transform_row, axis=1).tolist()\n",
        "\n",
        "app.feed_iterable(vespa_feed, schema=\"doc\", namespace=\"bookrec\", callback=callback)"
      ]
    },
    {
      "cell_type": "code",
      "execution_count": null,
      "metadata": {},
      "outputs": [],
      "source": [
        "def hits_as_df(response, fields):\n",
        "    records = []\n",
        "    for hit in response.hits:\n",
        "        record = {}\n",
        "        for field in fields:\n",
        "            record[field] = hit['fields'].get(field, None) \n",
        "        records.append(record)\n",
        "    return pd.DataFrame(records)"
      ]
    },
    {
      "cell_type": "code",
      "execution_count": null,
      "metadata": {
        "id": "70lRzqba9X1Y"
      },
      "outputs": [],
      "source": [
        "def query_colbert(input_query):\n",
        "    with app.syncio(connections=25) as session:\n",
        "        query = input_query\n",
        "        response: VespaQueryResponse = session.query(\n",
        "            yql=\"select * from sources * where userQuery() or ({targetHits:1000}nearestNeighbor(embedding,q)) limit 10\",\n",
        "            query=query,\n",
        "            ranking=\"colbert_local\",\n",
        "            body={\n",
        "                \"input.query(q)\": f\"embed({query})\",\n",
        "                \"input.query(qt)\": f\"tokenize({query})\"\n",
        "            },\n",
        "        )\n",
        "        assert response.is_successful()\n",
        "\n",
        "    return hits_as_df(response, ['id', 'title', 'authors', 'description', 'categories'])"
      ]
    },
    {
      "cell_type": "code",
      "execution_count": null,
      "metadata": {
        "id": "YIEMC8g19ecH"
      },
      "outputs": [],
      "source": [
        "query_colbert('books about space travel')"
      ]
    },
    {
      "cell_type": "code",
      "execution_count": null,
      "metadata": {
        "id": "pFYtMY_h8m1y"
      },
      "outputs": [],
      "source": []
    }
  ],
  "metadata": {
    "colab": {
      "provenance": []
    },
    "kernelspec": {
      "display_name": "Python 3",
      "name": "python3"
    },
    "language_info": {
      "codemirror_mode": {
        "name": "ipython",
        "version": 3
      },
      "file_extension": ".py",
      "mimetype": "text/x-python",
      "name": "python",
      "nbconvert_exporter": "python",
      "pygments_lexer": "ipython3",
      "version": "3.11.9"
    }
  },
  "nbformat": 4,
  "nbformat_minor": 0
}
