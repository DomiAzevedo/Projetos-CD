{
 "cells": [
  {
   "cell_type": "code",
   "execution_count": null,
   "metadata": {},
   "outputs": [],
   "source": [
    "from colbert.infra import ColBERTConfig\n",
    "from colbert.indexing.collection_indexer import CollectionIndexer\n",
    "import pandas as pd"
   ]
  },
  {
   "cell_type": "code",
   "execution_count": null,
   "metadata": {},
   "outputs": [],
   "source": [
    "books_df = pd.read_csv(\"https://raw.githubusercontent.com/bernardovma/dados_livros/main/data.csv\")\n",
    "books_df['text'] = books_df['title'] + ' ' + books_df['authors'] + ' ' + books_df['description'] + ' ' + books_df['categories']"
   ]
  },
  {
   "cell_type": "code",
   "execution_count": null,
   "metadata": {},
   "outputs": [],
   "source": [
    "# Add an ID column for each document\n",
    "books_df['id'] = books_df.index\n",
    "\n",
    "# Save the data to a TSV file with 'id' and 'text' columns\n",
    "books_df[['id', 'text']].to_csv('books_texts.tsv', index=False, header=False, sep='\\t', encoding='utf-8')\n"
   ]
  },
  {
   "cell_type": "code",
   "execution_count": null,
   "metadata": {},
   "outputs": [],
   "source": [
    "config = ColBERTConfig(checkpoint='colbertv2.0')"
   ]
  },
  {
   "cell_type": "code",
   "execution_count": null,
   "metadata": {},
   "outputs": [],
   "source": [
    "with open('books_texts.tsv', 'r', errors='ignore') as f:\n",
    "    lines = f.readlines()\n",
    "\n",
    "# Write these lines back to a file to ensure correct encoding is used\n",
    "with open('books_texts_utf8.tsv', 'w', errors='ignore') as f:\n",
    "    f.writelines(lines)\n",
    "\n",
    "# Index the data using ColBERT\n",
    "indexer = CollectionIndexer(config=config, collection='books_texts_utf8.tsv')\n",
    "indexer.index()\n",
    "\n",
    "# Index the data using ColBERT\n",
    "indexer = CollectionIndexer(config=config, collection='books_texts_utf8.tsv')\n",
    "indexer.index()"
   ]
  }
 ],
 "metadata": {
  "language_info": {
   "name": "python"
  }
 },
 "nbformat": 4,
 "nbformat_minor": 2
}
